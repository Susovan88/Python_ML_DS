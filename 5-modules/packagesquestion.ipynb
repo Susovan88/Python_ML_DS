{
 "cells": [
  {
   "cell_type": "markdown",
   "metadata": {},
   "source": [
    "# Module 5: Modules and Packages Assignments\n",
    "## Lesson 5.1: Importing Modules\n",
    "### Assignment 1: Importing and Using Modules\n",
    "\n",
    "Import the `math` module and use it to calculate the square root of 25 and the sine of 90 degrees.\n",
    "\n",
    "### Assignment 2: Aliasing Modules\n",
    "\n",
    "Import the `datetime` module with an alias and use it to print the current date and time.\n",
    "\n",
    "### Assignment 3: Importing Specific Functions\n",
    "\n",
    "Import the `randint` function from the `random` module and use it to generate a random integer between 1 and 100.\n",
    "\n",
    "### Assignment 4: Importing Multiple Functions\n",
    "\n",
    "Import the `sqrt` and `pow` functions from the `math` module and use them to calculate the square root of 16 and 2 raised to the power of 3.\n",
    "\n",
    "### Assignment 5: Handling Import Errors\n",
    "\n",
    "Write code that attempts to import a non-existent module and gracefully handles the import error by printing an error message.\n",
    "\n",
    "## Lesson 5.2: Standard Library Overview\n",
    "### Assignment 6: Working with the `os` Module\n",
    "\n",
    "Use the `os` module to create a new directory, list the contents of the current directory, and remove the newly created directory.\n",
    "\n",
    "### Assignment 7: Working with the `sys` Module\n",
    "\n",
    "Use the `sys` module to print the Python version currently in use and the command-line arguments passed to the script.\n",
    "\n",
    "### Assignment 8: Working with the `math` Module\n",
    "\n",
    "Use the `math` module to calculate the greatest common divisor (GCD) of two numbers and the factorial of a number.\n",
    "\n",
    "### Assignment 9: Working with the `datetime` Module\n",
    "\n",
    "Use the `datetime` module to print the current date, calculate the date 100 days from today, and determine the day of the week for a given date.\n",
    "\n",
    "### Assignment 10: Working with the `random` Module\n",
    "\n",
    "Use the `random` module to generate a list of 5 random numbers between 1 and 50 and shuffle the elements of a list.\n",
    "\n",
    "## Lesson 5.3: Creating and Using Packages\n",
    "### Assignment 11: Creating a Simple Package\n",
    "\n",
    "Create a package named `mypackage` with two modules: `module1` and `module2`. `module1` should contain a function that adds two numbers, and `module2` should contain a function that multiplies two numbers. Write code to use these functions.\n",
    "\n",
    "### Assignment 12: Using `__init__.py`\n",
    "\n",
    "Modify the `mypackage` package to include an `__init__.py` file that imports the functions from `module1` and `module2`. Write code to use these functions.\n",
    "\n",
    "### Assignment 13: Importing from a Package\n",
    "\n",
    "Write code to import and use the functions from `mypackage` without explicitly importing `module1` and `module2`.\n",
    "\n",
    "### Assignment 14: Relative Imports\n",
    "\n",
    "Create a subpackage named `subpackage` within `mypackage` and move `module2` into `subpackage`. Modify the import statements in `__init__.py` to use relative imports. Write code to use the functions from both modules.\n",
    "\n",
    "### Assignment 15: Handling Package Import Errors\n",
    "\n",
    "Write code that attempts to import a non-existent function from `mypackage` and gracefully handles the import error by printing an error message."
   ]
  },
  {
   "cell_type": "code",
   "execution_count": null,
   "id": "288fc9b7",
   "metadata": {},
   "outputs": [
    {
     "name": "stdout",
     "output_type": "stream",
     "text": [
      "3.4641016151377544 0.8939966636005579\n"
     ]
    }
   ],
   "source": [
    "from math import sqrt,sin\n",
    "\n",
    "print(sqrt(25),sin(90))"
   ]
  },
  {
   "cell_type": "code",
   "execution_count": 26,
   "id": "f9415dcd",
   "metadata": {},
   "outputs": [
    {
     "name": "stdout",
     "output_type": "stream",
     "text": [
      "2025-07-12 12:11:30.373925\n"
     ]
    }
   ],
   "source": [
    "import datetime as dt\n",
    "\n",
    "print(dt.datetime.now())"
   ]
  },
  {
   "cell_type": "code",
   "execution_count": 23,
   "metadata": {},
   "outputs": [
    {
     "name": "stdout",
     "output_type": "stream",
     "text": [
      "57\n"
     ]
    }
   ],
   "source": [
    "from random import randint\n",
    "print(randint(1,100))"
   ]
  },
  {
   "cell_type": "code",
   "execution_count": 27,
   "id": "6d4a55d3",
   "metadata": {},
   "outputs": [
    {
     "name": "stdout",
     "output_type": "stream",
     "text": [
      "4.0 8.0\n"
     ]
    }
   ],
   "source": [
    "from math import sqrt,pow\n",
    "\n",
    "print(sqrt(16),pow(2,3))"
   ]
  },
  {
   "cell_type": "code",
   "execution_count": 28,
   "id": "336e29b8",
   "metadata": {},
   "outputs": [
    {
     "name": "stdout",
     "output_type": "stream",
     "text": [
      "there some import error ->  No module named 'susovan'\n"
     ]
    }
   ],
   "source": [
    "try:\n",
    "    import susovan\n",
    "    print(susovan.pal())\n",
    "except ImportError as ex:\n",
    "    print(\"there some import error -> \",ex)"
   ]
  },
  {
   "cell_type": "code",
   "execution_count": null,
   "id": "35164a77",
   "metadata": {},
   "outputs": [
    {
     "name": "stdout",
     "output_type": "stream",
     "text": [
      "Directory 'package123' already exists.\n",
      "math.py subpackages _init_.py __pycache__ \n",
      "Dir is nor empty!!!\n"
     ]
    }
   ],
   "source": [
    "import os\n",
    "\n",
    "def make_dir(dir_path):\n",
    "    try:\n",
    "        os.mkdir(dir_path)\n",
    "    except FileExistsError:\n",
    "        print(f\"Directory '{dir_path}' already exists.\")\n",
    "    except Exception as ex:\n",
    "        print(ex)\n",
    "    else:\n",
    "        print(\"directroy creaded successfully\")\n",
    "\n",
    "def show_files_in_dir(dir_path):\n",
    "    try:\n",
    "        list_files=os.listdir(dir_path)\n",
    "    except FileNotFoundError:\n",
    "        print(f\"Directory '{dir_path}' does not exist.\")\n",
    "    except Exception as ex:\n",
    "        print(ex)\n",
    "    else:\n",
    "        for file in list_files:\n",
    "            print(file,end=\" \")\n",
    "        print(\"\")\n",
    "\n",
    "def remove_dir(dir_path):\n",
    "    try:\n",
    "        os.rmdir(dir_path) ### remove empty dir\n",
    "    except FileNotFoundError:\n",
    "        print(f\"Directory '{dir_path}' does not exist.\")\n",
    "    except OSError:\n",
    "        print(\"Dir is nor empty!!! \")\n",
    "    except Exception as ex:\n",
    "        print(ex)\n",
    "    else:\n",
    "      print(\"remove empty dir successfully!!!\")\n",
    "\n",
    "make_dir(\"package123\")\n",
    "show_files_in_dir(\"package\")\n",
    "remove_dir(\"package123\")\n",
    "\n"
   ]
  },
  {
   "cell_type": "code",
   "execution_count": 49,
   "id": "c41689d2",
   "metadata": {},
   "outputs": [
    {
     "name": "stdout",
     "output_type": "stream",
     "text": [
      "Python version: 3.12.11 | packaged by Anaconda, Inc. | (main, Jun  5 2025, 12:58:53) [MSC v.1929 64 bit (AMD64)]\n",
      "c:\\Users\\susov\\OneDrive\\Desktop\\Python_ML_DS\\venv\\Lib\\site-packages\\ipykernel_launcher.py\n",
      "--f=c:\\Users\\susov\\AppData\\Roaming\\jupyter\\runtime\\kernel-v331765dee88c681a241e29facd1f39661f25f2be8.json\n"
     ]
    }
   ],
   "source": [
    "import sys\n",
    "\n",
    "print(\"Python version:\", sys.version)\n",
    "py_list=sys.argv\n",
    "for i in py_list:\n",
    "    print(i)"
   ]
  },
  {
   "cell_type": "code",
   "execution_count": 54,
   "id": "fab820ac",
   "metadata": {},
   "outputs": [
    {
     "name": "stdout",
     "output_type": "stream",
     "text": [
      "3 120\n"
     ]
    }
   ],
   "source": [
    "import math\n",
    "\n",
    "print(math.gcd(81,21),math.factorial(5))"
   ]
  },
  {
   "cell_type": "code",
   "execution_count": null,
   "id": "772b6858",
   "metadata": {},
   "outputs": [
    {
     "name": "stdout",
     "output_type": "stream",
     "text": [
      "2025-07-12 13:02:28.755142\n",
      "2025-10-20 13:02:28.755142  ->>  100 days, 0:00:00\n"
     ]
    }
   ],
   "source": [
    "import datetime as dt\n",
    "\n",
    "curr_date=dt.datetime.now()\n",
    "date_after_100_days=curr_date+dt.timedelta(days=100)  ### timedelta() requires named arguments like days, seconds, hours,\n",
    "\n",
    "print(curr_date)\n",
    "print(date_after_100_days)"
   ]
  },
  {
   "cell_type": "code",
   "execution_count": 79,
   "id": "07956b08",
   "metadata": {},
   "outputs": [
    {
     "name": "stdout",
     "output_type": "stream",
     "text": [
      "[22, 13, 21, 21, 25, 45, 16, 20, 24, 47]\n",
      "[21, 16, 21, 47, 13, 24, 20, 22, 25, 45]\n"
     ]
    }
   ],
   "source": [
    "import random\n",
    "\n",
    "\n",
    "ram_lis=[random.randint(1,50) for i in range(1,11)]\n",
    "print(ram_lis)\n",
    "\n",
    "random.shuffle(ram_lis)\n",
    "print(ram_lis)"
   ]
  },
  {
   "cell_type": "code",
   "execution_count": 101,
   "id": "1e3d4f56",
   "metadata": {},
   "outputs": [
    {
     "name": "stdout",
     "output_type": "stream",
     "text": [
      "17 45\n",
      "cannot import name 'my_add_fun' from 'mypackage' (unknown location)\n"
     ]
    }
   ],
   "source": [
    "from mypackage import module2,module1\n",
    "\n",
    "print(module1.my_add_fun(8,9),module2.my_mult_fun(9,5))\n",
    "\n",
    "try:\n",
    "    from mypackage import my_add_fun\n",
    "    print(my_add_fun(2,3))\n",
    "except Exception as ex:\n",
    "    print(ex)\n",
    "\n"
   ]
  },
  {
   "cell_type": "code",
   "execution_count": 2,
   "id": "d845c04d",
   "metadata": {},
   "outputs": [
    {
     "name": "stdout",
     "output_type": "stream",
     "text": [
      "5\n",
      "72\n"
     ]
    }
   ],
   "source": [
    "try:\n",
    "    from mypackage import my_add_fun,my_mult_fun\n",
    "    print(my_add_fun(2,3))\n",
    "    print(my_mult_fun(8,9))\n",
    "except Exception as ex:\n",
    "    print(ex)"
   ]
  }
 ],
 "metadata": {
  "kernelspec": {
   "display_name": "Python 3",
   "language": "python",
   "name": "python3"
  },
  "language_info": {
   "codemirror_mode": {
    "name": "ipython",
    "version": 3
   },
   "file_extension": ".py",
   "mimetype": "text/x-python",
   "name": "python",
   "nbconvert_exporter": "python",
   "pygments_lexer": "ipython3",
   "version": "3.12.11"
  }
 },
 "nbformat": 4,
 "nbformat_minor": 5
}

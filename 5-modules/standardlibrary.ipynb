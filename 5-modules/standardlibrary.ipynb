{
 "cells": [
  {
   "cell_type": "code",
   "execution_count": 15,
   "id": "50f80332",
   "metadata": {},
   "outputs": [
    {
     "name": "stdout",
     "output_type": "stream",
     "text": [
      "7\n",
      "mimi\n",
      "9.433981132056603 3.141592653589793\n"
     ]
    }
   ],
   "source": [
    "import random\n",
    "import math\n",
    "\n",
    "print(random.randint(2,10))\n",
    "print(random.choice([\"susovan\",\"taniya\",\"mimi\",\"Ram\"]))\n",
    "print(math.sqrt(89),math.pi)"
   ]
  },
  {
   "cell_type": "code",
   "execution_count": null,
   "id": "15bc485d",
   "metadata": {},
   "outputs": [
    {
     "name": "stdout",
     "output_type": "stream",
     "text": [
      "array('f', [1.0, 3.0, 5.0, 2.0, 4.0, 7.0, 6.0, 9.0])\n"
     ]
    }
   ],
   "source": [
    "import array\n",
    "\n",
    "arr=array.array('i',[1,3,5,2,4,7,6,9])   ## i -> int , f -> float\n",
    "print(arr)"
   ]
  },
  {
   "cell_type": "code",
   "execution_count": null,
   "id": "a909922f",
   "metadata": {},
   "outputs": [
    {
     "name": "stdout",
     "output_type": "stream",
     "text": [
      "c:\\Users\\susov\\OneDrive\\Desktop\\Python_ML_DS\\5-modules\n"
     ]
    }
   ],
   "source": [
    "import os    ## use for file and directory access\n",
    "print(os.getcwd())    ## getcwd -> get current workling directory\n",
    "\n",
    "os.mkdir(\"test_dir\")   ## make directory\n"
   ]
  },
  {
   "cell_type": "code",
   "execution_count": 18,
   "metadata": {},
   "outputs": [
    {
     "data": {
      "text/plain": [
       "'destination.txt'"
      ]
     },
     "execution_count": 18,
     "metadata": {},
     "output_type": "execute_result"
    }
   ],
   "source": [
    "## hight level operation on files and collection of files\n",
    "import shutil\n",
    "shutil.copyfile(\"source.txt\",\"destination.txt\")"
   ]
  },
  {
   "cell_type": "code",
   "execution_count": null,
   "id": "e5216347",
   "metadata": {},
   "outputs": [
    {
     "name": "stdout",
     "output_type": "stream",
     "text": [
      "{'name': 'susovan Paul', 'age': 19, 'degree': 'B.tech'}\n",
      "{\"name\": \"susovan Paul\", \"age\": 19, \"degree\": \"B.tech\"} <class 'str'>\n",
      "{'name': 'susovan Paul', 'age': 19, 'degree': 'B.tech'} <class 'dict'>\n"
     ]
    }
   ],
   "source": [
    "### data serialization\n",
    "\n",
    "import json\n",
    "\n",
    "data={\"name\":\"susovan Paul\",\"age\":19,\"degree\":\"B.tech\"}\n",
    "print(data,type(data))\n",
    "\n",
    "json_data=json.dumps(data)\n",
    "print(json_data,type(json_data))\n",
    "\n",
    "past_data=json.loads(json_data)\n",
    "print(past_data,type(past_data))\n"
   ]
  },
  {
   "cell_type": "code",
   "execution_count": 20,
   "id": "effc32ad",
   "metadata": {},
   "outputs": [
    {
     "name": "stdout",
     "output_type": "stream",
     "text": [
      "['name', 'age']\n",
      "['susovan', '22']\n"
     ]
    }
   ],
   "source": [
    "## csv\n",
    "import csv\n",
    "\n",
    "with open('example.csv',mode='w',newline='') as file:\n",
    "    writer=csv.writer(file)\n",
    "    writer.writerow([\"name\",\"age\"])\n",
    "    writer.writerow([\"susovan\",22])\n",
    "\n",
    "with open('example.csv',mode='r')as file:\n",
    "    reader=csv.reader(file)\n",
    "    for row in reader:\n",
    "        print(row)"
   ]
  },
  {
   "cell_type": "code",
   "execution_count": null,
   "id": "dc90bdd3",
   "metadata": {},
   "outputs": [
    {
     "name": "stdout",
     "output_type": "stream",
     "text": [
      "2025-07-11 00:20:24.210879\n",
      "2025-07-10 00:20:24.210879\n"
     ]
    }
   ],
   "source": [
    "from datetime import datetime,timedelta\n",
    "\n",
    "now=datetime.now()\n",
    "print(now)\n",
    "\n",
    "## timedelta is a way to represent a duration of time (like 1 day, 5 hours, 10 minutes).\n",
    "## Here, timedelta(days=1) means a duration of 1 day.\n",
    "\n",
    "yestarday=now- timedelta(days=1)\n",
    "print(yestarday)"
   ]
  },
  {
   "cell_type": "code",
   "execution_count": 23,
   "id": "d3253f00",
   "metadata": {},
   "outputs": [
    {
     "name": "stdout",
     "output_type": "stream",
     "text": [
      "1752173683.897972\n",
      "1752173686.8984065\n"
     ]
    }
   ],
   "source": [
    "import time\n",
    "print(time.time())\n",
    "time.sleep(3)  ## sleep for 3 s\n",
    "print(time.time())"
   ]
  },
  {
   "cell_type": "code",
   "execution_count": 26,
   "id": "1440e53b",
   "metadata": {},
   "outputs": [
    {
     "name": "stdout",
     "output_type": "stream",
     "text": [
      "567\n"
     ]
    }
   ],
   "source": [
    "## regular expression module\n",
    "import re\n",
    "\n",
    "## r'' means raw string\n",
    "pattern=r'\\d+'   ### So \\d+ means \"one or more digits in a row\".\n",
    "text=\"there are 567 numbers of apples\"\n",
    "match=re.search(pattern,text)   ## search for first match\n",
    "print(match.group())   ## return matching group\n",
    "\n"
   ]
  }
 ],
 "metadata": {
  "kernelspec": {
   "display_name": "Python 3",
   "language": "python",
   "name": "python3"
  },
  "language_info": {
   "codemirror_mode": {
    "name": "ipython",
    "version": 3
   },
   "file_extension": ".py",
   "mimetype": "text/x-python",
   "name": "python",
   "nbconvert_exporter": "python",
   "pygments_lexer": "ipython3",
   "version": "3.12.11"
  }
 },
 "nbformat": 4,
 "nbformat_minor": 5
}

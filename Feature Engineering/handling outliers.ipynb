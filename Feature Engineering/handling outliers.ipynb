{
 "cells": [
  {
   "cell_type": "code",
   "execution_count": 1,
   "id": "29d93715",
   "metadata": {},
   "outputs": [],
   "source": [
    "import numpy as np\n",
    "import seaborn as sns\n",
    "import pandas as pd"
   ]
  },
  {
   "cell_type": "code",
   "execution_count": 19,
   "id": "a08641ba",
   "metadata": {},
   "outputs": [
    {
     "data": {
      "text/plain": [
       "(np.float64(-71.0),\n",
       " np.float64(7.0),\n",
       " np.float64(16.0),\n",
       " np.float64(57.0),\n",
       " np.float64(190.0))"
      ]
     },
     "execution_count": 19,
     "metadata": {},
     "output_type": "execute_result"
    }
   ],
   "source": [
    "marks=np.array([0,-9,-67,-71,-59,-60,-70,4,7,9,-12, 15, 14, 16, 15, -14, 13, 60,45,78,30,20,40,38,50,30,60,57,78,68,90,91,81, 18, 14, 16, 15, 140, 190, -50, 170, 14, 15, 16, 13]) \n",
    "\n",
    "min_val,q1,median_val,q3,max_val=np.quantile(marks,[0,0.25,0.50,0.75,1.0])\n",
    "min_val,q1,median_val,q3,max_val\n"
   ]
  },
  {
   "cell_type": "code",
   "execution_count": 20,
   "id": "b57b4786",
   "metadata": {},
   "outputs": [
    {
     "data": {
      "text/plain": [
       "np.float64(50.0)"
      ]
     },
     "execution_count": 20,
     "metadata": {},
     "output_type": "execute_result"
    }
   ],
   "source": [
    "Iqr=q3-q1\n",
    "Iqr"
   ]
  },
  {
   "cell_type": "code",
   "execution_count": 21,
   "id": "99eb0516",
   "metadata": {},
   "outputs": [
    {
     "data": {
      "text/plain": [
       "(np.float64(-68.0), np.float64(132.0))"
      ]
     },
     "execution_count": 21,
     "metadata": {},
     "output_type": "execute_result"
    }
   ],
   "source": [
    "lower_fance=q1-1.5*Iqr\n",
    "higher_fance=q3+1.5*Iqr\n",
    "\n",
    "lower_fance,higher_fance"
   ]
  },
  {
   "cell_type": "code",
   "execution_count": 22,
   "id": "4d7d62fb",
   "metadata": {},
   "outputs": [
    {
     "data": {
      "text/plain": [
       "<Axes: >"
      ]
     },
     "execution_count": 22,
     "metadata": {},
     "output_type": "execute_result"
    },
    {
     "data": {
      "image/png": "[encoded data removed]",
      "text/plain": [
       "<Figure size 640x480 with 1 Axes>"
      ]
     },
     "metadata": {},
     "output_type": "display_data"
    }
   ],
   "source": [
    "import seaborn as sns\n",
    "\n",
    "sns.boxplot(marks)"
   ]
  },
  {
   "cell_type": "code",
   "execution_count": null,
   "metadata": {},
   "outputs": [],
   "source": []
  }
 ],
 "metadata": {
  "kernelspec": {
   "display_name": "venv",
   "language": "python",
   "name": "python3"
  },
  "language_info": {
   "codemirror_mode": {
    "name": "ipython",
    "version": 3
   },
   "file_extension": ".py",
   "mimetype": "text/x-python",
   "name": "python",
   "nbconvert_exporter": "python",
   "pygments_lexer": "ipython3",
   "version": "3.10.0"
  }
 },
 "nbformat": 4,
 "nbformat_minor": 5
}

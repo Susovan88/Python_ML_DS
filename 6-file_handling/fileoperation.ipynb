{
 "cells": [
  {
   "cell_type": "code",
   "execution_count": 6,
   "id": "ff4e702a",
   "metadata": {},
   "outputs": [
    {
     "name": "stdout",
     "output_type": "stream",
     "text": [
      "Great that you’re learning about modules and creating your own Python packages! \n",
      "Let me walk you step by step on how to commit it to GitHub and what not to include.\n",
      "Hii , I am susovan Paul\n",
      "what are you doing???\n"
     ]
    }
   ],
   "source": [
    "with open('example.txt','r') as file:\n",
    "    content=file.read()\n",
    "    print(content)"
   ]
  },
  {
   "cell_type": "code",
   "execution_count": null,
   "id": "b63e341f",
   "metadata": {},
   "outputs": [
    {
     "name": "stdout",
     "output_type": "stream",
     "text": [
      "Great that you’re learning about modules and creating your own Python packages!\n",
      "Let me walk you step by step on how to commit it to GitHub and what not to include.\n",
      "Hii , I am susovan Paul\n",
      "what are you doing???\n"
     ]
    }
   ],
   "source": [
    "with open(\"example.txt\",'r') as file:     ## r -> read\n",
    "    for line in file:\n",
    "        print(line.strip())"
   ]
  },
  {
   "cell_type": "code",
   "execution_count": null,
   "id": "10989668",
   "metadata": {},
   "outputs": [
    {
     "name": "stdout",
     "output_type": "stream",
     "text": [
      "Hello World\n",
      "Hii I add a new line in my example.txt file.\n"
     ]
    }
   ],
   "source": [
    "## write in file (overwriting)\n",
    "\n",
    "with open(\"example.txt\",'w') as file:     ## w -> write\n",
    "    file.write(\"Hello World\\n\")\n",
    "    file.write(\"Hii I add a new line in my example.txt file.\")\n",
    "\n",
    "with open(\"example.txt\",'r') as file:\n",
    "    content=file.read()\n",
    "    print(content)\n"
   ]
  },
  {
   "cell_type": "code",
   "execution_count": null,
   "id": "1d199d68",
   "metadata": {},
   "outputs": [
    {
     "name": "stdout",
     "output_type": "stream",
     "text": [
      "Hello World\n",
      "Hii I add a new line in my example.txt file.\n",
      "Now I append new line in example.txt file, do not overwriting\n",
      "\n"
     ]
    }
   ],
   "source": [
    "with open(\"example.txt\",'a') as file:    ## a -> append\n",
    "    file.write(\"\\nNow I append new line in example.txt file, do not overwriting\\n\")\n",
    "\n",
    "with open(\"example.txt\",'r') as file:\n",
    "    content=file.read()\n",
    "    print(content)\n"
   ]
  },
  {
   "cell_type": "code",
   "execution_count": 26,
   "id": "3ce77f5e",
   "metadata": {},
   "outputs": [
    {
     "name": "stdout",
     "output_type": "stream",
     "text": [
      "Hello World\n",
      "Hii I add a new line in my example.txt file.\n",
      "Now I append new line in example.txt file, do not overwriting\n",
      "First Line \n",
      "Second line \n",
      "third line\n",
      "\n"
     ]
    }
   ],
   "source": [
    "lines=[\"First Line \\n\",\"Second line \\n\",\"third line\\n\"]\n",
    "\n",
    "with open(\"example.txt\",'a') as file:\n",
    "    file.writelines(lines)\n",
    "\n",
    "with open(\"example.txt\",'r') as file:\n",
    "    content=file.read()\n",
    "    print(content)"
   ]
  },
  {
   "cell_type": "code",
   "execution_count": null,
   "id": "2bc4a181",
   "metadata": {},
   "outputs": [
    {
     "name": "stdout",
     "output_type": "stream",
     "text": [
      "b'\\x00\\x01\\x02\\x03\\x04'\n"
     ]
    }
   ],
   "source": [
    "\n",
    "data=b'\\x00\\x01\\x02\\x03\\x04'\n",
    "with open(\"example.bin\",'wb')as file:   ## write binary mode\n",
    "    file.write(data)\n",
    "\n",
    "with open(\"example.bin\",'rb') as file:   ## read binary mode\n",
    "    content=file.read()\n",
    "    print(content)"
   ]
  },
  {
   "cell_type": "code",
   "execution_count": 28,
   "id": "2b86d486",
   "metadata": {},
   "outputs": [],
   "source": [
    "with open(\"example.txt\",'r') as file:\n",
    "    content=file.read()\n",
    "with open(\"destination.txt\",'w') as dest_file:\n",
    "    dest_file.write(content)"
   ]
  },
  {
   "cell_type": "code",
   "execution_count": 40,
   "id": "8b7a18a5",
   "metadata": {},
   "outputs": [
    {
     "data": {
      "text/plain": [
       "(6, 29, 155)"
      ]
     },
     "execution_count": 40,
     "metadata": {},
     "output_type": "execute_result"
    }
   ],
   "source": [
    "def count_text_file(file_path):\n",
    "    with open(file_path,'r')as file:\n",
    "        lines=file.readlines()  ## return list of lines\n",
    "        # print(lines)\n",
    "        line_count=len(lines)\n",
    "        word_count=sum(len(line.split()) for line in lines)\n",
    "        char_count=sum(len(line) for line in lines)\n",
    "        return line_count,word_count,char_count\n",
    "\n",
    "\n",
    "count_text_file('example.txt')\n"
   ]
  },
  {
   "cell_type": "code",
   "execution_count": 45,
   "id": "80d82325",
   "metadata": {},
   "outputs": [
    {
     "name": "stdout",
     "output_type": "stream",
     "text": [
      "Hii add a new line\n",
      "CSE -> b.tech\n"
     ]
    }
   ],
   "source": [
    "### writing and then reading mode\n",
    "\n",
    "with open(\"example.txt\",'w+') as file:\n",
    "    file.write(\"Hii add a new line\\n\")\n",
    "    file.write(\"CSE -> b.tech\")   ## file curser is now end of this line \n",
    "\n",
    "    ## move the file curser to beginning \n",
    "    file.seek(0)\n",
    "    content=file.read()\n",
    "    print(content)\n",
    "    "
   ]
  },
  {
   "cell_type": "code",
   "execution_count": null,
   "id": "accf27e3",
   "metadata": {},
   "outputs": [],
   "source": []
  }
 ],
 "metadata": {
  "kernelspec": {
   "display_name": "Python 3",
   "language": "python",
   "name": "python3"
  },
  "language_info": {
   "codemirror_mode": {
    "name": "ipython",
    "version": 3
   },
   "file_extension": ".py",
   "mimetype": "text/x-python",
   "name": "python",
   "nbconvert_exporter": "python",
   "pygments_lexer": "ipython3",
   "version": "3.12.11"
  }
 },
 "nbformat": 4,
 "nbformat_minor": 5
}

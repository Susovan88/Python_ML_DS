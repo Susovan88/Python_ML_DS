{
 "cells": [
  {
   "cell_type": "markdown",
   "metadata": {},
   "source": [
    "# Module: File Handling Assignments\n",
    "## Lesson: File Handling and Operations\n",
    "### Assignment 1: Reading a File\n",
    "\n",
    "Write a function that reads the contents of a file named `sample.txt` and prints each line.\n",
    "\n",
    "### Assignment 2: Writing to a File\n",
    "\n",
    "Write a function that writes a list of strings to a file named `output.txt`, with each string on a new line.\n",
    "\n",
    "### Assignment 3: Copying a File\n",
    "\n",
    "Write a function that copies the contents of a file named `source.txt` to a new file named `destination.txt`.\n",
    "\n",
    "### Assignment 4: Appending to a File\n",
    "\n",
    "Write a function that appends a given string to the end of a file named `log.txt`.\n",
    "\n",
    "### Assignment 5: Counting Words in a File\n",
    "\n",
    "Write a function that reads the contents of a file named `document.txt` and returns the number of words in the file.\n",
    "\n",
    "### Assignment 6: Finding and Replacing Text\n",
    "\n",
    "Write a function that finds and replaces all occurrences of a given word in a file named `data.txt` with another word.\n",
    "\n",
    "### Assignment 7: Reading a File in Reverse\n",
    "\n",
    "Write a function that reads the contents of a file named `reverse.txt` and prints each line in reverse order.\n",
    "\n",
    "### Assignment 8: Counting Lines, Words, and Characters\n",
    "\n",
    "Write a function that reads the contents of a file named `stats.txt` and returns the number of lines, words, and characters in the file.\n",
    "\n",
    "### Assignment 9: Merging Multiple Files\n",
    "\n",
    "Write a function that merges the contents of multiple files into a single file named `merged.txt`.\n",
    "\n",
    "### Assignment 10: Splitting a Large File\n",
    "\n",
    "Write a function that splits a large file named `large.txt` into smaller files of 100 lines each.\n",
    "\n",
    "### Assignment 11: Creating a Log File\n",
    "\n",
    "Write a function that creates a log file named `activity.log` and writes log messages with timestamps.\n",
    "\n",
    "### Assignment 12: Binary File Operations\n",
    "\n",
    "Write a function that reads a binary file named `image.bin` and writes its contents to another binary file named `copy_image.bin`.\n",
    "\n",
    "### Assignment 13: CSV File Operations\n",
    "\n",
    "Write a function that reads a CSV file named `data.csv` and prints its contents as a list of dictionaries.\n",
    "\n",
    "### Assignment 14: JSON File Operations\n",
    "\n",
    "Write a function that reads a JSON file named `data.json` and prints its contents as a Python dictionary.\n",
    "\n",
    "### Assignment 15: File Permission Handling\n",
    "\n",
    "Write a function that attempts to read a file named `protected.txt` and handles any permission errors gracefully by printing an error message."
   ]
  },
  {
   "cell_type": "code",
   "execution_count": 8,
   "metadata": {},
   "outputs": [
    {
     "name": "stdout",
     "output_type": "stream",
     "text": [
      "Hii add a new line\n",
      "CSE -> b.tech\n"
     ]
    }
   ],
   "source": [
    "def read_text(file_path):\n",
    "    with open(file_path,\"r\") as file:\n",
    "        for line in file:\n",
    "            print(line.strip())\n",
    "\n",
    "read_text(\"example.txt\")"
   ]
  },
  {
   "cell_type": "code",
   "execution_count": 10,
   "id": "56ad6c3c",
   "metadata": {},
   "outputs": [
    {
     "name": "stdout",
     "output_type": "stream",
     "text": [
      "Hi I am susovan Paul\n",
      "I have a ball\n",
      "I have a car\n"
     ]
    }
   ],
   "source": [
    "def write_in_file(lines,file_path):\n",
    "    with open(file_path,\"w\")as file:\n",
    "        for line in lines:\n",
    "            file.write(line+\"\\n\")\n",
    "\n",
    "\n",
    "write_in_file([\"Hi I am susovan Paul\",\"I have a ball\",\"I have a car\"],\"example.txt\")\n",
    "\n",
    "read_text(\"example.txt\")"
   ]
  },
  {
   "cell_type": "code",
   "execution_count": 13,
   "metadata": {},
   "outputs": [],
   "source": [
    "def copy_file(source_path,destination_path):\n",
    "    with open(source_path,\"r\") as source_file:\n",
    "        with open(destination_path,'w')as destination_file:\n",
    "            for line in source_file:\n",
    "                destination_file.write(line)\n",
    "\n",
    "\n",
    "copy_file(\"example.txt\",\"copy_example.txt\")"
   ]
  },
  {
   "cell_type": "code",
   "execution_count": null,
   "id": "8d584bab",
   "metadata": {},
   "outputs": [],
   "source": [
    "def copy_file(source_path,destination_path):\n",
    "    with open(source_path,\"r\") as source_file,open(destination_path,'w')as destination_file:\n",
    "        destination_file.write(source_file.read())\n",
    "\n",
    "copy_file(\"example.txt\",\"copy_example.txt\")"
   ]
  },
  {
   "cell_type": "code",
   "execution_count": 16,
   "metadata": {},
   "outputs": [],
   "source": [
    "def append_string(file_path,text):\n",
    "    with open(file_path,'a')as file:\n",
    "        file.write(text+'\\n')\n",
    "\n",
    "append_string('copy_example.txt',\"Hii I am a Good Boy\")"
   ]
  },
  {
   "cell_type": "code",
   "execution_count": 23,
   "id": "513febd5",
   "metadata": {},
   "outputs": [
    {
     "name": "stdout",
     "output_type": "stream",
     "text": [
      "Hi I am susovan Paul\n",
      "I have a ball\n",
      "I have a car\n",
      "Hii I am a Good Boy\n",
      " ['Hi', 'I', 'am', 'susovan', 'Paul', 'I', 'have', 'a', 'ball', 'I', 'have', 'a', 'car', 'Hii', 'I', 'am', 'a', 'Good', 'Boy']\n",
      "Number of words is -  19\n"
     ]
    }
   ],
   "source": [
    "def count_words(file_path):\n",
    "    with open(file_path,\"r\") as file:\n",
    "        text=file.read()\n",
    "        print(text,text.split())\n",
    "        print(\"Number of words is - \",len(text.split()))\n",
    "\n",
    "\n",
    "count_words(\"copy_example.txt\")"
   ]
  },
  {
   "cell_type": "code",
   "execution_count": 24,
   "metadata": {},
   "outputs": [
    {
     "name": "stdout",
     "output_type": "stream",
     "text": [
      "Hi He am susovan Paul\n",
      "He have a ball\n",
      "He have a car\n",
      "Hii He am a Good Boy\n",
      "Hi I am susovan Paul\n",
      "I have a ball\n",
      "I have a car\n",
      "Hii I am a Good Boy\n"
     ]
    }
   ],
   "source": [
    "def find_and_replac_word(file_path,oldword,newword):\n",
    "    with open(file_path,\"r\") as file:\n",
    "        content=file.read()\n",
    "        content=content.replace(oldword,newword)\n",
    "    with open(file_path,\"w\") as file:\n",
    "        file.write(content)\n",
    "\n",
    "\n",
    "find_and_replac_word(\"copy_example.txt\",\"I\",\"He\")\n",
    "read_text(\"copy_example.txt\")\n",
    "find_and_replac_word(\"copy_example.txt\",\"He\",\"I\")\n",
    "read_text(\"copy_example.txt\")"
   ]
  },
  {
   "cell_type": "code",
   "execution_count": 38,
   "id": "64183f83",
   "metadata": {},
   "outputs": [
    {
     "name": "stdout",
     "output_type": "stream",
     "text": [
      "['Hi I am susovan Paul\\n', 'I have a ball\\n', 'I have a car\\n']\n",
      "I have a car\n",
      "I have a ball\n",
      "Hi I am susovan Paul\n"
     ]
    }
   ],
   "source": [
    "def read_reverse_text(file_path):\n",
    "    with open(file_path,\"r\") as file:\n",
    "        lines=file.readlines()\n",
    "        print(lines)\n",
    "        reversed_lines=reversed(lines)\n",
    "        for line in reversed_lines:\n",
    "            print(line.strip())\n",
    "\n",
    "read_reverse_text(\"example.txt\")"
   ]
  },
  {
   "cell_type": "code",
   "execution_count": 39,
   "id": "31f9747a",
   "metadata": {},
   "outputs": [
    {
     "name": "stdout",
     "output_type": "stream",
     "text": [
      " words - 13, lines - 3, chars - 48 \n"
     ]
    }
   ],
   "source": [
    "def count_all_in_file(file_path):\n",
    "    with open(file_path,\"r\")as file:\n",
    "        content=file.read()\n",
    "        count_lines=len(content.splitlines())\n",
    "        count_words=len(content.split())\n",
    "        count_char=len(content)\n",
    "        print(f\" words - {count_words}, lines - {count_lines}, chars - {count_char} \")\n",
    "\n",
    "\n",
    "count_all_in_file(\"example.txt\")"
   ]
  },
  {
   "cell_type": "code",
   "execution_count": null,
   "id": "2b4b7b03",
   "metadata": {},
   "outputs": [],
   "source": [
    "def marge_files(file_list,destination_file):\n",
    "    with open(destination_file,\"w\") as marge:\n",
    "        for file_path in file_list:\n",
    "            with open(file_path,\"r\")as file:\n",
    "                marge.write(file.read()+'\\n')\n",
    "\n",
    "file_list=[\"example.txt\",\"copy_example.txt\"]\n",
    "marge_files(file_list,\"marge.txt\")\n",
    "\n",
    "\n"
   ]
  },
  {
   "cell_type": "code",
   "execution_count": null,
   "id": "7e2a4579",
   "metadata": {},
   "outputs": [],
   "source": [
    "def split_large_file(file_path):\n",
    "    with open(file_path,'r') as larg_file:\n",
    "        lines=larg_file.readlines()\n",
    "    for i in range(1,len(lines),10):\n",
    "        with open(f\"part_{i}to{i+10}.txt\",'w')as part_file:\n",
    "            part_file.writelines(lines[i:i+10])\n",
    "\n",
    "\n",
    "split_large_file(\"copy_example.txt\")\n"
   ]
  },
  {
   "cell_type": "code",
   "execution_count": null,
   "metadata": {},
   "outputs": [],
   "source": []
  }
 ],
 "metadata": {
  "kernelspec": {
   "display_name": "venv",
   "language": "python",
   "name": "python3"
  },
  "language_info": {
   "codemirror_mode": {
    "name": "ipython",
    "version": 3
   },
   "file_extension": ".py",
   "mimetype": "text/x-python",
   "name": "python",
   "nbconvert_exporter": "python",
   "pygments_lexer": "ipython3",
   "version": "3.12.11"
  }
 },
 "nbformat": 4,
 "nbformat_minor": 5
}

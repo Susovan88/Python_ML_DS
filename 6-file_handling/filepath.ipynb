{
 "cells": [
  {
   "cell_type": "code",
   "execution_count": null,
   "id": "b167b7ff",
   "metadata": {},
   "outputs": [
    {
     "name": "stdout",
     "output_type": "stream",
     "text": [
      "c:\\Users\\susov\\OneDrive\\Desktop\\Python_ML_DS\\6-file_handling\n",
      "new directory package is creaded.\n"
     ]
    }
   ],
   "source": [
    "import os\n",
    "\n",
    "print(os.getcwd())\n",
    "directory='package'\n",
    "os.mkdir(directory)\n",
    "print(f\"current directory {directory} .\")"
   ]
  },
  {
   "cell_type": "code",
   "execution_count": 2,
   "id": "a7ba2789",
   "metadata": {},
   "outputs": [
    {
     "name": "stdout",
     "output_type": "stream",
     "text": [
      "['destination.txt', 'example.bin', 'example.txt', 'fileoperation.ipynb', 'filepath.ipynb', 'package']\n"
     ]
    }
   ],
   "source": [
    "## list all the files and dir \n",
    "\n",
    "items=os.listdir('.')\n",
    "print(items)"
   ]
  },
  {
   "cell_type": "code",
   "execution_count": 3,
   "id": "95e03f46",
   "metadata": {},
   "outputs": [
    {
     "name": "stdout",
     "output_type": "stream",
     "text": [
      "folder\\file.txt\n"
     ]
    }
   ],
   "source": [
    "dir_name='folder'\n",
    "file_name='file.txt'\n",
    "\n",
    "full_path=os.path.join(dir_name,file_name)\n",
    "print(full_path)"
   ]
  },
  {
   "cell_type": "code",
   "execution_count": null,
   "id": "7665f7bd",
   "metadata": {},
   "outputs": [
    {
     "name": "stdout",
     "output_type": "stream",
     "text": [
      "c:\\Users\\susov\\OneDrive\\Desktop\\Python_ML_DS\\6-file_handling\\folder\\file.txt\n"
     ]
    }
   ],
   "source": [
    "dir_name='folder'\n",
    "file_name='file.txt'\n",
    "\n",
    "###   Joins multiple parts of a path in a way that works on any operating system\n",
    "full_path=os.path.join(os.getcwd(),dir_name,file_name)\n",
    "print(full_path)\n"
   ]
  },
  {
   "cell_type": "code",
   "execution_count": 8,
   "id": "1e011b13",
   "metadata": {},
   "outputs": [
    {
     "name": "stdout",
     "output_type": "stream",
     "text": [
      "example123.txt  path is nor exist\n"
     ]
    }
   ],
   "source": [
    "path='example123.txt'\n",
    "if os.path.exists(path):\n",
    "    print(f\" path'{path}' is exist\")\n",
    "else:\n",
    "    print(path,\" path is nor exist\")"
   ]
  },
  {
   "cell_type": "code",
   "execution_count": 10,
   "id": "eb92f972",
   "metadata": {},
   "outputs": [
    {
     "name": "stdout",
     "output_type": "stream",
     "text": [
      " path - example.bin is a file path\n",
      " path - package is a folter path\n",
      " path - example123.txt is a neither file nor folder path\n"
     ]
    }
   ],
   "source": [
    "def check_ispath_isdir(path):\n",
    "    if os.path.isfile(path):\n",
    "        print(f\" path - {path} is a file path\")\n",
    "    elif os.path.isdir(path):\n",
    "        print(f\" path - {path} is a folter path\")\n",
    "    else:\n",
    "        print(f\" path - {path} is a neither file nor folder path\")\n",
    "\n",
    "\n",
    "check_ispath_isdir(\"example.bin\")\n",
    "check_ispath_isdir(\"package\")\n",
    "check_ispath_isdir(\"example123.txt\")"
   ]
  },
  {
   "cell_type": "code",
   "execution_count": 11,
   "metadata": {},
   "outputs": [
    {
     "name": "stdout",
     "output_type": "stream",
     "text": [
      "c:\\Users\\susov\\OneDrive\\Desktop\\Python_ML_DS\\6-file_handling\\example.txt\n"
     ]
    }
   ],
   "source": [
    "relative_path=\"example.txt\"\n",
    "absolute_path=os.path.abspath(relative_path)\\\n",
    "\n",
    "print(absolute_path)"
   ]
  },
  {
   "cell_type": "code",
   "execution_count": null,
   "id": "0c023139",
   "metadata": {},
   "outputs": [],
   "source": []
  },
  {
   "cell_type": "code",
   "execution_count": null,
   "id": "370010ae",
   "metadata": {},
   "outputs": [],
   "source": []
  }
 ],
 "metadata": {
  "kernelspec": {
   "display_name": "Python 3",
   "language": "python",
   "name": "python3"
  },
  "language_info": {
   "codemirror_mode": {
    "name": "ipython",
    "version": 3
   },
   "file_extension": ".py",
   "mimetype": "text/x-python",
   "name": "python",
   "nbconvert_exporter": "python",
   "pygments_lexer": "ipython3",
   "version": "3.12.11"
  }
 },
 "nbformat": 4,
 "nbformat_minor": 5
}

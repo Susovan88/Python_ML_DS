{
 "cells": [
  {
   "cell_type": "markdown",
   "metadata": {},
   "source": [
    "# Module 3: Data Structures Assignments\n",
    "## Lesson 3.4: Dictionaries\n",
    "### Assignment 1: Creating and Accessing Dictionaries\n",
    "\n",
    "Create a dictionary with the first 10 positive integers as keys and their squares as values. Print the dictionary.\n",
    "\n",
    "### Assignment 2: Accessing Dictionary Elements\n",
    "\n",
    "Print the value of the key 5 and the keys of the dictionary created in Assignment 1.\n",
    "\n",
    "### Assignment 3: Dictionary Methods\n",
    "\n",
    "Add a new key-value pair (11, 121) to the dictionary created in Assignment 1 and then remove the key-value pair with key 1. Print the modified dictionary.\n",
    "\n",
    "### Assignment 4: Iterating Over Dictionaries\n",
    "\n",
    "Iterate over the dictionary created in Assignment 1 and print each key-value pair.\n",
    "\n",
    "### Assignment 5: Dictionary Comprehensions\n",
    "\n",
    "Create a new dictionary containing the cubes of the first 10 positive integers using a dictionary comprehension. Print the new dictionary.\n",
    "\n",
    "### Assignment 6: Merging Dictionaries\n",
    "\n",
    "Create two dictionaries: one with keys as the first 5 positive integers and values as their squares, and another with keys as the next 5 positive integers and values as their squares. Merge these dictionaries into a single dictionary and print it.\n",
    "\n",
    "### Assignment 7: Nested Dictionaries\n",
    "\n",
    "Create a nested dictionary representing a student with keys 'name', 'age', 'grades', where 'grades' is another dictionary with keys 'math', 'science', and 'english'. Print the nested dictionary.\n",
    "\n",
    "### Assignment 8: Dictionary of Lists\n",
    "\n",
    "Create a dictionary where the keys are the first 5 positive integers and the values are lists containing the first 5 multiples of the key. Print the dictionary.\n",
    "\n",
    "### Assignment 9: Dictionary of Tuples\n",
    "\n",
    "Create a dictionary where the keys are the first 5 positive integers and the values are tuples containing the key and its square. Print the dictionary.\n",
    "\n",
    "### Assignment 10: Dictionary and List Conversion\n",
    "\n",
    "Create a dictionary with the first 5 positive integers as keys and their squares as values. Convert the dictionary to a list of tuples and print it.\n",
    "\n",
    "### Assignment 11: Dictionary Filtering\n",
    "\n",
    "Create a dictionary with the first 10 positive integers as keys and their squares as values. Create a new dictionary containing only the key-value pairs where the key is even. Print the new dictionary.\n",
    "\n",
    "### Assignment 12: Dictionary Key and Value Transformation\n",
    "\n",
    "Create a dictionary with the first 5 positive integers as keys and their squares as values. Create a new dictionary with keys and values swapped. Print the new dictionary.\n",
    "\n",
    "### Assignment 13: Default Dictionary\n",
    "\n",
    "Create a default dictionary where each key has a default value of an empty list. Add some elements to the lists and print the dictionary.\n",
    "\n",
    "### Assignment 14: Counting with Dictionaries\n",
    "\n",
    "Write a function that takes a string and returns a dictionary with the count of each character in the string. Print the dictionary.\n",
    "\n",
    "### Assignment 15: Dictionary and JSON\n",
    "\n",
    "Create a dictionary representing a book with keys 'title', 'author', 'year', and 'genre'. Convert the dictionary to a JSON string and print it."
   ]
  },
  {
   "cell_type": "code",
   "execution_count": 2,
   "metadata": {},
   "outputs": [
    {
     "name": "stdout",
     "output_type": "stream",
     "text": [
      "{1: 1, 2: 4, 3: 9, 4: 16, 5: 25, 6: 36, 7: 49, 8: 64, 9: 81, 10: 100}\n"
     ]
    }
   ],
   "source": [
    "sqr={i:i**2 for i in range(1,11)}\n",
    "print(sqr)"
   ]
  },
  {
   "cell_type": "code",
   "execution_count": 5,
   "id": "1ce5e338",
   "metadata": {},
   "outputs": [
    {
     "name": "stdout",
     "output_type": "stream",
     "text": [
      "1 -> 1\n",
      "2 -> 4\n",
      "3 -> 9\n",
      "4 -> 16\n",
      "5 -> 25\n",
      "6 -> 36\n",
      "7 -> 49\n",
      "8 -> 64\n",
      "9 -> 81\n",
      "10 -> 100\n",
      "11 -> 121\n",
      "{2: 4, 3: 9, 4: 16, 5: 25, 6: 36, 7: 49, 8: 64, 9: 81, 10: 100, 11: 121}\n"
     ]
    }
   ],
   "source": [
    "for key,val in sqr.items():\n",
    "    print(f\"{key } -> {val}\") \n",
    "\n",
    "\n",
    "sqr[11]=121\n",
    "sqr.pop(1)\n",
    "print(sqr)"
   ]
  },
  {
   "cell_type": "code",
   "execution_count": 6,
   "id": "abb1e415",
   "metadata": {},
   "outputs": [
    {
     "name": "stdout",
     "output_type": "stream",
     "text": [
      "{1: 1, 2: 8, 3: 27, 4: 64, 5: 125, 6: 216, 7: 343, 8: 512, 9: 729, 10: 1000}\n"
     ]
    }
   ],
   "source": [
    "qub=dict((i,i**3) for i in range(1,11))\n",
    "print(qub)"
   ]
  },
  {
   "cell_type": "code",
   "execution_count": 9,
   "id": "5eba5ca6",
   "metadata": {},
   "outputs": [
    {
     "name": "stdout",
     "output_type": "stream",
     "text": [
      "{1: 1, 2: 4, 3: 9, 4: 16, 5: 25} {6: 36, 7: 49, 8: 64, 9: 81, 10: 100}\n",
      "{1: 1, 2: 4, 3: 9, 4: 16, 5: 25, 6: 36, 7: 49, 8: 64, 9: 81, 10: 100}\n"
     ]
    }
   ],
   "source": [
    "sqr1={i:i**2 for i in range(1,6)}\n",
    "sqr2={i:i**2 for i in range(6,11)}\n",
    "print(sqr1,sqr2)\n",
    "marge={**sqr1,**sqr2}\n",
    "print(marge)"
   ]
  },
  {
   "cell_type": "code",
   "execution_count": 10,
   "id": "93d6af23",
   "metadata": {},
   "outputs": [
    {
     "name": "stdout",
     "output_type": "stream",
     "text": [
      "{'name': 'susovan', 'age': 19, 'grades': {'math': 'A', 'English': 'B', 'science': 'E'}}\n"
     ]
    }
   ],
   "source": [
    "students={\n",
    "    \"student1\":{\n",
    "        \"name\":\"susovan\",\n",
    "        \"age\":19,\n",
    "        \"grades\":{\n",
    "            \"math\":'A',\n",
    "            \"English\":'B',\n",
    "            \"science\":'E'\n",
    "        }\n",
    "    },\n",
    "    \"student2\":{\n",
    "        \"name\":\"pupai\",\n",
    "        \"age\":18,\n",
    "        \"grades\":{\n",
    "            \"math\":'B',\n",
    "            \"English\":'E',\n",
    "            \"science\":'A'\n",
    "        }\n",
    "    }\n",
    "}\n",
    "\n",
    "print(students[\"student1\"])\n"
   ]
  },
  {
   "cell_type": "code",
   "execution_count": 13,
   "id": "72d14441",
   "metadata": {},
   "outputs": [
    {
     "name": "stdout",
     "output_type": "stream",
     "text": [
      "{1: [1, 2, 3, 4, 5], 2: [2, 4, 6, 8, 10], 3: [3, 6, 9, 12, 15], 4: [4, 8, 12, 16, 20], 5: [5, 10, 15, 20, 25]}\n"
     ]
    }
   ],
   "source": [
    "dist_list={k:[k*i for i in range(1,6)] for k in range(1,6)}\n",
    "print(dist_list)"
   ]
  },
  {
   "cell_type": "code",
   "execution_count": 15,
   "id": "40a6dc52",
   "metadata": {},
   "outputs": [
    {
     "name": "stdout",
     "output_type": "stream",
     "text": [
      "{1: (1, 2, 3, 4, 5), 2: (2, 4, 6, 8, 10), 3: (3, 6, 9, 12, 15), 4: (4, 8, 12, 16, 20), 5: (5, 10, 15, 20, 25)}\n",
      "{1: (1, 1), 2: (2, 4), 3: (3, 9), 4: (4, 16), 5: (5, 25)}\n"
     ]
    }
   ],
   "source": [
    "dist_tuple={k:tuple(k*i for i in range(1,6)) for k in range(1,6)}\n",
    "print(dist_tuple)\n",
    "dist_tuple={k:(k,k**2) for k in range(1,6)}\n",
    "print(dist_tuple)"
   ]
  },
  {
   "cell_type": "code",
   "execution_count": 19,
   "id": "0f8496ec",
   "metadata": {},
   "outputs": [
    {
     "name": "stdout",
     "output_type": "stream",
     "text": [
      "[(1, 1), (2, 4), (3, 9), (4, 16), (5, 25), (6, 36), (7, 49), (8, 64), (9, 81), (10, 100)]\n",
      "{2: 4, 4: 16, 6: 36, 8: 64, 10: 100}\n",
      "{1: 1, 4: 2, 9: 3, 16: 4, 25: 5, 36: 6, 49: 7, 64: 8, 81: 9, 100: 10}\n"
     ]
    }
   ],
   "source": [
    "sqr1={i:i**2 for i in range(1,11)}\n",
    "lst=[(key,val) for key,val in sqr1.items()]\n",
    "print(lst)\n",
    "\n",
    "even_sqr={key:val for key,val in sqr1.items() if key%2==0}\n",
    "print(even_sqr)\n",
    "\n",
    "swapped_dict={val:key for key,val in sqr1.items()}\n",
    "print(swapped_dict)"
   ]
  },
  {
   "cell_type": "code",
   "execution_count": 22,
   "id": "e1b9d7a5",
   "metadata": {},
   "outputs": [
    {
     "name": "stdout",
     "output_type": "stream",
     "text": [
      "defaultdict(<class 'list'>, {})\n",
      "defaultdict(<class 'list'>, {'fruit': ['apple'], 'flower': ['rose'], 'dress': []}) []\n"
     ]
    }
   ],
   "source": [
    "####   A 'defaultdict' automatically creates a default value for a key that doesn’t exist, so you don’t get a KeyError.\n",
    "from collections import defaultdict\n",
    "\n",
    "defaul_dict_of_lists=defaultdict(list)     ###  Create a defaultdict where each key has default value as an empty list\n",
    "\n",
    "print(defaul_dict_of_lists)\n",
    "\n",
    "defaul_dict_of_lists[\"fruit\"].append(\"apple\")\n",
    "defaul_dict_of_lists[\"flower\"].append(\"rose\")\n",
    "\n",
    "print(defaul_dict_of_lists,defaul_dict_of_lists[\"dress\"])\n",
    "\n"
   ]
  },
  {
   "cell_type": "code",
   "execution_count": 24,
   "id": "137129af",
   "metadata": {},
   "outputs": [
    {
     "name": "stdout",
     "output_type": "stream",
     "text": [
      " after removing space and to lower -  hiiiimynameispupai\n",
      "{'h': 1, 'i': 6, 'm': 2, 'y': 1, 'n': 1, 'a': 2, 'e': 1, 's': 1, 'p': 2, 'u': 1}\n"
     ]
    }
   ],
   "source": [
    "st=input(\"enter a string : \")\n",
    "\n",
    "dt={}\n",
    "st=st.lower().replace(\" \",\"\")\n",
    "print(\" after removing space and to lower - \",st)\n",
    "\n",
    "for i in st:\n",
    "    if( i in dt.keys()):\n",
    "        dt[i]+=1\n",
    "    else:\n",
    "        dt[i]=1\n",
    "\n",
    "print(dt)\n"
   ]
  },
  {
   "cell_type": "code",
   "execution_count": 27,
   "id": "d215332b",
   "metadata": {},
   "outputs": [
    {
     "name": "stdout",
     "output_type": "stream",
     "text": [
      "{'title': 'To Kill a Mockingbird', 'author': 'Harper Lee', 'year': 1960, 'genre': 'Fiction'}\n",
      "{\"title\": \"To Kill a Mockingbird\", \"author\": \"Harper Lee\", \"year\": 1960, \"genre\": \"Fiction\"}\n"
     ]
    }
   ],
   "source": [
    "import json\n",
    "\n",
    "book = {\n",
    "    'title': 'To Kill a Mockingbird',\n",
    "    'author': 'Harper Lee',\n",
    "    'year': 1960,\n",
    "    'genre': 'Fiction'\n",
    "}\n",
    "print(book)\n",
    "\n",
    "book_json=json.dumps(book)\n",
    "print(book_json)"
   ]
  }
 ],
 "metadata": {
  "kernelspec": {
   "display_name": "Python 3",
   "language": "python",
   "name": "python3"
  },
  "language_info": {
   "codemirror_mode": {
    "name": "ipython",
    "version": 3
   },
   "file_extension": ".py",
   "mimetype": "text/x-python",
   "name": "python",
   "nbconvert_exporter": "python",
   "pygments_lexer": "ipython3",
   "version": "3.12.11"
  }
 },
 "nbformat": 4,
 "nbformat_minor": 5
}

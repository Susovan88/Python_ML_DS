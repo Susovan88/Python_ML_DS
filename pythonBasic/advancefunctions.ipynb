{
 "cells": [
  {
   "cell_type": "markdown",
   "metadata": {},
   "source": [
    "# Module 4: Advanced Functions Assignments\n",
    "## Lesson 4.1: Defining Functions\n",
    "### Assignment 1: Fibonacci Sequence with Memoization\n",
    "\n",
    "Define a recursive function to calculate the nth Fibonacci number using memoization. Test the function with different inputs.\n",
    "\n",
    "### Assignment 2: Function with Nested Default Arguments\n",
    "\n",
    "Define a function that takes two arguments, a and b, where b is a dictionary with a default value of an empty dictionary. The function should add a new key-value pair to the dictionary and return it. Test the function with different inputs.\n",
    "\n",
    "### Assignment 3: Function with Variable Keyword Arguments\n",
    "\n",
    "Define a function that takes a variable number of keyword arguments and returns a dictionary containing only those key-value pairs where the value is an integer. Test the function with different inputs.\n",
    "\n",
    "### Assignment 4: Function with Callback\n",
    "\n",
    "Define a function that takes another function as a callback and a list of integers. The function should apply the callback to each integer in the list and return a new list with the results. Test with different callback functions.\n",
    "\n",
    "### Assignment 5: Function that Returns a Function\n",
    "\n",
    "Define a function that returns another function. The returned function should take an integer and return its square. Test the returned function with different inputs.\n",
    "\n",
    "### Assignment 6: Function with Decorators\n",
    "\n",
    "Define a function that calculates the time taken to execute another function. Apply this decorator to a function that performs a complex calculation. Test the decorated function with different inputs.\n",
    "\n",
    "### Assignment 7: Higher-Order Function for Filtering and Mapping\n",
    "\n",
    "Define a higher-order function that takes two functions, a filter function and a map function, along with a list of integers. The higher-order function should first filter the integers using the filter function and then apply the map function to the filtered integers. Test with different filter and map functions.\n",
    "\n",
    "### Assignment 8: Function Composition\n",
    "\n",
    "Define a function that composes two functions, f and g, such that the result is f(g(x)). Test with different functions f and g.\n",
    "\n",
    "### Assignment 9: Partial Function Application\n",
    "\n",
    "Use the functools.partial function to create a new function that multiplies its input by 2. Test the new function with different inputs.\n",
    "\n",
    "### Assignment 10: Function with Error Handling\n",
    "\n",
    "Define a function that takes a list of integers and returns their average. The function should handle any errors that occur (e.g., empty list) and return None in such cases. Test with different inputs.\n",
    "\n",
    "### Assignment 11: Function with Generators\n",
    "\n",
    "Define a function that generates an infinite sequence of Fibonacci numbers. Test by printing the first 10 numbers in the sequence.\n",
    "\n",
    "### Assignment 12: Currying\n",
    "\n",
    "Define a curried function that takes three arguments, one at a time, and returns their product. Test the function by providing arguments one at a time.\n",
    "\n",
    "### Assignment 13: Function with Context Manager\n",
    "\n",
    "Define a function that uses a context manager to write a list of integers to a file. The function should handle any errors that occur during file operations. Test with different lists.\n",
    "\n",
    "### Assignment 14: Function with Multiple Return Types\n",
    "\n",
    "Define a function that takes a list of mixed data types (integers, strings, and floats) and returns three lists: one containing all the integers, one containing all the strings, and one containing all the floats. Test with different inputs.\n",
    "\n",
    "### Assignment 15: Function with State\n",
    "\n",
    "Define a function that maintains state between calls using a mutable default argument. The function should keep track of how many times it has been called. Test by calling the function multiple times."
   ]
  },
  {
   "cell_type": "code",
   "execution_count": 3,
   "metadata": {},
   "outputs": [
    {
     "name": "stdout",
     "output_type": "stream",
     "text": [
      "8 34\n"
     ]
    }
   ],
   "source": [
    "### fibonacci\n",
    "\n",
    "def fibonacci(idx):\n",
    "    if(idx==1 or idx==2):\n",
    "        return 1\n",
    "    return fibonacci(idx-1)+fibonacci(idx-2)\n",
    "\n",
    "print(fibonacci(6),fibonacci(9))"
   ]
  },
  {
   "cell_type": "code",
   "execution_count": 5,
   "id": "dba9a164",
   "metadata": {},
   "outputs": [
    {
     "name": "stdout",
     "output_type": "stream",
     "text": [
      "{123: 123, 2: 2343} add new key value pair -  {123: 123, 2: 2343}\n",
      "{123: 123, 2: 2343, 3: 243} add new key value pair -  {123: 123, 2: 2343, 3: 243}\n"
     ]
    }
   ],
   "source": [
    "def add_key_val(a,b={}):\n",
    "    b[len(b)+1]=a\n",
    "    return b\n",
    "\n",
    "dt={123:123}\n",
    "result=add_key_val(2343,dt)\n",
    "print(dt,\"add new key value pair - \",result)\n",
    "\n",
    "result=add_key_val(243,dt)\n",
    "print(dt,\"add new key value pair - \",result)\n"
   ]
  },
  {
   "cell_type": "code",
   "execution_count": 9,
   "id": "f254de71",
   "metadata": {},
   "outputs": [
    {
     "name": "stdout",
     "output_type": "stream",
     "text": [
      "{'a': 90, 'b': 98, 'c': 123, 'd': 9887}\n",
      "{'a': 90, 'b': 98, 'c': 123, 'd': 9887}\n"
     ]
    }
   ],
   "source": [
    "def create_dict(**arg):\n",
    "    print(arg)\n",
    "    return {key :val for key,val in arg.items()}\n",
    "\n",
    "\n",
    "result=create_dict(a=90,b=98,c=123,d=9887)\n",
    "print(result)"
   ]
  },
  {
   "cell_type": "code",
   "execution_count": 8,
   "id": "7ed76164",
   "metadata": {},
   "outputs": [
    {
     "name": "stdout",
     "output_type": "stream",
     "text": [
      "[1, 4, 9, 16, 25, 36, 49, 64, 81, 100]\n",
      "[1, 8, 27, 64, 125, 216, 343, 512, 729, 1000]\n"
     ]
    }
   ],
   "source": [
    "def get_list(call_back,ls):\n",
    "    return [call_back(x) for x in ls]\n",
    "\n",
    "lst=[i for i in range(1,11)]\n",
    "\n",
    "def sqr(x):\n",
    "    return x**2\n",
    "\n",
    "def qub(x):\n",
    "    return x**3\n",
    "\n",
    "print(get_list(sqr,lst))\n",
    "print(get_list(qub,lst))\n"
   ]
  },
  {
   "cell_type": "code",
   "execution_count": 10,
   "metadata": {},
   "outputs": [
    {
     "name": "stdout",
     "output_type": "stream",
     "text": [
      "81 729\n"
     ]
    }
   ],
   "source": [
    "def get_function(st):\n",
    "    def sqr(x):\n",
    "        return x**2\n",
    "\n",
    "    def qub(x): \n",
    "        return x**3\n",
    "    \n",
    "    if(st.lower()=='s'):\n",
    "        return sqr\n",
    "    elif(st.lower()=='q'):\n",
    "        return qub\n",
    "    else:\n",
    "        return None\n",
    "    \n",
    "\n",
    "squer_function=get_function('s')\n",
    "qube_function=get_function('q')\n",
    "\n",
    "print(squer_function(9),qube_function(9))\n"
   ]
  },
  {
   "cell_type": "code",
   "execution_count": 16,
   "metadata": {},
   "outputs": [
    {
     "name": "stdout",
     "output_type": "stream",
     "text": [
      "time takes to run this function is - 6.040531396865845s\n",
      "10000000100000000\n"
     ]
    }
   ],
   "source": [
    "import time\n",
    "\n",
    "def time_decorator(fun):\n",
    "    def wrapper(*arg1,**arg2):\n",
    "        st=time.time()\n",
    "        result=fun(*arg1,**arg2)\n",
    "        end=time.time()\n",
    "        total_time=end-st\n",
    "        print(f\"time takes to run this function is - {total_time}s\")\n",
    "        return result\n",
    "    return wrapper\n",
    "\n",
    "def complex_calculation(n):\n",
    "    total=0\n",
    "    for i in range(1,n+1):\n",
    "        total+=i*2\n",
    "    return total\n",
    "\n",
    "complex_calculation=time_decorator(complex_calculation)\n",
    "\n",
    "result=complex_calculation(100000000)\n",
    "print(result)"
   ]
  },
  {
   "cell_type": "code",
   "execution_count": 18,
   "id": "caa5875e",
   "metadata": {},
   "outputs": [
    {
     "name": "stdout",
     "output_type": "stream",
     "text": [
      "[4, 16, 36, 64, 100]\n"
     ]
    }
   ],
   "source": [
    "def filter_and_sqauer(map_fun,filter_fun,lt):\n",
    "    filter_list=list(filter(filter_fun,numbers))\n",
    "    map_list=list(map(map_fun,filter_list))\n",
    "    return map_list\n",
    "\n",
    "def is_even(x):\n",
    "    return x % 2 == 0\n",
    "\n",
    "def square(x):\n",
    "    return x * x\n",
    "\n",
    "numbers = [i for i in range(1,11)]\n",
    "\n",
    "\n",
    "sqr_list=filter_and_sqauer(square,is_even,numbers)\n",
    "print(sqr_list)"
   ]
  },
  {
   "cell_type": "code",
   "execution_count": 19,
   "id": "41279839",
   "metadata": {},
   "outputs": [
    {
     "name": "stdout",
     "output_type": "stream",
     "text": [
      "64\n",
      "16\n",
      "None None\n"
     ]
    }
   ],
   "source": [
    "\n",
    "def compress_funs(f,g):\n",
    "    def wrapper(x):\n",
    "        r=f(g(x))\n",
    "        print(r)\n",
    "    return wrapper\n",
    "\n",
    "\n",
    "def double(x):\n",
    "    return x*2\n",
    "\n",
    "def square(x):\n",
    "    return x * x\n",
    "\n",
    "comprosed=compress_funs(square,double)\n",
    "\n",
    "print(comprosed(4),comprosed(2))\n"
   ]
  },
  {
   "cell_type": "code",
   "execution_count": 22,
   "metadata": {},
   "outputs": [
    {
     "name": "stdout",
     "output_type": "stream",
     "text": [
      "72 16 12\n",
      "6.0 4.0 3.0\n"
     ]
    }
   ],
   "source": [
    "###   functools.partial as \"pre-filling\" some arguments of a function to make a new function.\n",
    "\n",
    "from functools import partial\n",
    "\n",
    "def multiply(a,b):\n",
    "    return a*b\n",
    "\n",
    "def div(a,b):\n",
    "    return a/b\n",
    "\n",
    "double=partial(multiply,2)   ## create a new function  a=2\n",
    "half=partial(div,b=2)     ## create a new function  b=2\n",
    "\n",
    "print(multiply(8,9), double(8),double(6))\n",
    "print(div(18,3), half(8),half(6))"
   ]
  },
  {
   "cell_type": "code",
   "execution_count": 26,
   "id": "19c34ea0",
   "metadata": {},
   "outputs": [
    {
     "name": "stdout",
     "output_type": "stream",
     "text": [
      "list is empty\n",
      "list is empty\n",
      "5.0 None None\n"
     ]
    }
   ],
   "source": [
    "def avg_sum_of_list(lst=[]):\n",
    "    if(len(lst)!=0):\n",
    "        return sum(lst)/len(lst)\n",
    "    else:\n",
    "        print(\"list is empty\")\n",
    "        return None\n",
    "    \n",
    "print(avg_sum_of_list([1,3,5,7,9]),avg_sum_of_list([]),avg_sum_of_list())"
   ]
  },
  {
   "cell_type": "code",
   "execution_count": 27,
   "id": "ea2d5e87",
   "metadata": {},
   "outputs": [
    {
     "name": "stdout",
     "output_type": "stream",
     "text": [
      "0 1 1 2 3 5 8 13 "
     ]
    }
   ],
   "source": [
    "def fibonacci(n):\n",
    "    a,b=0,1\n",
    "    for _ in range(n):\n",
    "        print(a,end=\" \")\n",
    "        a,b=b,a+b\n",
    "\n",
    "fibonacci(8)"
   ]
  },
  {
   "cell_type": "code",
   "execution_count": 29,
   "id": "365c8eab",
   "metadata": {},
   "outputs": [
    {
     "name": "stdout",
     "output_type": "stream",
     "text": [
      "72 42\n"
     ]
    }
   ],
   "source": [
    "### curried function -> takes areguments one at a time\n",
    "\n",
    "\n",
    "def curried_fun(a):\n",
    "    def inner1(b):\n",
    "        def inner2(c):\n",
    "            return a*b*c\n",
    "        return inner2\n",
    "    return inner1\n",
    "\n",
    "print(curried_fun(9)(8)(1),curried_fun(2)(3)(7))"
   ]
  },
  {
   "cell_type": "code",
   "execution_count": 38,
   "id": "a4eeb52d",
   "metadata": {},
   "outputs": [
    {
     "name": "stdout",
     "output_type": "stream",
     "text": [
      "write in file done!!!\n",
      "\n",
      " the content in this file is ->   add some numbers from list -> 123 345 678 987 980 123 987 546512 6754  \n",
      "there are some server issues likes ->  [Errno 2] No such file or directory: '/sdf/sdfsample.txt'\n"
     ]
    }
   ],
   "source": [
    "### file Handeling function \n",
    "\n",
    "def write_in_file(file_path,nums):\n",
    "    try:\n",
    "        with open(file_path,'w+')as file:\n",
    "            file.write(\"add some numbers from list -> \")\n",
    "            for i in nums:\n",
    "                file.write(f\"{i} \")\n",
    "            print(\"write in file done!!!\\n\")\n",
    "            file.seek(0)\n",
    "            content=file.read()\n",
    "            print(f\" the content in this file is ->   {content} \")\n",
    "    except Exception as err:\n",
    "        print(f\"there are some server issues likes ->  {err}\")\n",
    "\n",
    "\n",
    "write_in_file(\"sample.txt\",[123,345,678,987,980,123,987,546512,6754])\n",
    "write_in_file(\"/sdf/sdfsample.txt\",[123,345,678,987,980,123,987,546512,6754])\n",
    "   "
   ]
  },
  {
   "cell_type": "code",
   "execution_count": 39,
   "id": "be2ce7f9",
   "metadata": {},
   "outputs": [
    {
     "name": "stdout",
     "output_type": "stream",
     "text": [
      "[1, 42] ['apple', 'banana'] [3.14, 2.718]\n"
     ]
    }
   ],
   "source": [
    "def filter_mixed_list(mix_data):\n",
    "    int_list=[i for i in mix_data if isinstance(i,int)]\n",
    "    str_list=[i for i in mix_data if isinstance(i,str)]\n",
    "    float_list=[i for i in mix_data if isinstance(i, float)]\n",
    "    return int_list,str_list,float_list\n",
    "\n",
    "mixed = [1, \"apple\", 3.14, \"banana\", 42, 2.718]\n",
    "ints, strs, flts = filter_mixed_list(mixed)\n",
    "print(ints,strs,flts)\n"
   ]
  },
  {
   "cell_type": "code",
   "execution_count": 43,
   "id": "a3f4318b",
   "metadata": {},
   "outputs": [
    {
     "name": "stdout",
     "output_type": "stream",
     "text": [
      "fun1-> this function call count is - 0\n",
      "fun1-> this function call count is - 1\n",
      "fun2-> this function call count is - 0\n",
      "fun2-> this function call count is - 1\n",
      "fun1-> this function call count is - 2\n",
      "fun2-> this function call count is - 2\n",
      "fun1-> this function call count is - 3\n",
      "fun2-> this function call count is - 3\n"
     ]
    },
    {
     "data": {
      "text/plain": [
       "<function __main__.fun2()>"
      ]
     },
     "execution_count": 43,
     "metadata": {},
     "output_type": "execute_result"
    }
   ],
   "source": [
    "# ✅ Every time you call count_fun, it uses the same counter dictionary created when the function was defined.\n",
    "# ✅ So counter[\"count\"] keeps increasing.\n",
    "\n",
    "\n",
    "def count_fun(name,fun,counter={}):\n",
    "    if name not in counter:\n",
    "        counter[name] = 0 \n",
    "    else:\n",
    "        counter[name]+=1\n",
    "    print(f\"{name}-> this function call count is - {counter[name]}\")\n",
    "    return fun\n",
    "\n",
    "\n",
    "def fun1():\n",
    "    print(\"hello \\n\")\n",
    "\n",
    "def fun2():\n",
    "    print(\"world\\n\")\n",
    "\n",
    "\n",
    "count_fun(\"fun1\",fun1)\n",
    "count_fun(\"fun1\",fun1)\n",
    "count_fun(\"fun2\",fun2)\n",
    "count_fun(\"fun2\",fun2)\n",
    "count_fun(\"fun1\",fun1)\n",
    "count_fun(\"fun2\",fun2)\n",
    "count_fun(\"fun1\",fun1)\n",
    "count_fun(\"fun2\",fun2)\n"
   ]
  }
 ],
 "metadata": {
  "kernelspec": {
   "display_name": "Python 3",
   "language": "python",
   "name": "python3"
  },
  "language_info": {
   "codemirror_mode": {
    "name": "ipython",
    "version": 3
   },
   "file_extension": ".py",
   "mimetype": "text/x-python",
   "name": "python",
   "nbconvert_exporter": "python",
   "pygments_lexer": "ipython3",
   "version": "3.12.11"
  }
 },
 "nbformat": 4,
 "nbformat_minor": 5
}

{
 "cells": [
  {
   "cell_type": "markdown",
   "metadata": {},
   "source": [
    "# Module 3: Data Structures Assignments\n",
    "## Lesson 3.3: Sets\n",
    "### Assignment 1: Creating and Accessing Sets\n",
    "\n",
    "Create a set with the first 10 positive integers. Print the set.\n",
    "\n",
    "### Assignment 2: Adding and Removing Elements\n",
    "\n",
    "Add the number 11 to the set created in Assignment 1. Then remove the number 1 from the set. Print the modified set.\n",
    "\n",
    "### Assignment 3: Set Operations\n",
    "\n",
    "Create two sets: one with the first 5 positive integers and another with the first 5 even integers. Perform and print the results of union, intersection, difference, and symmetric difference operations on these sets.\n",
    "\n",
    "### Assignment 4: Set Comprehensions\n",
    "\n",
    "Create a new set containing the squares of the first 10 positive integers using a set comprehension. Print the new set.\n",
    "\n",
    "### Assignment 5: Filtering Sets\n",
    "\n",
    "Create a new set containing only the even numbers from the set created in Assignment 1 using a set comprehension. Print the new set.\n",
    "\n",
    "### Assignment 6: Set Methods\n",
    "\n",
    "Create a set with duplicate elements and remove the duplicates using set methods. Print the modified set.\n",
    "\n",
    "### Assignment 7: Subsets and Supersets\n",
    "\n",
    "Create two sets: one with the first 5 positive integers and another with the first 3 positive integers. Check if the second set is a subset of the first set and if the first set is a superset of the second set. Print the results.\n",
    "\n",
    "### Assignment 8: Frozenset\n",
    "\n",
    "Create a frozenset with the first 5 positive integers. Print the frozenset.\n",
    "\n",
    "### Assignment 9: Set and List Conversion\n",
    "\n",
    "Create a set with the first 5 positive integers. Convert it to a list, append the number 6, and convert it back to a set. Print the resulting set.\n",
    "\n",
    "### Assignment 10: Set and Dictionary\n",
    "\n",
    "Create a dictionary with set keys and integer values. Print the dictionary.\n",
    "\n",
    "### Assignment 11: Iterating Over Sets\n",
    "\n",
    "Create a set and iterate over the elements, printing each element.\n",
    "\n",
    "### Assignment 12: Removing Elements from Sets\n",
    "\n",
    "Create a set and remove elements from it until it is empty. Print the set after each removal.\n",
    "ssignment 13: Set Symmetric Difference Update\n",
    "\n",
    "Create two sets and update the first set with the symmetric difference of the two sets. Print the modified first set.\n",
    "\n",
    "### Assignment 14: Set Membership Testing\n",
    "\n",
    "Create a set and test if certain elements are present in the set. Print the results.\n",
    "\n",
    "### Assignment 15: Set of Tuples\n",
    "\n",
    "Create a set containing tuples, where each tuple contains two elements. Print the set.\n",
    "### A"
   ]
  },
  {
   "cell_type": "code",
   "execution_count": 20,
   "metadata": {},
   "outputs": [
    {
     "name": "stdout",
     "output_type": "stream",
     "text": [
      "{1, 2, 3, 4, 5, 6, 7, 8, 9, 10}\n",
      "{2, 3, 4, 5, 6, 7, 8, 9, 10, 11}\n"
     ]
    }
   ],
   "source": [
    "st=set(range(1,11))\n",
    "print(st)\n",
    "st.add(11)\n",
    "st.discard(1)\n",
    "print(st)"
   ]
  },
  {
   "cell_type": "code",
   "execution_count": 4,
   "id": "ebcc6c68",
   "metadata": {},
   "outputs": [
    {
     "name": "stdout",
     "output_type": "stream",
     "text": [
      "{1, 2, 3, 4, 5, 6, 8, 10} {2, 4} {1, 3, 5} {8, 10, 6} set()\n"
     ]
    }
   ],
   "source": [
    "st1={1,2,3,4,5}\n",
    "st2={2,4,6,8,10}\n",
    "union=st1.union(st2)\n",
    "intersection=st1.intersection(st2)\n",
    "diff1=st1.difference(st2)\n",
    "diff2=st2.difference(st1)\n",
    "symmertric_diff=st1.symmetric_difference(st1)\n",
    "\n",
    "print(union,intersection,diff1,diff2,symmertric_diff)\n"
   ]
  },
  {
   "cell_type": "code",
   "execution_count": 7,
   "id": "86ee286b",
   "metadata": {},
   "outputs": [
    {
     "name": "stdout",
     "output_type": "stream",
     "text": [
      "{64, 1, 4, 36, 100, 9, 16, 49, 81, 25} {2, 4, 6, 8, 10}\n"
     ]
    }
   ],
   "source": [
    "st3={i**2 for i in range(1,11)}\n",
    "st4={i for i in st if i%2==0}\n",
    "print(st3,st4)\n"
   ]
  },
  {
   "cell_type": "code",
   "execution_count": null,
   "metadata": {},
   "outputs": [
    {
     "name": "stdout",
     "output_type": "stream",
     "text": [
      "{0, 1, 2, 3, 4, 5, 6, 64, 12}\n",
      "Frozenset: frozenset({1, 2, 3, 4, 5})\n"
     ]
    }
   ],
   "source": [
    "st5=set([1,2,3,12,1,1,1,2,2,2,3,0,3,0,4,4,4,5,6,5,64,3])\n",
    "print(st5)\n",
    "\n",
    "fs = frozenset(range(1, 6))  ###A frozenset is just like a normal set, but immutable (you cannot add, remove, or change its elements after creation).\n",
    "print(\"Frozenset:\", fs)\n"
   ]
  },
  {
   "cell_type": "code",
   "execution_count": 9,
   "id": "48a940e1",
   "metadata": {},
   "outputs": [
    {
     "name": "stdout",
     "output_type": "stream",
     "text": [
      "False True\n"
     ]
    }
   ],
   "source": [
    "st1={1,2,3,4,5}\n",
    "st2={1,2,3}\n",
    "print(st1.issubset(st2),st2.issubset(st1))"
   ]
  },
  {
   "cell_type": "code",
   "execution_count": 11,
   "metadata": {},
   "outputs": [
    {
     "name": "stdout",
     "output_type": "stream",
     "text": [
      "{1, 2, 3, 4, 5}\n",
      "{1, 2, 3, 4, 5, 6}\n"
     ]
    }
   ],
   "source": [
    "st={1,2,3,4,5}\n",
    "print(st)\n",
    "lt=list(st)\n",
    "lt.append(6)\n",
    "st=set(lt)\n",
    "print(st)"
   ]
  },
  {
   "cell_type": "code",
   "execution_count": null,
   "id": "15a951ac",
   "metadata": {},
   "outputs": [],
   "source": [
    "# dt={                    ###  set ❌ cannot be used as a dict key.\n",
    "#     {1,2}:123,\n",
    "#     {2,3}:234,\n",
    "#     {3,4}:345\n",
    "# }\n",
    "# for key,val in dt.items():\n",
    "#     print(f\"{key} -> {val}\")"
   ]
  },
  {
   "cell_type": "code",
   "execution_count": 15,
   "id": "25bed81d",
   "metadata": {},
   "outputs": [
    {
     "name": "stdout",
     "output_type": "stream",
     "text": [
      "1  2  3  4  5  6  7  8  9  10  \n",
      "1  2  3  4  5  6  7  8  9  10  "
     ]
    }
   ],
   "source": [
    "st={i for i in range(1,11)}\n",
    "\n",
    "for i in st:\n",
    "    print(f\"{i} \",end=\" \")\n",
    "print(\"\")\n",
    "\n",
    "while(len(st)!=0):\n",
    "    n=st.pop()\n",
    "    print(f\"{n} \",end=\" \")"
   ]
  },
  {
   "cell_type": "code",
   "execution_count": 23,
   "id": "f6f079e3",
   "metadata": {},
   "outputs": [
    {
     "name": "stdout",
     "output_type": "stream",
     "text": [
      "{1, 2, 3, 4, 5}\n",
      "{1, 3, 5, 6, 8, 10}\n",
      "True False True\n"
     ]
    }
   ],
   "source": [
    "st1={1,2,3,4,5}\n",
    "st2={2,4,6,8,10}\n",
    "print(st1)\n",
    "st1.symmetric_difference_update(st2)\n",
    "print(st1)\n",
    "\n",
    "print( 3 in st1,2 in st1,10 in st1)\n"
   ]
  },
  {
   "cell_type": "code",
   "execution_count": 17,
   "id": "56def513",
   "metadata": {},
   "outputs": [
    {
     "name": "stdout",
     "output_type": "stream",
     "text": [
      "(1, 2)\n",
      "(2, 1)\n",
      "(3, 1)\n",
      "(2, 3)\n",
      "(7, 9)\n",
      "(8, 2)\n",
      "(3, 2)\n",
      "(1, 3)\n"
     ]
    }
   ],
   "source": [
    "st={\n",
    "    (1,2),(2,3),(3,2),(2,1),(3,1),(1,3),(8,2),(7,9)\n",
    "}\n",
    "for i in st:\n",
    "    print(i)"
   ]
  }
 ],
 "metadata": {
  "kernelspec": {
   "display_name": "Python 3",
   "language": "python",
   "name": "python3"
  },
  "language_info": {
   "codemirror_mode": {
    "name": "ipython",
    "version": 3
   },
   "file_extension": ".py",
   "mimetype": "text/x-python",
   "name": "python",
   "nbconvert_exporter": "python",
   "pygments_lexer": "ipython3",
   "version": "3.12.11"
  }
 },
 "nbformat": 4,
 "nbformat_minor": 5
}

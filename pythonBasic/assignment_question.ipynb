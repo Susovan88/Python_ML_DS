{
 "cells": [
  {
   "cell_type": "markdown",
   "metadata": {},
   "source": [
    "# Lesson 1.2: Python Basics\n",
    "## Topics Covered:\n",
    "- Syntax and Semantics\n",
    "- Variables and Data Types\n",
    "- Basic Operators (Arithmetic, Comparison, Logical)\n"
   ]
  },
  {
   "cell_type": "markdown",
   "metadata": {},
   "source": [
    "## 1. Syntax and Semantics\n",
    "\n",
    "**Question 1:** Write a Python program to print \"Hello, World!\"."
   ]
  },
  {
   "cell_type": "code",
   "execution_count": 1,
   "metadata": {},
   "outputs": [
    {
     "name": "stdout",
     "output_type": "stream",
     "text": [
      "Hello world\n"
     ]
    }
   ],
   "source": [
    "print(\"Hello world\")# Your code here"
   ]
  },
  {
   "cell_type": "markdown",
   "metadata": {},
   "source": [
    "**Question 2:** Write a Python program that takes a user input and prints it."
   ]
  },
  {
   "cell_type": "code",
   "execution_count": 2,
   "metadata": {},
   "outputs": [
    {
     "name": "stdout",
     "output_type": "stream",
     "text": [
      "name is pup[ai\n"
     ]
    }
   ],
   "source": [
    "name=input(\"enter name : \")\n",
    "print(f\"name is {name}\")"
   ]
  },
  {
   "cell_type": "markdown",
   "metadata": {},
   "source": [
    "**Question 3:** Write a Python program to check if a number is positive, negative, or zero."
   ]
  },
  {
   "cell_type": "code",
   "execution_count": 5,
   "metadata": {},
   "outputs": [
    {
     "name": "stdout",
     "output_type": "stream",
     "text": [
      "negative\n"
     ]
    }
   ],
   "source": [
    "num=int(input(\"Enter num: \"))\n",
    "if(num==0):\n",
    "    print(\"Zero\")\n",
    "elif(num>0):\n",
    "    print(\"Prositive\")\n",
    "else:\n",
    "    print(\"negative\")"
   ]
  },
  {
   "cell_type": "markdown",
   "metadata": {},
   "source": [
    "**Question 4:** Write a Python program to find the largest of three numbers."
   ]
  },
  {
   "cell_type": "code",
   "execution_count": 7,
   "metadata": {},
   "outputs": [
    {
     "name": "stdout",
     "output_type": "stream",
     "text": [
      "largest num is  87\n"
     ]
    }
   ],
   "source": [
    "num1=int(input(\"Enter num: \"))\n",
    "num2=int(input(\"Enter num: \"))\n",
    "num3=int(input(\"Enter num: \"))\n",
    "if(num1>num2 and num1>num3):\n",
    "    print(\"largest num is \",num1)\n",
    "elif(num2>num1 and num2>num3):\n",
    "    print(\"Largest num is \",num2)\n",
    "else:\n",
    "    print(\"largest num is \",num3)"
   ]
  },
  {
   "cell_type": "markdown",
   "metadata": {},
   "source": [
    "**Question 5:** Write a Python program to calculate the factorial of a number."
   ]
  },
  {
   "cell_type": "code",
   "execution_count": 9,
   "metadata": {},
   "outputs": [
    {
     "name": "stdout",
     "output_type": "stream",
     "text": [
      "factorial of 5 is - 120\n"
     ]
    }
   ],
   "source": [
    "num=int(input(\"Enter num: \"))\n",
    "\n",
    "def factorial(num):\n",
    "    if(num==1 or num==0):\n",
    "        return 1\n",
    "    return num * factorial(num-1)\n",
    "\n",
    "fac=factorial(num)\n",
    "print(f\"factorial of {num} is - {fac}\")"
   ]
  },
  {
   "cell_type": "markdown",
   "metadata": {},
   "source": [
    "## 2. Variables and Data Types\n",
    "\n",
    "**Question 6:** Create variables of different data types: integer, float, string, and boolean. Print their values and types."
   ]
  },
  {
   "cell_type": "code",
   "execution_count": null,
   "metadata": {},
   "outputs": [],
   "source": [
    "name=\"susovan\"\n",
    "print(type(name))\n",
    "name=908\n",
    "print(type(name))\n",
    "name=91.234\n",
    "print(type(name))"
   ]
  },
  {
   "cell_type": "markdown",
   "metadata": {},
   "source": [
    "**Question 7:** Write a Python program to swap the values of two variables."
   ]
  },
  {
   "cell_type": "code",
   "execution_count": 10,
   "metadata": {},
   "outputs": [
    {
     "name": "stdout",
     "output_type": "stream",
     "text": [
      "987 <class 'int'>\n",
      "987 <class 'str'>\n",
      "987.0 <class 'float'>\n"
     ]
    }
   ],
   "source": [
    "n=987\n",
    "print(n,type(n))\n",
    "n=str(n)\n",
    "print(n,type(n))\n",
    "n=float(n)\n",
    "print(n,type(n))"
   ]
  },
  {
   "cell_type": "markdown",
   "metadata": {},
   "source": [
    "**Question 8:** Write a Python program to convert Celsius to Fahrenheit."
   ]
  },
  {
   "cell_type": "code",
   "execution_count": 12,
   "metadata": {},
   "outputs": [
    {
     "name": "stdout",
     "output_type": "stream",
     "text": [
      "celsius to fahrenhit is -  98.60000000000001\n"
     ]
    }
   ],
   "source": [
    "c=float(input(\"Enter num: \"))\n",
    "f=(c*(9/5))+32\n",
    "\n",
    "print(\"celsius to fahrenhit is - \",f)"
   ]
  },
  {
   "cell_type": "markdown",
   "metadata": {},
   "source": [
    "**Question 9:** Write a Python program to concatenate two strings."
   ]
  },
  {
   "cell_type": "code",
   "execution_count": 13,
   "metadata": {},
   "outputs": [
    {
     "name": "stdout",
     "output_type": "stream",
     "text": [
      "susovan paul\n"
     ]
    }
   ],
   "source": [
    "s=\"susovan\"\n",
    "p=\" paul\"\n",
    "name=s+p\n",
    "print(name)"
   ]
  },
  {
   "cell_type": "markdown",
   "metadata": {},
   "source": [
    "**Question 10:** Write a Python program to check if a variable is of a specific data type."
   ]
  },
  {
   "cell_type": "code",
   "execution_count": null,
   "metadata": {},
   "outputs": [],
   "source": [
    "n=987\n",
    "print(n,type(n))\n",
    "n=str(n)\n",
    "print(n,type(n))\n",
    "n=float(n)\n",
    "print(n,type(n))"
   ]
  },
  {
   "cell_type": "markdown",
   "metadata": {},
   "source": [
    "## 3. Basic Operators (Arithmetic, Comparison, Logical)\n",
    "\n",
    "**Question 11:** Write a Python program to perform arithmetic operations: addition, subtraction, multiplication, and division."
   ]
  },
  {
   "cell_type": "code",
   "execution_count": null,
   "metadata": {},
   "outputs": [],
   "source": [
    "num1=float(input(\"Enetr num1: \"))\n",
    "num2=float(input(\"enter num2: \"))\n",
    "\n",
    "sum=num1+num2\n",
    "pro=num1*num2\n",
    "diff=num1-num2\n",
    "quo=num1/num2\n",
    "\n",
    "print(f\"sum is : {sum} diff is : {diff} product is : {pro} quotient is : {quo}\")"
   ]
  },
  {
   "cell_type": "markdown",
   "metadata": {},
   "source": [
    "**Question 12:** Write a Python program to demonstrate comparison operators: equal to, not equal to, greater than, less than."
   ]
  },
  {
   "cell_type": "code",
   "execution_count": 16,
   "metadata": {},
   "outputs": [
    {
     "name": "stdout",
     "output_type": "stream",
     "text": [
      "False\n",
      "False\n",
      "True\n",
      "False\n",
      "False\n",
      "True\n",
      "True\n"
     ]
    }
   ],
   "source": [
    "print(45>90)\n",
    "print(90==89)\n",
    "print(90==90)\n",
    "print(12<12)\n",
    "print(not True)\n",
    "print(89>45)\n",
    "print(45<=45)"
   ]
  },
  {
   "cell_type": "markdown",
   "metadata": {},
   "source": [
    "**Question 13:** Write a Python program to demonstrate logical operators: and, or, not."
   ]
  },
  {
   "cell_type": "code",
   "execution_count": 20,
   "metadata": {},
   "outputs": [
    {
     "name": "stdout",
     "output_type": "stream",
     "text": [
      "condition 2 true\n",
      "condition 3 any on or two is true\n",
      "else is work becouse if both are true then its work\n"
     ]
    }
   ],
   "source": [
    "if( 5>0 and 10<10):\n",
    "    print(\" condition 1 true\")\n",
    "if(5==5):\n",
    "    print(\"condition 2 true\")\n",
    "if(7<0 or 7>6):\n",
    "    print(\"condition 3 any on or two is true\")\n",
    "if(9==0 and 4<1):\n",
    "    print(\"if both are true then its work\")\n",
    "else: \n",
    "    print(\"else is work becouse if both are true then its work\")"
   ]
  },
  {
   "cell_type": "markdown",
   "metadata": {},
   "source": [
    "**Question 14:** Write a Python program to calculate the square of a number."
   ]
  },
  {
   "cell_type": "code",
   "execution_count": 21,
   "metadata": {},
   "outputs": [
    {
     "data": {
      "text/plain": [
       "64"
      ]
     },
     "execution_count": 21,
     "metadata": {},
     "output_type": "execute_result"
    }
   ],
   "source": [
    "8**2"
   ]
  },
  {
   "cell_type": "markdown",
   "metadata": {},
   "source": [
    "**Question 15:** Write a Python program to check if a number is even or odd."
   ]
  },
  {
   "cell_type": "code",
   "execution_count": 25,
   "metadata": {},
   "outputs": [
    {
     "name": "stdout",
     "output_type": "stream",
     "text": [
      "odd\n"
     ]
    }
   ],
   "source": [
    "num=float(input(\"Enetr num1: \"))\n",
    "if(num%2==0):\n",
    "    print(\"even\")\n",
    "else:\n",
    "    print(\"odd\")"
   ]
  },
  {
   "cell_type": "markdown",
   "metadata": {},
   "source": [
    "**Question 16:** Write a Python program to find the sum of the first n natural numbers."
   ]
  },
  {
   "cell_type": "code",
   "execution_count": null,
   "metadata": {},
   "outputs": [
    {
     "name": "stdout",
     "output_type": "stream",
     "text": [
      "sum of n natural number is 15\n"
     ]
    }
   ],
   "source": [
    "num=int(input(\"Enetr num1: \"))\n",
    "\n",
    "sum=0\n",
    "for i in range(1,num+1):\n",
    "    sum=sum+i\n",
    "\n",
    "print(f\"sum of n natural number is {sum}\")"
   ]
  },
  {
   "cell_type": "markdown",
   "metadata": {},
   "source": [
    "**Question 17:** Write a Python program to check if a year is a leap year."
   ]
  },
  {
   "cell_type": "code",
   "execution_count": 29,
   "metadata": {},
   "outputs": [
    {
     "name": "stdout",
     "output_type": "stream",
     "text": [
      "Leap Year\n"
     ]
    }
   ],
   "source": [
    "num=int(input(\"Enetr num1: \"))\n",
    "if(num%4==0):\n",
    "    print(\"Leap Year\")\n",
    "else:\n",
    "    print(\"Not leap Year\")"
   ]
  },
  {
   "cell_type": "markdown",
   "metadata": {},
   "source": [
    "**Question 18:** Write a Python program to reverse a string."
   ]
  },
  {
   "cell_type": "code",
   "execution_count": 30,
   "metadata": {},
   "outputs": [
    {
     "name": "stdout",
     "output_type": "stream",
     "text": [
      "luap navosus\n"
     ]
    }
   ],
   "source": [
    "name=\"susovan paul\"\n",
    "rev_name=name[::-1]\n",
    "print(rev_name)"
   ]
  },
  {
   "cell_type": "markdown",
   "metadata": {},
   "source": [
    "**Question 19:** Write a Python program to check if a string is a palindrome."
   ]
  },
  {
   "cell_type": "code",
   "execution_count": 35,
   "metadata": {},
   "outputs": [
    {
     "name": "stdout",
     "output_type": "stream",
     "text": [
      "it is a Palindrom !\n"
     ]
    }
   ],
   "source": [
    "def is_palindrom(s):\n",
    "    t=s.replace(\" \",\"\").lower()\n",
    "    return t==t[::-1]\n",
    "\n",
    "name=input(\"Enter a name \")\n",
    "\n",
    "if(is_palindrom(name)):\n",
    "    print(\"it is a Palindrom !\")\n",
    "else:\n",
    "    print(\"it is not a palindrom!\")"
   ]
  },
  {
   "cell_type": "markdown",
   "metadata": {},
   "source": [
    "**Question 20:** Write a Python program to sort a list of numbers in ascending order."
   ]
  },
  {
   "cell_type": "code",
   "execution_count": 36,
   "metadata": {},
   "outputs": [
    {
     "name": "stdout",
     "output_type": "stream",
     "text": [
      "[1, 9, 23, 23, 45, 67, 89]\n"
     ]
    }
   ],
   "source": [
    "l=[ 23,89,1,9,67,45,23]\n",
    "l.sort()\n",
    "print(l)"
   ]
  }
 ],
 "metadata": {
  "kernelspec": {
   "display_name": "Python 3",
   "language": "python",
   "name": "python3"
  },
  "language_info": {
   "codemirror_mode": {
    "name": "ipython",
    "version": 3
   },
   "file_extension": ".py",
   "mimetype": "text/x-python",
   "name": "python",
   "nbconvert_exporter": "python",
   "pygments_lexer": "ipython3",
   "version": "3.12.11"
  }
 },
 "nbformat": 4,
 "nbformat_minor": 4
}

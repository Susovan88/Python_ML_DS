{
 "cells": [
  {
   "cell_type": "markdown",
   "metadata": {},
   "source": [
    "# Module 3: Data Structures Assignments\n",
    "## Lesson 3.1: Lists\n",
    "### Assignment 1: Creating and Accessing Lists\n",
    "\n",
    "Create a list of the first 20 positive integers. Print the list.\n",
    "\n",
    "### Assignment 2: Accessing List Elements\n",
    "\n",
    "Print the first, middle, and last elements of the list created in Assignment 1.\n",
    "\n",
    "### Assignment 3: List Slicing\n",
    "\n",
    "Print the first five elements, the last five elements, and the elements from index 5 to 15 of the list created in Assignment 1.\n",
    "\n",
    "### Assignment 4: List Comprehensions\n",
    "\n",
    "Create a new list containing the squares of the first 10 positive integers using a list comprehension. Print the new list.\n",
    "\n",
    "### Assignment 5: Filtering Lists\n",
    "\n",
    "Create a new list containing only the even numbers from the list created in Assignment 1 using a list comprehension. Print the new list.\n",
    "\n",
    "### Assignment 6: List Methods\n",
    "\n",
    "Create a list of random numbers and sort it in ascending and descending order. Remove the duplicates from the list and print the modified list.\n",
    "\n",
    "### Assignment 7: Nested Lists\n",
    "\n",
    "Create a nested list representing a 3x3 matrix and print the matrix. Access and print the element at the second row and third column.\n",
    "\n",
    "### Assignment 8: List of Dictionaries\n",
    "\n",
    "Create a list of dictionaries where each dictionary represents a student with keys 'name' and 'score'. Sort the list of dictionaries by the 'score' in descending order and print the sorted list.\n",
    "\n",
    "### Assignment 9: Matrix Transposition\n",
    "\n",
    "Write a function that takes a 3x3 matrix (nested list) as input and returns its transpose. Print the original and transposed matrices.\n",
    "\n",
    "### Assignment 10: Flattening a Nested List\n",
    "\n",
    "Write a function that takes a nested list and flattens it into a single list. Print the original and flattened lists.\n",
    "\n",
    "### Assignment 11: List Manipulation\n",
    "\n",
    "Create a list of the first 10 positive integers. Remove the elements at indices 2, 4, and 6, and insert the element '99' at index 5. Print the modified list.\n",
    "\n",
    "### Assignment 12: List Zipping\n",
    "\n",
    "Create two lists of the same length. Use the `zip` function to combine these lists into a list of tuples and print the result.\n",
    "\n",
    "### Assignment 13: List Reversal\n",
    "\n",
    "Write a function that takes a list and returns a new list with the elements in reverse order. Print the original and reversed lists.\n",
    "\n",
    "### Assignment 14: List Rotation\n",
    "\n",
    "Write a function that rotates a list by n positions. Print the original and rotated lists.\n",
    "\n",
    "### Assignment 15: List Intersection\n",
    "\n",
    "Write a function that takes two lists and returns a new list containing only the elements that are present in both lists. Print the intersected list."
   ]
  },
  {
   "cell_type": "code",
   "execution_count": null,
   "metadata": {},
   "outputs": [
    {
     "name": "stdout",
     "output_type": "stream",
     "text": [
      "[1, 2, 3, 4, 5, 6, 7, 8, 9, 10, 11, 12, 13, 14, 15, 16, 17, 18, 19, 20]\n",
      "1 10 20\n",
      "[1, 2, 3, 4, 5]\n",
      "[15, 16, 17, 18, 19, 20]\n",
      "[5, 6, 7, 8, 9, 10, 11, 12, 13, 14, 15]\n",
      "[2, 4, 6, 8, 10, 12, 14, 16, 18, 20]\n"
     ]
    }
   ],
   "source": [
    "## 1,2,3,5\n",
    "\n",
    "lst=[i for i in range(1,21)]\n",
    "print(lst)\n",
    "print(lst[0],lst[int((len(lst)-1)/2)],lst[-1])\n",
    "\n",
    "print(lst[:5])\n",
    "print(lst[-6:])\n",
    "print(lst[4:15])\n",
    "\n",
    "new_lst=[i for i in lst if i%2==0]\n",
    "print(new_lst)"
   ]
  },
  {
   "cell_type": "code",
   "execution_count": null,
   "id": "20e82303",
   "metadata": {},
   "outputs": [
    {
     "name": "stdout",
     "output_type": "stream",
     "text": [
      "[1, 4, 9, 16, 25, 36, 49, 64, 81, 100]\n"
     ]
    }
   ],
   "source": [
    "## 4\n",
    "lst2=[i**2 for i in range(1,11)]\n",
    "print(lst2)"
   ]
  },
  {
   "cell_type": "code",
   "execution_count": 33,
   "id": "7c37a69e",
   "metadata": {},
   "outputs": [
    {
     "name": "stdout",
     "output_type": "stream",
     "text": [
      "[56, 7, 71, 18, 7, 0, 18, 9, 12, 65, 12, 80, 1, 23, 2, 2, 87, 9]\n",
      "[0, 1, 2, 2, 7, 7, 9, 9, 12, 12, 18, 18, 23, 56, 65, 71, 80, 87]\n",
      "[87, 80, 71, 65, 56, 23, 18, 18, 12, 12, 9, 9, 7, 7, 2, 2, 1, 0]\n",
      "[0, 1, 2, 7, 9, 12, 18, 23, 56, 65, 71, 80, 87]\n"
     ]
    }
   ],
   "source": [
    "## 6\n",
    "random_list=[56,7,71,18,7,0,18,9,12,65,12,80,1,23,2,2,87,9]\n",
    "print(random_list)\n",
    "\n",
    "random_list.sort()\n",
    "print(random_list)\n",
    "random_list.reverse()\n",
    "print(random_list)\n",
    "\n",
    "filter_list=list(set(random_list))  ## set has only unique elements and random indexing of elements\n",
    "\n",
    "filter_list.sort()\n",
    "print(filter_list)"
   ]
  },
  {
   "cell_type": "code",
   "execution_count": 39,
   "id": "b4ba4f8a",
   "metadata": {},
   "outputs": [
    {
     "name": "stdout",
     "output_type": "stream",
     "text": [
      "[[1, 2, 3], [2, 4, 6], [3, 6, 9]] [2, 4, 6] [3, 6, 9]\n"
     ]
    }
   ],
   "source": [
    "matrix = []\n",
    "\n",
    "for i in range(1, 4):       \n",
    "    row=[i*j for j in range(1,4)]\n",
    "    matrix.append(row)\n",
    "\n",
    "print(matrix,matrix[1],matrix[2])"
   ]
  },
  {
   "cell_type": "code",
   "execution_count": 47,
   "id": "adec5f1b",
   "metadata": {},
   "outputs": [
    {
     "name": "stdout",
     "output_type": "stream",
     "text": [
      "{'name': 'Churni', 'score': 98}\n",
      "{'name': 'David', 'score': 95}\n",
      "{'name': 'Bob', 'score': 92}\n",
      "{'name': 'Alice', 'score': 85}\n",
      "{'name': 'Pupai', 'score': 82}\n",
      "{'name': 'Charlie', 'score': 78}\n",
      "{'name': 'Dav', 'score': 65}\n"
     ]
    }
   ],
   "source": [
    "students = [\n",
    "    {\"name\": \"Alice\", \"score\": 85},\n",
    "    {\"name\": \"Bob\", \"score\": 92},\n",
    "    {\"name\": \"Charlie\", \"score\": 78},\n",
    "    {\"name\": \"David\", \"score\": 95},\n",
    "    {\"name\": \"Pupai\", \"score\": 82},\n",
    "    {\"name\": \"Churni\", \"score\": 98},\n",
    "    {\"name\": \"Dav\", \"score\": 65},\n",
    "]\n",
    "\n",
    "students.sort(key=lambda x: x['score'], reverse=True) ## based on score sort the list\n",
    "\n",
    "for student in students:\n",
    "    print(student)\n"
   ]
  },
  {
   "cell_type": "code",
   "execution_count": 51,
   "id": "6b96b1f0",
   "metadata": {},
   "outputs": [
    {
     "name": "stdout",
     "output_type": "stream",
     "text": [
      "[[1, 2, 3], [4, 5, 6], [7, 8, 9]]\n",
      "[[1, 4, 7], [2, 5, 8], [3, 6, 9]]\n",
      "[1, 2, 3, 4, 5, 6, 7, 8, 9]\n"
     ]
    }
   ],
   "source": [
    "matrix = [\n",
    "    [1, 2, 3],\n",
    "    [4, 5, 6],\n",
    "    [7, 8, 9]\n",
    "]\n",
    "print(matrix)\n",
    "\n",
    "transposed_matrix=[[row[j] for row in matrix] for j in range(len(matrix))]\n",
    "print(transposed_matrix)\n",
    "\n",
    "flattened_list=[el for sub_list in matrix for el in sub_list]\n",
    "\n",
    "print(flattened_list)"
   ]
  },
  {
   "cell_type": "code",
   "execution_count": 54,
   "id": "dc44ebaa",
   "metadata": {},
   "outputs": [
    {
     "name": "stdout",
     "output_type": "stream",
     "text": [
      "[1, 2, 4, 5, 7, 99, 8, 10]\n"
     ]
    }
   ],
   "source": [
    "lst=[1, 2, 3, 4, 5, 6, 7, 8, 9,10]\n",
    "\n",
    "lst.pop(2)\n",
    "lst.pop(4)\n",
    "lst.pop(6)\n",
    "lst.insert(5,99)\n",
    "print(lst)"
   ]
  },
  {
   "cell_type": "code",
   "execution_count": null,
   "id": "70fc5c2b",
   "metadata": {},
   "outputs": [
    {
     "name": "stdout",
     "output_type": "stream",
     "text": [
      "[1, 2, 3, 'a', 'b', 'c']\n",
      "[(1, 'a'), (2, 'b'), (3, 'c')]\n"
     ]
    }
   ],
   "source": [
    "list1 = [1, 2, 3]\n",
    "list2 = ['a', 'b', 'c']\n",
    "\n",
    "sum_list=list1+list2\n",
    "\n",
    "print(sum_list)\n",
    "\n",
    "zip_obj=zip(list1,list2)  ## it's return  zip object\n",
    "print(list(zip_obj)) ## convert into "
   ]
  },
  {
   "cell_type": "code",
   "execution_count": null,
   "id": "f48320a0",
   "metadata": {},
   "outputs": [
    {
     "name": "stdout",
     "output_type": "stream",
     "text": [
      "[10, 9, 8, 7, 6, 5, 4, 3, 2, 1]\n"
     ]
    }
   ],
   "source": [
    "lst=[1, 2, 3, 4, 5, 6, 7, 8, 9,10]\n",
    "\n",
    "rev_lst=list(reversed(lst))   ## return object\n",
    "print(rev_lst)\n"
   ]
  },
  {
   "cell_type": "code",
   "execution_count": 63,
   "id": "c89c93c9",
   "metadata": {},
   "outputs": [
    {
     "name": "stdout",
     "output_type": "stream",
     "text": [
      "[4, 3, 2, 1, 5, 6, 7, 8, 9, 10]\n",
      "[5, 6, 7, 8, 9, 10, 1, 2, 3, 4]\n"
     ]
    }
   ],
   "source": [
    "lst=[1, 2, 3, 4, 5, 6, 7, 8, 9,10]\n",
    "n=4\n",
    "\n",
    "rotated_list=lst[n-1::-1]+lst[n::]\n",
    "print(rotated_list)\n",
    "\n",
    "rotated_list = lst[n:] + lst[:n]  #\n",
    "print(rotated_list)"
   ]
  },
  {
   "cell_type": "code",
   "execution_count": null,
   "id": "ab8edcd7",
   "metadata": {},
   "outputs": [],
   "source": []
  },
  {
   "cell_type": "code",
   "execution_count": null,
   "id": "9535d280",
   "metadata": {},
   "outputs": [],
   "source": []
  },
  {
   "cell_type": "code",
   "execution_count": null,
   "id": "f74138be",
   "metadata": {},
   "outputs": [],
   "source": []
  }
 ],
 "metadata": {
  "kernelspec": {
   "display_name": "Python 3",
   "language": "python",
   "name": "python3"
  },
  "language_info": {
   "codemirror_mode": {
    "name": "ipython",
    "version": 3
   },
   "file_extension": ".py",
   "mimetype": "text/x-python",
   "name": "python",
   "nbconvert_exporter": "python",
   "pygments_lexer": "ipython3",
   "version": "3.12.11"
  }
 },
 "nbformat": 4,
 "nbformat_minor": 5
}

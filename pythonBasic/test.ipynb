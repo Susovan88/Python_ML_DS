{
 "cells": [
  {
   "cell_type": "code",
   "execution_count": null,
   "id": "b7ac0725",
   "metadata": {},
   "outputs": [
    {
     "name": "stdout",
     "output_type": "stream",
     "text": [
      "28\n"
     ]
    }
   ],
   "source": [
    "## use backslash (\\) -> continue statement to the next line\n",
    "total=1+2+4+9+2+\\\n",
    "    4+5+1\n",
    "print(total)"
   ]
  },
  {
   "cell_type": "code",
   "execution_count": null,
   "id": "9e0c02c7",
   "metadata": {},
   "outputs": [
    {
     "name": "stdout",
     "output_type": "stream",
     "text": [
      "9 90 98\n"
     ]
    }
   ],
   "source": [
    "# multiple variable\n",
    "x=9;y=90;z=98\n",
    "print(x,y,z)"
   ]
  },
  {
   "cell_type": "code",
   "execution_count": 5,
   "id": "7a7f4897",
   "metadata": {},
   "outputs": [
    {
     "name": "stdout",
     "output_type": "stream",
     "text": [
      "<class 'str'>\n",
      "<class 'int'>\n",
      "<class 'float'>\n"
     ]
    }
   ],
   "source": [
    "name=\"susovan\"\n",
    "print(type(name))\n",
    "name=908\n",
    "print(type(name))\n",
    "name=91.234\n",
    "print(type(name))"
   ]
  },
  {
   "cell_type": "code",
   "execution_count": 7,
   "id": "7177a59e",
   "metadata": {},
   "outputs": [
    {
     "name": "stdout",
     "output_type": "stream",
     "text": [
      "20\n",
      "569\n"
     ]
    }
   ],
   "source": [
    "age=20\n",
    "if(age>18):\n",
    "    print(age)\n",
    "print(569)"
   ]
  },
  {
   "cell_type": "code",
   "execution_count": 10,
   "id": "85167c9c",
   "metadata": {},
   "outputs": [
    {
     "name": "stdout",
     "output_type": "stream",
     "text": [
      "91.234\n",
      "my age is :  20\n",
      "<class 'str'>\n",
      "age is 21.6\n",
      "exact age is - 21\n"
     ]
    }
   ],
   "source": [
    "print(name)\n",
    "print(\"my age is : \",age)\n",
    "print(type(str(age)))\n",
    "age=21.6\n",
    "print(f\"age is {age}\")\n",
    "print(f\"exact age is - {int(age)}\")"
   ]
  },
  {
   "cell_type": "code",
   "execution_count": null,
   "id": "5d5ceac6",
   "metadata": {},
   "outputs": [
    {
     "name": "stdout",
     "output_type": "stream",
     "text": [
      "pupai <class 'str'>\n",
      "21 <class 'int'>\n"
     ]
    }
   ],
   "source": [
    "name=input(\"enter name : \")  ## default str input\n",
    "print(name,type(name))\n",
    "age=int(input(\"enger age :\")) ## typecust into str to int"
   ]
  },
  {
   "cell_type": "code",
   "execution_count": 14,
   "id": "56950a0a",
   "metadata": {},
   "outputs": [
    {
     "name": "stdout",
     "output_type": "stream",
     "text": [
      "sum is : 16.0 diff is : 8.0 product is : 48.0 quotient is : 3.0\n"
     ]
    }
   ],
   "source": [
    "num1=float(input(\"Enetr num1: \"))\n",
    "num2=float(input(\"enter num2: \"))\n",
    "\n",
    "sum=num1+num2\n",
    "pro=num1*num2\n",
    "diff=num1-num2\n",
    "quo=num1/num2\n",
    "\n",
    "print(f\"sum is : {sum} diff is : {diff} product is : {pro} quotient is : {quo}\")\n"
   ]
  },
  {
   "cell_type": "code",
   "execution_count": 7,
   "id": "b0db9b52",
   "metadata": {},
   "outputs": [
    {
     "name": "stdout",
     "output_type": "stream",
     "text": [
      "1\n",
      "3\n",
      "5\n",
      "7\n",
      "9\n",
      "u\n",
      "o\n",
      "a\n",
      "n\n"
     ]
    }
   ],
   "source": [
    "for i in range(1,11,2):\n",
    "    print(i)\n",
    "str=\"SuSoVanpAuL\"    \n",
    "for i in str:\n",
    "    if(i.isupper()):\n",
    "        continue\n",
    "    if(i=='p'):\n",
    "        break\n",
    "    print(i)"
   ]
  },
  {
   "cell_type": "code",
   "execution_count": 5,
   "id": "7385bde9",
   "metadata": {},
   "outputs": [
    {
     "name": "stdout",
     "output_type": "stream",
     "text": [
      "0\n",
      "1\n",
      "2\n",
      "3\n",
      "4\n"
     ]
    }
   ],
   "source": [
    "count=0\n",
    "while count<5:\n",
    "    print(count)\n",
    "    count+=1"
   ]
  },
  {
   "cell_type": "code",
   "execution_count": 8,
   "id": "ed867ac7",
   "metadata": {},
   "outputs": [],
   "source": [
    "for i in range(1,10,2):\n",
    "    pass"
   ]
  },
  {
   "cell_type": "code",
   "execution_count": null,
   "id": "7226363f",
   "metadata": {},
   "outputs": [],
   "source": []
  },
  {
   "cell_type": "code",
   "execution_count": 11,
   "id": "b3153cd5",
   "metadata": {},
   "outputs": [
    {
     "name": "stdout",
     "output_type": "stream",
     "text": [
      "i is - 1\n",
      "  ->j is - 1\n",
      "  ->j is - 2\n",
      "  ->j is - 3\n",
      "i is - 2\n",
      "  ->j is - 1\n",
      "  ->j is - 2\n",
      "  ->j is - 3\n",
      "i is - 3\n",
      "  ->j is - 1\n",
      "  ->j is - 2\n",
      "  ->j is - 3\n"
     ]
    }
   ],
   "source": [
    "for i in range(1,4):\n",
    "    print(f\"i is - {i}\")\n",
    "    for j in range(1,4):\n",
    "        print(f\"  ->j is - {j}\")"
   ]
  },
  {
   "cell_type": "code",
   "execution_count": 21,
   "id": "04abff99",
   "metadata": {},
   "outputs": [
    {
     "name": "stdout",
     "output_type": "stream",
     "text": [
      "<class 'list'>\n",
      "susovan\n",
      "['mimi', 12.3, 98, True, 'taniya', 12, 34.98, False]\n",
      "['susovan', 'mimi', 12.3, 98, True, 'taniya', 12, 34.98, False]\n",
      "['susovan', 12.3, True, 12, False]\n",
      "[]\n",
      "['susovan', 'mimi', 12.3, 98, True, 'taniya', 12, 34.98, False, 'Red', 'Black']\n",
      "['susovan', 'mimi', 'banana', 12.3, 98, True, 'taniya', 12, 34.98, False, 'Red', 'Black']\n",
      "Black ['susovan', 'mimi', 'banana', 98, True, 'taniya', 34.98, False, 'Red']\n",
      "1\n"
     ]
    }
   ],
   "source": [
    "name=[\"susovan\",\"mimi\",12.3,98,True,\"taniya\",12,34.98,False]\n",
    "print(type(name))\n",
    "print(name[0])\n",
    "print(name[1:])\n",
    "print(name[0:9])\n",
    "print(name[0:9:2])\n",
    "print(name[-1:-3])\n",
    "name.append(\"Red\")\n",
    "name.append(\"Black\")\n",
    "print(name[0:])\n",
    "name.insert(2,\"banana\")\n",
    "print(name[0:])\n",
    "name.remove(12)\n",
    "name.remove(12.3)\n",
    "pop_item=name.pop()\n",
    "print(pop_item,name[0:])\n",
    "print(name.index(\"mimi\"))"
   ]
  },
  {
   "cell_type": "code",
   "execution_count": null,
   "id": "707ebbb7",
   "metadata": {},
   "outputs": [
    {
     "name": "stdout",
     "output_type": "stream",
     "text": [
      "['susovan', 'mimi', 12.3, 'Ram', True, 'taniya', 12, 34.98, False]\n"
     ]
    }
   ],
   "source": [
    "name[3]=\"Ram\"  # replace element\n",
    "print(name[0:])"
   ]
  },
  {
   "cell_type": "code",
   "execution_count": 16,
   "id": "437fa53d",
   "metadata": {},
   "outputs": [
    {
     "name": "stdout",
     "output_type": "stream",
     "text": [
      "['susovan', 'mimi', 'S', 'u', 's', 'o', 'v', 'a', 'n', 'P', 'a', 'u', 'l']\n"
     ]
    }
   ],
   "source": [
    "name[2:]=\"SusovanPaul\"\n",
    "print(name[0:])"
   ]
  },
  {
   "cell_type": "code",
   "execution_count": null,
   "id": "cbce9232",
   "metadata": {},
   "outputs": [],
   "source": [
    "name=[\"susovan\",\"mimi\",12.3,98,True,\"taniya\",12,34.98,False]\n"
   ]
  },
  {
   "cell_type": "code",
   "execution_count": 23,
   "id": "3b186b45",
   "metadata": {},
   "outputs": [
    {
     "name": "stdout",
     "output_type": "stream",
     "text": [
      "['Dimple', 'Jit', 'Pupai', 'Susovan', 'dev', 'joy', 'pal', 'ram', 'suso', 'taniya']\n",
      "['taniya', 'suso', 'ram', 'pal', 'joy', 'dev', 'Susovan', 'Pupai', 'Jit', 'Dimple']\n"
     ]
    }
   ],
   "source": [
    "nm=[\"pal\",\"Pupai\",\"joy\",\"suso\",\"Dimple\",\"dev\", \"Susovan\",\"taniya\",\"ram\",\"Jit\"]\n",
    "nm.sort()\n",
    "print(nm[0:])\n",
    "nm.reverse()\n",
    "print(nm[0:])"
   ]
  },
  {
   "cell_type": "code",
   "execution_count": 24,
   "id": "f044e2e6",
   "metadata": {},
   "outputs": [
    {
     "name": "stdout",
     "output_type": "stream",
     "text": [
      "[] []\n"
     ]
    }
   ],
   "source": [
    "name.clear()\n",
    "nm.clear()\n",
    "print(name,nm)"
   ]
  },
  {
   "cell_type": "code",
   "execution_count": 25,
   "id": "0744b2c4",
   "metadata": {},
   "outputs": [
    {
     "name": "stdout",
     "output_type": "stream",
     "text": [
      "[3, 4, 5]\n",
      "[1, 2, 3, 4, 5]\n",
      "[6, 7, 8, 9, 10]\n",
      "[1, 3, 5, 7, 9]\n",
      "[10, 9, 8, 7, 6, 5, 4, 3, 2, 1]\n"
     ]
    }
   ],
   "source": [
    "num=[1,2,3,4,5,6,7,8,9,10]\n",
    "print(num[2:5])\n",
    "print(num[:5])\n",
    "print(num[5:])\n",
    "print(num[::2])\n",
    "print(num[::-1])"
   ]
  },
  {
   "cell_type": "code",
   "execution_count": 26,
   "id": "776d9e08",
   "metadata": {},
   "outputs": [
    {
     "name": "stdout",
     "output_type": "stream",
     "text": [
      "0 1\n",
      "1 2\n",
      "2 3\n",
      "3 4\n",
      "4 5\n",
      "5 6\n",
      "6 7\n",
      "7 8\n",
      "8 9\n",
      "9 10\n"
     ]
    }
   ],
   "source": [
    "for idx,n in enumerate(num):\n",
    "    print(idx,n)\n",
    "    "
   ]
  },
  {
   "cell_type": "code",
   "execution_count": 28,
   "id": "8c170ce5",
   "metadata": {},
   "outputs": [
    {
     "name": "stdout",
     "output_type": "stream",
     "text": [
      "[0, 1, 4, 9, 16, 25, 36, 49, 64, 81]\n"
     ]
    }
   ],
   "source": [
    "lst=[]\n",
    "for i in range(10):\n",
    "    lst.append(i**2)\n",
    "\n",
    "print(lst)"
   ]
  },
  {
   "cell_type": "code",
   "execution_count": 31,
   "id": "11f79664",
   "metadata": {},
   "outputs": [
    {
     "data": {
      "text/plain": [
       "[0, 1, 4, 9, 16, 25, 36, 49, 64, 81]"
      ]
     },
     "execution_count": 31,
     "metadata": {},
     "output_type": "execute_result"
    }
   ],
   "source": [
    "[x**2 for x in range(10)]"
   ]
  },
  {
   "cell_type": "code",
   "execution_count": null,
   "id": "6a993fc7",
   "metadata": {},
   "outputs": [
    {
     "name": "stdout",
     "output_type": "stream",
     "text": [
      "[0, 2, 4, 6, 8]\n"
     ]
    }
   ],
   "source": [
    "evnNum=[]\n",
    "for i in range(12):\n",
    "    if(i%2==0):\n",
    "        evnNum.append(i)\n",
    "\n",
    "print(evnNum)"
   ]
  },
  {
   "cell_type": "code",
   "execution_count": 34,
   "id": "e9777408",
   "metadata": {},
   "outputs": [
    {
     "name": "stdout",
     "output_type": "stream",
     "text": [
      "[0, 2, 4, 6, 8, 10]\n"
     ]
    }
   ],
   "source": [
    "even_num=[n for n in range(12) if n%2==0]\n",
    "print(even_num)"
   ]
  },
  {
   "cell_type": "code",
   "execution_count": 36,
   "id": "b3466b76",
   "metadata": {},
   "outputs": [
    {
     "name": "stdout",
     "output_type": "stream",
     "text": [
      "[[12, 'A'], [12, 'B'], [12, 'N'], [12, 'M'], [12, 'P'], [23, 'A'], [23, 'B'], [23, 'N'], [23, 'M'], [23, 'P'], [4, 'A'], [4, 'B'], [4, 'N'], [4, 'M'], [4, 'P'], [5, 'A'], [5, 'B'], [5, 'N'], [5, 'M'], [5, 'P'], [8, 'A'], [8, 'B'], [8, 'N'], [8, 'M'], [8, 'P']]\n"
     ]
    }
   ],
   "source": [
    "lst1=[12,23,4,5,8]\n",
    "lst2=['A','B','N','M','P']\n",
    "\n",
    "lst3=[[i,j] for i in lst1 for j in lst2]\n",
    "\n",
    "print(lst3)"
   ]
  },
  {
   "cell_type": "code",
   "execution_count": 14,
   "id": "f116369f",
   "metadata": {},
   "outputs": [
    {
     "name": "stdout",
     "output_type": "stream",
     "text": [
      "[3, 5, 3, 4, 6, 3, 7, 6, 3, 3]\n"
     ]
    }
   ],
   "source": [
    "names=[\"pal\",\"Pupai\",\"joy\",\"suso\",\"Dimple\",\"dev\", \"Susovan\",\"taniya\",\"ram\",\"Jit\"]\n",
    "lenOf_names=[len(name) for name in names]\n",
    "print(lenOf_names)"
   ]
  },
  {
   "cell_type": "code",
   "execution_count": null,
   "id": "5cf6cb5f",
   "metadata": {},
   "outputs": [
    {
     "name": "stdout",
     "output_type": "stream",
     "text": [
      "[] ()\n"
     ]
    }
   ],
   "source": [
    "lst=list()  # empty list\n",
    "tup=tuple()  # empty tuple\n",
    "print(lst,tup)"
   ]
  },
  {
   "cell_type": "code",
   "execution_count": 8,
   "id": "9b2720ea",
   "metadata": {},
   "outputs": [
    {
     "name": "stdout",
     "output_type": "stream",
     "text": [
      "(1, 2, 3, 4, 5, 6) [1, 2, 3, 4, 5, 6]\n",
      "1 6\n",
      "(1, 3, 5) (6, 5, 4, 3, 2, 1)\n"
     ]
    }
   ],
   "source": [
    "nums=tuple([1,2,3,4,5,6])\n",
    "nums2=list(nums)\n",
    "print(nums,nums2)\n",
    "print(nums[0],nums[-1])\n",
    "print(nums[::2],nums[::-1])"
   ]
  },
  {
   "cell_type": "code",
   "execution_count": 13,
   "id": "bf7b63ba",
   "metadata": {},
   "outputs": [
    {
     "name": "stdout",
     "output_type": "stream",
     "text": [
      "('MIMI', 7.1, 6, True, 7.1, 'susovan', 7.1, 'pupai', 7.1, 89.98, 12, False, 'Ram', 1, 2, 3, 4, 5, 6)\n"
     ]
    }
   ],
   "source": [
    "mixed_tuple=(\"MIMI\",7.1,6,True,7.1,\"susovan\",7.1,\"pupai\",7.1,89.98,12,False,\"Ram\")\n",
    "concatination_tuple=mixed_tuple+nums\n",
    "print(concatination_tuple)\n",
    "\n"
   ]
  },
  {
   "cell_type": "code",
   "execution_count": 10,
   "id": "43820c60",
   "metadata": {},
   "outputs": [
    {
     "data": {
      "text/plain": [
       "('MIMI',\n",
       " 7.1,\n",
       " 6,\n",
       " True,\n",
       " 'susovan',\n",
       " 'pupai',\n",
       " 89.98,\n",
       " 12,\n",
       " False,\n",
       " 'Ram',\n",
       " 'MIMI',\n",
       " 7.1,\n",
       " 6,\n",
       " True,\n",
       " 'susovan',\n",
       " 'pupai',\n",
       " 89.98,\n",
       " 12,\n",
       " False,\n",
       " 'Ram',\n",
       " 'MIMI',\n",
       " 7.1,\n",
       " 6,\n",
       " True,\n",
       " 'susovan',\n",
       " 'pupai',\n",
       " 89.98,\n",
       " 12,\n",
       " False,\n",
       " 'Ram')"
      ]
     },
     "execution_count": 10,
     "metadata": {},
     "output_type": "execute_result"
    }
   ],
   "source": [
    "mixed_tuple*3"
   ]
  },
  {
   "cell_type": "code",
   "execution_count": 12,
   "id": "07a52d42",
   "metadata": {},
   "outputs": [
    {
     "name": "stdout",
     "output_type": "stream",
     "text": [
      "('MIMI', 7.1, 6, True, 'susovan', 'pupai', 89.98, 12, False, 'Ram')\n"
     ]
    }
   ],
   "source": [
    "# mixed_tuple[2]=\"karim\" ## tuple are immutable\n",
    "print(mixed_tuple)"
   ]
  },
  {
   "cell_type": "code",
   "execution_count": 17,
   "id": "8122f803",
   "metadata": {},
   "outputs": [
    {
     "name": "stdout",
     "output_type": "stream",
     "text": [
      "4\n",
      "0 7\n"
     ]
    }
   ],
   "source": [
    "print(mixed_tuple.count(7.1))\n",
    "print(mixed_tuple.index(\"MIMI\"),mixed_tuple.index(\"pupai\"))"
   ]
  },
  {
   "cell_type": "code",
   "execution_count": 18,
   "id": "b186b8f3",
   "metadata": {},
   "outputs": [
    {
     "name": "stdout",
     "output_type": "stream",
     "text": [
      "(1, 'hello', 'hii', True, 12.34, False)\n"
     ]
    }
   ],
   "source": [
    "pack_tuple=1,\"hello\",\"hii\",True,12.34,False   ## by default It pack them into a tuple\n",
    "print(pack_tuple)"
   ]
  },
  {
   "cell_type": "code",
   "execution_count": null,
   "id": "12096ba0",
   "metadata": {},
   "outputs": [
    {
     "name": "stdout",
     "output_type": "stream",
     "text": [
      "1 hello hii True 12.34 False\n"
     ]
    }
   ],
   "source": [
    "a,b,c,d,e,f=pack_tuple   ## unpacked tuple\n",
    "print(a,b,c,d,e,f)"
   ]
  },
  {
   "cell_type": "code",
   "execution_count": 22,
   "id": "2ac679c7",
   "metadata": {},
   "outputs": [
    {
     "name": "stdout",
     "output_type": "stream",
     "text": [
      "1\n",
      "[2, 3, 4, 5, 6]\n",
      "7\n"
     ]
    }
   ],
   "source": [
    "nums=(1,2,3,4,5,6,7)\n",
    "st, *mid, end=nums   ## *mid takes all elements remining last and frist element \n",
    "print(st)\n",
    "print(mid)\n",
    "print(end)"
   ]
  },
  {
   "cell_type": "code",
   "execution_count": 28,
   "id": "16eb0747",
   "metadata": {},
   "outputs": [
    {
     "name": "stdout",
     "output_type": "stream",
     "text": [
      "['HII', 8]\n",
      "[4, True, 6]\n"
     ]
    }
   ],
   "source": [
    "lst=[[\"pupai\",2.2,3],[4,True,6],[\"HII\",8,9]]\n",
    "print(lst[2][:2:])\n",
    "print(lst[1])\n"
   ]
  },
  {
   "cell_type": "code",
   "execution_count": 30,
   "id": "85396728",
   "metadata": {},
   "outputs": [
    {
     "name": "stdout",
     "output_type": "stream",
     "text": [
      "('pupai', 2.2, 3)\n",
      "6\n"
     ]
    }
   ],
   "source": [
    "tup=((\"pupai\",2.2,3),(4,True,6),(\"HII\",8.9,False))\n",
    "print(tup[0])\n",
    "print(tup[1][2])"
   ]
  },
  {
   "cell_type": "code",
   "execution_count": 31,
   "id": "350a1a1f",
   "metadata": {},
   "outputs": [
    {
     "name": "stdout",
     "output_type": "stream",
     "text": [
      "pupai 2.2 3 \n",
      "4 True 6 \n",
      "HII 8.9 False \n"
     ]
    }
   ],
   "source": [
    "for sub_tup in tup:\n",
    "    for el in sub_tup:\n",
    "        print(el,end=\" \")\n",
    "    print(\"\")"
   ]
  },
  {
   "cell_type": "code",
   "execution_count": 35,
   "id": "3c89eed8",
   "metadata": {},
   "outputs": [
    {
     "name": "stdout",
     "output_type": "stream",
     "text": [
      "{0, 1, 2, 3, 4, 6, 7, 8, 54}\n",
      "{2, 3, 4, 6, 7, 8, 54, 89}\n",
      "False True False True\n"
     ]
    }
   ],
   "source": [
    "st={1,2,1,2,3,4,54,6,1,2,6,8,0,7}\n",
    "print(st)\n",
    "\n",
    "st.add(89)\n",
    "st.add(54) \n",
    "\n",
    "st.remove(0)\n",
    "# st.remove(9) ## if( element not exist then It gives error\n",
    "st.discard(1)\n",
    "st.discard(9)\n",
    "st.discard(100) ## if element not exist then It's ignore it, do not gives error\n",
    "\n",
    "print(st)\n",
    "\n",
    "print(10 in st,7 in st,101 in st,54 in st)"
   ]
  },
  {
   "cell_type": "code",
   "execution_count": null,
   "id": "b69ea005",
   "metadata": {},
   "outputs": [
    {
     "name": "stdout",
     "output_type": "stream",
     "text": [
      "{1, 2, 3, 4, 5, 6, 7, 8, 9, 10} {9, 3, 4}\n",
      "{1, 10, 6} {8, 2, 5, 7}\n",
      "{1, 2, 5, 6, 7, 8, 10} {1, 2, 5, 6, 7, 8, 10}\n",
      "{9, 3, 4}\n"
     ]
    }
   ],
   "source": [
    "set1={1,3,4,6,9,10}\n",
    "set2={2,4,5,9,3,7,8}\n",
    "\n",
    "union_set=set1.union(set2)\n",
    "intersection_set=set1.intersection(set2)\n",
    "\n",
    "print(union_set,intersection_set)\n",
    "\n",
    "\n",
    "diff_set1=set1.difference(set2)\n",
    "diff_set2=set2.difference(set1)\n",
    "\n",
    "print(diff_set1,diff_set2)\n",
    "\n",
    "symmetric_diff_set1=set1.symmetric_difference(set2)   ## remove same element in both sets and add unique elements\n",
    "symmetric_diff_set2=set2.symmetric_difference(set1)\n",
    "print(symmetric_diff_set1,symmetric_diff_set2)\n",
    "\n",
    "\n",
    "set1.intersection_update(set2) ## update in set1\n",
    "print(set1)\n"
   ]
  },
  {
   "cell_type": "code",
   "execution_count": 41,
   "id": "8dafec92",
   "metadata": {},
   "outputs": [
    {
     "name": "stdout",
     "output_type": "stream",
     "text": [
      "False True\n"
     ]
    }
   ],
   "source": [
    "set1={1,3,4,6,9,}\n",
    "set2={3,9,6}\n",
    "\n",
    "print(set1.issubset(set2),set1.issuperset(set2))"
   ]
  },
  {
   "cell_type": "code",
   "execution_count": null,
   "id": "2fc84826",
   "metadata": {},
   "outputs": [
    {
     "name": "stdout",
     "output_type": "stream",
     "text": [
      "{'my', 'pupai', 'good', 'is', 'mothoer', 'pratima.', 'name', 'pupai.', 'a', 'boy'}\n"
     ]
    }
   ],
   "source": [
    "txt=\"my name is pupai. my mothoer name is pratima. pupai is a good boy\"\n",
    "words=txt.split()\n",
    "\n",
    "set_words=set(words)   ## unique words\n",
    "\n",
    "print(set_words)"
   ]
  },
  {
   "cell_type": "code",
   "execution_count": null,
   "id": "9198de73",
   "metadata": {},
   "outputs": [
    {
     "name": "stdout",
     "output_type": "stream",
     "text": [
      "{} <class 'dict'>\n"
     ]
    }
   ],
   "source": [
    "emty_dist={} ## or empty_dist=dict() \n",
    "print(emty_dist,type(emty_dist))"
   ]
  },
  {
   "cell_type": "code",
   "execution_count": 17,
   "id": "eb133f13",
   "metadata": {},
   "outputs": [
    {
     "name": "stdout",
     "output_type": "stream",
     "text": [
      "{'name': 'susovan', 'age': 19}\n",
      "susovan 19\n",
      "Not Available\n",
      "19\n"
     ]
    }
   ],
   "source": [
    "student={\"name\":\"susovan\",\"age\":19}   ## use single key\n",
    "print(student)\n",
    "print(student[\"name\"],student['age']) ## if key is not present then its give error\n",
    "print(student.get(\"lastname\",\"Not Available\"))  ## if key is not present then its do not give error\n",
    "print(student.get(\"age\",\"user not define his age\"))"
   ]
  },
  {
   "cell_type": "code",
   "execution_count": 18,
   "id": "37b7d65f",
   "metadata": {},
   "outputs": [
    {
     "name": "stdout",
     "output_type": "stream",
     "text": [
      "{'name': 'susovan', 'age': 21}\n",
      "{'name': 'susovan', 'age': 21, 'address': 'India WB Howrah'}\n",
      "{'name': 'susovan', 'age': 21, 'address': 'India WB Howrah', 'nick_name': 'pupai', 'pin': 711411}\n",
      "{'name': 'susovan', 'age': 21, 'address': 'India WB Howrah', 'pin': 711411}\n"
     ]
    }
   ],
   "source": [
    "##  dict is muteable  change , add, delete, update in current dict\n",
    "\n",
    "student[\"age\"]=21\n",
    "print(student)\n",
    "student[\"address\"]=\"India WB Howrah\"\n",
    "print(student)\n",
    "student[\"nick_name\"]=\"pupai\"\n",
    "student[\"pin\"]=711411\n",
    "print(student)\n",
    "del student[\"nick_name\"]\n",
    "print(student)"
   ]
  },
  {
   "cell_type": "code",
   "execution_count": 16,
   "id": "3d559e26",
   "metadata": {},
   "outputs": [
    {
     "name": "stdout",
     "output_type": "stream",
     "text": [
      "dict_keys(['name', 'age', 'address', 'pin'])\n",
      "dict_values(['pupai', 21, 'India WB Howrah', 711411])\n",
      "dict_items([('name', 'pupai'), ('age', 21), ('address', 'India WB Howrah'), ('pin', 711411)])\n"
     ]
    }
   ],
   "source": [
    "keys=student.keys()\n",
    "print(keys)\n",
    "val=student.values()\n",
    "print(val)\n",
    "items=student.items()\n",
    "print(items)"
   ]
  },
  {
   "cell_type": "code",
   "execution_count": null,
   "id": "4e93bf71",
   "metadata": {},
   "outputs": [
    {
     "name": "stdout",
     "output_type": "stream",
     "text": [
      "{'name': 'susovan', 'age': 21, 'address': 'India WB Howrah', 'pin': 711411}\n",
      "{'name': 'susovan', 'age': 21, 'address': 'India WB Howrah', 'pin': 711411}\n"
     ]
    }
   ],
   "source": [
    "student_copy=student   ## deep copy\n",
    "print(student)\n",
    "print(student_copy)"
   ]
  },
  {
   "cell_type": "code",
   "execution_count": null,
   "id": "300abb86",
   "metadata": {},
   "outputs": [
    {
     "name": "stdout",
     "output_type": "stream",
     "text": [
      "{'name': 'Pupai', 'age': 21, 'address': 'India WB Howrah', 'pin': 711411}\n",
      "{'name': 'Pupai', 'age': 21, 'address': 'India WB Howrah', 'pin': 711411}\n"
     ]
    }
   ],
   "source": [
    "student[\"name\"]=\"Pupai\" \n",
    "print(student)\n",
    "print(student_copy)"
   ]
  },
  {
   "cell_type": "code",
   "execution_count": null,
   "id": "c5d4c3b9",
   "metadata": {},
   "outputs": [
    {
     "name": "stdout",
     "output_type": "stream",
     "text": [
      "{'name': 'Pupai', 'age': 21, 'address': 'India WB Howrah', 'pin': 711411}\n",
      "{'name': 'Pupai', 'age': 21, 'address': 'India WB Howrah', 'pin': 711411}\n"
     ]
    }
   ],
   "source": [
    "student_copy=student.copy()  ## shallow copy\n",
    "print(student)\n",
    "print(student_copy)"
   ]
  },
  {
   "cell_type": "code",
   "execution_count": 24,
   "id": "89d48aef",
   "metadata": {},
   "outputs": [
    {
     "name": "stdout",
     "output_type": "stream",
     "text": [
      "{'name': 'Susovan', 'age': 22, 'address': 'India WB Howrah', 'pin': 711411}\n",
      "{'name': 'Pupai', 'age': 21, 'address': 'India WB Howrah', 'pin': 711411}\n"
     ]
    }
   ],
   "source": [
    "student[\"name\"]=\"Susovan\"\n",
    "student[\"age\"]=22\n",
    "print(student)\n",
    "print(student_copy)"
   ]
  },
  {
   "cell_type": "code",
   "execution_count": 25,
   "id": "7a4c1472",
   "metadata": {},
   "outputs": [
    {
     "name": "stdout",
     "output_type": "stream",
     "text": [
      "name\n",
      "age\n",
      "address\n",
      "pin\n",
      "Susovan\n",
      "22\n",
      "India WB Howrah\n",
      "711411\n"
     ]
    }
   ],
   "source": [
    "for key in student.keys():\n",
    "    print(key)\n",
    "for val in student.values():\n",
    "    print(val)"
   ]
  },
  {
   "cell_type": "code",
   "execution_count": 27,
   "id": "c3cadd79",
   "metadata": {},
   "outputs": [
    {
     "name": "stdout",
     "output_type": "stream",
     "text": [
      "name  -  Susovan\n",
      "age  -  22\n",
      "address  -  India WB Howrah\n",
      "pin  -  711411\n"
     ]
    }
   ],
   "source": [
    "for key,val in student.items():\n",
    "    print(key,\" - \",val)"
   ]
  },
  {
   "cell_type": "code",
   "execution_count": 28,
   "id": "e4c7b356",
   "metadata": {},
   "outputs": [
    {
     "name": "stdout",
     "output_type": "stream",
     "text": [
      "{'student1': {'name': 'mimi', 'age': 21}, 'student2': {'name': 'Ram', 'age': 20}, 'student3': {'name': 'Sam', 'age': 22}}\n"
     ]
    }
   ],
   "source": [
    "students={\n",
    "    \"student1\":{\"name\":\"mimi\",\"age\":21},\n",
    "    \"student2\":{\"name\":\"Ram\",\"age\":20},\n",
    "    \"student3\":{\"name\":\"Sam\",\"age\":22}\n",
    "}\n",
    "print(students)"
   ]
  },
  {
   "cell_type": "code",
   "execution_count": 34,
   "id": "2be42f5f",
   "metadata": {},
   "outputs": [
    {
     "name": "stdout",
     "output_type": "stream",
     "text": [
      "Sam\n",
      "20\n",
      "student id is - student1 , student info is - {'name': 'mimi', 'age': 21}\n",
      " key - name : val - mimi\n",
      " key - age : val - 21\n",
      "student id is - student2 , student info is - {'name': 'Ram', 'age': 20}\n",
      " key - name : val - Ram\n",
      " key - age : val - 20\n",
      "student id is - student3 , student info is - {'name': 'Sam', 'age': 22}\n",
      " key - name : val - Sam\n",
      " key - age : val - 22\n"
     ]
    }
   ],
   "source": [
    "print(students[\"student3\"][\"name\"])\n",
    "print(students[\"student2\"][\"age\"])\n",
    "\n",
    "for st_id,st_info in students.items():\n",
    "    print(f\"student id is - {st_id} , student info is - {st_info}\")\n",
    "    for key,val in st_info.items():\n",
    "        print(f\" key - {key} : val - {val}\")"
   ]
  },
  {
   "cell_type": "code",
   "execution_count": 37,
   "id": "b84aec1f",
   "metadata": {},
   "outputs": [
    {
     "name": "stdout",
     "output_type": "stream",
     "text": [
      "{0: 0, 1: 1, 2: 4, 3: 9, 4: 16, 5: 25}\n",
      "{0: 0, 2: 4, 4: 16, 6: 36, 8: 64, 10: 100}\n"
     ]
    }
   ],
   "source": [
    "sqr={x:x**2 for x in range(6)}\n",
    "print(sqr)\n",
    "sqr_even={x:x**2 for x in range(11) if x%2==0}\n",
    "print(sqr_even)\n"
   ]
  },
  {
   "cell_type": "code",
   "execution_count": 38,
   "id": "95a135b1",
   "metadata": {},
   "outputs": [
    {
     "name": "stdout",
     "output_type": "stream",
     "text": [
      "{0: 2, 1: 7, 2: 6, 3: 3, 4: 6, 5: 2, 6: 1, 7: 1}\n"
     ]
    }
   ],
   "source": [
    "nums=[1,2,3,4,1,2,2,1,1,3,3,4,4,1,2,4,1,4,0,5,6,7,2,2,4,1,5,0]\n",
    "uniqueNums=set(nums)\n",
    "fqu={x:nums.count(x) for x in uniqueNums}\n",
    "print(fqu)"
   ]
  },
  {
   "cell_type": "code",
   "execution_count": 39,
   "id": "5d8dae59",
   "metadata": {},
   "outputs": [
    {
     "name": "stdout",
     "output_type": "stream",
     "text": [
      "{1: 7, 2: 6, 3: 3, 4: 6, 0: 2, 5: 2, 6: 1, 7: 1}\n"
     ]
    }
   ],
   "source": [
    "nums=[1,2,3,4,1,2,2,1,1,3,3,4,4,1,2,4,1,4,0,5,6,7,2,2,4,1,5,0]\n",
    "fqu={}\n",
    "\n",
    "for num in nums:\n",
    "    if num in fqu:\n",
    "        fqu[num]+=1\n",
    "    else:\n",
    "        fqu[num]=1\n",
    "print(fqu)"
   ]
  },
  {
   "cell_type": "code",
   "execution_count": 41,
   "id": "2e71cdf8",
   "metadata": {},
   "outputs": [
    {
     "name": "stdout",
     "output_type": "stream",
     "text": [
      "{'a': 76, 'b': 89, 'y': 234, 'x': 987}\n"
     ]
    }
   ],
   "source": [
    "dict1={\"a\":12,\"b\":23,\"y\":234}\n",
    "dict2={\"b\":89,\"x\":987,\"a\":76}\n",
    "\n",
    "marge_dict={**dict1,**dict2}\n",
    "print(marge_dict)\n"
   ]
  },
  {
   "cell_type": "code",
   "execution_count": null,
   "id": "1dba3447",
   "metadata": {},
   "outputs": [
    {
     "name": "stdout",
     "output_type": "stream",
     "text": [
      "(1, 2, 3, 4, 'pupai', True, 9.76, False, 'mimi')\n",
      "1\n",
      "2\n",
      "3\n",
      "4\n",
      "pupai\n",
      "True\n",
      "9.76\n",
      "False\n",
      "mimi\n"
     ]
    }
   ],
   "source": [
    "## positional arguments\n",
    "def print_nums(*nums):    ## *nums means all arguments takes together\n",
    "    print(nums)\n",
    "    for i in nums:\n",
    "        print(i)\n",
    "\n",
    "print_nums(1,2,3,4,\"pupai\",True,9.76,False,\"mimi\")"
   ]
  },
  {
   "cell_type": "code",
   "execution_count": 3,
   "id": "c118f282",
   "metadata": {},
   "outputs": [
    {
     "name": "stdout",
     "output_type": "stream",
     "text": [
      "Good Morning -> Guest\n",
      "Good Morning -> Taniya\n"
     ]
    }
   ],
   "source": [
    "def good_morning(name=\"Guest\"):\n",
    "    print(f\"Good Morning -> {name}\")\n",
    "\n",
    "good_morning()\n",
    "good_morning(\"Taniya\")"
   ]
  },
  {
   "cell_type": "code",
   "execution_count": null,
   "id": "a1d1dc09",
   "metadata": {},
   "outputs": [
    {
     "name": "stdout",
     "output_type": "stream",
     "text": [
      "name:pupai\n",
      "age:98\n",
      "pin:711411\n",
      "marks:99\n"
     ]
    }
   ],
   "source": [
    "## keyword arguments\n",
    "\n",
    "def print_details(**info):   ## **info means takes all arguments as a key value pairs \n",
    "    for key,val in info.items():\n",
    "        print(f\"{key}:{val}\")  \n",
    "\n",
    "print_details(name=\"pupai\",age=98,pin=711411,marks=99)  \n"
   ]
  },
  {
   "cell_type": "code",
   "execution_count": 10,
   "id": "c6e75b2b",
   "metadata": {},
   "outputs": [
    {
     "name": "stdout",
     "output_type": "stream",
     "text": [
      "positional argument -  2\n",
      "positional argument -  4\n",
      "positional argument -  5\n",
      "positional argument -  67\n",
      "positional argument -  95\n",
      "positional argument -  32\n",
      "positional argument -  Susovan \n",
      "keywords arguments  name:pupai\n",
      "keywords arguments  age:98\n",
      "keywords arguments  pin:711411\n",
      "keywords arguments  marks:99\n"
     ]
    }
   ],
   "source": [
    "def print_both(*nums,**info):  \n",
    "    for i in nums:\n",
    "        print(\"positional argument - \",i)\n",
    "    for key,val in info.items():\n",
    "        print(f\"keywords arguments  {key}:{val}\")  \n",
    "\n",
    "print_both(2,4,5,67,95,32,\"Susovan \",name=\"pupai\",age=98,pin=711411,marks=99)"
   ]
  },
  {
   "cell_type": "code",
   "execution_count": null,
   "id": "fa493a60",
   "metadata": {},
   "outputs": [
    {
     "data": {
      "text/plain": [
       "(72, 8)"
      ]
     },
     "execution_count": 12,
     "metadata": {},
     "output_type": "execute_result"
    }
   ],
   "source": [
    "def product(a,b):\n",
    "    return a*b,b     ## return multiple parameters\n",
    "\n",
    "\n",
    "product(9,8)"
   ]
  },
  {
   "cell_type": "code",
   "execution_count": null,
   "id": "91b53a89",
   "metadata": {},
   "outputs": [
    {
     "name": "stdout",
     "output_type": "stream",
     "text": [
      "77.0\n",
      "25.0\n"
     ]
    }
   ],
   "source": [
    "## temp converter \n",
    "\n",
    "def temp_convert(temp,unit):\n",
    "    if(unit.lower()=='c'):\n",
    "        return temp*(9/5)+32\n",
    "    elif(unit.lower()=='f'):\n",
    "        return (temp-32)*(5/9)\n",
    "    return None\n",
    "\n",
    "\n",
    "print(temp_convert(25,'C'))\n",
    "print(temp_convert(77,'f'))"
   ]
  },
  {
   "cell_type": "code",
   "execution_count": 6,
   "id": "06e1c9cd",
   "metadata": {},
   "outputs": [
    {
     "name": "stdout",
     "output_type": "stream",
     "text": [
      "All is good. It is a strong password\n",
      "True\n",
      "password must have digits\n",
      "False\n",
      " lenght must be greater than 8\n",
      "False\n",
      "All is good. It is a strong password\n",
      "True\n"
     ]
    }
   ],
   "source": [
    "## password strength ckecker\n",
    "\n",
    "def is_strong_password(pw):\n",
    "    if(len(pw)<=8):\n",
    "        print(\" lenght must be greater than 8\")\n",
    "        return False\n",
    "    elif not any(char.isdigit() for char in pw):\n",
    "        print(\"password must have digits\")\n",
    "        return False\n",
    "    elif not any(char.islower() for char in pw):\n",
    "        print(\" password must have some lower char\")\n",
    "        return False\n",
    "    elif not any(char.isupper() for char in pw):\n",
    "        print(\"password must have some upper char\")\n",
    "        return False\n",
    "    elif not any( char in \"@#$%&*!\" for char in pw):\n",
    "        print(\"password some have some spacial char\")\n",
    "        return False\n",
    "    else:\n",
    "        print(\"All is good. It is a strong password\")\n",
    "        return True\n",
    "    \n",
    "\n",
    "\n",
    "print(is_strong_password(\"poU7#4hj!2su$\"))\n",
    "print(is_strong_password(\"QWEREasdd\"))\n",
    "print(is_strong_password(\"plsnfn@\"))\n",
    "print(is_strong_password(\"!23@wedCvbn7\"))    "
   ]
  },
  {
   "cell_type": "code",
   "execution_count": null,
   "id": "a2e7fb2b",
   "metadata": {},
   "outputs": [
    {
     "name": "stdout",
     "output_type": "stream",
     "text": [
      "<_io.TextIOWrapper name='sample.txt' mode='r' encoding='utf-8'>\n",
      "{'he': 2, 'is': 2, 'a': 1, 'good': 3, 'boy': 1, 'it': 1, 'for': 1, 'our': 1, 'health': 1, 'said': 1, '\"hii': 1, 'morning\"': 1}\n"
     ]
    }
   ],
   "source": [
    "## count all words in a text file\n",
    "def count_word_frequency(file_path):\n",
    "    word_count={}\n",
    "    with open(file_path,'r') as file:\n",
    "        for line in file:\n",
    "            words=line.split()\n",
    "            for word in words:\n",
    "                word=word.lower().strip(\".,!?:;`\")\n",
    "                word_count[word]=word_count.get(word,0)+1\n",
    "    return word_count\n",
    "\n",
    "word_fqu=count_word_frequency('sample.txt')\n",
    "print(word_fqu)"
   ]
  },
  {
   "cell_type": "code",
   "execution_count": 17,
   "id": "22828390",
   "metadata": {},
   "outputs": [
    {
     "name": "stdout",
     "output_type": "stream",
     "text": [
      "True\n",
      "False\n"
     ]
    }
   ],
   "source": [
    "def isPalindrom(s):\n",
    "    s=s.lower().replace(\" \",\"\")\n",
    "    return s[::-1]==s\n",
    "\n",
    "print(isPalindrom(\"a man Is in ama\"))\n",
    "print(isPalindrom(\"hello\"))"
   ]
  },
  {
   "cell_type": "code",
   "execution_count": null,
   "id": "edd83f56",
   "metadata": {},
   "outputs": [
    {
     "name": "stdout",
     "output_type": "stream",
     "text": [
      "True\n",
      "False\n"
     ]
    }
   ],
   "source": [
    "### valid email check function\n",
    "\n",
    "import re   ## You need this because we’re going to use re.match() to check if the email fits a specific pattern.\n",
    "\n",
    "def is_valid_email(email):\n",
    "    pattern = r'^[a-zA-Z0-9._%+-]+@[a-zA-Z0-9.-]+\\.[a-zA-Z]{2,}$'\n",
    "    \n",
    "    if re.match(pattern, email):   ## Uses re.match() to check if the email matches the pattern.\n",
    "        return True\n",
    "    else:\n",
    "        return False\n",
    "    \n",
    "print(is_valid_email(\"palsusovan88@gmail.com\"))\n",
    "print(is_valid_email(\"rhgehjhgiouh@\"))\n"
   ]
  },
  {
   "cell_type": "code",
   "execution_count": null,
   "id": "44bf2e43",
   "metadata": {},
   "outputs": [],
   "source": []
  },
  {
   "cell_type": "code",
   "execution_count": null,
   "id": "4d34b496",
   "metadata": {},
   "outputs": [],
   "source": []
  }
 ],
 "metadata": {
  "kernelspec": {
   "display_name": "Python 3",
   "language": "python",
   "name": "python3"
  },
  "language_info": {
   "codemirror_mode": {
    "name": "ipython",
    "version": 3
   },
   "file_extension": ".py",
   "mimetype": "text/x-python",
   "name": "python",
   "nbconvert_exporter": "python",
   "pygments_lexer": "ipython3",
   "version": "3.12.11"
  }
 },
 "nbformat": 4,
 "nbformat_minor": 5
}

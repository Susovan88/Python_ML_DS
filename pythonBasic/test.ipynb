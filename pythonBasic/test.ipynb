{
 "cells": [
  {
   "cell_type": "code",
   "execution_count": null,
   "id": "b7ac0725",
   "metadata": {},
   "outputs": [
    {
     "name": "stdout",
     "output_type": "stream",
     "text": [
      "28\n"
     ]
    }
   ],
   "source": [
    "## use backslash (\\) -> continue statement to the next line\n",
    "total=1+2+4+9+2+\\\n",
    "    4+5+1\n",
    "print(total)"
   ]
  },
  {
   "cell_type": "code",
   "execution_count": null,
   "id": "9e0c02c7",
   "metadata": {},
   "outputs": [
    {
     "name": "stdout",
     "output_type": "stream",
     "text": [
      "9 90 98\n"
     ]
    }
   ],
   "source": [
    "# multiple variable\n",
    "x=9;y=90;z=98\n",
    "print(x,y,z)"
   ]
  },
  {
   "cell_type": "code",
   "execution_count": 5,
   "id": "7a7f4897",
   "metadata": {},
   "outputs": [
    {
     "name": "stdout",
     "output_type": "stream",
     "text": [
      "<class 'str'>\n",
      "<class 'int'>\n",
      "<class 'float'>\n"
     ]
    }
   ],
   "source": [
    "name=\"susovan\"\n",
    "print(type(name))\n",
    "name=908\n",
    "print(type(name))\n",
    "name=91.234\n",
    "print(type(name))"
   ]
  },
  {
   "cell_type": "code",
   "execution_count": 7,
   "id": "7177a59e",
   "metadata": {},
   "outputs": [
    {
     "name": "stdout",
     "output_type": "stream",
     "text": [
      "20\n",
      "569\n"
     ]
    }
   ],
   "source": [
    "age=20\n",
    "if(age>18):\n",
    "    print(age)\n",
    "print(569)"
   ]
  },
  {
   "cell_type": "code",
   "execution_count": 10,
   "id": "85167c9c",
   "metadata": {},
   "outputs": [
    {
     "name": "stdout",
     "output_type": "stream",
     "text": [
      "91.234\n",
      "my age is :  20\n",
      "<class 'str'>\n",
      "age is 21.6\n",
      "exact age is - 21\n"
     ]
    }
   ],
   "source": [
    "print(name)\n",
    "print(\"my age is : \",age)\n",
    "print(type(str(age)))\n",
    "age=21.6\n",
    "print(f\"age is {age}\")\n",
    "print(f\"exact age is - {int(age)}\")"
   ]
  },
  {
   "cell_type": "code",
   "execution_count": null,
   "id": "5d5ceac6",
   "metadata": {},
   "outputs": [
    {
     "name": "stdout",
     "output_type": "stream",
     "text": [
      "pupai <class 'str'>\n",
      "21 <class 'int'>\n"
     ]
    }
   ],
   "source": [
    "name=input(\"enter name : \")  ## default str input\n",
    "print(name,type(name))\n",
    "age=int(input(\"enger age :\")) ## typecust into str to int"
   ]
  },
  {
   "cell_type": "code",
   "execution_count": 14,
   "id": "56950a0a",
   "metadata": {},
   "outputs": [
    {
     "name": "stdout",
     "output_type": "stream",
     "text": [
      "sum is : 16.0 diff is : 8.0 product is : 48.0 quotient is : 3.0\n"
     ]
    }
   ],
   "source": [
    "num1=float(input(\"Enetr num1: \"))\n",
    "num2=float(input(\"enter num2: \"))\n",
    "\n",
    "sum=num1+num2\n",
    "pro=num1*num2\n",
    "diff=num1-num2\n",
    "quo=num1/num2\n",
    "\n",
    "print(f\"sum is : {sum} diff is : {diff} product is : {pro} quotient is : {quo}\")\n"
   ]
  },
  {
   "cell_type": "code",
   "execution_count": 7,
   "id": "b0db9b52",
   "metadata": {},
   "outputs": [
    {
     "name": "stdout",
     "output_type": "stream",
     "text": [
      "1\n",
      "3\n",
      "5\n",
      "7\n",
      "9\n",
      "u\n",
      "o\n",
      "a\n",
      "n\n"
     ]
    }
   ],
   "source": [
    "for i in range(1,11,2):\n",
    "    print(i)\n",
    "str=\"SuSoVanpAuL\"    \n",
    "for i in str:\n",
    "    if(i.isupper()):\n",
    "        continue\n",
    "    if(i=='p'):\n",
    "        break\n",
    "    print(i)"
   ]
  },
  {
   "cell_type": "code",
   "execution_count": 5,
   "id": "7385bde9",
   "metadata": {},
   "outputs": [
    {
     "name": "stdout",
     "output_type": "stream",
     "text": [
      "0\n",
      "1\n",
      "2\n",
      "3\n",
      "4\n"
     ]
    }
   ],
   "source": [
    "count=0\n",
    "while count<5:\n",
    "    print(count)\n",
    "    count+=1"
   ]
  },
  {
   "cell_type": "code",
   "execution_count": 8,
   "id": "ed867ac7",
   "metadata": {},
   "outputs": [],
   "source": [
    "for i in range(1,10,2):\n",
    "    pass"
   ]
  },
  {
   "cell_type": "code",
   "execution_count": null,
   "id": "7226363f",
   "metadata": {},
   "outputs": [],
   "source": []
  },
  {
   "cell_type": "code",
   "execution_count": 11,
   "id": "b3153cd5",
   "metadata": {},
   "outputs": [
    {
     "name": "stdout",
     "output_type": "stream",
     "text": [
      "i is - 1\n",
      "  ->j is - 1\n",
      "  ->j is - 2\n",
      "  ->j is - 3\n",
      "i is - 2\n",
      "  ->j is - 1\n",
      "  ->j is - 2\n",
      "  ->j is - 3\n",
      "i is - 3\n",
      "  ->j is - 1\n",
      "  ->j is - 2\n",
      "  ->j is - 3\n"
     ]
    }
   ],
   "source": [
    "for i in range(1,4):\n",
    "    print(f\"i is - {i}\")\n",
    "    for j in range(1,4):\n",
    "        print(f\"  ->j is - {j}\")"
   ]
  },
  {
   "cell_type": "code",
   "execution_count": 21,
   "id": "04abff99",
   "metadata": {},
   "outputs": [
    {
     "name": "stdout",
     "output_type": "stream",
     "text": [
      "<class 'list'>\n",
      "susovan\n",
      "['mimi', 12.3, 98, True, 'taniya', 12, 34.98, False]\n",
      "['susovan', 'mimi', 12.3, 98, True, 'taniya', 12, 34.98, False]\n",
      "['susovan', 12.3, True, 12, False]\n",
      "[]\n",
      "['susovan', 'mimi', 12.3, 98, True, 'taniya', 12, 34.98, False, 'Red', 'Black']\n",
      "['susovan', 'mimi', 'banana', 12.3, 98, True, 'taniya', 12, 34.98, False, 'Red', 'Black']\n",
      "Black ['susovan', 'mimi', 'banana', 98, True, 'taniya', 34.98, False, 'Red']\n",
      "1\n"
     ]
    }
   ],
   "source": [
    "name=[\"susovan\",\"mimi\",12.3,98,True,\"taniya\",12,34.98,False]\n",
    "print(type(name))\n",
    "print(name[0])\n",
    "print(name[1:])\n",
    "print(name[0:9])\n",
    "print(name[0:9:2])\n",
    "print(name[-1:-3])\n",
    "name.append(\"Red\")\n",
    "name.append(\"Black\")\n",
    "print(name[0:])\n",
    "name.insert(2,\"banana\")\n",
    "print(name[0:])\n",
    "name.remove(12)\n",
    "name.remove(12.3)\n",
    "pop_item=name.pop()\n",
    "print(pop_item,name[0:])\n",
    "print(name.index(\"mimi\"))"
   ]
  },
  {
   "cell_type": "code",
   "execution_count": null,
   "id": "707ebbb7",
   "metadata": {},
   "outputs": [
    {
     "name": "stdout",
     "output_type": "stream",
     "text": [
      "['susovan', 'mimi', 12.3, 'Ram', True, 'taniya', 12, 34.98, False]\n"
     ]
    }
   ],
   "source": [
    "name[3]=\"Ram\"  # replace element\n",
    "print(name[0:])"
   ]
  },
  {
   "cell_type": "code",
   "execution_count": 16,
   "id": "437fa53d",
   "metadata": {},
   "outputs": [
    {
     "name": "stdout",
     "output_type": "stream",
     "text": [
      "['susovan', 'mimi', 'S', 'u', 's', 'o', 'v', 'a', 'n', 'P', 'a', 'u', 'l']\n"
     ]
    }
   ],
   "source": [
    "name[2:]=\"SusovanPaul\"\n",
    "print(name[0:])"
   ]
  },
  {
   "cell_type": "code",
   "execution_count": null,
   "id": "cbce9232",
   "metadata": {},
   "outputs": [],
   "source": [
    "name=[\"susovan\",\"mimi\",12.3,98,True,\"taniya\",12,34.98,False]\n"
   ]
  },
  {
   "cell_type": "code",
   "execution_count": 23,
   "id": "3b186b45",
   "metadata": {},
   "outputs": [
    {
     "name": "stdout",
     "output_type": "stream",
     "text": [
      "['Dimple', 'Jit', 'Pupai', 'Susovan', 'dev', 'joy', 'pal', 'ram', 'suso', 'taniya']\n",
      "['taniya', 'suso', 'ram', 'pal', 'joy', 'dev', 'Susovan', 'Pupai', 'Jit', 'Dimple']\n"
     ]
    }
   ],
   "source": [
    "nm=[\"pal\",\"Pupai\",\"joy\",\"suso\",\"Dimple\",\"dev\", \"Susovan\",\"taniya\",\"ram\",\"Jit\"]\n",
    "nm.sort()\n",
    "print(nm[0:])\n",
    "nm.reverse()\n",
    "print(nm[0:])"
   ]
  },
  {
   "cell_type": "code",
   "execution_count": 24,
   "id": "f044e2e6",
   "metadata": {},
   "outputs": [
    {
     "name": "stdout",
     "output_type": "stream",
     "text": [
      "[] []\n"
     ]
    }
   ],
   "source": [
    "name.clear()\n",
    "nm.clear()\n",
    "print(name,nm)"
   ]
  },
  {
   "cell_type": "code",
   "execution_count": 25,
   "id": "0744b2c4",
   "metadata": {},
   "outputs": [
    {
     "name": "stdout",
     "output_type": "stream",
     "text": [
      "[3, 4, 5]\n",
      "[1, 2, 3, 4, 5]\n",
      "[6, 7, 8, 9, 10]\n",
      "[1, 3, 5, 7, 9]\n",
      "[10, 9, 8, 7, 6, 5, 4, 3, 2, 1]\n"
     ]
    }
   ],
   "source": [
    "num=[1,2,3,4,5,6,7,8,9,10]\n",
    "print(num[2:5])\n",
    "print(num[:5])\n",
    "print(num[5:])\n",
    "print(num[::2])\n",
    "print(num[::-1])"
   ]
  },
  {
   "cell_type": "code",
   "execution_count": 26,
   "id": "776d9e08",
   "metadata": {},
   "outputs": [
    {
     "name": "stdout",
     "output_type": "stream",
     "text": [
      "0 1\n",
      "1 2\n",
      "2 3\n",
      "3 4\n",
      "4 5\n",
      "5 6\n",
      "6 7\n",
      "7 8\n",
      "8 9\n",
      "9 10\n"
     ]
    }
   ],
   "source": [
    "for idx,n in enumerate(num):\n",
    "    print(idx,n)\n",
    "    "
   ]
  },
  {
   "cell_type": "code",
   "execution_count": 28,
   "id": "8c170ce5",
   "metadata": {},
   "outputs": [
    {
     "name": "stdout",
     "output_type": "stream",
     "text": [
      "[0, 1, 4, 9, 16, 25, 36, 49, 64, 81]\n"
     ]
    }
   ],
   "source": [
    "lst=[]\n",
    "for i in range(10):\n",
    "    lst.append(i**2)\n",
    "\n",
    "print(lst)"
   ]
  },
  {
   "cell_type": "code",
   "execution_count": 31,
   "id": "11f79664",
   "metadata": {},
   "outputs": [
    {
     "data": {
      "text/plain": [
       "[0, 1, 4, 9, 16, 25, 36, 49, 64, 81]"
      ]
     },
     "execution_count": 31,
     "metadata": {},
     "output_type": "execute_result"
    }
   ],
   "source": [
    "[x**2 for x in range(10)]"
   ]
  },
  {
   "cell_type": "code",
   "execution_count": null,
   "id": "6a993fc7",
   "metadata": {},
   "outputs": [
    {
     "name": "stdout",
     "output_type": "stream",
     "text": [
      "[0, 2, 4, 6, 8]\n"
     ]
    }
   ],
   "source": [
    "evnNum=[]\n",
    "for i in range(12):\n",
    "    if(i%2==0):\n",
    "        evnNum.append(i)\n",
    "\n",
    "print(evnNum)"
   ]
  },
  {
   "cell_type": "code",
   "execution_count": 34,
   "id": "e9777408",
   "metadata": {},
   "outputs": [
    {
     "name": "stdout",
     "output_type": "stream",
     "text": [
      "[0, 2, 4, 6, 8, 10]\n"
     ]
    }
   ],
   "source": [
    "even_num=[n for n in range(12) if n%2==0]\n",
    "print(even_num)"
   ]
  },
  {
   "cell_type": "code",
   "execution_count": 36,
   "id": "b3466b76",
   "metadata": {},
   "outputs": [
    {
     "name": "stdout",
     "output_type": "stream",
     "text": [
      "[[12, 'A'], [12, 'B'], [12, 'N'], [12, 'M'], [12, 'P'], [23, 'A'], [23, 'B'], [23, 'N'], [23, 'M'], [23, 'P'], [4, 'A'], [4, 'B'], [4, 'N'], [4, 'M'], [4, 'P'], [5, 'A'], [5, 'B'], [5, 'N'], [5, 'M'], [5, 'P'], [8, 'A'], [8, 'B'], [8, 'N'], [8, 'M'], [8, 'P']]\n"
     ]
    }
   ],
   "source": [
    "lst1=[12,23,4,5,8]\n",
    "lst2=['A','B','N','M','P']\n",
    "\n",
    "lst3=[[i,j] for i in lst1 for j in lst2]\n",
    "\n",
    "print(lst3)"
   ]
  },
  {
   "cell_type": "code",
   "execution_count": 14,
   "id": "f116369f",
   "metadata": {},
   "outputs": [
    {
     "name": "stdout",
     "output_type": "stream",
     "text": [
      "[3, 5, 3, 4, 6, 3, 7, 6, 3, 3]\n"
     ]
    }
   ],
   "source": [
    "names=[\"pal\",\"Pupai\",\"joy\",\"suso\",\"Dimple\",\"dev\", \"Susovan\",\"taniya\",\"ram\",\"Jit\"]\n",
    "lenOf_names=[len(name) for name in names]\n",
    "print(lenOf_names)"
   ]
  },
  {
   "cell_type": "code",
   "execution_count": null,
   "id": "5cf6cb5f",
   "metadata": {},
   "outputs": [
    {
     "name": "stdout",
     "output_type": "stream",
     "text": [
      "[] ()\n"
     ]
    }
   ],
   "source": [
    "lst=list()  # empty list\n",
    "tup=tuple()  # empty tuple\n",
    "print(lst,tup)"
   ]
  },
  {
   "cell_type": "code",
   "execution_count": 8,
   "id": "9b2720ea",
   "metadata": {},
   "outputs": [
    {
     "name": "stdout",
     "output_type": "stream",
     "text": [
      "(1, 2, 3, 4, 5, 6) [1, 2, 3, 4, 5, 6]\n",
      "1 6\n",
      "(1, 3, 5) (6, 5, 4, 3, 2, 1)\n"
     ]
    }
   ],
   "source": [
    "nums=tuple([1,2,3,4,5,6])\n",
    "nums2=list(nums)\n",
    "print(nums,nums2)\n",
    "print(nums[0],nums[-1])\n",
    "print(nums[::2],nums[::-1])"
   ]
  },
  {
   "cell_type": "code",
   "execution_count": 13,
   "id": "bf7b63ba",
   "metadata": {},
   "outputs": [
    {
     "name": "stdout",
     "output_type": "stream",
     "text": [
      "('MIMI', 7.1, 6, True, 7.1, 'susovan', 7.1, 'pupai', 7.1, 89.98, 12, False, 'Ram', 1, 2, 3, 4, 5, 6)\n"
     ]
    }
   ],
   "source": [
    "mixed_tuple=(\"MIMI\",7.1,6,True,7.1,\"susovan\",7.1,\"pupai\",7.1,89.98,12,False,\"Ram\")\n",
    "concatination_tuple=mixed_tuple+nums\n",
    "print(concatination_tuple)\n",
    "\n"
   ]
  },
  {
   "cell_type": "code",
   "execution_count": 10,
   "id": "43820c60",
   "metadata": {},
   "outputs": [
    {
     "data": {
      "text/plain": [
       "('MIMI',\n",
       " 7.1,\n",
       " 6,\n",
       " True,\n",
       " 'susovan',\n",
       " 'pupai',\n",
       " 89.98,\n",
       " 12,\n",
       " False,\n",
       " 'Ram',\n",
       " 'MIMI',\n",
       " 7.1,\n",
       " 6,\n",
       " True,\n",
       " 'susovan',\n",
       " 'pupai',\n",
       " 89.98,\n",
       " 12,\n",
       " False,\n",
       " 'Ram',\n",
       " 'MIMI',\n",
       " 7.1,\n",
       " 6,\n",
       " True,\n",
       " 'susovan',\n",
       " 'pupai',\n",
       " 89.98,\n",
       " 12,\n",
       " False,\n",
       " 'Ram')"
      ]
     },
     "execution_count": 10,
     "metadata": {},
     "output_type": "execute_result"
    }
   ],
   "source": [
    "mixed_tuple*3"
   ]
  },
  {
   "cell_type": "code",
   "execution_count": 12,
   "id": "07a52d42",
   "metadata": {},
   "outputs": [
    {
     "name": "stdout",
     "output_type": "stream",
     "text": [
      "('MIMI', 7.1, 6, True, 'susovan', 'pupai', 89.98, 12, False, 'Ram')\n"
     ]
    }
   ],
   "source": [
    "# mixed_tuple[2]=\"karim\" ## tuple are immutable\n",
    "print(mixed_tuple)"
   ]
  },
  {
   "cell_type": "code",
   "execution_count": 17,
   "id": "8122f803",
   "metadata": {},
   "outputs": [
    {
     "name": "stdout",
     "output_type": "stream",
     "text": [
      "4\n",
      "0 7\n"
     ]
    }
   ],
   "source": [
    "print(mixed_tuple.count(7.1))\n",
    "print(mixed_tuple.index(\"MIMI\"),mixed_tuple.index(\"pupai\"))"
   ]
  },
  {
   "cell_type": "code",
   "execution_count": 18,
   "id": "b186b8f3",
   "metadata": {},
   "outputs": [
    {
     "name": "stdout",
     "output_type": "stream",
     "text": [
      "(1, 'hello', 'hii', True, 12.34, False)\n"
     ]
    }
   ],
   "source": [
    "pack_tuple=1,\"hello\",\"hii\",True,12.34,False   ## by default It pack them into a tuple\n",
    "print(pack_tuple)"
   ]
  },
  {
   "cell_type": "code",
   "execution_count": null,
   "id": "12096ba0",
   "metadata": {},
   "outputs": [
    {
     "name": "stdout",
     "output_type": "stream",
     "text": [
      "1 hello hii True 12.34 False\n"
     ]
    }
   ],
   "source": [
    "a,b,c,d,e,f=pack_tuple   ## unpacked tuple\n",
    "print(a,b,c,d,e,f)"
   ]
  },
  {
   "cell_type": "code",
   "execution_count": 22,
   "id": "2ac679c7",
   "metadata": {},
   "outputs": [
    {
     "name": "stdout",
     "output_type": "stream",
     "text": [
      "1\n",
      "[2, 3, 4, 5, 6]\n",
      "7\n"
     ]
    }
   ],
   "source": [
    "nums=(1,2,3,4,5,6,7)\n",
    "st, *mid, end=nums   ## *mid takes all elements remining last and frist element \n",
    "print(st)\n",
    "print(mid)\n",
    "print(end)"
   ]
  },
  {
   "cell_type": "code",
   "execution_count": 28,
   "id": "16eb0747",
   "metadata": {},
   "outputs": [
    {
     "name": "stdout",
     "output_type": "stream",
     "text": [
      "['HII', 8]\n",
      "[4, True, 6]\n"
     ]
    }
   ],
   "source": [
    "lst=[[\"pupai\",2.2,3],[4,True,6],[\"HII\",8,9]]\n",
    "print(lst[2][:2:])\n",
    "print(lst[1])\n"
   ]
  },
  {
   "cell_type": "code",
   "execution_count": 30,
   "id": "85396728",
   "metadata": {},
   "outputs": [
    {
     "name": "stdout",
     "output_type": "stream",
     "text": [
      "('pupai', 2.2, 3)\n",
      "6\n"
     ]
    }
   ],
   "source": [
    "tup=((\"pupai\",2.2,3),(4,True,6),(\"HII\",8.9,False))\n",
    "print(tup[0])\n",
    "print(tup[1][2])"
   ]
  },
  {
   "cell_type": "code",
   "execution_count": 31,
   "id": "350a1a1f",
   "metadata": {},
   "outputs": [
    {
     "name": "stdout",
     "output_type": "stream",
     "text": [
      "pupai 2.2 3 \n",
      "4 True 6 \n",
      "HII 8.9 False \n"
     ]
    }
   ],
   "source": [
    "for sub_tup in tup:\n",
    "    for el in sub_tup:\n",
    "        print(el,end=\" \")\n",
    "    print(\"\")"
   ]
  },
  {
   "cell_type": "code",
   "execution_count": null,
   "id": "3c89eed8",
   "metadata": {},
   "outputs": [],
   "source": []
  }
 ],
 "metadata": {
  "kernelspec": {
   "display_name": "Python 3",
   "language": "python",
   "name": "python3"
  },
  "language_info": {
   "codemirror_mode": {
    "name": "ipython",
    "version": 3
   },
   "file_extension": ".py",
   "mimetype": "text/x-python",
   "name": "python",
   "nbconvert_exporter": "python",
   "pygments_lexer": "ipython3",
   "version": "3.12.11"
  }
 },
 "nbformat": 4,
 "nbformat_minor": 5
}

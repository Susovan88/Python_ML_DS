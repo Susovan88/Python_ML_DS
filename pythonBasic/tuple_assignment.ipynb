{
 "cells": [
  {
   "cell_type": "markdown",
   "id": "6cade624",
   "metadata": {},
   "source": [
    "# Module 3: Data Structures Assignments\n",
    "## Lesson 3.2: Tuples\n",
    "### Assignment 1: Creating and Accessing Tuples\n",
    "\n",
    "Create a tuple with the first 10 positive integers. Print the tuple.\n",
    "\n",
    "### Assignment 2: Accessing Tuple Elements\n",
    "\n",
    "Print the first, middle, and last elements of the tuple created in Assignment 1.\n",
    "\n",
    "### Assignment 3: Tuple Slicing\n",
    "\n",
    "Print the first three elements, the last three elements, and the elements from index 2 to 5 of the tuple created in Assignment 1.\n",
    "\n",
    "### Assignment 4: Nested Tuples\n",
    "\n",
    "Create a nested tuple representing a 3x3 matrix and print the matrix. Access and print the element at the second row and third column.\n",
    "\n",
    "### Assignment 5: Tuple Concatenation\n",
    "\n",
    "Concatenate two tuples: (1, 2, 3) and (4, 5, 6). Print the resulting tuple.\n",
    "\n",
    "### Assignment 6: Tuple Methods\n",
    "\n",
    "Create a tuple with duplicate elements and count the occurrences of an element. Find the index of the first occurrence of an element in the tuple.\n",
    "\n",
    "### Assignment 7: Unpacking Tuples\n",
    "\n",
    "Create a tuple with 5 elements and unpack it into 5 variables. Print the variables.\n",
    "\n",
    "### Assignment 8: Tuple Conversion\n",
    "\n",
    "Convert a list of the first 5 positive integers to a tuple. Print the tuple.\n",
    "\n",
    "### Assignment 9: Tuple of Tuples\n",
    "\n",
    "Create a tuple containing 3 tuples, each with 3 elements. Print the tuple of tuples.\n",
    "\n",
    "### Assignment 10: Tuple and List\n",
    "\n",
    "Create a tuple with the first 5 positive integers. Convert it to a list, append the number 6, and convert it back to a tuple. Print the resulting tuple.\n",
    "\n",
    "### Assignment 11: Tuple and String\n",
    "\n",
    "Create a tuple with the characters of a string. Join the tuple elements into a single string. Print the string.\n",
    "\n",
    "### Assignment 12: Tuple and Dictionary\n",
    "\n",
    "Create a dictionary with tuple keys and integer values. Print the dictionary.\n",
    "\n",
    "### Assignment 13: Nested Tuple Iteration\n",
    "\n",
    "Create a nested tuple and iterate over the elements, printing each element.\n",
    "\n",
    "### Assignment 14: Tuple and Set\n",
    "\n",
    "Create a tuple with duplicate elements. Convert it to a set to remove duplicates and print the resulting set.\n",
    "\n",
    "### Assignment 15: Tuple Functions\n",
    "\n",
    "Write functions that take a tuple and return the minimum, maximum, and sum of the elements. Print the results for a sample tuple."
   ]
  },
  {
   "cell_type": "code",
   "execution_count": 15,
   "metadata": {},
   "outputs": [
    {
     "name": "stdout",
     "output_type": "stream",
     "text": [
      "(1, 2, 3, 4, 5, 6, 7, 8, 9, 10)\n",
      "1 10 6\n",
      "(1, 2, 3) (8, 9, 10) (2, 3, 4, 5)\n"
     ]
    }
   ],
   "source": [
    "tup=tuple(i for i in range(1,11))\n",
    "print(tup)\n",
    "print(tup[0],tup[-1],tup[len(tup)//2])\n",
    "print(tup[:3],tup[-3:],tup[1:5])"
   ]
  },
  {
   "cell_type": "code",
   "execution_count": 16,
   "id": "d4bed6dc",
   "metadata": {},
   "outputs": [
    {
     "name": "stdout",
     "output_type": "stream",
     "text": [
      "1 2 3 \n",
      "4 5 6 \n",
      "7 8 9 \n",
      "6\n"
     ]
    }
   ],
   "source": [
    "matrix = (\n",
    "    (1, 2, 3),\n",
    "    (4, 5, 6),\n",
    "    (7, 8, 9)\n",
    ")\n",
    "for row in matrix:\n",
    "    for el in row:\n",
    "        print(el, end=\" \")\n",
    "    print('')\n",
    "print(matrix[1][2])"
   ]
  },
  {
   "cell_type": "code",
   "execution_count": 17,
   "id": "accd36b6",
   "metadata": {},
   "outputs": [
    {
     "name": "stdout",
     "output_type": "stream",
     "text": [
      "(1, 2, 3, 4, 5, 6)\n"
     ]
    }
   ],
   "source": [
    "tup1=(1,2,3)\n",
    "tup2=(4,5,6)\n",
    "add_tup=tup1+tup2\n",
    "print(add_tup)"
   ]
  },
  {
   "cell_type": "code",
   "execution_count": 23,
   "id": "6fa4a749",
   "metadata": {},
   "outputs": [
    {
     "name": "stdout",
     "output_type": "stream",
     "text": [
      "4 5\n",
      "5 4\n"
     ]
    }
   ],
   "source": [
    "nums=(1,2,1,2,3,0,3,3,3,4,1,0,5,6,7,3,1,4)\n",
    "print(nums.count(1),nums.count(3))\n",
    "print(nums.index(0),nums.index(3))"
   ]
  },
  {
   "cell_type": "code",
   "execution_count": 20,
   "id": "caf1e48d",
   "metadata": {},
   "outputs": [
    {
     "name": "stdout",
     "output_type": "stream",
     "text": [
      "1 3 2 4 5\n"
     ]
    }
   ],
   "source": [
    "nums=(1,3,2,4,5)\n",
    "n1,n2,n3,n4,n5=nums\n",
    "print(n1,n2,n3,n4,n5)"
   ]
  },
  {
   "cell_type": "code",
   "execution_count": null,
   "id": "97eb6bf4",
   "metadata": {},
   "outputs": [],
   "source": [
    "tuple_of_tuples = (\n",
    "    (1, 2, 3),\n",
    "    (4, 5, 6),\n",
    "    (7, 8, 9)\n",
    ")\n",
    "print(\"Tuple of Tuples:\")\n",
    "print(tuple_of_tuples)"
   ]
  },
  {
   "cell_type": "code",
   "execution_count": 25,
   "id": "937ae4c9",
   "metadata": {},
   "outputs": [
    {
     "name": "stdout",
     "output_type": "stream",
     "text": [
      "(1, 2, 3, 4)\n",
      "[1, 2, 3, 4, 6]\n",
      "(1, 2, 3, 4, 6)\n"
     ]
    }
   ],
   "source": [
    "tu=tuple(range(1,5))\n",
    "print(tu)\n",
    "ls=list(tu)\n",
    "ls.append(6)\n",
    "print(ls)\n",
    "tu=tuple(ls)\n",
    "print(tu)"
   ]
  },
  {
   "cell_type": "code",
   "execution_count": 28,
   "id": "a5a96ea0",
   "metadata": {},
   "outputs": [
    {
     "name": "stdout",
     "output_type": "stream",
     "text": [
      "('S', 'u', 's', 'o', 'v', 'a', 'n', 'P', 'a', 'u', 'l')\n",
      "SusovanPaul\n"
     ]
    }
   ],
   "source": [
    "ch=tuple(\"SusovanPaul\")\n",
    "print(ch)\n",
    "\n",
    "name=\"\".join(ch)\n",
    "print(name)"
   ]
  },
  {
   "cell_type": "code",
   "execution_count": 29,
   "id": "b4845d20",
   "metadata": {},
   "outputs": [
    {
     "name": "stdout",
     "output_type": "stream",
     "text": [
      "{(1, 2): 12, (2, 3): 23, (8, 9): 89, (5, 6): 56}\n"
     ]
    }
   ],
   "source": [
    "ds={\n",
    "    (1,2):12,\n",
    "    (2,3):23,\n",
    "    (8,9):89,\n",
    "    (5,6):56\n",
    "}\n",
    "print(ds)"
   ]
  },
  {
   "cell_type": "code",
   "execution_count": 31,
   "id": "e3c45f56",
   "metadata": {},
   "outputs": [
    {
     "name": "stdout",
     "output_type": "stream",
     "text": [
      "{0, 1, 2, 3, 4, 5, 6, 7, 21}\n"
     ]
    }
   ],
   "source": [
    "nums=(1,2,1,21,1,1,1,1,1,1,2,3,0,3,3,3,4,1,0,5,6,7,3,1,4)\n",
    "st=set(nums) ## remove duplicate elements\n",
    "print(st)"
   ]
  },
  {
   "cell_type": "code",
   "execution_count": 32,
   "id": "4bf41458",
   "metadata": {},
   "outputs": [
    {
     "name": "stdout",
     "output_type": "stream",
     "text": [
      "21 0 49\n"
     ]
    }
   ],
   "source": [
    "els=(0, 1, 2, 3, 4, 5, 6, 7, 21)\n",
    "\n",
    "print(max(els),min(els),sum(els))"
   ]
  }
 ],
 "metadata": {
  "kernelspec": {
   "display_name": "Python 3",
   "language": "python",
   "name": "python3"
  },
  "language_info": {
   "codemirror_mode": {
    "name": "ipython",
    "version": 3
   },
   "file_extension": ".py",
   "mimetype": "text/x-python",
   "name": "python",
   "nbconvert_exporter": "python",
   "pygments_lexer": "ipython3",
   "version": "3.12.11"
  }
 },
 "nbformat": 4,
 "nbformat_minor": 5
}

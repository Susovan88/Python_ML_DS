{
 "cells": [
  {
   "cell_type": "code",
   "execution_count": null,
   "id": "83e66256",
   "metadata": {},
   "outputs": [],
   "source": [
    "# a=b    ## -> NameError: name 'b' is not defined\n",
    "# a=8/0   ## -> ZeroDivisionError: division by zero"
   ]
  },
  {
   "cell_type": "code",
   "execution_count": null,
   "id": "6f838131",
   "metadata": {},
   "outputs": [
    {
     "name": "stdout",
     "output_type": "stream",
     "text": [
      "NameError occurd ->  name 'b' is not defined\n"
     ]
    }
   ],
   "source": [
    "#### Subclass of Exception ->>\n",
    "#### ValueError,TypeError,IndexError,KeyError,FileNotFoundError,ZeroDivisionError,AttributeError,ImportError,StopIteration,RuntimeError,OSError \n",
    "\n",
    "try:\n",
    "    a=b\n",
    "except NameError as ex:\n",
    "    print(\"NameError occurd -> \", ex)"
   ]
  },
  {
   "cell_type": "code",
   "execution_count": null,
   "id": "fca26607",
   "metadata": {},
   "outputs": [
    {
     "name": "stdout",
     "output_type": "stream",
     "text": [
      "1.0344827586206897\n",
      "Exception ->  name 'ert5e' is not defined\n"
     ]
    }
   ],
   "source": [
    "try:\n",
    "    a=90\n",
    "    num=int(input(\"Enter a number ; \"))\n",
    "    result=a/num\n",
    "    print(result)\n",
    "except ZeroDivisionError as ex:\n",
    "    print(\"ZeroDivisionError happend -> \",ex)\n",
    "except ValueError as ex:\n",
    "    print(\"ValueError -> \",ex)\n",
    "except Exception as ex:\n",
    "    print(\"Exception -> \",ex)\n"
   ]
  },
  {
   "cell_type": "code",
   "execution_count": null,
   "id": "471b9e4d",
   "metadata": {},
   "outputs": [
    {
     "name": "stdout",
     "output_type": "stream",
     "text": [
      "ValueError ->  invalid literal for int() with base 10: 'wqwe'\n"
     ]
    }
   ],
   "source": [
    "### try except else blocks\n",
    "try:\n",
    "    a=90\n",
    "    num=int(input(\"Enter a number ; \"))\n",
    "    result=a/num\n",
    "except ZeroDivisionError as ex:\n",
    "    print(\"ZeroDivisionError happend -> \",ex)\n",
    "except ValueError as ex:\n",
    "    print(\"ValueError -> \",ex)\n",
    "except Exception as ex:\n",
    "    print(\"Exception -> \",ex)\n",
    "else:  ### when try block code run successfully and do not give error.then else block run\n",
    "    print(\"the result is - \",result)\n"
   ]
  },
  {
   "cell_type": "code",
   "execution_count": 22,
   "id": "3238b0fd",
   "metadata": {},
   "outputs": [
    {
     "name": "stdout",
     "output_type": "stream",
     "text": [
      "ZeroDivisionError happend ->  division by zero\n",
      "work done of function is end!!\n"
     ]
    }
   ],
   "source": [
    "## try except else finally block\n",
    "\n",
    "try:\n",
    "    a=90\n",
    "    num=int(input(\"Enter a number ; \"))\n",
    "    result=a/num\n",
    "except ZeroDivisionError as ex:\n",
    "    print(\"ZeroDivisionError happend -> \",ex)\n",
    "except ValueError as ex:\n",
    "    print(\"ValueError -> \",ex)\n",
    "except Exception as ex:\n",
    "    print(\"Exception -> \",ex)\n",
    "else:              ### when 'try block' code run successfully and do not get error.then 'else block' run\n",
    "    print(\"the result is - \",result)\n",
    "finally:           ### No matter 'try block' gives error or not, 'finally block' always run\n",
    "    print(\"work done of function is end!!\")"
   ]
  },
  {
   "cell_type": "code",
   "execution_count": null,
   "metadata": {},
   "outputs": [
    {
     "name": "stdout",
     "output_type": "stream",
     "text": [
      "errors ->  name 'u' is not defined\n",
      "file closed successfully!!\n"
     ]
    }
   ],
   "source": [
    "### file handeling error  \n",
    "\n",
    "try:\n",
    "    file=open(\"example1.txt\",'r')\n",
    "    content=file.read()\n",
    "    print(content)\n",
    "except FileNotFoundError:\n",
    "    print(\"this file not found. Please provide currect file!!\")\n",
    "except Exception as ex:\n",
    "    print(\"errors -> \",ex)\n",
    "finally:\n",
    "    if 'file' in locals() or not file.closed():\n",
    "        file.close()\n",
    "        print(\"file closed successfully!!\")\n",
    "\n",
    "###    'file' in locals() =>> Checks if the variable file was created in the current function or block."
   ]
  },
  {
   "cell_type": "code",
   "execution_count": null,
   "id": "2d8393b9",
   "metadata": {},
   "outputs": [],
   "source": []
  },
  {
   "cell_type": "code",
   "execution_count": null,
   "id": "9c62b5c7",
   "metadata": {},
   "outputs": [],
   "source": []
  }
 ],
 "metadata": {
  "kernelspec": {
   "display_name": "Python 3",
   "language": "python",
   "name": "python3"
  },
  "language_info": {
   "codemirror_mode": {
    "name": "ipython",
    "version": 3
   },
   "file_extension": ".py",
   "mimetype": "text/x-python",
   "name": "python",
   "nbconvert_exporter": "python",
   "pygments_lexer": "ipython3",
   "version": "3.12.11"
  }
 },
 "nbformat": 4,
 "nbformat_minor": 5
}

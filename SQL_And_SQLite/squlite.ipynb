{
 "cells": [
  {
   "cell_type": "markdown",
   "id": "4395048f",
   "metadata": {},
   "source": [
    "### 🗄️ SQLite Special Features\n",
    "SQLite is lightweight and runs as a file-based DB, no server required.\n",
    "\n",
    "✅ File stored as database.db.\n",
    "\n",
    "✅ You can interact using command-line:"
   ]
  },
  {
   "cell_type": "code",
   "execution_count": 1,
   "id": "5a6b242d",
   "metadata": {},
   "outputs": [],
   "source": [
    "import sqlite3"
   ]
  },
  {
   "cell_type": "code",
   "execution_count": 2,
   "id": "90b6a91d",
   "metadata": {},
   "outputs": [
    {
     "data": {
      "text/plain": [
       "<sqlite3.Connection at 0x265cc2f2110>"
      ]
     },
     "execution_count": 2,
     "metadata": {},
     "output_type": "execute_result"
    }
   ],
   "source": [
    "## connect sqlite database\n",
    "connection=sqlite3.connect(\"example.db\")\n",
    "connection"
   ]
  },
  {
   "cell_type": "code",
   "execution_count": null,
   "id": "6f45e6e1",
   "metadata": {},
   "outputs": [],
   "source": [
    "### # Create a cursor to execute SQL commands\n",
    "cursor=connection.cursor()"
   ]
  },
  {
   "cell_type": "code",
   "execution_count": 5,
   "id": "b42ed932",
   "metadata": {},
   "outputs": [],
   "source": [
    "## create table\n",
    "cursor.execute('''\n",
    "create Table if not Exists employees(\n",
    "               id integer Primary key,\n",
    "               name Text not Null,\n",
    "               age Integer,\n",
    "               depertment text\n",
    "               )\n",
    "''')\n",
    "\n",
    "## commit the changes\n",
    "connection.commit()"
   ]
  },
  {
   "cell_type": "code",
   "execution_count": null,
   "id": "332f1dce",
   "metadata": {},
   "outputs": [
    {
     "data": {
      "text/plain": [
       "<sqlite3.Cursor at 0x265cc53abc0>"
      ]
     },
     "execution_count": 6,
     "metadata": {},
     "output_type": "execute_result"
    }
   ],
   "source": [
    "cursor.execute('''\n",
    "select * from employees\n",
    "''')   ## you can see the that a new table is created."
   ]
  },
  {
   "cell_type": "code",
   "execution_count": 8,
   "id": "26dc4644",
   "metadata": {},
   "outputs": [
    {
     "name": "stdout",
     "output_type": "stream",
     "text": [
      "(0, 'id', 'INTEGER', 0, None, 1)\n",
      "(1, 'name', 'TEXT', 1, None, 0)\n",
      "(2, 'age', 'INTEGER', 0, None, 0)\n",
      "(3, 'depertment', 'TEXT', 0, None, 0)\n"
     ]
    }
   ],
   "source": [
    "cursor.execute(\"PRAGMA table_info(employees)\")\n",
    "for column in cursor.fetchall():\n",
    "    print(column)"
   ]
  },
  {
   "cell_type": "code",
   "execution_count": 20,
   "metadata": {},
   "outputs": [],
   "source": [
    "### inser data in sqlite3 table\n",
    "cursor.execute(\"\"\"\n",
    "Insert into employees(name,age,depertment)\n",
    "               values(\"susovan\",21,\"Data Scientist\")\n",
    "\"\"\")\n",
    "cursor.execute(\"\"\"\n",
    "Insert into employees(name,age,depertment)\n",
    "               values(\"papai\",12,\"Data Scientist\")\n",
    "\"\"\")\n",
    "cursor.execute(\"\"\"\n",
    "Insert into employees(name,age,depertment)\n",
    "               values(\"sam\",20,\"Data ML\")\n",
    "\"\"\")\n",
    "\n",
    "connection.commit() ## commit the changes"
   ]
  },
  {
   "cell_type": "code",
   "execution_count": 21,
   "id": "9cf519ed",
   "metadata": {},
   "outputs": [
    {
     "name": "stdout",
     "output_type": "stream",
     "text": [
      "(8, 'pupai', 22, 'Data Scientist')\n",
      "(9, 'Ram', 19, 'Data ML')\n",
      "(10, 'susovan', 21, 'Data Scientist')\n",
      "(11, 'papai', 12, 'Data Scientist')\n",
      "(12, 'sam', 20, 'Data ML')\n"
     ]
    }
   ],
   "source": [
    "### Query the data from the table \n",
    "cursor.execute(\"select * from employees\")\n",
    "rows=cursor.fetchall()\n",
    "for row in rows:\n",
    "    print(row)"
   ]
  },
  {
   "cell_type": "code",
   "execution_count": 22,
   "id": "5358dcc2",
   "metadata": {},
   "outputs": [],
   "source": [
    "### update data in table\n",
    "cursor.execute(\"\"\"\n",
    "update employees\n",
    "               set age=19\n",
    "               where name=\"Ram\"\n",
    "\"\"\")\n",
    "connection.commit()\n"
   ]
  },
  {
   "cell_type": "code",
   "execution_count": 23,
   "id": "7142bcd9",
   "metadata": {},
   "outputs": [
    {
     "name": "stdout",
     "output_type": "stream",
     "text": [
      "(8, 'pupai', 22, 'Data Scientist')\n",
      "(9, 'Ram', 19, 'Data ML')\n",
      "(10, 'susovan', 21, 'Data Scientist')\n",
      "(11, 'papai', 12, 'Data Scientist')\n",
      "(12, 'sam', 20, 'Data ML')\n"
     ]
    }
   ],
   "source": [
    "### Query the data from the table \n",
    "cursor.execute(\"select * from employees\")\n",
    "rows=cursor.fetchall()\n",
    "for row in rows:\n",
    "    print(row)"
   ]
  },
  {
   "cell_type": "code",
   "execution_count": 24,
   "id": "cc40166a",
   "metadata": {},
   "outputs": [
    {
     "name": "stdout",
     "output_type": "stream",
     "text": [
      "(8, 'pupai', 22, 'Data Scientist')\n",
      "(9, 'Ram', 19, 'Data ML')\n",
      "(11, 'papai', 12, 'Data Scientist')\n",
      "(12, 'sam', 20, 'Data ML')\n"
     ]
    }
   ],
   "source": [
    "## delete data from table \n",
    "cursor.execute(\"\"\"\n",
    "delete from employees \n",
    "               where name=\"susovan\"\n",
    "\"\"\")\n",
    "\n",
    "connection.commit()\n",
    "\n",
    "cursor.execute(\"select * from employees\")\n",
    "rows=cursor.fetchall()\n",
    "for row in rows:\n",
    "    print(row)"
   ]
  },
  {
   "cell_type": "code",
   "execution_count": 25,
   "id": "3504a43b",
   "metadata": {},
   "outputs": [],
   "source": [
    "### working with sales data\n",
    "\n",
    "connection=sqlite3.connect(\"sales_data.db\")\n",
    "cursor=connection.cursor()\n",
    "\n",
    "cursor.execute(\"\"\"\n",
    "create table if not exists sales(\n",
    "               id integer primary key,\n",
    "               date text not null,\n",
    "               product text not null,\n",
    "               sales integer,\n",
    "               region text\n",
    "               )\n",
    "\"\"\")\n",
    "\n",
    "connection.commit()\n"
   ]
  },
  {
   "cell_type": "code",
   "execution_count": 26,
   "id": "785c9ae0",
   "metadata": {},
   "outputs": [
    {
     "name": "stdout",
     "output_type": "stream",
     "text": [
      "(0, 'id', 'INTEGER', 0, None, 1)\n",
      "(1, 'date', 'TEXT', 1, None, 0)\n",
      "(2, 'product', 'TEXT', 1, None, 0)\n",
      "(3, 'sales', 'INTEGER', 0, None, 0)\n",
      "(4, 'region', 'TEXT', 0, None, 0)\n"
     ]
    }
   ],
   "source": [
    "cursor.execute(\"PRAGMA table_info(sales)\")\n",
    "for column in cursor.fetchall():\n",
    "    print(column)"
   ]
  },
  {
   "cell_type": "code",
   "execution_count": 27,
   "id": "27b54c55",
   "metadata": {},
   "outputs": [],
   "source": [
    "### insert many together\n",
    "sales_data = [\n",
    "    (\"2025-07-01\", \"Laptop\", 15, \"North\"),\n",
    "    (\"2025-07-02\", \"Phone\", 25, \"East\"),\n",
    "    (\"2025-07-03\", \"Tablet\", 10, \"West\"),\n",
    "    (\"2025-07-04\", \"Monitor\", 12, \"South\"),\n",
    "    (\"2025-07-05\", \"Keyboard\", 30, \"North\"),\n",
    "    (\"2025-07-06\", \"Mouse\", 50, \"East\"),\n",
    "    (\"2025-07-07\", \"Charger\", 20, \"West\")\n",
    "]\n",
    "\n",
    "cursor.executemany(\"\"\"\n",
    "Insert into sales (date, product,sales, region)\n",
    "                   values(?,?,?,?)\n",
    "\"\"\",sales_data)\n",
    "\n",
    "connection.commit()"
   ]
  },
  {
   "cell_type": "code",
   "execution_count": 28,
   "id": "5da21e25",
   "metadata": {},
   "outputs": [
    {
     "name": "stdout",
     "output_type": "stream",
     "text": [
      "(1, '2025-07-01', 'Laptop', 15, 'North')\n",
      "(2, '2025-07-02', 'Phone', 25, 'East')\n",
      "(3, '2025-07-03', 'Tablet', 10, 'West')\n",
      "(4, '2025-07-04', 'Monitor', 12, 'South')\n",
      "(5, '2025-07-05', 'Keyboard', 30, 'North')\n",
      "(6, '2025-07-06', 'Mouse', 50, 'East')\n",
      "(7, '2025-07-07', 'Charger', 20, 'West')\n"
     ]
    }
   ],
   "source": [
    "cursor.execute(\"select * from sales\")\n",
    "rows=cursor.fetchall()\n",
    "for row in rows:\n",
    "    print(row)"
   ]
  },
  {
   "cell_type": "code",
   "execution_count": 29,
   "id": "8ca11fe5",
   "metadata": {},
   "outputs": [],
   "source": [
    "## close connection \n",
    "connection.close()"
   ]
  }
 ],
 "metadata": {
  "kernelspec": {
   "display_name": "Python 3",
   "language": "python",
   "name": "python3"
  },
  "language_info": {
   "codemirror_mode": {
    "name": "ipython",
    "version": 3
   },
   "file_extension": ".py",
   "mimetype": "text/x-python",
   "name": "python",
   "nbconvert_exporter": "python",
   "pygments_lexer": "ipython3",
   "version": "3.12.11"
  }
 },
 "nbformat": 4,
 "nbformat_minor": 5
}

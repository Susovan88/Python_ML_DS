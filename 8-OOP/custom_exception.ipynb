{
 "cells": [
  {
   "cell_type": "code",
   "execution_count": null,
   "id": "b0598ce0",
   "metadata": {},
   "outputs": [
    {
     "name": "stdout",
     "output_type": "stream",
     "text": [
      "Error -  Invalid Year!\n"
     ]
    }
   ],
   "source": [
    "class Error(Exception):\n",
    "    pass\n",
    "\n",
    "class dobException(Error):\n",
    "    pass\n",
    "class NegativeAgeException(Error):\n",
    "    pass\n",
    "\n",
    "try:\n",
    "    year=int(input(\"Enter birth year : \"))\n",
    "    if(year<1945):\n",
    "        raise NegativeAgeException(\"Invalid Year!\")\n",
    "    age=2024-year\n",
    "    if(age>=20 and age<=30):\n",
    "        print(\" You age eligible for this job interview.\")\n",
    "    else:\n",
    "        raise dobException(\"You age is not valid for this interview\")\n",
    "except NegativeAgeException as ex:\n",
    "    print(\"Error - \",ex)\n",
    "except dobException as ex:\n",
    "    print(f\"Error is -> {ex}\")"
   ]
  },
  {
   "cell_type": "code",
   "execution_count": null,
   "id": "05e80b4d",
   "metadata": {},
   "outputs": [],
   "source": []
  },
  {
   "cell_type": "code",
   "execution_count": null,
   "id": "ad34abf1",
   "metadata": {},
   "outputs": [],
   "source": []
  }
 ],
 "metadata": {
  "kernelspec": {
   "display_name": "Python 3",
   "language": "python",
   "name": "python3"
  },
  "language_info": {
   "codemirror_mode": {
    "name": "ipython",
    "version": 3
   },
   "file_extension": ".py",
   "mimetype": "text/x-python",
   "name": "python",
   "nbconvert_exporter": "python",
   "pygments_lexer": "ipython3",
   "version": "3.12.11"
  }
 },
 "nbformat": 4,
 "nbformat_minor": 5
}

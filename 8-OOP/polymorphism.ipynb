{
 "cells": [
  {
   "cell_type": "code",
   "execution_count": null,
   "id": "2e87be2c",
   "metadata": {},
   "outputs": [
    {
     "name": "stdout",
     "output_type": "stream",
     "text": [
      "the area of ractangle is 540\n",
      "the area of circle is 66.44239999999999\n"
     ]
    }
   ],
   "source": [
    "### the same function name or method behaves differently for different classes or objects.\n",
    "### 'method overriding '-> Happens when a child class provides its own implementation for a method that’s already defined in the parent class.\n",
    "## This allows the child class to change or extend behavior.\n",
    "class Shape:\n",
    "    def area(self):\n",
    "        print(f\"the area of this shape is - not define\")\n",
    "\n",
    "class Ractangle(Shape):\n",
    "    def __init__(self,height,widht):\n",
    "        self.height=height\n",
    "        self.width=widht\n",
    "    def area(self):\n",
    "        print(f\"the area of ractangle is {self.height* self.width}\")\n",
    "\n",
    "class Circle(Shape):\n",
    "    def __init__(self,redius):\n",
    "        self.redius=redius\n",
    "    def area(self):\n",
    "        print(f\"the area of circle is {3.14 * self.redius* self.redius}\")\n",
    "\n",
    "def get_area(shape):\n",
    "    shape.area()\n",
    "\n",
    "\n",
    "rac=Ractangle(12,45)\n",
    "cir=Circle(4.6)\n",
    "\n",
    "get_area(rac)\n",
    "get_area(cir)"
   ]
  },
  {
   "cell_type": "code",
   "execution_count": null,
   "id": "66a21be0",
   "metadata": {},
   "outputs": [],
   "source": []
  },
  {
   "cell_type": "code",
   "execution_count": null,
   "id": "38a5ab96",
   "metadata": {},
   "outputs": [
    {
     "name": "stdout",
     "output_type": "stream",
     "text": [
      " Vehicle engine type is - ELECTRIC\n",
      " Vehicle engine type is - Petrol\n"
     ]
    }
   ],
   "source": [
    "\"\"\"\n",
    "\n",
    "An 'Abstract Base Class' is like a blueprint for other classes.\n",
    "\n",
    "✅ You define methods in the abstract class, but you don’t implement them there.\n",
    "✅ Child classes (subclasses) must implement those methods.\n",
    "\n",
    "\"\"\"\n",
    "\n",
    "from abc import ABC,abstractmethod\n",
    "\n",
    "class Vehicle(ABC):\n",
    "    @abstractmethod\n",
    "    def start_engine(self):\n",
    "        pass\n",
    "\n",
    "class Car(Vehicle):\n",
    "    def __init__(self,engine_type):\n",
    "        self.engine_type=engine_type\n",
    "    def start_engine(self):\n",
    "        print(f\" Vehicle engine type is - {self.engine_type}\")\n",
    "\n",
    "class Motorcycle(Vehicle):\n",
    "    def __init__(self,engine_type,speed):\n",
    "        self.speed=speed\n",
    "        self.engine_type=engine_type\n",
    "    def start_engine(self):\n",
    "        print(f\" Vehicle engine type is - {self.engine_type}\")\n",
    "\n",
    "\n",
    "def get_engine(vehicle):\n",
    "    vehicle.start_engine()\n",
    "        \n",
    "car1=Car(\"ELECTRIC\")\n",
    "moto=Motorcycle(\"Petrol\",20)\n",
    "\n",
    "get_engine(car1)\n",
    "get_engine(moto)"
   ]
  },
  {
   "cell_type": "code",
   "execution_count": null,
   "id": "3e791d0e",
   "metadata": {},
   "outputs": [],
   "source": []
  },
  {
   "cell_type": "code",
   "execution_count": null,
   "id": "5bcc6b23",
   "metadata": {},
   "outputs": [],
   "source": []
  },
  {
   "cell_type": "code",
   "execution_count": null,
   "id": "f9c840ca",
   "metadata": {},
   "outputs": [],
   "source": []
  }
 ],
 "metadata": {
  "kernelspec": {
   "display_name": "Python 3",
   "language": "python",
   "name": "python3"
  },
  "language_info": {
   "codemirror_mode": {
    "name": "ipython",
    "version": 3
   },
   "file_extension": ".py",
   "mimetype": "text/x-python",
   "name": "python",
   "nbconvert_exporter": "python",
   "pygments_lexer": "ipython3",
   "version": "3.12.11"
  }
 },
 "nbformat": 4,
 "nbformat_minor": 5
}

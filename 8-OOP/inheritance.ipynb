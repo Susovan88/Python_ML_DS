{
 "cells": [
  {
   "cell_type": "code",
   "execution_count": null,
   "id": "338193c0",
   "metadata": {},
   "outputs": [
    {
     "name": "stdout",
     "output_type": "stream",
     "text": [
      "BMW electric\n",
      "the man drive BMW car. engine type is electric\n"
     ]
    }
   ],
   "source": [
    "class Car:    ## parent class\n",
    "    def __init__(self,name,windows,doors,engine_type):\n",
    "        self.name=name\n",
    "        self.windows=windows\n",
    "        self.doors=doors\n",
    "        self.engine_type=engine_type\n",
    "    \n",
    "    def drive(self):\n",
    "        print(f\"the man drive {self.name} car. engine type is {self.engine_type}\")\n",
    "\n",
    "\n",
    "car1=Car(\"BMW\",6,4,\"electric\")\n",
    "\n",
    "print(car1.name,car1.engine_type)\n",
    "car1.drive()\n",
    "        "
   ]
  },
  {
   "cell_type": "code",
   "execution_count": null,
   "id": "c1197415",
   "metadata": {},
   "outputs": [],
   "source": [
    "class Tesla(Car):   ## single inheritance\n",
    "    def __init__(self, name, windows, doors, engine_type,is_auto_drive):\n",
    "        super().__init__(name,windows,doors,engine_type)\n",
    "        self.is_auto_drive=is_auto_drive\n",
    "    \n",
    "    def auto_drive(self):\n",
    "        print(f\"then man drive {self.name} car . It's auto driven Mode is - {self.is_auto_drive}\")\n",
    "        "
   ]
  },
  {
   "cell_type": "code",
   "execution_count": 5,
   "id": "f8c30e8a",
   "metadata": {},
   "outputs": [
    {
     "name": "stdout",
     "output_type": "stream",
     "text": [
      "avenger soler power\n",
      "then man drive avenger car . It's auto driven Mode is - True\n",
      "the man drive avenger car. engine type is soler power\n"
     ]
    }
   ],
   "source": [
    "tesla1=Tesla(\"avenger\",10,5,\"soler power\",True)\n",
    "\n",
    "print(tesla1.name,tesla1.engine_type)\n",
    "tesla1.auto_drive()\n",
    "tesla1.drive()"
   ]
  },
  {
   "cell_type": "code",
   "execution_count": 10,
   "id": "5aad2c8d",
   "metadata": {},
   "outputs": [
    {
     "name": "stdout",
     "output_type": "stream",
     "text": [
      "Tow Susovan\n",
      "Tow is name of A Dog . he orshe eats food linkes -> ['milk', 'fish', 'rice']\n"
     ]
    }
   ],
   "source": [
    "class Animal:\n",
    "    def __init__(self,name,age):\n",
    "        self.name=name\n",
    "        self.age=age\n",
    "    def speak(self):\n",
    "        print(f\" {self.name} is speak that 'wooof\")\n",
    "\n",
    "class Pet:\n",
    "    def __init__(self,owner):\n",
    "        self.owner=owner\n",
    "\n",
    "class Dog(Animal,Pet):\n",
    "    def __init__(self, name, age,owner,eatting_foods):\n",
    "        Animal.__init__(self,name,age)\n",
    "        Pet.__init__(self,owner)\n",
    "        self.eatting_foods=eatting_foods\n",
    "        \n",
    "    def speak(self):\n",
    "        print(f\"{self.name} is name of A Dog . he orshe eats food linkes -> {self.eatting_foods}\")\n",
    "\n",
    "\n",
    "dog1=Dog(\"Tow\",9,\"Susovan\",[\"milk\",\"fish\",\"rice\"])\n",
    "print(dog1.name,dog1.owner)\n",
    "dog1.speak()\n",
    "\n",
    "        "
   ]
  },
  {
   "cell_type": "code",
   "execution_count": null,
   "id": "bada536c",
   "metadata": {},
   "outputs": [],
   "source": []
  },
  {
   "cell_type": "code",
   "execution_count": null,
   "id": "c83386a3",
   "metadata": {},
   "outputs": [],
   "source": []
  }
 ],
 "metadata": {
  "kernelspec": {
   "display_name": "Python 3",
   "language": "python",
   "name": "python3"
  },
  "language_info": {
   "codemirror_mode": {
    "name": "ipython",
    "version": 3
   },
   "file_extension": ".py",
   "mimetype": "text/x-python",
   "name": "python",
   "nbconvert_exporter": "python",
   "pygments_lexer": "ipython3",
   "version": "3.12.11"
  }
 },
 "nbformat": 4,
 "nbformat_minor": 5
}

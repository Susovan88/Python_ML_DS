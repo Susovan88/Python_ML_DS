{
 "cells": [
  {
   "cell_type": "markdown",
   "metadata": {},
   "source": [
    "# Module: Classes and Objects Assignments\n",
    "## Lesson: Creating and Working with Classes and Objects\n",
    "### Assignment 1: Basic Class and Object Creation\n",
    "\n",
    "Create a class named `Car` with attributes `make`, `model`, and `year`. Create an object of the class and print its attributes.\n",
    "\n",
    "### Assignment 2: Methods in Class\n",
    "\n",
    "Add a method named `start_engine` to the `Car` class that prints a message when the engine starts. Create an object of the class and call the method.\n",
    "\n",
    "### Assignment 3: Class with Constructor\n",
    "\n",
    "Create a class named `Student` with attributes `name` and `age`. Use a constructor to initialize these attributes. Create an object of the class and print its attributes.\n",
    "\n",
    "### Assignment 4: Class with Private Attributes\n",
    "\n",
    "Create a class named `BankAccount` with private attributes `account_number` and `balance`. Add methods to deposit and withdraw money, and to check the balance. Create an object of the class and perform some operations.\n",
    "\n",
    "### Assignment 5: Class Inheritance\n",
    "\n",
    "Create a base class named `Person` with attributes `name` and `age`. Create a derived class named `Employee` that inherits from `Person` and adds an attribute `employee_id`. Create an object of the derived class and print its attributes.\n",
    "\n",
    "### Assignment 6: Method Overriding\n",
    "\n",
    "In the `Employee` class, override the `__str__` method to return a string representation of the object. Create an object of the class and print it.\n",
    "\n",
    "### Assignment 7: Class Composition\n",
    "\n",
    "Create a class named `Address` with attributes `street`, `city`, and `zipcode`. Create a class named `Person` that has an `Address` object as an attribute. Create an object of the `Person` class and print its address.\n",
    "\n",
    "### Assignment 8: Class with Class Variables\n",
    "\n",
    "Create a class named `Counter` with a class variable `count`. Each time an object is created, increment the count. Add a method to get the current count. Create multiple objects and print the count.\n",
    "\n",
    "### Assignment 9: Static Methods\n",
    "\n",
    "Create a class named `MathOperations` with a static method to calculate the square root of a number. Call the static method without creating an object.\n",
    "\n",
    "### Assignment 10: Class with Properties\n",
    "\n",
    "Create a class named `Rectangle` with private attributes `length` and `width`. Use properties to get and set these attributes. Create an object of the class and test the properties.\n",
    "\n",
    "### Assignment 11: Abstract Base Class\n",
    "\n",
    "Create an abstract base class named `Shape` with an abstract method `area`. Create derived classes `Circle` and `Square` that implement the `area` method. Create objects of the derived classes and call the `area` method.\n",
    "\n",
    "### Assignment 12: Operator Overloading\n",
    "\n",
    "Create a class named `Vector` with attributes `x` and `y`. Overload the `+` operator to add two `Vector` objects. Create objects of the class and test the operator overloading.\n",
    "\n",
    "### Assignment 13: Class with Custom Exception\n",
    "\n",
    "Create a custom exception named `InsufficientBalanceError`. In the `BankAccount` class, raise this exception when a withdrawal amount is greater than the balance. Handle the exception and print an appropriate message.\n",
    "\n",
    "### Assignment 14: Class with Context Manager\n",
    "\n",
    "Create a class named `FileManager` that implements the context manager protocol to open and close a file. Use this class to read the contents of a file.\n",
    "\n",
    "### Assignment 15: Chaining Methods\n",
    "\n",
    "Create a class named `Calculator` with methods to add, subtract, multiply, and divide. Each method should return the object itself to allow method chaining. Create an object and chain multiple method calls."
   ]
  },
  {
   "cell_type": "code",
   "execution_count": null,
   "metadata": {},
   "outputs": [],
   "source": []
  },
  {
   "cell_type": "code",
   "execution_count": null,
   "id": "0cdd422d",
   "metadata": {},
   "outputs": [],
   "source": []
  },
  {
   "cell_type": "code",
   "execution_count": 4,
   "id": "3696e6cd",
   "metadata": {},
   "outputs": [],
   "source": [
    "## instance variables -> owner, balance\n",
    "class BankAccount:\n",
    "    # constructor function\n",
    "    def __init__(self,owner,account_id,balance=0):\n",
    "        self.owner=owner\n",
    "        self.__balance=balance\n",
    "        self.__account_id=account_id\n",
    "    \n",
    "    ## instance methods\n",
    "    def deposit(self,amount):\n",
    "        self.__balance+=amount\n",
    "        print(\"In account no. - \",self.__account_id,\"after deposit -> \",amount,\" In your account total balance is \",self.__balance)\n",
    "    def  withdraw(self,amount):\n",
    "        if amount>self.__balance:\n",
    "            print(\" Insufficient Funds!\")\n",
    "        else:\n",
    "            self.__balance-=amount\n",
    "            print(\"In account no. - \",self.__account_id,\"after withdraw -> \",amount,\" In your account total balance is \",self.__balance)\n",
    "    def get_balance(self):\n",
    "        return(self.__balance)\n",
    "    "
   ]
  },
  {
   "cell_type": "code",
   "execution_count": 6,
   "id": "d9c5e35d",
   "metadata": {},
   "outputs": [
    {
     "name": "stdout",
     "output_type": "stream",
     "text": [
      "In account no. -  1234 after deposit ->  200  In your account total balance is  9200\n",
      "In account no. -  1234 after withdraw ->  800  In your account total balance is  8400\n"
     ]
    }
   ],
   "source": [
    "acc1=BankAccount(\"susovan\",1234,9000)\n",
    "\n",
    "acc1.deposit(200)\n",
    "acc1.withdraw(800)"
   ]
  },
  {
   "cell_type": "code",
   "execution_count": 7,
   "id": "5c52c009",
   "metadata": {},
   "outputs": [],
   "source": [
    "class Address:\n",
    "    def __init__(self,street,city,pin_code):\n",
    "        self.street=street\n",
    "        self.city=city\n",
    "        self.pin_code=pin_code\n",
    "    \n",
    "class Person(Address):\n",
    "    def __init__(self,name,age,street,city,pin_code):\n",
    "        super().__init__(street,city,pin_code)\n",
    "        self.name=name\n",
    "        self.age=age\n",
    "        \n",
    "    def __str__(self):  ## customize __str__\n",
    "        return f\"person name is - {self.name} , and age is : {self.age}\"\n",
    "    \n",
    "    def __repr__(self):\n",
    "        return f\" preson object has -> ( name: {self.name}, age: {self.age} )\"\n",
    "    \n",
    "class Employee(Person):\n",
    "    def __init__(self, name, age, street, city, pin_code,employee_id):\n",
    "        super().__init__(name, age, street, city, pin_code)\n",
    "        self.employee_id=employee_id\n",
    "\n",
    "    def __str__(self):  ## customize __str__\n",
    "        return f\"Employee name is - {self.name} , and age is : {self.age}, Employee id is {self.employee_id}, address -> street- {self.street}, city - {self.city}, pin code- {self.pin_code}\"\n",
    "\n",
    "    "
   ]
  },
  {
   "cell_type": "code",
   "execution_count": 8,
   "id": "9cc28247",
   "metadata": {},
   "outputs": [
    {
     "name": "stdout",
     "output_type": "stream",
     "text": [
      "Employee name is - susovan , and age is : 23, Employee id is 123123, address -> street- balarampur, city - kolkata, pin code- 711411\n"
     ]
    }
   ],
   "source": [
    "emp=Employee(\"susovan\",23,\"balarampur\",\"kolkata\",711411,123123)\n",
    "print(emp)\n"
   ]
  },
  {
   "cell_type": "code",
   "execution_count": null,
   "id": "4a013297",
   "metadata": {},
   "outputs": [],
   "source": [
    "\n",
    "\"\"\"\n",
    "@classmethod ->\n",
    "\n",
    "A class method takes cls as its first argument (not self).\n",
    "cls refers to the class itself, not an instance.\n",
    "It can access/modify class variables, but cannot access instance variables directly.\n",
    "\n",
    "When to use?\n",
    "Use when you need to work with class variables or create methods that operate on the class, not specific objects.\n",
    "\n",
    "\"\"\""
   ]
  },
  {
   "cell_type": "code",
   "execution_count": 17,
   "id": "9be7ef5e",
   "metadata": {},
   "outputs": [
    {
     "name": "stdout",
     "output_type": "stream",
     "text": [
      "2 2\n"
     ]
    }
   ],
   "source": [
    "class Counter():\n",
    "    count=0\n",
    "    def __init__(self):\n",
    "        Counter.count+=1\n",
    "        \n",
    "    @classmethod\n",
    "    def get_count(cls):\n",
    "        return cls.count\n",
    "    \n",
    "\n",
    "\n",
    "c1=Counter()\n",
    "c2=Counter()\n",
    "\n",
    "# dir(c1)\n",
    "print(Counter.count,c1.get_count())"
   ]
  },
  {
   "cell_type": "code",
   "execution_count": null,
   "id": "afea21bc",
   "metadata": {},
   "outputs": [],
   "source": [
    "\"\"\"\n",
    " @staticmethod-> \n",
    "\n",
    "What is it?\n",
    "A static method doesn’t take self or cls as the first argument.\n",
    "It is like a regular function inside a class but placed there for logical grouping.\n",
    "It cannot access or modify class or instance variables directly.\n",
    "\n",
    "When to use?\n",
    "Use when you want a utility function that relates to the class but doesn’t need any class or object-specific data.\n",
    "\n",
    "\"\"\""
   ]
  },
  {
   "cell_type": "code",
   "execution_count": 18,
   "id": "fff9787f",
   "metadata": {},
   "outputs": [
    {
     "name": "stdout",
     "output_type": "stream",
     "text": [
      "9.9498743710662\n"
     ]
    }
   ],
   "source": [
    "import math\n",
    "class MathOperation:\n",
    "    @staticmethod\n",
    "    def Squre_root(a):\n",
    "        return math.sqrt(a)\n",
    "    \n",
    "m1=MathOperation()\n",
    "\n",
    "print(m1.Squre_root(99))"
   ]
  },
  {
   "cell_type": "code",
   "execution_count": 20,
   "id": "411c900f",
   "metadata": {},
   "outputs": [
    {
     "name": "stdout",
     "output_type": "stream",
     "text": [
      "9 7\n",
      "the area of ractangle is 63\n",
      "11 10\n",
      "the area of ractangle is 110\n"
     ]
    }
   ],
   "source": [
    "class Shape:\n",
    "    def area(self):\n",
    "        print(f\"the area of this shape is - not define\")\n",
    "\n",
    "class Ractangle(Shape):\n",
    "    def __init__(self,height,widht):\n",
    "        self.__height=height\n",
    "        self.__width=widht\n",
    "\n",
    "    def get_hight(self):\n",
    "        return self.__height\n",
    "    def get_width(self):\n",
    "        return self.__width\n",
    "    \n",
    "    def set_hight(self,hight):\n",
    "        self.__height=hight\n",
    "        return self.__height\n",
    "    def set_width(self,width):\n",
    "        self.__width=width\n",
    "        return self.__width\n",
    "    \n",
    "    def area(self):\n",
    "        print(f\"the area of ractangle is {self.__height* self.__width}\")\n",
    "\n",
    "\n",
    "rac=Ractangle(9,7)\n",
    "\n",
    "print(rac.get_hight(),rac.get_width())\n",
    "rac.area()\n",
    "print(rac.set_hight(11),rac.set_width(10))\n",
    "rac.area()"
   ]
  },
  {
   "cell_type": "code",
   "execution_count": 21,
   "id": "e5003e33",
   "metadata": {},
   "outputs": [
    {
     "name": "stdout",
     "output_type": "stream",
     "text": [
      "Vector ->(a:17,b:9)\n",
      "Vector ->(a:-1,b:3)\n",
      "Vector ->(a:64,b:48)\n",
      "Vector ->(a:3.0,b:1.0)\n",
      "False\n"
     ]
    }
   ],
   "source": [
    "class Vector:\n",
    "    def __init__(self,a,b):\n",
    "        self.a=a\n",
    "        self.b=b \n",
    "    def __add__(self,other):\n",
    "        return Vector(self.a+other.a,self.b+other.b)\n",
    "    def __sub__(self,other):\n",
    "        return Vector(self.a-other.a,self.b-other.b)\n",
    "    def __mul__(self,other):\n",
    "        return Vector(self.a*other,self.b*other)\n",
    "    def __truediv__(self,other):\n",
    "        return Vector(self.a/other,self.b/other)\n",
    "    def __eq__(self, other):\n",
    "        return self.a==other.a and self.b==other.b\n",
    "    def __str__(self):\n",
    "        return f\"Vector ->(a:{self.a},b:{self.b})\"\n",
    "    \n",
    "v1=Vector(8,6)\n",
    "v2=Vector(9,3)\n",
    "\n",
    "print(v1+v2)\n",
    "print(v1-v2)\n",
    "print(v1*8)\n",
    "print(v2/3)\n",
    "print(v1==v2)"
   ]
  },
  {
   "cell_type": "code",
   "execution_count": null,
   "id": "c7cdbd3d",
   "metadata": {},
   "outputs": [
    {
     "name": "stdout",
     "output_type": "stream",
     "text": [
      "In account no. -  12312 after withdraw ->  9000  In your account total balance is  800\n",
      "Insufficient Balance in your account.\n"
     ]
    }
   ],
   "source": [
    "\"\"\"\n",
    "What is InsufficientBalanceError?\n",
    "It is a custom exception class that you created to handle a specific error case:\n",
    "👉 When the user tries to withdraw more money than the account balance.\n",
    "\n",
    "In Python, you can create your own exceptions by defining a new class that inherits from Exception.\n",
    "\n",
    "\"\"\"\n",
    "class InsufficientBalanceError(Exception):\n",
    " pass\n",
    "\n",
    "class BankAccount:\n",
    "    # constructor function\n",
    "    def __init__(self,owner,account_id,balance=0):\n",
    "        self.owner=owner\n",
    "        self.__balance=balance\n",
    "        self.__account_id=account_id\n",
    "    \n",
    "    ## instance methods\n",
    "    def deposit(self,amount):\n",
    "        self.__balance+=amount\n",
    "        print(\"In account no. - \",self.__account_id,\"after deposit -> \",amount,\" In your account total balance is \",self.__balance)\n",
    "    def  withdraw(self,amount):\n",
    "        if amount>self.__balance:\n",
    "            raise InsufficientBalanceError(\"Insufficient Balance in your account.\")   ##  Triggers an instance of the custom error with a message.\n",
    "        else:\n",
    "            self.__balance-=amount\n",
    "            print(\"In account no. - \",self.__account_id,\"after withdraw -> \",amount,\" In your account total balance is \",self.__balance)\n",
    "    def get_balance(self):\n",
    "        return(self.__balance)\n",
    "    \n",
    "\n",
    "bc1=BankAccount(\"susovan\",12312,9800)\n",
    "\n",
    "try:\n",
    "    bc1.withdraw(9000)\n",
    "    bc1.withdraw(1000)  ## get error\n",
    "except InsufficientBalanceError as ex:\n",
    "    print(ex)\n"
   ]
  },
  {
   "cell_type": "code",
   "execution_count": 24,
   "id": "f0764c68",
   "metadata": {},
   "outputs": [
    {
     "name": "stdout",
     "output_type": "stream",
     "text": [
      "Opening file...\n",
      "It is a custom exception class that you created to handle a specific error case:\n",
      "When the user tries to withdraw more money than the account balance.\n",
      "Closing file...\n"
     ]
    }
   ],
   "source": [
    "\"\"\"\n",
    "This automatic setup & cleanup happens because the file object implements two special methods:\n",
    "__enter__() – runs at the start of the block.\n",
    "__exit__() – runs at the end of the block.\n",
    "\n",
    "\n",
    "_enter__()\n",
    "Called when the with block starts.\n",
    "Whatever it returns is assigned to the variable after as.\n",
    "\n",
    "__exit__()  ->\n",
    "Called when the block ends, even if there’s an error inside the block.\n",
    "It has 3 parameters:\n",
    "exc_type: Type of exception (if any).\n",
    "exc_value: The exception object (if any).\n",
    "traceback: Traceback object (if any).\n",
    "\n",
    "If it returns True, the exception is suppressed.\n",
    "\"\"\"\n",
    "\n",
    "class FileManager:\n",
    "    def __init__(self,file_path,mode):\n",
    "        self.file_path=file_path\n",
    "        self.mode=mode\n",
    "        self.file=None\n",
    "\n",
    "    def __enter__(self):\n",
    "        print(\"Opening file...\")\n",
    "        self.file=open(self.file_path,self.mode)\n",
    "        return self.file\n",
    "    def __exit__(self,ex_type,ex_value,trackback):\n",
    "        print(\"Closing file...\")\n",
    "        if(self.file):\n",
    "            self.file.close()\n",
    "\n",
    "with FileManager(\"example.txt\",\"r\") as file:\n",
    "    content=file.read()\n",
    "    print(content)"
   ]
  },
  {
   "cell_type": "code",
   "execution_count": null,
   "id": "a9957079",
   "metadata": {},
   "outputs": [],
   "source": [
    "\"\"\" \n",
    "This works because:\n",
    "✅ Each method (add, subtract, multiply, divide) returns self (same object)\n",
    "✅ So you can call another method immediately on the same object (this is called method chaining).\n",
    "\"\"\"\n",
    "\n",
    "class Calculator:\n",
    "    def __init__(self,value=0):\n",
    "        self.value=value\n",
    "\n",
    "    def add(self,num):\n",
    "        self.value+=num\n",
    "        return self\n",
    "    \n",
    "    def sub(self,num):\n",
    "        self.value-=num\n",
    "        return self\n",
    "    \n",
    "    def multiply(self, num):\n",
    "        self.value *= num\n",
    "        return self\n",
    "    \n",
    "    def divide(self, num):\n",
    "        if num != 0:\n",
    "            self.value /= num\n",
    "        else:\n",
    "            print(\"Cannot divide by zero!\")\n",
    "        return self\n",
    "    def result(self):\n",
    "        return self.value\n"
   ]
  },
  {
   "cell_type": "code",
   "execution_count": 30,
   "id": "bb5d304a",
   "metadata": {},
   "outputs": [
    {
     "name": "stdout",
     "output_type": "stream",
     "text": [
      "20.0\n"
     ]
    }
   ],
   "source": [
    "cal=Calculator(10)\n",
    "\n",
    "result=cal.add(90).sub(80).divide(2).multiply(2).result()\n",
    "\n",
    "print(result)"
   ]
  }
 ],
 "metadata": {
  "kernelspec": {
   "display_name": "Python 3",
   "language": "python",
   "name": "python3"
  },
  "language_info": {
   "codemirror_mode": {
    "name": "ipython",
    "version": 3
   },
   "file_extension": ".py",
   "mimetype": "text/x-python",
   "name": "python",
   "nbconvert_exporter": "python",
   "pygments_lexer": "ipython3",
   "version": "3.12.11"
  }
 },
 "nbformat": 4,
 "nbformat_minor": 5
}

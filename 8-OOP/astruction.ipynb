{
 "cells": [
  {
   "cell_type": "code",
   "execution_count": 3,
   "id": "9052187f",
   "metadata": {},
   "outputs": [
    {
     "name": "stdout",
     "output_type": "stream",
     "text": [
      " Vehicle engine type is - ELECTRIC\n",
      " the vehicle is on the road\n",
      " Vehicle engine type is - Petrol\n",
      " the vehicle is on the road\n"
     ]
    }
   ],
   "source": [
    "\"\"\"\n",
    "\n",
    "An 'Abstract Base Class' is like a blueprint for other classes.\n",
    "\n",
    "✅ You define methods in the abstract class, but you don’t implement them there.\n",
    "✅ Child classes (subclasses) must implement those methods.\n",
    "\n",
    "\"\"\"\n",
    "\n",
    "from abc import ABC,abstractmethod\n",
    "\n",
    "class Vehicle(ABC):\n",
    "    @abstractmethod\n",
    "    def start_engine(self):\n",
    "        pass\n",
    "\n",
    "    def drive(self):\n",
    "        print(\" the vehicle is on the road\")\n",
    "\n",
    "class Car(Vehicle):\n",
    "    def __init__(self,engine_type):\n",
    "        self.engine_type=engine_type\n",
    "    def start_engine(self):\n",
    "        print(f\" Vehicle engine type is - {self.engine_type}\")\n",
    "\n",
    "class Motorcycle(Vehicle):\n",
    "    def __init__(self,engine_type,speed):\n",
    "        self.speed=speed\n",
    "        self.engine_type=engine_type\n",
    "    def start_engine(self):\n",
    "        print(f\" Vehicle engine type is - {self.engine_type}\")\n",
    "\n",
    "\n",
    "def get_engine(vehicle):\n",
    "    vehicle.start_engine()\n",
    "    vehicle.drive()\n",
    "        \n",
    "car1=Car(\"ELECTRIC\")\n",
    "moto=Motorcycle(\"Petrol\",20)\n",
    "\n",
    "get_engine(car1)\n",
    "get_engine(moto)"
   ]
  }
 ],
 "metadata": {
  "kernelspec": {
   "display_name": "Python 3",
   "language": "python",
   "name": "python3"
  },
  "language_info": {
   "codemirror_mode": {
    "name": "ipython",
    "version": 3
   },
   "file_extension": ".py",
   "mimetype": "text/x-python",
   "name": "python",
   "nbconvert_exporter": "python",
   "pygments_lexer": "ipython3",
   "version": "3.12.11"
  }
 },
 "nbformat": 4,
 "nbformat_minor": 5
}

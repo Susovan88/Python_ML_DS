{
 "cells": [
  {
   "cell_type": "code",
   "execution_count": null,
   "id": "50e2d16d",
   "metadata": {},
   "outputs": [],
   "source": [
    "\"\"\"\n",
    "Giving special meaning to Python operators (+, -, *, etc.) so they work with your own custom objects.\n",
    "\n",
    "Python lets you redefine how operators behave for user-defined classes by using magic methods (like __add__, __sub__, __mul__, etc.).\n",
    "\n",
    "\n",
    "+\t__add__\tobj1 + obj2\n",
    "-\t__sub__\tobj1 - obj2\n",
    "*\t__mul__\tobj1 * obj2\n",
    "/\t__truediv__\tobj1 / obj2\n",
    "%\t__mod__\tobj1 % obj2\n",
    "==\t__eq__\tobj1 == obj2\n",
    "<\t__lt__\tobj1 < obj2\n",
    ">\t__gt__\tobj1 > obj2\n",
    "\n",
    "\n",
    "\"\"\""
   ]
  },
  {
   "cell_type": "code",
   "execution_count": 1,
   "id": "88934d3a",
   "metadata": {},
   "outputs": [
    {
     "name": "stdout",
     "output_type": "stream",
     "text": [
      "Vector ->(a:17,b:9)\n",
      "Vector ->(a:-1,b:3)\n",
      "Vector ->(a:64,b:48)\n",
      "Vector ->(a:3.0,b:1.0)\n",
      "False\n"
     ]
    }
   ],
   "source": [
    "class Vector:\n",
    "    def __init__(self,a,b):\n",
    "        self.a=a\n",
    "        self.b=b \n",
    "    def __add__(self,other):\n",
    "        return Vector(self.a+other.a,self.b+other.b)\n",
    "    def __sub__(self,other):\n",
    "        return Vector(self.a-other.a,self.b-other.b)\n",
    "    def __mul__(self,other):\n",
    "        return Vector(self.a*other,self.b*other)\n",
    "    def __truediv__(self,other):\n",
    "        return Vector(self.a/other,self.b/other)\n",
    "    def __eq__(self, other):\n",
    "        return self.a==other.a and self.b==other.b\n",
    "    def __str__(self):\n",
    "        return f\"Vector ->(a:{self.a},b:{self.b})\"\n",
    "    \n",
    "v1=Vector(8,6)\n",
    "v2=Vector(9,3)\n",
    "\n",
    "print(v1+v2)\n",
    "print(v1-v2)\n",
    "print(v1*8)\n",
    "print(v2/3)\n",
    "print(v1==v2)"
   ]
  },
  {
   "cell_type": "code",
   "execution_count": null,
   "metadata": {},
   "outputs": [],
   "source": []
  },
  {
   "cell_type": "code",
   "execution_count": null,
   "id": "5de4cbaa",
   "metadata": {},
   "outputs": [],
   "source": []
  },
  {
   "cell_type": "code",
   "execution_count": null,
   "id": "66f2ed63",
   "metadata": {},
   "outputs": [],
   "source": []
  }
 ],
 "metadata": {
  "kernelspec": {
   "display_name": "Python 3",
   "language": "python",
   "name": "python3"
  },
  "language_info": {
   "codemirror_mode": {
    "name": "ipython",
    "version": 3
   },
   "file_extension": ".py",
   "mimetype": "text/x-python",
   "name": "python",
   "nbconvert_exporter": "python",
   "pygments_lexer": "ipython3",
   "version": "3.12.11"
  }
 },
 "nbformat": 4,
 "nbformat_minor": 5
}

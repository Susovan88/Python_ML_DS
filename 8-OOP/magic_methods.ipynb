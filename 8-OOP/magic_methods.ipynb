{
 "cells": [
  {
   "cell_type": "code",
   "execution_count": null,
   "id": "84e77d03",
   "metadata": {},
   "outputs": [],
   "source": [
    "\"\"\"\n",
    "\n",
    "  'Magic methods' are special methods in Python that start and end with double underscores (__method__).\n",
    "\n",
    "-> ✅ These methods are automatically called by Python in certain situations.\n",
    "-> ✅ They allow you to customize how your objects behave (like +, len(), print(), etc.)\n",
    "\n",
    "__init__\tObject initialization (constructor).\t       Called when object is created.\n",
    "__str__\t    String representation for print().\t           Human-readable object output.\n",
    "__repr__\tOfficial representation (for developers).\t   Called by repr(), debugging.\n",
    "__add__\t    Defines behavior of +.\t                       Operator overloading.\n",
    "__len__\t    Defines behavior of len().\t                   Custom length logic.\n",
    "__eq__\t    Defines behavior of ==.\t                       Compare two objects.\n",
    "\n",
    "\"\"\""
   ]
  },
  {
   "cell_type": "code",
   "execution_count": null,
   "id": "d700effa",
   "metadata": {},
   "outputs": [
    {
     "name": "stdout",
     "output_type": "stream",
     "text": [
      "<__main__.Person object at 0x0000020F918B7E00>\n",
      "<__main__.Person object at 0x0000020F918B7E00>\n"
     ]
    }
   ],
   "source": [
    "class Person:\n",
    "    def __init__(self,name,age):\n",
    "        self.name=name\n",
    "        self.age=age\n",
    "    \n",
    "per=Person(\"susovan\",23)\n",
    "\n",
    "print(per)  ## __srt__ --> default  string representation of object \n",
    "\n",
    "print(repr(per))    ## __repr__ --> default  string representation of object \n"
   ]
  },
  {
   "cell_type": "code",
   "execution_count": 8,
   "id": "4685d068",
   "metadata": {},
   "outputs": [
    {
     "name": "stdout",
     "output_type": "stream",
     "text": [
      "person name is - susovan , and age is : 23\n",
      " preson object has -> ( name: susovan, age: 23 )\n"
     ]
    }
   ],
   "source": [
    "class Person:\n",
    "    def __init__(self,name,age):\n",
    "        self.name=name\n",
    "        self.age=age\n",
    "        \n",
    "    def __str__(self):  ## customize __str__\n",
    "        return f\"person name is - {self.name} , and age is : {self.age}\"\n",
    "    \n",
    "    def __repr__(self):\n",
    "        return f\" preson object has -> ( name: {self.name}, age: {self.age} )\"\n",
    "    \n",
    "per=Person(\"susovan\",23)\n",
    "\n",
    "print(per)\n",
    "print(repr(per))"
   ]
  },
  {
   "cell_type": "code",
   "execution_count": null,
   "id": "1eb0abf6",
   "metadata": {},
   "outputs": [],
   "source": []
  },
  {
   "cell_type": "code",
   "execution_count": 9,
   "id": "df2d0b29",
   "metadata": {},
   "outputs": [
    {
     "name": "stdout",
     "output_type": "stream",
     "text": [
      "10 16\n"
     ]
    }
   ],
   "source": [
    "class Points:\n",
    "    def __init__(self,a,b):\n",
    "        self.a=a\n",
    "        self.b=b \n",
    "    def __add__(self,other):\n",
    "        return Points(self.a+other.a,self.b+other.b)\n",
    "    \n",
    "p1=Points(8,9)\n",
    "p2=Points(2,7)\n",
    "\n",
    "p3=p1+p2  ### call __add__\n",
    "\n",
    "print(p3.a,p3.b)\n"
   ]
  }
 ],
 "metadata": {
  "kernelspec": {
   "display_name": "Python 3",
   "language": "python",
   "name": "python3"
  },
  "language_info": {
   "codemirror_mode": {
    "name": "ipython",
    "version": 3
   },
   "file_extension": ".py",
   "mimetype": "text/x-python",
   "name": "python",
   "nbconvert_exporter": "python",
   "pygments_lexer": "ipython3",
   "version": "3.12.11"
  }
 },
 "nbformat": 4,
 "nbformat_minor": 5
}

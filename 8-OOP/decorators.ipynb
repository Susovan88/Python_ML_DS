{
 "cells": [
  {
   "cell_type": "code",
   "execution_count": 2,
   "id": "016eb84f",
   "metadata": {},
   "outputs": [
    {
     "name": "stdout",
     "output_type": "stream",
     "text": [
      "welcome my course. it is a advance course.\n"
     ]
    }
   ],
   "source": [
    "def welcome():\n",
    "    return \"welcome my course. it is a advance course.\"\n",
    "\n",
    "print(welcome())"
   ]
  },
  {
   "cell_type": "code",
   "execution_count": 5,
   "id": "98762c44",
   "metadata": {},
   "outputs": [
    {
     "name": "stdout",
     "output_type": "stream",
     "text": [
      "welcome my course. it is a advance course.\n",
      "welcome my course. it is a advance course.\n"
     ]
    }
   ],
   "source": [
    "## function copy\n",
    "wel=welcome\n",
    "print(wel())\n",
    "del welcome ## delete welcome function \n",
    "print(wel())"
   ]
  },
  {
   "cell_type": "code",
   "execution_count": null,
   "id": "8ce49441",
   "metadata": {},
   "outputs": [
    {
     "name": "stdout",
     "output_type": "stream",
     "text": [
      "welcome in my course.\n",
      "all the lectures are arranged in the course\n",
      "please Learn all concept one by one\n"
     ]
    }
   ],
   "source": [
    "### closur function ->   A closure is when an inner function remembers the variables from its outer function even after the outer function has finished executing.\n",
    "\n",
    "def main_welcome(msg):\n",
    "    def sub_welcome():\n",
    "        print(\"welcome in my course.\")\n",
    "        print(msg)\n",
    "        print(\"please Learn all concept one by one\")\n",
    "    return sub_welcome()\n",
    "\n",
    "main_welcome(\"all the lectures are arranged in the course\")   \n",
    "### Even though main_welcom() is done, sub_welcome() remembers msg"
   ]
  },
  {
   "cell_type": "code",
   "execution_count": 10,
   "id": "1e4e60f1",
   "metadata": {},
   "outputs": [
    {
     "name": "stdout",
     "output_type": "stream",
     "text": [
      "welcome in my course.\n",
      "hiiii\n",
      "please Learn all concept one by one\n"
     ]
    }
   ],
   "source": [
    "main_welcome(\"hiiii\")"
   ]
  },
  {
   "cell_type": "code",
   "execution_count": null,
   "id": "8fc9c4fa",
   "metadata": {},
   "outputs": [
    {
     "name": "stdout",
     "output_type": "stream",
     "text": [
      "welcome in my course.\n",
      "It is a argument function.\n",
      "please Learn all concept one by one\n"
     ]
    }
   ],
   "source": [
    "def main_welcome(fun):\n",
    "    def sub_welcome():\n",
    "        print(\"welcome in my course.\")\n",
    "        fun(\"It is a argument function of main function\")\n",
    "        print(\"please Learn all concept one by one\")\n",
    "    return sub_welcome()\n",
    "\n",
    "main_welcome(print)   ### print , len inbuild function"
   ]
  },
  {
   "cell_type": "code",
   "execution_count": 13,
   "id": "5500d0e7",
   "metadata": {},
   "outputs": [
    {
     "name": "stdout",
     "output_type": "stream",
     "text": [
      "welcome in my course.\n",
      "8\n",
      "please Learn all concept one by one\n"
     ]
    }
   ],
   "source": [
    "def main_welcome(fun,lst):\n",
    "    def sub_welcome():\n",
    "        print(\"welcome in my course.\")\n",
    "        print(fun(lst))\n",
    "        print(\"please Learn all concept one by one\")\n",
    "    return sub_welcome()\n",
    "\n",
    "main_welcome(len,[1,223,43,54,7,89,34,12])"
   ]
  },
  {
   "cell_type": "code",
   "execution_count": null,
   "id": "e4531ecb",
   "metadata": {},
   "outputs": [
    {
     "name": "stdout",
     "output_type": "stream",
     "text": [
      "16\n",
      "64\n"
     ]
    }
   ],
   "source": [
    "\"\"\" \n",
    "🚨 Why are closures useful?\n",
    "To hide data (encapsulation)\n",
    "For callbacks and functional programming\n",
    "\"\"\"\n",
    "\n",
    "## closer with arguments\n",
    "\n",
    "def power(base):\n",
    "    def calculate(val):\n",
    "        return val**base\n",
    "    return calculate\n",
    "\n",
    "square=power(2) \n",
    "cube=power(3)\n",
    "\n",
    "print(square(4))\n",
    "print(cube(4))"
   ]
  },
  {
   "cell_type": "markdown",
   "id": "e304ef84",
   "metadata": {},
   "source": [
    "### Decorator \n",
    "A decorator is a function that takes another function and enhances or modifies it without changing its code.\n",
    "It’s built on closures + higher-order functions."
   ]
  },
  {
   "cell_type": "code",
   "execution_count": 29,
   "id": "23afe935",
   "metadata": {},
   "outputs": [
    {
     "name": "stdout",
     "output_type": "stream",
     "text": [
      "Wrapper: Before calling the original function.\n",
      "Hello!\n",
      "Wrapper: After calling the original function.\n"
     ]
    }
   ],
   "source": [
    "def decorator_function(original_function):\n",
    "    def wrapper_function():\n",
    "        print(\"Wrapper: Before calling the original function.\")\n",
    "        original_function()\n",
    "        print(\"Wrapper: After calling the original function.\")\n",
    "    return wrapper_function\n",
    "\n",
    "# Original function\n",
    "def say_hello():\n",
    "    print(\"Hello!\")\n",
    "\n",
    "# Apply decorator manually\n",
    "decorated = decorator_function(say_hello)\n",
    "decorated()\n"
   ]
  },
  {
   "cell_type": "markdown",
   "id": "96a72a14",
   "metadata": {},
   "source": [
    "\n",
    "🧠 Line by Line Explanation\n",
    "1️⃣ def decorator_function(original_function):\n",
    "We define a decorator function that accepts another function as its argument.\n",
    "2️⃣ def wrapper_function():\n",
    "Inside the decorator, we define a wrapper function. This will do something before and after calling the original function.\n",
    "3️⃣ print(\"Wrapper: Before...\")\n",
    "Code to execute before the original function.\n",
    "4️⃣ original_function()\n",
    "Call the original function.\n",
    "5️⃣ print(\"Wrapper: After...\")\n",
    "Code to execute after the original function.\n",
    "6️⃣ return wrapper_function\n",
    "Return the wrapper function to replace the original."
   ]
  },
  {
   "cell_type": "code",
   "execution_count": null,
   "id": "1669dfee",
   "metadata": {},
   "outputs": [],
   "source": [
    "# or \n",
    "\n",
    "@decorator_function\n",
    "def say_hello():\n",
    "    print(\"Hello!\")\n",
    "\n",
    "say_hello()"
   ]
  },
  {
   "cell_type": "markdown",
   "id": "dbf11671",
   "metadata": {},
   "source": [
    "💡 Using @decorator\n",
    "Instead of manually applying the decorator like this:\n",
    "\n",
    "decorated = decorator_function(say_hello)\n",
    "decorated()\n",
    "\n",
    "You can use Python syntactic sugar:\n",
    "\n",
    "@decorator_function\n",
    "def say_hello():\n",
    "    print(\"Hello!\")\n",
    "\n",
    "say_hello()"
   ]
  },
  {
   "cell_type": "code",
   "execution_count": 27,
   "id": "80345b32",
   "metadata": {},
   "outputs": [
    {
     "name": "stdout",
     "output_type": "stream",
     "text": [
      "welcome in my course.\n",
      " This course is the best for advence learning\n",
      "please Learn all concept one by one\n"
     ]
    }
   ],
   "source": [
    "### decorator \n",
    "\n",
    "def main_welcome(fun):\n",
    "    def sub_welcome():\n",
    "        print(\"welcome in my course.\")\n",
    "        fun()\n",
    "        print(\"please Learn all concept one by one\")\n",
    "    return sub_welcome\n",
    "\n",
    "\n",
    "def introduction():\n",
    "    print(\" This course is the best for advence learning\")\n",
    "\n",
    "\n",
    "# Apply decorator manually\n",
    "result_fun=main_welcome(introduction)\n",
    "result_fun()"
   ]
  },
  {
   "cell_type": "code",
   "execution_count": 15,
   "id": "912130be",
   "metadata": {},
   "outputs": [
    {
     "name": "stdout",
     "output_type": "stream",
     "text": [
      "welcome in my course.\n",
      " This course is the best for advence learning\n",
      "please Learn all concept one by one\n"
     ]
    }
   ],
   "source": [
    "def main_welcome(fun):\n",
    "    def sub_welcome():\n",
    "        print(\"welcome in my course.\")\n",
    "        fun()\n",
    "        print(\"please Learn all concept one by one\")\n",
    "    return sub_welcome()\n",
    "\n",
    "@main_welcome\n",
    "def introduction():\n",
    "    print(\" This course is the best for advence learning\")\n"
   ]
  },
  {
   "cell_type": "code",
   "execution_count": null,
   "id": "0410cec4",
   "metadata": {},
   "outputs": [],
   "source": [
    "## decorators\n",
    "\n",
    "def decorator_fun(fun):\n",
    "    def wrapper():\n",
    "        print(\"Before the function call\")\n",
    "        fun()\n",
    "        print(\"after function call\")\n",
    "    return wrapper\n",
    "\n",
    "@decorator_fun\n",
    "def sey_hello():\n",
    "    print(\"Hello!!!\")"
   ]
  },
  {
   "cell_type": "code",
   "execution_count": 17,
   "id": "ea46187e",
   "metadata": {},
   "outputs": [
    {
     "name": "stdout",
     "output_type": "stream",
     "text": [
      "Before the function call\n",
      "Hello!!!\n",
      "after function call\n"
     ]
    }
   ],
   "source": [
    "sey_hello()"
   ]
  },
  {
   "cell_type": "code",
   "execution_count": null,
   "id": "babc1a7a",
   "metadata": {},
   "outputs": [],
   "source": [
    "\"\"\" \n",
    "'**kwargs' -> lets a function accept any number of keyword arguments.\n",
    "It collects extra keyword arguments into a dictionary.\n",
    "\n",
    "'*args' -> lets a function accept any number of positional arguments.\n",
    "It collects extra positional arguments into a tuple.\n",
    "\"\"\""
   ]
  },
  {
   "cell_type": "code",
   "execution_count": 30,
   "id": "fd5693f4",
   "metadata": {},
   "outputs": [],
   "source": [
    "## decorator with arguments\n",
    "\"\"\" \n",
    "*args, **kwargs:\n",
    "This allows the wrapper to accept any number of arguments and keyword arguments,\n",
    "so it works with all functions, no matter their signature.\n",
    "\"\"\"\n",
    "def repeat(n):\n",
    "    def decorator_fun(fun):\n",
    "        def wrapper(*args,**kwargs):\n",
    "            for _ in range(n):\n",
    "                fun(*args,**kwargs)\n",
    "        return wrapper\n",
    "    return decorator_fun\n",
    "\n",
    "@repeat(3)\n",
    "def sey_hello(name,msg):\n",
    "    print(F\"Hello {name}. {msg}\")"
   ]
  },
  {
   "cell_type": "code",
   "execution_count": 31,
   "id": "eff4fb28",
   "metadata": {},
   "outputs": [
    {
     "name": "stdout",
     "output_type": "stream",
     "text": [
      "Hello susovan. Good Morning\n",
      "Hello susovan. Good Morning\n",
      "Hello susovan. Good Morning\n"
     ]
    }
   ],
   "source": [
    "sey_hello(\"susovan\",\"Good Morning\")"
   ]
  },
  {
   "cell_type": "code",
   "execution_count": null,
   "id": "8f950b57",
   "metadata": {},
   "outputs": [],
   "source": []
  }
 ],
 "metadata": {
  "kernelspec": {
   "display_name": "Python 3",
   "language": "python",
   "name": "python3"
  },
  "language_info": {
   "codemirror_mode": {
    "name": "ipython",
    "version": 3
   },
   "file_extension": ".py",
   "mimetype": "text/x-python",
   "name": "python",
   "nbconvert_exporter": "python",
   "pygments_lexer": "ipython3",
   "version": "3.12.11"
  }
 },
 "nbformat": 4,
 "nbformat_minor": 5
}

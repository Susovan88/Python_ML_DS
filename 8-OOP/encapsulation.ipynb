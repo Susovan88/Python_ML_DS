{
 "cells": [
  {
   "cell_type": "code",
   "execution_count": null,
   "id": "4480d6e9",
   "metadata": {},
   "outputs": [],
   "source": [
    "### Encapsulation \n",
    "\n",
    "\"\"\"\n",
    "\n",
    "👉 Encapsulation means hiding the internal details of how something works and only allowing access to it in a controlled way.\n",
    "\n",
    "Think of it as “wrapping variables and methods into a single unit (class)” and protecting the data so it can’t be changed accidentally.\n",
    "\n",
    "✅ You restrict direct access to the data by:\n",
    "\n",
    "Making variables private (using _ or __).\n",
    "\n",
    "Providing getter and setter methods to access and update the data safely.\n",
    "\n",
    "\"\"\""
   ]
  },
  {
   "cell_type": "code",
   "execution_count": 1,
   "id": "af946daf",
   "metadata": {},
   "outputs": [
    {
     "name": "stdout",
     "output_type": "stream",
     "text": [
      "susovan 21\n"
     ]
    },
    {
     "data": {
      "text/plain": [
       "['__class__',\n",
       " '__delattr__',\n",
       " '__dict__',\n",
       " '__dir__',\n",
       " '__doc__',\n",
       " '__eq__',\n",
       " '__format__',\n",
       " '__ge__',\n",
       " '__getattribute__',\n",
       " '__getstate__',\n",
       " '__gt__',\n",
       " '__hash__',\n",
       " '__init__',\n",
       " '__init_subclass__',\n",
       " '__le__',\n",
       " '__lt__',\n",
       " '__module__',\n",
       " '__ne__',\n",
       " '__new__',\n",
       " '__reduce__',\n",
       " '__reduce_ex__',\n",
       " '__repr__',\n",
       " '__setattr__',\n",
       " '__sizeof__',\n",
       " '__str__',\n",
       " '__subclasshook__',\n",
       " '__weakref__',\n",
       " 'age',\n",
       " 'name']"
      ]
     },
     "execution_count": 1,
     "metadata": {},
     "output_type": "execute_result"
    }
   ],
   "source": [
    "class Person:\n",
    "    def __init__(self,name,age):\n",
    "        self.name=name   ## public varible\n",
    "        self.age=age     ## public varible\n",
    "\n",
    "per=Person(\"susovan\",21)\n",
    "\n",
    "print(per.name,per.age)\n",
    "dir(per)"
   ]
  },
  {
   "cell_type": "code",
   "execution_count": null,
   "id": "e044b0eb",
   "metadata": {},
   "outputs": [
    {
     "name": "stdout",
     "output_type": "stream",
     "text": [
      "susovan\n",
      "susovan 21\n"
     ]
    }
   ],
   "source": [
    "class Person:\n",
    "    def __init__(self,name,age):\n",
    "        self.__name=name   ## private varible   \n",
    "        self.__age=age     ## private varible\n",
    "\n",
    "per=Person(\"susovan\",21)\n",
    "dir(per)\n",
    "\n",
    "## print(per.__name) ## its give error . its is a procated variable\n",
    "\n",
    "print(per._Person__name,per._Person__age) ## it's a bad practice \n",
    "\n"
   ]
  },
  {
   "cell_type": "code",
   "execution_count": null,
   "id": "9281e6a9",
   "metadata": {},
   "outputs": [
    {
     "data": {
      "text/plain": [
       "['_Person__age',\n",
       " '_Person__name',\n",
       " '__class__',\n",
       " '__delattr__',\n",
       " '__dict__',\n",
       " '__dir__',\n",
       " '__doc__',\n",
       " '__eq__',\n",
       " '__format__',\n",
       " '__ge__',\n",
       " '__getattribute__',\n",
       " '__getstate__',\n",
       " '__gt__',\n",
       " '__hash__',\n",
       " '__init__',\n",
       " '__init_subclass__',\n",
       " '__le__',\n",
       " '__lt__',\n",
       " '__module__',\n",
       " '__ne__',\n",
       " '__new__',\n",
       " '__reduce__',\n",
       " '__reduce_ex__',\n",
       " '__repr__',\n",
       " '__setattr__',\n",
       " '__sizeof__',\n",
       " '__str__',\n",
       " '__subclasshook__',\n",
       " '__weakref__']"
      ]
     },
     "execution_count": 8,
     "metadata": {},
     "output_type": "execute_result"
    }
   ],
   "source": [
    "dir(per)\n",
    "## in dir it's store as -> '_Person__age', '_Person__name',"
   ]
  },
  {
   "cell_type": "code",
   "execution_count": null,
   "id": "5b2c6cfc",
   "metadata": {},
   "outputs": [
    {
     "name": "stdout",
     "output_type": "stream",
     "text": [
      "susovan\n",
      "pupai\n"
     ]
    }
   ],
   "source": [
    "class Person:\n",
    "    def __init__(self,name,age,gender):\n",
    "        self._name=name   ## protected varible    -> it can be used by child classes\n",
    "        self._age=age     ## protected varible\n",
    "        self.gender=gender\n",
    "\n",
    "class Employee(Person):\n",
    "    def __init__(self,name,age,gender,salary):\n",
    "        super().__init__(name, age,gender)\n",
    "        self.__salary=salary\n",
    "\n",
    "per=Person(\"susovan\",21,\"Male\")\n",
    "dir(per)    ## -> '_age', '_name'\n",
    "\n",
    "emp=Employee(\"pupai\",22,\"Male\",9000)\n",
    "print(emp._name)"
   ]
  },
  {
   "cell_type": "code",
   "execution_count": 22,
   "id": "c505b998",
   "metadata": {},
   "outputs": [
    {
     "name": "stdout",
     "output_type": "stream",
     "text": [
      "Taniya\n",
      "Invalid amount!\n",
      "2000 3000 3000 3000 3000\n"
     ]
    }
   ],
   "source": [
    "## Getter and Setter \n",
    "\n",
    "class BankAccount:\n",
    "    def __init__(self,name,balance):\n",
    "        self.name=name\n",
    "        self.__balance=balance\n",
    "    \n",
    "    ## getter to get balance\n",
    "    def get_balance(self):\n",
    "        return self.__balance\n",
    "    \n",
    "    ## setter to set the balance\n",
    "    def deposit(self,amount):\n",
    "        if(amount<1):\n",
    "            print(\"Invalid amount!\")\n",
    "        else:\n",
    "            self.__balance+=amount\n",
    "        return self.__balance\n",
    "\n",
    "\n",
    "bc1=BankAccount(\"Taniya\",2000)\n",
    "\n",
    "print(bc1.name)\n",
    "\n",
    "print(bc1.get_balance(),bc1.deposit(1000),bc1.get_balance(),bc1.deposit(-100),bc1.get_balance())\n",
    "\n",
    "        "
   ]
  },
  {
   "cell_type": "code",
   "execution_count": null,
   "id": "c4289c6d",
   "metadata": {},
   "outputs": [],
   "source": []
  },
  {
   "cell_type": "code",
   "execution_count": null,
   "id": "4eee4026",
   "metadata": {},
   "outputs": [],
   "source": []
  },
  {
   "cell_type": "code",
   "execution_count": null,
   "id": "4ada5079",
   "metadata": {},
   "outputs": [],
   "source": []
  },
  {
   "cell_type": "code",
   "execution_count": null,
   "id": "a5df2588",
   "metadata": {},
   "outputs": [],
   "source": []
  }
 ],
 "metadata": {
  "kernelspec": {
   "display_name": "Python 3",
   "language": "python",
   "name": "python3"
  },
  "language_info": {
   "codemirror_mode": {
    "name": "ipython",
    "version": 3
   },
   "file_extension": ".py",
   "mimetype": "text/x-python",
   "name": "python",
   "nbconvert_exporter": "python",
   "pygments_lexer": "ipython3",
   "version": "3.12.11"
  }
 },
 "nbformat": 4,
 "nbformat_minor": 5
}

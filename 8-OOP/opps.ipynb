{
 "cells": [
  {
   "cell_type": "code",
   "execution_count": null,
   "id": "c8129edc",
   "metadata": {},
   "outputs": [
    {
     "name": "stdout",
     "output_type": "stream",
     "text": [
      "<class '__main__.Car'> <__main__.Car object at 0x00000255C4040710>\n",
      "5\n",
      "6\n",
      "['__class__', '__delattr__', '__dict__', '__dir__', '__doc__', '__eq__', '__format__', '__ge__', '__getattribute__', '__getstate__', '__gt__', '__hash__', '__init__', '__init_subclass__', '__le__', '__lt__', '__module__', '__ne__', '__new__', '__reduce__', '__reduce_ex__', '__repr__', '__setattr__', '__sizeof__', '__str__', '__subclasshook__', '__weakref__', 'window']\n"
     ]
    }
   ],
   "source": [
    "class Car:\n",
    "    pass\n",
    "\n",
    "\n",
    "bmw=Car()\n",
    "audi=Car()\n",
    "\n",
    "print(type(bmw),bmw)\n",
    "\n",
    "bmw.window=5\n",
    "audi.doors=6\n",
    "\n",
    "print(bmw.window)\n",
    "print(audi.doors) \n",
    "\n",
    "# print(bmw.doors,audi.window) ## its give error\n",
    "\n",
    "print(dir(bmw))\n"
   ]
  },
  {
   "cell_type": "code",
   "execution_count": null,
   "id": "2ada9347",
   "metadata": {},
   "outputs": [
    {
     "name": "stdout",
     "output_type": "stream",
     "text": [
      "Tom 10\n",
      "Buku 8\n",
      "Tom says -> 'wooof wooof' \n",
      "Buku says -> 'wooof wooof' \n"
     ]
    }
   ],
   "source": [
    "## intence variable and methords\n",
    "\n",
    "class Dog:\n",
    "    # constructor \n",
    "    def __init__(self,name,age):\n",
    "        self.name=name\n",
    "        self.age=age\n",
    "    def bark(self):\n",
    "        print(f\"{self.name} says -> 'wooof wooof' \")\n",
    "    \n",
    "\n",
    "\n",
    "tom=Dog(\"Tom\",10)\n",
    "buku=Dog(\"Buku\",8)\n",
    "\n",
    "print(tom.name,tom.age)\n",
    "print(buku.name,buku.age)\n",
    "\n",
    "tom.bark()\n",
    "buku.bark()"
   ]
  },
  {
   "cell_type": "code",
   "execution_count": 1,
   "id": "b7741e19",
   "metadata": {},
   "outputs": [],
   "source": [
    "## instance variables -> owner, balance\n",
    "class BankAccount:\n",
    "    # constructor function\n",
    "    def __init__(self,owner,balance=0):\n",
    "        self.owner=owner\n",
    "        self.balance=balance\n",
    "    \n",
    "    ## instance methods\n",
    "    def deposit(self,amount):\n",
    "        self.balance+=amount\n",
    "        print(\"after deposit -> \",amount,\" In your account total balance is \",self.balance)\n",
    "    def  withdraw(self,amount):\n",
    "        if amount>self.balance:\n",
    "            print(\" Insufficient Funds!\")\n",
    "        else:\n",
    "            self.balance-=amount\n",
    "            print(\"after withdraw -> \",amount,\" In your account total balance is \",self.balance)\n",
    "    def get_balance(self):\n",
    "        return(self.balance)"
   ]
  },
  {
   "cell_type": "code",
   "execution_count": 2,
   "id": "19d7ea5b",
   "metadata": {},
   "outputs": [
    {
     "name": "stdout",
     "output_type": "stream",
     "text": [
      "Susovan 8900\n"
     ]
    }
   ],
   "source": [
    "acc123=BankAccount(\"Susovan\",8900)\n",
    "\n",
    "print(acc123.owner,acc123.balance)"
   ]
  },
  {
   "cell_type": "code",
   "execution_count": 3,
   "id": "81f8c907",
   "metadata": {},
   "outputs": [
    {
     "name": "stdout",
     "output_type": "stream",
     "text": [
      "after deposit ->  900  In your account total balance is  9800\n",
      "after withdraw ->  1002  In your account total balance is  8798\n",
      "8798\n"
     ]
    }
   ],
   "source": [
    "acc123.deposit(900)\n",
    "acc123.withdraw(1002)\n",
    "print(acc123.get_balance())"
   ]
  },
  {
   "cell_type": "code",
   "execution_count": null,
   "id": "003a9e39",
   "metadata": {},
   "outputs": [],
   "source": []
  }
 ],
 "metadata": {
  "kernelspec": {
   "display_name": "Python 3",
   "language": "python",
   "name": "python3"
  },
  "language_info": {
   "codemirror_mode": {
    "name": "ipython",
    "version": 3
   },
   "file_extension": ".py",
   "mimetype": "text/x-python",
   "name": "python",
   "nbconvert_exporter": "python",
   "pygments_lexer": "ipython3",
   "version": "3.12.11"
  }
 },
 "nbformat": 4,
 "nbformat_minor": 5
}

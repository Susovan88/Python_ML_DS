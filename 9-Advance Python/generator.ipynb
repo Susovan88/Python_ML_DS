{
 "cells": [
  {
   "cell_type": "markdown",
   "id": "8368c385",
   "metadata": {},
   "source": [
    "### -> What is a Generator?\n",
    "\n",
    "A generator is a special kind of iterator in Python.\n",
    "You create it using:\n",
    "Functions with the 'yield' keyword.\n",
    "Or generator expressions (like list comprehensions, but lazy).\n",
    "Unlike normal functions that return a value and exit, a generator “pauses” at yield and resumes where it left off when you call next() again.\n",
    "\n",
    "### -> How Generators Save Memory ??\n",
    "\n",
    "When you use normal functions or lists, Python stores all elements in memory at once.\n",
    "But generators don’t store anything in memory.\n",
    "They generate one value at a time, only when you ask for it.\n",
    "This is called lazy evaluation.\n",
    "You can create an infinite sequence without memory issues using generator"
   ]
  },
  {
   "cell_type": "code",
   "execution_count": 1,
   "id": "f988716b",
   "metadata": {},
   "outputs": [
    {
     "name": "stdout",
     "output_type": "stream",
     "text": [
      "[1, 2, 3, 5, 6, 73, 4, 67, 89]\n"
     ]
    }
   ],
   "source": [
    "## normal function\n",
    "def get_list():\n",
    "    return [1,2,3,5,6,73,4,67,89]\n",
    "\n",
    "l=get_list()\n",
    "print(l)"
   ]
  },
  {
   "cell_type": "code",
   "execution_count": 2,
   "metadata": {},
   "outputs": [
    {
     "name": "stdout",
     "output_type": "stream",
     "text": [
      "<generator object generate_list at 0x0000023A34CBC450>\n"
     ]
    }
   ],
   "source": [
    "def generate_list():   ## generator fuction\n",
    "    for i in range(1,8):\n",
    "        yield i*2\n",
    "\n",
    "lst=generate_list()\n",
    "print(lst) \n"
   ]
  },
  {
   "cell_type": "code",
   "execution_count": 9,
   "id": "c9703276",
   "metadata": {},
   "outputs": [
    {
     "name": "stdout",
     "output_type": "stream",
     "text": [
      "14\n"
     ]
    }
   ],
   "source": [
    "print(next(lst))"
   ]
  },
  {
   "cell_type": "markdown",
   "id": "86db7a87",
   "metadata": {},
   "source": [
    "#####  how generators are used to handle large files??\n",
    "\n",
    "Imagine you have a file that is 50GB in size.\n",
    "\n",
    "In you normal function-\n",
    "\n",
    "❌ This reads the entire file into memory as a list of strings.\n",
    "\n",
    "If the file doesn’t fit in RAM, your program will crash.\n",
    "\n",
    "# In you generator function\n",
    "-> Generators let you read the file one line at a time, on demand, without loading the entire file into memory.\n",
    " Only one line exists in memory at any time.\n",
    " \n",
    "✅ You can process huge files, even hundreds of GBs, without crashing.\n"
   ]
  },
  {
   "cell_type": "code",
   "execution_count": null,
   "id": "a6e7aef2",
   "metadata": {},
   "outputs": [],
   "source": [
    "##  how generators are used to handle large files??\n",
    "\n",
    "\"\"\" \n",
    "Imagine you have a file that is 50GB in size.\n",
    "In you normal function-\n",
    "❌ This reads the entire file into memory as a list of strings.\n",
    "If the file doesn’t fit in RAM, your program will crash.\n",
    "\n",
    "In you generator function\n",
    "-> Generators let you read the file one line at a time, on demand, without loading the entire file into memory.\n",
    " Only one line exists in memory at any time.\n",
    "✅ You can process huge files, even hundreds of GBs, without crashing.\n",
    "\n",
    "\"\"\""
   ]
  },
  {
   "cell_type": "code",
   "execution_count": 10,
   "id": "3d31a0fa",
   "metadata": {},
   "outputs": [],
   "source": [
    "def read_larg_file(file_path):\n",
    "    with open(file_path,\"r\") as file:\n",
    "        for line in file:\n",
    "            yield line"
   ]
  },
  {
   "cell_type": "code",
   "execution_count": null,
   "id": "dbb65260",
   "metadata": {},
   "outputs": [
    {
     "name": "stdout",
     "output_type": "stream",
     "text": [
      "Python is a powerful programming language.\n",
      "It is widely used in web development, data science, AI, and automation.\n",
      "Generators in Python allow you to process large files efficiently.\n",
      "They yield one item at a time and save memory.\n",
      "This makes generators ideal for reading big files or streams.\n",
      "Python makes handling big data very easy with its simple syntax.\n",
      "Remember: a generator pauses at yield and resumes on next().\n",
      "This file is created to test how generators handle large data.\n"
     ]
    }
   ],
   "source": [
    "name=\"larg.txt\"\n",
    "\n",
    "for line in read_larg_file(name):\n",
    "    print(line.strip())   ### line.strip()-> removes extra spaces and newline characters (\\n) from the beginning and end of the line.\n"
   ]
  },
  {
   "cell_type": "code",
   "execution_count": 12,
   "id": "3a2ed86c",
   "metadata": {},
   "outputs": [],
   "source": [
    "c=read_larg_file(\"larg.txt\")"
   ]
  },
  {
   "cell_type": "code",
   "execution_count": 16,
   "id": "866fe4b5",
   "metadata": {},
   "outputs": [
    {
     "data": {
      "text/plain": [
       "'They yield one item at a time and save memory.\\n'"
      ]
     },
     "execution_count": 16,
     "metadata": {},
     "output_type": "execute_result"
    }
   ],
   "source": [
    "\n",
    "next(c)"
   ]
  }
 ],
 "metadata": {
  "kernelspec": {
   "display_name": "Python 3",
   "language": "python",
   "name": "python3"
  },
  "language_info": {
   "codemirror_mode": {
    "name": "ipython",
    "version": 3
   },
   "file_extension": ".py",
   "mimetype": "text/x-python",
   "name": "python",
   "nbconvert_exporter": "python",
   "pygments_lexer": "ipython3",
   "version": "3.12.11"
  }
 },
 "nbformat": 4,
 "nbformat_minor": 5
}

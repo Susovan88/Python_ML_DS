{
 "cells": [
  {
   "cell_type": "code",
   "execution_count": null,
   "id": "cb2f7cc9",
   "metadata": {},
   "outputs": [],
   "source": [
    "\"\"\"\n",
    "✅ What is an Iterator?\n",
    "An iterator in Python is an object that allows you to traverse through all the elements in a collection (like a list, tuple, etc.), one at a time.\n",
    "It implements two methods:\n",
    "__iter__() → returns the iterator object itself.\n",
    "__next__() → returns the next value from the sequence. When there are no more items, it raises StopIteration.\n",
    "\n",
    "✅ iter() gives you an iterator from an iterable (like list).\n",
    "✅ next() gives the next value.\n",
    "\n",
    "\"\"\""
   ]
  },
  {
   "cell_type": "code",
   "execution_count": 23,
   "id": "41cc75a5",
   "metadata": {},
   "outputs": [],
   "source": [
    "fruits = ['apple', 'banana', 'cherry','mango','orange']\n",
    "iter_fruits=iter(fruits) "
   ]
  },
  {
   "cell_type": "code",
   "execution_count": 22,
   "id": "3a8b3df2",
   "metadata": {},
   "outputs": [
    {
     "name": "stdout",
     "output_type": "stream",
     "text": [
      "apple\n"
     ]
    }
   ],
   "source": [
    "\n",
    "print(next(iter_fruits))\n",
    "## raise StopIteration\n"
   ]
  },
  {
   "cell_type": "code",
   "execution_count": 29,
   "metadata": {},
   "outputs": [
    {
     "name": "stdout",
     "output_type": "stream",
     "text": [
      " error -> Stop Iteration . Becouse all the elements are already traveled!\n"
     ]
    }
   ],
   "source": [
    "try:\n",
    "    print(next(iter_fruits))\n",
    "except StopIteration as ex:\n",
    "    print(f\" error -> Stop Iteration . Becouse all the elements are already traveled!\")"
   ]
  },
  {
   "cell_type": "code",
   "execution_count": null,
   "id": "5e0638a1",
   "metadata": {},
   "outputs": [],
   "source": []
  },
  {
   "cell_type": "code",
   "execution_count": null,
   "id": "3a95db05",
   "metadata": {},
   "outputs": [],
   "source": []
  },
  {
   "cell_type": "code",
   "execution_count": null,
   "id": "fa7da723",
   "metadata": {},
   "outputs": [],
   "source": []
  }
 ],
 "metadata": {
  "kernelspec": {
   "display_name": "Python 3",
   "language": "python",
   "name": "python3"
  },
  "language_info": {
   "codemirror_mode": {
    "name": "ipython",
    "version": 3
   },
   "file_extension": ".py",
   "mimetype": "text/x-python",
   "name": "python",
   "nbconvert_exporter": "python",
   "pygments_lexer": "ipython3",
   "version": "3.12.11"
  }
 },
 "nbformat": 4,
 "nbformat_minor": 5
}

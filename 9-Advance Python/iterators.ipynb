{
 "cells": [
  {
   "cell_type": "markdown",
   "id": "ef9579a9",
   "metadata": {},
   "source": [
    "###  ✅ What is an Iterator?\n",
    "An iterator in Python is an object that allows you to traverse through all the elements in a collection (like a list, tuple, etc.), one at a time.\n",
    "It implements two methods:\n",
    "\n",
    "__iter__() → returns the iterator object itself.\n",
    "\n",
    "__next__() → returns the next value from the sequence. When there are no more items, it raises StopIteration.\n",
    "\n",
    "✅ iter() gives you an iterator from an iterable (like list).\n",
    "✅ next() gives the next value."
   ]
  },
  {
   "cell_type": "code",
   "execution_count": null,
   "id": "cb2f7cc9",
   "metadata": {},
   "outputs": [],
   "source": [
    "\"\"\"\n",
    "✅ What is an Iterator?\n",
    "An iterator in Python is an object that allows you to traverse through all the elements in a collection (like a list, tuple, etc.), one at a time.\n",
    "It implements two methods:\n",
    "__iter__() → returns the iterator object itself.\n",
    "__next__() → returns the next value from the sequence. When there are no more items, it raises StopIteration.\n",
    "\n",
    "✅ iter() gives you an iterator from an iterable (like list).\n",
    "✅ next() gives the next value.\n",
    "\n",
    "\"\"\""
   ]
  },
  {
   "cell_type": "code",
   "execution_count": 2,
   "id": "41cc75a5",
   "metadata": {},
   "outputs": [],
   "source": [
    "fruits = ['apple', 'banana', 'cherry','mango','orange']\n",
    "iter_fruits=iter(fruits) "
   ]
  },
  {
   "cell_type": "code",
   "execution_count": 3,
   "id": "3a8b3df2",
   "metadata": {},
   "outputs": [
    {
     "name": "stdout",
     "output_type": "stream",
     "text": [
      "apple\n"
     ]
    }
   ],
   "source": [
    "\n",
    "print(next(iter_fruits))\n",
    "## raise StopIteration\n"
   ]
  },
  {
   "cell_type": "code",
   "execution_count": 8,
   "metadata": {},
   "outputs": [
    {
     "name": "stdout",
     "output_type": "stream",
     "text": [
      " error -> Stop Iteration . Becouse all the elements are already traveled!\n"
     ]
    }
   ],
   "source": [
    "try:\n",
    "    print(next(iter_fruits))\n",
    "except StopIteration as ex:\n",
    "    print(f\" error -> Stop Iteration . Becouse all the elements are already traveled!\")"
   ]
  },
  {
   "cell_type": "markdown",
   "id": "97a4dde5",
   "metadata": {},
   "source": [
    "#### 🧠 What are __iter__ and __next__?\n",
    "✅ They are special methods (also called “dunder methods”) in Python that make your object behave like an iterator.\n",
    "\n",
    "✅ If you define these in your class:\n",
    "\n",
    "Your object can be used in a for loop.\n",
    "\n",
    "You can also use iter() and next() on your object."
   ]
  },
  {
   "cell_type": "code",
   "execution_count": 1,
   "id": "ebebcbdf",
   "metadata": {},
   "outputs": [
    {
     "name": "stdout",
     "output_type": "stream",
     "text": [
      "6  \n",
      "5  \n",
      "4  \n",
      "3  \n",
      "2  \n",
      "1  \n",
      "0  \n"
     ]
    }
   ],
   "source": [
    "class CountDown:\n",
    "    def __init__(self,st):\n",
    "        self.curr=st\n",
    "    def __iter__(self):\n",
    "        return self\n",
    "    def __next__(self):\n",
    "        if self.curr<0:\n",
    "            raise StopIteration\n",
    "        else:\n",
    "            val=self.curr\n",
    "            self.curr-=1\n",
    "            return val\n",
    "\n",
    "c1=CountDown(6)\n",
    "for i in c1:\n",
    "    print(i,\" \")\n"
   ]
  },
  {
   "cell_type": "code",
   "execution_count": 15,
   "id": "2d1a464f",
   "metadata": {},
   "outputs": [],
   "source": [
    "c2=CountDown(7)\n",
    "it2=iter(c2)"
   ]
  },
  {
   "cell_type": "code",
   "execution_count": 24,
   "id": "de2f70b1",
   "metadata": {},
   "outputs": [
    {
     "name": "stdout",
     "output_type": "stream",
     "text": [
      "Stop Iteration  \n"
     ]
    }
   ],
   "source": [
    "try:\n",
    "    print(next(it2))\n",
    "except StopIteration as ex:\n",
    "    print(\"Stop Iteration  \")\n"
   ]
  }
 ],
 "metadata": {
  "kernelspec": {
   "display_name": "venv",
   "language": "python",
   "name": "python3"
  },
  "language_info": {
   "codemirror_mode": {
    "name": "ipython",
    "version": 3
   },
   "file_extension": ".py",
   "mimetype": "text/x-python",
   "name": "python",
   "nbconvert_exporter": "python",
   "pygments_lexer": "ipython3",
   "version": "3.12.11"
  }
 },
 "nbformat": 4,
 "nbformat_minor": 5
}

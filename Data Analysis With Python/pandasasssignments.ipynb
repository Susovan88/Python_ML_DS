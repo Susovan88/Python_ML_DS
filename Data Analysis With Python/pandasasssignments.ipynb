{
 "cells": [
  {
   "cell_type": "markdown",
   "metadata": {},
   "source": [
    "# Module: Pandas Assignments\n",
    "## Lesson: Pandas\n",
    "### Assignment 1: DataFrame Creation and Indexing\n",
    "\n",
    "1. Create a Pandas DataFrame with 4 columns and 6 rows filled with random integers. Set the index to be the first column.\n",
    "2. Create a Pandas DataFrame with columns 'A', 'B', 'C' and index 'X', 'Y', 'Z'. Fill the DataFrame with random integers and access the element at row 'Y' and column 'B'.\n",
    "\n",
    "### Assignment 2: DataFrame Operations\n",
    "\n",
    "1. Create a Pandas DataFrame with 3 columns and 5 rows filled with random integers. Add a new column that is the product of the first two columns.\n",
    "2. Create a Pandas DataFrame with 3 columns and 4 rows filled with random integers. Compute the row-wise and column-wise sum.\n",
    "\n",
    "### Assignment 3: Data Cleaning\n",
    "\n",
    "1. Create a Pandas DataFrame with 3 columns and 5 rows filled with random integers. Introduce some NaN values. Fill the NaN values with the mean of the respective columns.\n",
    "2. Create a Pandas DataFrame with 4 columns and 6 rows filled with random integers. Introduce some NaN values. Drop the rows with any NaN values.\n",
    "\n",
    "### Assignment 4: Data Aggregation\n",
    "\n",
    "1. Create a Pandas DataFrame with 2 columns: 'Category' and 'Value'. Fill the 'Category' column with random categories ('A', 'B', 'C') and the 'Value' column with random integers. Group the DataFrame by 'Category' and compute the sum and mean of 'Value' for each category.\n",
    "2. Create a Pandas DataFrame with 3 columns: 'Product', 'Category', and 'Sales'. Fill the DataFrame with random data. Group the DataFrame by 'Category' and compute the total sales for each category.\n",
    "\n",
    "### Assignment 5: Merging DataFrames\n",
    "\n",
    "1. Create two Pandas DataFrames with a common column. Merge the DataFrames using the common column.\n",
    "2. Create two Pandas DataFrames with different columns. Concatenate the DataFrames along the rows and along the columns.\n",
    "\n",
    "### Assignment 6: Time Series Analysis\n",
    "\n",
    "1. Create a Pandas DataFrame with a datetime index and one column filled with random integers. Resample the DataFrame to compute the monthly mean of the values.\n",
    "2. Create a Pandas DataFrame with a datetime index ranging from '2021-01-01' to '2021-12-31' and one column filled with random integers. Compute the rolling mean with a window of 7 days.\n",
    "\n",
    "### Assignment 7: MultiIndex DataFrame\n",
    "\n",
    "1. Create a Pandas DataFrame with a MultiIndex (hierarchical index). Perform some basic indexing and slicing operations on the MultiIndex DataFrame.\n",
    "2. Create a Pandas DataFrame with MultiIndex consisting of 'Category' and 'SubCategory'. Fill the DataFrame with random data and compute the sum of values for each 'Category' and 'SubCategory'.\n",
    "\n",
    "### Assignment 8: Pivot Tables\n",
    "\n",
    "1. Create a Pandas DataFrame with columns 'Date', 'Category', and 'Value'. Create a pivot table to compute the sum of 'Value' for each 'Category' by 'Date'.\n",
    "2. Create a Pandas DataFrame with columns 'Year', 'Quarter', and 'Revenue'. Create a pivot table to compute the mean 'Revenue' for each 'Quarter' by 'Year'.\n",
    "\n",
    "### Assignment 9: Applying Functions\n",
    "\n",
    "1. Create a Pandas DataFrame with 3 columns and 5 rows filled with random integers. Apply a function that doubles the values of the DataFrame.\n",
    "2. Create a Pandas DataFrame with 3 columns and 6 rows filled with random integers. Apply a lambda function to create a new column that is the sum of the existing columns.\n",
    "\n",
    "### Assignment 10: Working with Text Data\n",
    "\n",
    "1. Create a Pandas Series with 5 random text strings. Convert all the strings to uppercase.\n",
    "2. Create a Pandas Series with 5 random text strings. Extract the first three characters of each string.\n"
   ]
  },
  {
   "cell_type": "code",
   "execution_count": 11,
   "metadata": {},
   "outputs": [
    {
     "name": "stdout",
     "output_type": "stream",
     "text": [
      "    F   B   C   D\n",
      "0  22  61   9  32\n",
      "1  85  62  51  83\n",
      "2  67   4  26  27\n",
      "3  97  59  68  68\n",
      "4  87  10  77  81\n",
      "5  42  77  30  61\n",
      "     B   C   D\n",
      "F             \n",
      "22  61   9  32\n",
      "85  62  51  83\n",
      "67   4  26  27\n",
      "97  59  68  68\n",
      "87  10  77  81\n",
      "42  77  30  61\n"
     ]
    }
   ],
   "source": [
    "import pandas as pd\n",
    "import numpy as np\n",
    "\n",
    "data=pd.DataFrame(np.random.randint(1,100,(6,4)),columns=[\"F\",'B',\"C\",\"D\"])\n",
    "print(data)\n",
    "data.set_index(\"F\",inplace=True)\n",
    "print(data)"
   ]
  },
  {
   "cell_type": "code",
   "execution_count": 12,
   "id": "d4c72047",
   "metadata": {},
   "outputs": [
    {
     "name": "stdout",
     "output_type": "stream",
     "text": [
      "   34  56  89\n",
      "0   1   2   3\n",
      "1   1   3   2\n"
     ]
    }
   ],
   "source": [
    "df=pd.DataFrame([[1,2,3],[1,3,2]],columns=[34,56,89])\n",
    "print(df)"
   ]
  },
  {
   "cell_type": "code",
   "execution_count": 13,
   "id": "09cc76f1",
   "metadata": {},
   "outputs": [
    {
     "name": "stdout",
     "output_type": "stream",
     "text": [
      "    A   B   C\n",
      "X  95  12  52\n",
      "Y  33  97  14\n",
      "Z  85   7  43\n",
      "97\n"
     ]
    }
   ],
   "source": [
    "df=pd.DataFrame(np.random.randint(1,100,(3,3)),columns=[\"A\",'B',\"C\"],index=[\"X\",\"Y\",\"Z\"])\n",
    "print(df)\n",
    "\n",
    "print(df[\"B\"][\"Y\"])"
   ]
  },
  {
   "cell_type": "code",
   "execution_count": 14,
   "id": "3b9ebe09",
   "metadata": {},
   "outputs": [
    {
     "name": "stdout",
     "output_type": "stream",
     "text": [
      "    A   B   C\n",
      "0  48  28  99\n",
      "1  83   7  93\n",
      "2  95  85   2\n",
      "3  54  76  75\n",
      "4  80   9  34\n",
      "    A   B   C    P\n",
      "0  48  28  99   76\n",
      "1  83   7  93   90\n",
      "2  95  85   2  180\n",
      "3  54  76  75  130\n",
      "4  80   9  34   89\n"
     ]
    }
   ],
   "source": [
    "df=pd.DataFrame(np.random.randint(1,100,(5,3)),columns=[\"A\",'B',\"C\"])\n",
    "\n",
    "print(df)\n",
    "\n",
    "df[\"P\"]=df[\"B\"]+df[\"A\"]\n",
    "print(df)\n"
   ]
  },
  {
   "cell_type": "code",
   "execution_count": null,
   "id": "7eb7ceea",
   "metadata": {},
   "outputs": [],
   "source": []
  },
  {
   "cell_type": "code",
   "execution_count": 15,
   "id": "0523d4c7",
   "metadata": {},
   "outputs": [
    {
     "name": "stdout",
     "output_type": "stream",
     "text": [
      "    A   B   C\n",
      "X  74  22  53\n",
      "Y  97  74  92\n",
      "Z  56  99   2\n",
      "X    149\n",
      "Y    263\n",
      "Z    157\n",
      "dtype: int64\n",
      "A    227\n",
      "B    195\n",
      "C    147\n",
      "dtype: int64\n"
     ]
    }
   ],
   "source": [
    "df=pd.DataFrame(np.random.randint(1,100,(3,3)),columns=[\"A\",'B',\"C\"],index=[\"X\",\"Y\",\"Z\"])\n",
    "print(df)\n",
    "print(df.sum(axis=1))\n",
    "print(df.sum())  ## default axis =0"
   ]
  },
  {
   "cell_type": "code",
   "execution_count": 16,
   "id": "8a7f3a0e",
   "metadata": {},
   "outputs": [
    {
     "name": "stdout",
     "output_type": "stream",
     "text": [
      "      A     B     C      D\n",
      "0  10.0   5.0   NaN  100.0\n",
      "1  20.0   NaN  30.0  200.0\n",
      "2   NaN  15.0  35.0  300.0\n",
      "3  40.0  20.0  40.0    NaN\n",
      "4  50.0  25.0   NaN  500.0\n",
      "A    1\n",
      "B    1\n",
      "C    2\n",
      "D    1\n",
      "dtype: int64\n",
      "      A      B     C      D\n",
      "0  10.0   5.00  35.0  100.0\n",
      "1  20.0  16.25  30.0  200.0\n",
      "2  30.0  15.00  35.0  300.0\n",
      "3  40.0  20.00  40.0  275.0\n",
      "4  50.0  25.00  35.0  500.0\n"
     ]
    }
   ],
   "source": [
    "import pandas as pd\n",
    "import numpy as np\n",
    "\n",
    "data = {\n",
    "    'A': [10, 20, np.nan, 40, 50],\n",
    "    'B': [5, np.nan, 15, 20, 25],\n",
    "    'C': [np.nan, 30, 35, 40, np.nan],\n",
    "    'D': [100, 200, 300, np.nan, 500]\n",
    "}\n",
    "\n",
    "df=pd.DataFrame(data=data)\n",
    "print(df)\n",
    "missing_vals=df.isnull().sum()\n",
    "print(missing_vals)\n",
    "\n",
    "df.fillna(df.mean(),inplace=True)\n",
    "print(df)"
   ]
  },
  {
   "cell_type": "code",
   "execution_count": 17,
   "id": "1173cc35",
   "metadata": {},
   "outputs": [
    {
     "name": "stdout",
     "output_type": "stream",
     "text": [
      "    A     B     C    D\n",
      "0  10   5.0   NaN  100\n",
      "1  20   NaN  30.0  200\n",
      "2   1  15.0  35.0  300\n",
      "3  40  20.0  40.0    1\n",
      "4  50  25.0   NaN  500\n",
      "    A     B     C    D\n",
      "2   1  15.0  35.0  300\n",
      "3  40  20.0  40.0    1\n"
     ]
    }
   ],
   "source": [
    "\n",
    "data = {\n",
    "    'A': [10, 20, 1, 40, 50],\n",
    "    'B': [5, np.nan, 15, 20, 25],\n",
    "    'C': [np.nan, 30, 35, 40, np.nan],\n",
    "    'D': [100, 200, 300, 1, 500],\n",
    "    'C': [np.nan, 30, 35, 40, np.nan],\n",
    "    'D': [100, 200, 300, 1, 500]\n",
    "}\n",
    "df=pd.DataFrame(data=data)\n",
    "\n",
    "print(df)\n",
    "\n",
    "df.dropna(axis=0,inplace=True) ### if any row has missing value then drop it\n",
    "print(df)"
   ]
  },
  {
   "cell_type": "code",
   "execution_count": 18,
   "id": "acfe5860",
   "metadata": {},
   "outputs": [
    {
     "name": "stdout",
     "output_type": "stream",
     "text": [
      "  categories  values\n",
      "0          B      72\n",
      "1          A      87\n",
      "2          B      58\n",
      "3          A      64\n",
      "4          B      37\n",
      "5          A      70\n",
      "6          C      94\n",
      "7          A       3\n",
      "8          A       6\n",
      "9          B      69\n",
      "            sum  mean  count\n",
      "categories                  \n",
      "A           230  46.0      5\n",
      "B           236  59.0      4\n",
      "C            94  94.0      1\n"
     ]
    }
   ],
   "source": [
    "catagories=np.random.choice(['A','B','C'],size=10)\n",
    "values=np.random.randint(1,100,size=10)\n",
    "\n",
    "df=pd.DataFrame({\n",
    "    \"categories\":catagories,\n",
    "    \"values\":values\n",
    "})\n",
    "print(df)\n",
    "\n",
    "grouped_by_categories=df.groupby(\"categories\")[\"values\"].agg([\"sum\",\"mean\",\"count\"])\n",
    "\n",
    "print(grouped_by_categories)"
   ]
  },
  {
   "cell_type": "code",
   "execution_count": 19,
   "id": "9fc0de5c",
   "metadata": {},
   "outputs": [
    {
     "name": "stdout",
     "output_type": "stream",
     "text": [
      "  categories  sales\n",
      "0          C     93\n",
      "1          B     87\n",
      "2          C     88\n",
      "3          A     72\n",
      "4          B     60\n",
      "5          B     53\n",
      "6          C     78\n",
      "7          A     80\n",
      "8          A     73\n",
      "9          B     98\n",
      "            sum       mean  count\n",
      "categories                       \n",
      "A           225  75.000000      3\n",
      "B           298  74.500000      4\n",
      "C           259  86.333333      3\n"
     ]
    }
   ],
   "source": [
    "catagories=np.random.choice(['A','B','C'],size=10)\n",
    "values=np.random.randint(50,100,size=10)\n",
    "\n",
    "df=pd.DataFrame({\n",
    "    \"categories\":catagories,\n",
    "    \"sales\":values\n",
    "})\n",
    "print(df)\n",
    "\n",
    "grouped_by_categories=df.groupby(\"categories\")[\"sales\"].agg([\"sum\",\"mean\",\"count\"])\n",
    "\n",
    "print(grouped_by_categories)"
   ]
  },
  {
   "cell_type": "code",
   "execution_count": 21,
   "id": "300116ef",
   "metadata": {},
   "outputs": [
    {
     "name": "stdout",
     "output_type": "stream",
     "text": [
      "  categories  values\n",
      "0          A      76\n",
      "1          F      95\n",
      "2          A      22\n",
      "3          B      14\n",
      "4          B      93\n",
      "5          D      29\n",
      "6          A      45\n",
      "7          A      35\n",
      "8          D      66\n",
      "9          F      41\n",
      "  categories  values\n",
      "0          B      58\n",
      "1          B      93\n",
      "2          E      63\n",
      "3          A      42\n",
      "4          A      13\n",
      "5          B      19\n",
      "6          E      56\n",
      "7          E      37\n",
      "8          C      41\n",
      "9          B      81\n",
      "   categories  values_x  values_y\n",
      "0           A        76        42\n",
      "1           A        76        13\n",
      "2           A        22        42\n",
      "3           A        22        13\n",
      "4           B        14        58\n",
      "5           B        14        93\n",
      "6           B        14        19\n",
      "7           B        14        81\n",
      "8           B        93        58\n",
      "9           B        93        93\n",
      "10          B        93        19\n",
      "11          B        93        81\n",
      "12          A        45        42\n",
      "13          A        45        13\n",
      "14          A        35        42\n",
      "15          A        35        13\n"
     ]
    }
   ],
   "source": [
    "catagories=np.random.choice(['A','B','D','F'],size=10)\n",
    "values=np.random.randint(1,100,size=10)\n",
    "\n",
    "df1=pd.DataFrame({\n",
    "    \"categories\":catagories,\n",
    "    \"values\":values\n",
    "})\n",
    "print(df1)\n",
    "\n",
    "catagories=np.random.choice(['A','B','C','E'],size=10)\n",
    "values=np.random.randint(1,100,size=10)\n",
    "\n",
    "df2=pd.DataFrame({\n",
    "    \"categories\":catagories,\n",
    "    \"values\":values\n",
    "})\n",
    "print(df2)\n",
    "\n",
    "marge_df=pd.merge(df1,df2,how=\"inner\",on=\"categories\")\n",
    "print(marge_df)"
   ]
  },
  {
   "cell_type": "markdown",
   "id": "4d75dc3f",
   "metadata": {},
   "source": [
    "### concat()\n",
    "The pd.concat() function in Pandas joins/combines multiple DataFrames or Series into one.\n",
    "\n",
    "Think of it like gluing two tables together, either vertically (adding more rows) or horizontally (adding more columns)."
   ]
  },
  {
   "cell_type": "code",
   "execution_count": 26,
   "id": "084ff3a6",
   "metadata": {},
   "outputs": [
    {
     "name": "stdout",
     "output_type": "stream",
     "text": [
      "   A  B  C  D\n",
      "0  1  3  5  7\n",
      "1  2  4  6  8\n",
      "     A    B    C    D\n",
      "0  1.0  3.0  NaN  NaN\n",
      "1  2.0  4.0  NaN  NaN\n",
      "0  NaN  NaN  5.0  7.0\n",
      "1  NaN  NaN  6.0  8.0\n"
     ]
    }
   ],
   "source": [
    "df1 = pd.DataFrame({\n",
    "    'A': [1, 2],\n",
    "    'B': [3, 4]\n",
    "})\n",
    "\n",
    "df2 = pd.DataFrame({\n",
    "    'C': [5, 6],\n",
    "    'D': [7, 8]\n",
    "})\n",
    "\n",
    "result=pd.concat([df1,df2],axis=1)\n",
    "print(result)\n",
    "result=pd.concat([df1,df2],axis=0)\n",
    "print(result)"
   ]
  },
  {
   "cell_type": "code",
   "execution_count": 3,
   "id": "5523ab48",
   "metadata": {},
   "outputs": [
    {
     "name": "stdout",
     "output_type": "stream",
     "text": [
      "            values\n",
      "2025-01-01      42\n",
      "2025-01-02      42\n",
      "2025-01-03      72\n",
      "2025-01-04      65\n",
      "2025-01-05      98\n",
      "               values\n",
      "2025-01-31  60.000000\n",
      "2025-02-28  50.500000\n",
      "2025-03-31  58.870968\n",
      "2025-04-30  51.900000\n",
      "2025-05-31  50.258065\n",
      "2025-06-30  50.066667\n"
     ]
    },
    {
     "name": "stderr",
     "output_type": "stream",
     "text": [
      "C:\\Users\\susov\\AppData\\Local\\Temp\\ipykernel_7768\\671309508.py:12: FutureWarning: 'M' is deprecated and will be removed in a future version, please use 'ME' instead.\n",
      "  montly_mean=df.resample('M').mean()\n"
     ]
    }
   ],
   "source": [
    "import pandas as pd\n",
    "import numpy as np\n",
    "\n",
    "date_idx=pd.date_range(start='2025-01-01', end='2025-06-30',freq=\"D\")\n",
    "\n",
    "df=pd.DataFrame({\n",
    "    \"values\":np.random.randint(1,100,size=(len(date_idx)))\n",
    "},index=date_idx)\n",
    "\n",
    "print(df.head(5))\n",
    "\n",
    "montly_mean=df.resample('M').mean()\n",
    "print(montly_mean)\n"
   ]
  },
  {
   "cell_type": "code",
   "execution_count": null,
   "id": "d01364a6",
   "metadata": {},
   "outputs": [],
   "source": []
  },
  {
   "cell_type": "code",
   "execution_count": 8,
   "id": "a4fea0d5",
   "metadata": {},
   "outputs": [
    {
     "name": "stdout",
     "output_type": "stream",
     "text": [
      "            values\n",
      "2021-01-01       8\n",
      "2021-01-02      70\n",
      "2021-01-03      99\n",
      "2021-01-04      35\n",
      "2021-01-05      54\n",
      "               values\n",
      "2021-01-01        NaN\n",
      "2021-01-02        NaN\n",
      "2021-01-03        NaN\n",
      "2021-01-04        NaN\n",
      "2021-01-05        NaN\n",
      "2021-01-06        NaN\n",
      "2021-01-07  64.000000\n",
      "2021-01-08  64.428571\n"
     ]
    }
   ],
   "source": [
    "date_idx=pd.date_range(start=\"2021-01-01\",end=\"2021-12-31\",freq=\"D\")\n",
    "\n",
    "df=pd.DataFrame({\n",
    "    \"values\":np.random.randint(1,100,size=(len(date_idx)))\n",
    "},index=date_idx)\n",
    "\n",
    "print(df.head(5))\n",
    "mean_of_7days_window=df.rolling(window=7).mean()\n",
    "\n",
    "print(mean_of_7days_window.head(8))\n"
   ]
  },
  {
   "cell_type": "markdown",
   "id": "51e352be",
   "metadata": {},
   "source": [
    "###  What is a MultiIndex?\n",
    "A MultiIndex (also called a Hierarchical Index) in Pandas allows you to have multiple levels of indexing on rows or columns.\n",
    "\n",
    "Think of it like having row labels or column labels in a tree structure, where there are “levels” of indexing."
   ]
  },
  {
   "cell_type": "code",
   "execution_count": 9,
   "id": "6d2e9d59",
   "metadata": {},
   "outputs": [
    {
     "name": "stdout",
     "output_type": "stream",
     "text": [
      "               salary  Profit\n",
      "Year category                \n",
      "2025 c1          1950     888\n",
      "     c2          2242     964\n",
      "2026 c1          4029     673\n",
      "     c2          2376     754\n"
     ]
    }
   ],
   "source": [
    "indexs=[\n",
    "    ['2025','2025','2026','2026'],\n",
    "    ['c1',\"c2\",'c1','c2']\n",
    "]\n",
    "\n",
    "multi_idx=pd.MultiIndex.from_arrays(indexs,names=[\"Year\",\"category\"])\n",
    "\n",
    "df=pd.DataFrame({\n",
    "    \"salary\":np.random.randint(1000,5000,size=4),\n",
    "    \"Profit\":np.random.randint(500,1000,size=4)\n",
    "},index=multi_idx)\n",
    "\n",
    "print(df)\n",
    "\n"
   ]
  },
  {
   "cell_type": "code",
   "execution_count": 21,
   "id": "8f6a4d2a",
   "metadata": {},
   "outputs": [
    {
     "name": "stdout",
     "output_type": "stream",
     "text": [
      "                           sales  profit\n",
      "categories  subcategories               \n",
      "Electronics Phones          3330     449\n",
      "            Laptops         4940     405\n",
      "Furniture   Chairs          1166     495\n",
      "            Tables          4845     396\n",
      "             sales  profit\n",
      "categories                \n",
      "Electronics   8270     854\n",
      "Furniture     6011     891\n",
      "                           sales  profit\n",
      "categories  subcategories               \n",
      "Electronics Laptops         4940     405\n",
      "            Phones          3330     449\n",
      "Furniture   Chairs          1166     495\n",
      "            Tables          4845     396\n"
     ]
    }
   ],
   "source": [
    "categories = ['Electronics', 'Electronics', 'Furniture', 'Furniture']\n",
    "subcategories = ['Phones', 'Laptops', 'Chairs', 'Tables']\n",
    "\n",
    "\n",
    "multi_idx=pd.MultiIndex.from_arrays([categories,subcategories],names=[\"categories\",\"subcategories\"])\n",
    "\n",
    "df=pd.DataFrame({\n",
    "    \"sales\":np.random.randint(1000,5000,size=4),\n",
    "    \"profit\":np.random.randint(100,500,size=4)\n",
    "},index=multi_idx)\n",
    "\n",
    "print(df)\n",
    "\n",
    "print(df.groupby(\"categories\")[[\"sales\",\"profit\"]].sum())\n",
    "\n",
    "print(df.groupby([\"categories\",\"subcategories\"])[[\"sales\",\"profit\"]].sum())\n"
   ]
  },
  {
   "cell_type": "code",
   "execution_count": 23,
   "id": "d0b9a2b4",
   "metadata": {},
   "outputs": [
    {
     "name": "stdout",
     "output_type": "stream",
     "text": [
      "             sales  profit\n",
      "categories                \n",
      "Electronics   8270     854\n",
      "Furniture     6011     891\n",
      "                           sales  profit\n",
      "categories  subcategories               \n",
      "Electronics Laptops         4940     405\n",
      "            Phones          3330     449\n",
      "Furniture   Chairs          1166     495\n",
      "            Tables          4845     396\n"
     ]
    }
   ],
   "source": [
    "category_sum = df.groupby(level='categories').sum()\n",
    "subcategory_sum = df.groupby(level=['categories', 'subcategories']).sum()\n",
    "print(category_sum)\n",
    "print(subcategory_sum)"
   ]
  },
  {
   "cell_type": "code",
   "execution_count": 24,
   "id": "586e8825",
   "metadata": {},
   "outputs": [
    {
     "data": {
      "text/html": [
       "<div>\n",
       "<style scoped>\n",
       "    .dataframe tbody tr th:only-of-type {\n",
       "        vertical-align: middle;\n",
       "    }\n",
       "\n",
       "    .dataframe tbody tr th {\n",
       "        vertical-align: top;\n",
       "    }\n",
       "\n",
       "    .dataframe thead th {\n",
       "        text-align: right;\n",
       "    }\n",
       "</style>\n",
       "<table border=\"1\" class=\"dataframe\">\n",
       "  <thead>\n",
       "    <tr style=\"text-align: right;\">\n",
       "      <th></th>\n",
       "      <th>Date</th>\n",
       "      <th>Category</th>\n",
       "      <th>Value</th>\n",
       "    </tr>\n",
       "  </thead>\n",
       "  <tbody>\n",
       "    <tr>\n",
       "      <th>0</th>\n",
       "      <td>2025-07-01</td>\n",
       "      <td>A</td>\n",
       "      <td>55</td>\n",
       "    </tr>\n",
       "    <tr>\n",
       "      <th>1</th>\n",
       "      <td>2025-07-01</td>\n",
       "      <td>B</td>\n",
       "      <td>42</td>\n",
       "    </tr>\n",
       "    <tr>\n",
       "      <th>2</th>\n",
       "      <td>2025-07-01</td>\n",
       "      <td>C</td>\n",
       "      <td>15</td>\n",
       "    </tr>\n",
       "    <tr>\n",
       "      <th>3</th>\n",
       "      <td>2025-07-01</td>\n",
       "      <td>D</td>\n",
       "      <td>19</td>\n",
       "    </tr>\n",
       "    <tr>\n",
       "      <th>4</th>\n",
       "      <td>2025-07-02</td>\n",
       "      <td>A</td>\n",
       "      <td>51</td>\n",
       "    </tr>\n",
       "    <tr>\n",
       "      <th>5</th>\n",
       "      <td>2025-07-02</td>\n",
       "      <td>B</td>\n",
       "      <td>34</td>\n",
       "    </tr>\n",
       "    <tr>\n",
       "      <th>6</th>\n",
       "      <td>2025-07-02</td>\n",
       "      <td>C</td>\n",
       "      <td>21</td>\n",
       "    </tr>\n",
       "    <tr>\n",
       "      <th>7</th>\n",
       "      <td>2025-07-02</td>\n",
       "      <td>D</td>\n",
       "      <td>32</td>\n",
       "    </tr>\n",
       "    <tr>\n",
       "      <th>8</th>\n",
       "      <td>2025-07-03</td>\n",
       "      <td>A</td>\n",
       "      <td>62</td>\n",
       "    </tr>\n",
       "    <tr>\n",
       "      <th>9</th>\n",
       "      <td>2025-07-03</td>\n",
       "      <td>B</td>\n",
       "      <td>53</td>\n",
       "    </tr>\n",
       "    <tr>\n",
       "      <th>10</th>\n",
       "      <td>2025-07-03</td>\n",
       "      <td>C</td>\n",
       "      <td>27</td>\n",
       "    </tr>\n",
       "    <tr>\n",
       "      <th>11</th>\n",
       "      <td>2025-07-03</td>\n",
       "      <td>D</td>\n",
       "      <td>71</td>\n",
       "    </tr>\n",
       "    <tr>\n",
       "      <th>12</th>\n",
       "      <td>2025-07-04</td>\n",
       "      <td>A</td>\n",
       "      <td>69</td>\n",
       "    </tr>\n",
       "    <tr>\n",
       "      <th>13</th>\n",
       "      <td>2025-07-04</td>\n",
       "      <td>B</td>\n",
       "      <td>61</td>\n",
       "    </tr>\n",
       "    <tr>\n",
       "      <th>14</th>\n",
       "      <td>2025-07-04</td>\n",
       "      <td>C</td>\n",
       "      <td>66</td>\n",
       "    </tr>\n",
       "    <tr>\n",
       "      <th>15</th>\n",
       "      <td>2025-07-04</td>\n",
       "      <td>D</td>\n",
       "      <td>67</td>\n",
       "    </tr>\n",
       "    <tr>\n",
       "      <th>16</th>\n",
       "      <td>2025-07-05</td>\n",
       "      <td>A</td>\n",
       "      <td>46</td>\n",
       "    </tr>\n",
       "    <tr>\n",
       "      <th>17</th>\n",
       "      <td>2025-07-05</td>\n",
       "      <td>B</td>\n",
       "      <td>38</td>\n",
       "    </tr>\n",
       "    <tr>\n",
       "      <th>18</th>\n",
       "      <td>2025-07-05</td>\n",
       "      <td>C</td>\n",
       "      <td>32</td>\n",
       "    </tr>\n",
       "    <tr>\n",
       "      <th>19</th>\n",
       "      <td>2025-07-05</td>\n",
       "      <td>D</td>\n",
       "      <td>15</td>\n",
       "    </tr>\n",
       "  </tbody>\n",
       "</table>\n",
       "</div>"
      ],
      "text/plain": [
       "         Date Category  Value\n",
       "0  2025-07-01        A     55\n",
       "1  2025-07-01        B     42\n",
       "2  2025-07-01        C     15\n",
       "3  2025-07-01        D     19\n",
       "4  2025-07-02        A     51\n",
       "5  2025-07-02        B     34\n",
       "6  2025-07-02        C     21\n",
       "7  2025-07-02        D     32\n",
       "8  2025-07-03        A     62\n",
       "9  2025-07-03        B     53\n",
       "10 2025-07-03        C     27\n",
       "11 2025-07-03        D     71\n",
       "12 2025-07-04        A     69\n",
       "13 2025-07-04        B     61\n",
       "14 2025-07-04        C     66\n",
       "15 2025-07-04        D     67\n",
       "16 2025-07-05        A     46\n",
       "17 2025-07-05        B     38\n",
       "18 2025-07-05        C     32\n",
       "19 2025-07-05        D     15"
      ]
     },
     "execution_count": 24,
     "metadata": {},
     "output_type": "execute_result"
    }
   ],
   "source": [
    "dates = pd.date_range('2025-07-01', periods=5).repeat(4)\n",
    "categories = ['A', 'B', 'C', 'D'] * 5\n",
    "values = np.random.randint(10, 100, size=len(dates))\n",
    "\n",
    "df = pd.DataFrame({\n",
    "    'Date': dates,\n",
    "    'Category': categories,\n",
    "    'Value': values\n",
    "})\n",
    "\n",
    "df"
   ]
  },
  {
   "cell_type": "markdown",
   "id": "e02a324e",
   "metadata": {},
   "source": [
    "### 📝 What is pd.pivot_table?\n",
    "In Pandas, pivot_table() is a powerful method to:\n",
    "✅ Summarize data\n",
    "✅ Group by rows and columns\n",
    "✅ Apply an aggregation function (like sum, mean, etc.)\n",
    "\n",
    "Think of it like an Excel Pivot Table, but for Python."
   ]
  },
  {
   "cell_type": "code",
   "execution_count": 25,
   "id": "02e17569",
   "metadata": {},
   "outputs": [
    {
     "name": "stdout",
     "output_type": "stream",
     "text": [
      "           count            max               min               sum          \\\n",
      "           Value          Value             Value             Value           \n",
      "Category       A  B  C  D     A   B   C   D     A   B   C   D     A   B   C   \n",
      "Date                                                                          \n",
      "2025-07-01     1  1  1  1    55  42  15  19    55  42  15  19    55  42  15   \n",
      "2025-07-02     1  1  1  1    51  34  21  32    51  34  21  32    51  34  21   \n",
      "2025-07-03     1  1  1  1    62  53  27  71    62  53  27  71    62  53  27   \n",
      "2025-07-04     1  1  1  1    69  61  66  67    69  61  66  67    69  61  66   \n",
      "2025-07-05     1  1  1  1    46  38  32  15    46  38  32  15    46  38  32   \n",
      "\n",
      "                mean                    \n",
      "               Value                    \n",
      "Category     D     A     B     C     D  \n",
      "Date                                    \n",
      "2025-07-01  19  55.0  42.0  15.0  19.0  \n",
      "2025-07-02  32  51.0  34.0  21.0  32.0  \n",
      "2025-07-03  71  62.0  53.0  27.0  71.0  \n",
      "2025-07-04  67  69.0  61.0  66.0  67.0  \n",
      "2025-07-05  15  46.0  38.0  32.0  15.0  \n"
     ]
    }
   ],
   "source": [
    "pivot_table=pd.pivot_table(\n",
    "    df,\n",
    "    index=\"Date\",\n",
    "    columns=\"Category\",\n",
    "    aggfunc=[\"count\",\"max\",\"min\",\"sum\",\"mean\"],      \n",
    "    fill_value=0   \n",
    ")\n",
    "print(pivot_table)"
   ]
  },
  {
   "cell_type": "code",
   "execution_count": 6,
   "id": "f202d3b7",
   "metadata": {},
   "outputs": [
    {
     "name": "stdout",
     "output_type": "stream",
     "text": [
      "    0   1   2\n",
      "0  16  76  48\n",
      "1  78  32  17\n",
      "2  86  62  70\n",
      "3  69  81  42\n",
      "4  76  71  13\n",
      "     0    1    2\n",
      "0   32  152   96\n",
      "1  156   64   34\n",
      "2  172  124  140\n",
      "3  138  162   84\n",
      "4  152  142   26\n",
      "     0    1    2\n",
      "0   32  152   96\n",
      "1  156   64   34\n",
      "2  172  124  140\n",
      "3  138  162   84\n",
      "4  152  142   26\n"
     ]
    },
    {
     "name": "stderr",
     "output_type": "stream",
     "text": [
      "C:\\Users\\susov\\AppData\\Local\\Temp\\ipykernel_20256\\3536504572.py:7: FutureWarning: DataFrame.applymap has been deprecated. Use DataFrame.map instead.\n",
      "  new_df=df.applymap(lambda x:x*2)\n"
     ]
    }
   ],
   "source": [
    "import pandas as pd\n",
    "import numpy as np\n",
    "df=pd.DataFrame(np.random.randint(1,100,size=(5,3)))\n",
    "print(df)\n",
    "new_df=df.apply(lambda x:x*2)\n",
    "print(new_df)\n",
    "new_df=df.applymap(lambda x:x*2)\n",
    "print(new_df)"
   ]
  },
  {
   "cell_type": "code",
   "execution_count": 5,
   "id": "1433a9ab",
   "metadata": {},
   "outputs": [
    {
     "name": "stdout",
     "output_type": "stream",
     "text": [
      "    0   1   2\n",
      "0  77  59  42\n",
      "1  86  24  61\n",
      "2  43  78  37\n",
      "3  73  81  77\n",
      "4  62  15  69\n",
      "5  93  23   6\n",
      "    0   1   2  total\n",
      "0  77  59  42    178\n",
      "1  86  24  61    171\n",
      "2  43  78  37    158\n",
      "3  73  81  77    231\n",
      "4  62  15  69    146\n",
      "5  93  23   6    122\n"
     ]
    }
   ],
   "source": [
    "df=pd.DataFrame(np.random.randint(1,100,size=(6,3)))\n",
    "print(df)\n",
    "df[\"total\"]=df.apply(lambda row : row.sum(),axis=1)\n",
    "print(df)\n"
   ]
  },
  {
   "cell_type": "code",
   "execution_count": 9,
   "id": "0e4f8012",
   "metadata": {},
   "outputs": [
    {
     "name": "stdout",
     "output_type": "stream",
     "text": [
      "0         apple\n",
      "1        banana\n",
      "2        cherry\n",
      "3          date\n",
      "4    elderberry\n",
      "5           fig\n",
      "6         grape\n",
      "dtype: object\n",
      "0         APPLE\n",
      "1        BANANA\n",
      "2        CHERRY\n",
      "3          DATE\n",
      "4    ELDERBERRY\n",
      "5           FIG\n",
      "6         GRAPE\n",
      "dtype: object\n",
      "0         LE\n",
      "1        ANA\n",
      "2        RRY\n",
      "3          E\n",
      "4    ERBERRY\n",
      "5           \n",
      "6         PE\n",
      "dtype: object\n"
     ]
    }
   ],
   "source": [
    "my_list = [\"apple\", \"banana\", \"cherry\", \"date\", \"elderberry\", \"fig\", \"grape\"]\n",
    "\n",
    "df=pd.Series(my_list)\n",
    "print(df)\n",
    "\n",
    "df=df.apply(lambda x: x.upper())\n",
    "print(df)\n",
    "\n",
    "df=df.apply(lambda x: x[3:])\n",
    "print(df)"
   ]
  }
 ],
 "metadata": {
  "kernelspec": {
   "display_name": "Python 3",
   "language": "python",
   "name": "python3"
  },
  "language_info": {
   "codemirror_mode": {
    "name": "ipython",
    "version": 3
   },
   "file_extension": ".py",
   "mimetype": "text/x-python",
   "name": "python",
   "nbconvert_exporter": "python",
   "pygments_lexer": "ipython3",
   "version": "3.12.11"
  }
 },
 "nbformat": 4,
 "nbformat_minor": 5
}

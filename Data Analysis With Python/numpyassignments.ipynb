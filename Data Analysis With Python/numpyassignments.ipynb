{
 "cells": [
  {
   "cell_type": "markdown",
   "metadata": {},
   "source": [
    "# Module: NumPy Assignments\n",
    "## Lesson: NumPy\n",
    "### Assignment 1: Array Creation and Manipulation\n",
    "\n",
    "1. Create a NumPy array of shape (5, 5) filled with random integers between 1 and 20. Replace all the elements in the third column with 1.\n",
    "2. Create a NumPy array of shape (4, 4) with values from 1 to 16. Replace the diagonal elements with 0.\n",
    "\n",
    "### Assignment 2: Array Indexing and Slicing\n",
    "\n",
    "1. Create a NumPy array of shape (6, 6) with values from 1 to 36. Extract the sub-array consisting of the 3rd to 5th rows and 2nd to 4th columns.\n",
    "2. Create a NumPy array of shape (5, 5) with random integers. Extract the elements on the border.\n",
    "\n",
    "### Assignment 3: Array Operations\n",
    "\n",
    "1. Create two NumPy arrays of shape (3, 4) filled with random integers. Perform element-wise addition, subtraction, multiplication, and division.\n",
    "2. Create a NumPy array of shape (4, 4) with values from 1 to 16. Compute the row-wise and column-wise sum.\n",
    "\n",
    "### Assignment 4: Statistical Operations\n",
    "\n",
    "1. Create a NumPy array of shape (5, 5) filled with random integers. Compute the mean, median, standard deviation, and variance of the array.\n",
    "2. Create a NumPy array of shape (3, 3) with values from 1 to 9. Normalize the array (i.e., scale the values to have a mean of 0 and a standard deviation of 1).\n",
    "\n",
    "### Assignment 5: Broadcasting\n",
    "\n",
    "1. Create a NumPy array of shape (3, 3) filled with random integers. Add a 1D array of shape (3,) to each row of the 2D array using broadcasting.\n",
    "2. Create a NumPy array of shape (4, 4) filled with random integers. Subtract a 1D array of shape (4,) from each column of the 2D array using broadcasting.\n",
    "\n",
    "### Assignment 6: Linear Algebra\n",
    "\n",
    "1. Create a NumPy array of shape (3, 3) representing a matrix. Compute its determinant, inverse, and eigenvalues.\n",
    "2. Create two NumPy arrays of shape (2, 3) and (3, 2). Perform matrix multiplication on these arrays.\n",
    "\n",
    "### Assignment 7: Advanced Array Manipulation\n",
    "\n",
    "1. Create a NumPy array of shape (3, 3) with values from 1 to 9. Reshape the array to shape (1, 9) and then to shape (9, 1).\n",
    "2. Create a NumPy array of shape (5, 5) filled with random integers. Flatten the array and then reshape it back to (5, 5).\n",
    "\n",
    "### Assignment 8: Fancy Indexing and Boolean Indexing\n",
    "\n",
    "1. Create a NumPy array of shape (5, 5) filled with random integers. Use fancy indexing to extract the elements at the corners of the array.\n",
    "2. Create a NumPy array of shape (4, 4) filled with random integers. Use boolean indexing to set all elements greater than 10 to 10.\n",
    "\n",
    "### Assignment 9: Structured Arrays\n",
    "\n",
    "1. Create a structured array with fields 'name' (string), 'age' (integer), and 'weight' (float). Add some data and sort the array by age.\n",
    "2. Create a structured array with fields 'x' and 'y' (both integers). Add some data and compute the Euclidean distance between each pair of points.\n",
    "\n",
    "### Assignment 10: Masked Arrays\n",
    "\n",
    "1. Create a masked array of shape (4, 4) with random integers and mask the elements greater than 10. Compute the sum of the unmasked elements.\n",
    "2. Create a masked array of shape (3, 3) with random integers and mask the diagonal elements. Replace the masked elements with the mean of the unmasked elements."
   ]
  },
  {
   "cell_type": "code",
   "execution_count": 12,
   "id": "16dde187",
   "metadata": {},
   "outputs": [
    {
     "name": "stdout",
     "output_type": "stream",
     "text": [
      "[[ 4  9  7  3  3]\n",
      " [11  8  8  6  7]\n",
      " [11 16 11 10  1]\n",
      " [ 8 10 17 19 18]\n",
      " [17  5  9  3 20]]\n"
     ]
    }
   ],
   "source": [
    "import numpy as np\n",
    "import random \n",
    "\n",
    "arr1=np.array([[random.randint(1,20) for i in range(0,5)] for i in range(0,5)])\n",
    "print(arr1)\n"
   ]
  },
  {
   "cell_type": "code",
   "execution_count": 13,
   "metadata": {},
   "outputs": [
    {
     "data": {
      "text/plain": [
       "array([[ 4,  9,  1,  3,  3],\n",
       "       [11,  8,  1,  6,  7],\n",
       "       [11, 16,  1, 10,  1],\n",
       "       [ 8, 10,  1, 19, 18],\n",
       "       [17,  5,  1,  3, 20]])"
      ]
     },
     "execution_count": 13,
     "metadata": {},
     "output_type": "execute_result"
    }
   ],
   "source": [
    "arr1[:,2]=1\n",
    "arr1"
   ]
  },
  {
   "cell_type": "code",
   "execution_count": 16,
   "id": "7f9c3cf1",
   "metadata": {},
   "outputs": [
    {
     "data": {
      "text/plain": [
       "array([[ 0,  2,  3,  4],\n",
       "       [ 5,  0,  7,  8],\n",
       "       [ 9, 10,  0, 12],\n",
       "       [13, 14, 15,  0]])"
      ]
     },
     "execution_count": 16,
     "metadata": {},
     "output_type": "execute_result"
    }
   ],
   "source": [
    "arr2=np.arange(1,17).reshape(4,4)\n",
    "np.fill_diagonal(arr2,0)\n",
    "arr2\n"
   ]
  },
  {
   "cell_type": "code",
   "execution_count": 20,
   "id": "b610a927",
   "metadata": {},
   "outputs": [
    {
     "name": "stdout",
     "output_type": "stream",
     "text": [
      "[[19 20 21 22 23 24]\n",
      " [25 26 27 28 29 30]]\n",
      "[[ 3  4]\n",
      " [ 9 10]\n",
      " [15 16]\n",
      " [21 22]\n",
      " [27 28]\n",
      " [33 34]]\n"
     ]
    },
    {
     "data": {
      "text/plain": [
       "array([[ 1,  2,  3,  4,  5,  6],\n",
       "       [ 7,  8,  9, 10, 11, 12],\n",
       "       [13, 14, 15, 16, 17, 18],\n",
       "       [19, 20, 21, 22, 23, 24],\n",
       "       [25, 26, 27, 28, 29, 30],\n",
       "       [31, 32, 33, 34, 35, 36]])"
      ]
     },
     "execution_count": 20,
     "metadata": {},
     "output_type": "execute_result"
    }
   ],
   "source": [
    "# 1. Create a NumPy array of shape (6, 6) with values from 1 to 36. Extract the sub-array consisting of the 3rd to 5th rows and 2nd to 4th columns.\n",
    "arr3=np.arange(1,37).reshape(6,6)\n",
    "print(arr3[3:5])\n",
    "print(arr3[:,2:4])\n",
    "arr3"
   ]
  },
  {
   "cell_type": "markdown",
   "id": "de8d4b54",
   "metadata": {},
   "source": [
    "###  np.concatenate\n",
    "This is used to join two or more arrays along an axis.\n",
    "### arr = np.random.randint(0, 100, (5, 5))\n",
    "This creates a 5x5 NumPy array with random integers between 0 and 99.\n",
    "\n",
    "⚠️ Key Rule:\n",
    "For axis=0: all arrays must have same number of columns.\n",
    "\n",
    "For axis=1: all arrays must have same number of rows."
   ]
  },
  {
   "cell_type": "code",
   "execution_count": null,
   "id": "0f0f1a54",
   "metadata": {},
   "outputs": [
    {
     "data": {
      "text/plain": [
       "array([[86, 23, 15, 80, 92],\n",
       "       [31, 98, 34, 64, 37],\n",
       "       [50, 46, 49, 58, 43],\n",
       "       [48,  3, 16, 33, 72],\n",
       "       [55, 72, 86, 36, 78]], dtype=int32)"
      ]
     },
     "execution_count": 21,
     "metadata": {},
     "output_type": "execute_result"
    }
   ],
   "source": [
    "arr2=np.random.randint(1,100,(5,5))"
   ]
  },
  {
   "cell_type": "code",
   "execution_count": 23,
   "id": "a5004b06",
   "metadata": {},
   "outputs": [
    {
     "name": "stdout",
     "output_type": "stream",
     "text": [
      "add -  [[ 63  75 101  58]\n",
      " [ 91  20 136  82]\n",
      " [133  95  39 110]]\n",
      "sub -  [[ -3  33   1 -52]\n",
      " [-71 -14 -28  12]\n",
      " [-23 -19 -25 -44]]\n",
      "mul -  [[ 990 1134 2550  165]\n",
      " [ 810   51 4428 1645]\n",
      " [4290 2166  224 2541]]\n",
      " div -  [[0.90909091 2.57142857 1.02       0.05454545]\n",
      " [0.12345679 0.17647059 0.65853659 1.34285714]\n",
      " [0.70512821 0.66666667 0.21875    0.42857143]]\n"
     ]
    }
   ],
   "source": [
    "arr1=np.random.randint(1,100,(3,4))\n",
    "arr2=np.random.randint(1,100,(3,4))\n",
    "\n",
    "print(\"add - \",arr1+arr2)\n",
    "print(\"sub - \",arr1-arr2)\n",
    "print(\"mul - \",arr1*arr2)\n",
    "print(\" div - \",arr1/arr2)"
   ]
  },
  {
   "cell_type": "code",
   "execution_count": null,
   "metadata": {},
   "outputs": [
    {
     "data": {
      "text/plain": [
       "array([[-1.54919334, -1.161895  , -0.77459667],\n",
       "       [-0.38729833,  0.        ,  0.38729833],\n",
       "       [ 0.77459667,  1.161895  ,  1.54919334]])"
      ]
     },
     "execution_count": 25,
     "metadata": {},
     "output_type": "execute_result"
    }
   ],
   "source": [
    "arr1=np.arange(1,10).reshape(3,3)\n",
    "\n",
    "m=arr1.mean()\n",
    "s=arr1.std()\n",
    "\n",
    "Normalized_arr=(arr1-m)/s\n",
    "\n",
    "Normalized_arr"
   ]
  },
  {
   "cell_type": "code",
   "execution_count": 29,
   "id": "8e3b0195",
   "metadata": {},
   "outputs": [
    {
     "name": "stdout",
     "output_type": "stream",
     "text": [
      "[134 222 114 234]\n",
      "[251  96 179 178]\n"
     ]
    }
   ],
   "source": [
    "arr2=np.random.randint(1,100,(4,4))\n",
    "\n",
    "print(arr2.sum(axis=1))\n",
    "print(arr2.sum(axis=0))"
   ]
  },
  {
   "cell_type": "code",
   "execution_count": null,
   "id": "3c0e746f",
   "metadata": {},
   "outputs": [
    {
     "name": "stdout",
     "output_type": "stream",
     "text": [
      "[[1 5 7]\n",
      " [1 6 6]\n",
      " [1 8 5]]\n"
     ]
    },
    {
     "data": {
      "text/plain": [
       "array([[ 2,  7, 10],\n",
       "       [ 2,  8,  9],\n",
       "       [ 2, 10,  8]])"
      ]
     },
     "execution_count": 31,
     "metadata": {},
     "output_type": "execute_result"
    }
   ],
   "source": [
    "arr=np.random.randint(1,10,(3,3))\n",
    "print(arr)\n",
    "\n",
    "a=np.array([1,2,3]) ## 1d\n",
    "\n",
    "\n",
    "result=arr+a ## brodcust in each row\n",
    "result"
   ]
  },
  {
   "cell_type": "code",
   "execution_count": 38,
   "id": "7fbba473",
   "metadata": {},
   "outputs": [
    {
     "name": "stdout",
     "output_type": "stream",
     "text": [
      "[[6 7 8 3]\n",
      " [8 8 3 1]\n",
      " [3 6 2 7]\n",
      " [2 2 8 4]]\n",
      "[[1]\n",
      " [2]\n",
      " [3]\n",
      " [4]] (4, 1)\n",
      "[[ 5  6  7  2]\n",
      " [ 6  6  1 -1]\n",
      " [ 0  3 -1  4]\n",
      " [-2 -2  4  0]]\n"
     ]
    }
   ],
   "source": [
    "arr=np.random.randint(1,10,(4,4))\n",
    "print(arr)\n",
    "\n",
    "a=np.array([1,2,3,4]).reshape(4,1)\n",
    "print(a,np.shape(a))\n",
    "\n",
    "result=arr-a\n",
    "print(result)"
   ]
  },
  {
   "cell_type": "code",
   "execution_count": null,
   "id": "6fd0ddc1",
   "metadata": {},
   "outputs": [
    {
     "name": "stdout",
     "output_type": "stream",
     "text": [
      "2.000000000000003\n",
      "[[-13.   22.   -8.5]\n",
      " [  1.   -2.    1. ]\n",
      " [  2.   -3.    1. ]]\n",
      "\n",
      "Eigenvalues: [19.44523111 -0.07506613 -1.37016498]\n",
      "Eigenvectors:\n",
      " [[ 0.56890876  0.98548319 -0.83302018]\n",
      " [ 0.56748136 -0.07352845 -0.28032159]\n",
      " [ 0.59523753 -0.15302436  0.47696666]]\n"
     ]
    }
   ],
   "source": [
    "### liner algebra -> linalg\n",
    "\n",
    "arr=np.array([[ 2,  7, 10],\n",
    "       [ 2,  8,  9],\n",
    "       [ 2, 10,  8]])\n",
    "\n",
    "dt=np.linalg.det(arr)\n",
    "print(dt) ### determinant\n",
    "\n",
    "if dt!=0:\n",
    "    print(np.linalg.inv(arr)) ### inverse \n",
    "else:\n",
    "    print(\"has no inverse\")\n",
    "\n",
    "eigenvalues, eigenvectors = np.linalg.eig(arr)\n",
    "print(\"\\nEigenvalues:\", eigenvalues)\n",
    "print(\"Eigenvectors:\\n\", eigenvectors)\n"
   ]
  },
  {
   "cell_type": "code",
   "execution_count": 43,
   "id": "4d0f329f",
   "metadata": {},
   "outputs": [
    {
     "name": "stdout",
     "output_type": "stream",
     "text": [
      " dot product - \n",
      " [[ 56  45 106]\n",
      " [ 77  69 115]\n",
      " [ 99  89 131]]\n"
     ]
    }
   ],
   "source": [
    "arr1=np.random.randint(1,10,(3,4))\n",
    "arr2=np.random.randint(1,10,(4,3))\n",
    "print(\" dot product - \\n\", np.dot(arr1,arr2))  ### matrix multiplaction\n"
   ]
  },
  {
   "cell_type": "code",
   "execution_count": 50,
   "id": "dd23ad08",
   "metadata": {},
   "outputs": [
    {
     "name": "stdout",
     "output_type": "stream",
     "text": [
      "[[2 1 3 1 0 2 4 1 8]]\n",
      "[[2]\n",
      " [1]\n",
      " [3]\n",
      " [1]\n",
      " [0]\n",
      " [2]\n",
      " [4]\n",
      " [1]\n",
      " [8]]\n"
     ]
    }
   ],
   "source": [
    "a = np.array([[2, 1, 3],\n",
    "                   [1, 0, 2],\n",
    "                   [4, 1, 8]])\n",
    "a1=a.reshape(1,9)\n",
    "print(a1)\n",
    "a2=a.reshape(9,1)\n",
    "print(a2)"
   ]
  },
  {
   "cell_type": "code",
   "execution_count": 49,
   "id": "5fb0a883",
   "metadata": {},
   "outputs": [
    {
     "name": "stdout",
     "output_type": "stream",
     "text": [
      "[[37 45 75 41 98]\n",
      " [38 66 87 26 20]\n",
      " [22 63 62 72 75]\n",
      " [19 26 45 58 11]\n",
      " [32 21 22 12 99]]\n",
      "[37 45 75 41 98 38 66 87 26 20 22 63 62 72 75 19 26 45 58 11 32 21 22 12\n",
      " 99]\n",
      "[[37 45 75 41 98]\n",
      " [38 66 87 26 20]\n",
      " [22 63 62 72 75]\n",
      " [19 26 45 58 11]\n",
      " [32 21 22 12 99]]\n"
     ]
    }
   ],
   "source": [
    "arr2 = np.random.randint(1, 100, size=(5, 5))\n",
    "print(arr2)\n",
    "\n",
    "flatt=arr2.flatten()\n",
    "print(flatt)\n",
    "arr2=flatt.reshape(5,5)\n",
    "print(arr2)"
   ]
  },
  {
   "cell_type": "code",
   "execution_count": 67,
   "id": "8252ded6",
   "metadata": {},
   "outputs": [
    {
     "name": "stdout",
     "output_type": "stream",
     "text": [
      "[[85 37 41 17 76]\n",
      " [17 70 64 19 74]\n",
      " [61 81 76 96 97]\n",
      " [15 21 78 93 66]\n",
      " [ 8 87 23 16 89]]\n",
      "[85 76  8 89]\n"
     ]
    },
    {
     "data": {
      "text/plain": [
       "' \\n✅ Why this works:\\narr1[[0, 0, -1, -1], [0, -1, 0, -1]]\\n\\nFirst list [0, 0, -1, -1] specifies the row indices:\\n\\nRow 0, Row 0, Row -1 (last row), Row -1 (last row).\\n\\nSecond list [0, -1, 0, -1] specifies the column indices:\\n\\nColumn 0, Column -1 (last column), Column 0, Column -1 (last column).\\n\\nThese are paired together:\\n\\n(0, 0) → Top-left corner\\n\\n(0, -1) → Top-right corner\\n\\n(-1, 0) → Bottom-left corner\\n\\n(-1, -1) → Bottom-right corner\\n\\n'"
      ]
     },
     "execution_count": 67,
     "metadata": {},
     "output_type": "execute_result"
    }
   ],
   "source": [
    "arr=np.random.randint(1,100,(5,5))\n",
    "print(arr)\n",
    "\n",
    "corners=arr[[0,0,-1,-1],[0,-1,0,-1]]\n",
    "print(corners)\n",
    "\n",
    "\"\"\" \n",
    "✅ Why this works:\n",
    "arr1[[0, 0, -1, -1], [0, -1, 0, -1]]\n",
    "\n",
    "First list [0, 0, -1, -1] specifies the row indices:\n",
    "\n",
    "Row 0, Row 0, Row -1 (last row), Row -1 (last row).\n",
    "\n",
    "Second list [0, -1, 0, -1] specifies the column indices:\n",
    "\n",
    "Column 0, Column -1 (last column), Column 0, Column -1 (last column).\n",
    "\n",
    "These are paired together:\n",
    "\n",
    "(0, 0) → Top-left corner\n",
    "\n",
    "(0, -1) → Top-right corner\n",
    "\n",
    "(-1, 0) → Bottom-left corner\n",
    "\n",
    "(-1, -1) → Bottom-right corner\n",
    "\n",
    "\"\"\""
   ]
  },
  {
   "cell_type": "code",
   "execution_count": 68,
   "id": "d131b7fd",
   "metadata": {},
   "outputs": [
    {
     "name": "stdout",
     "output_type": "stream",
     "text": [
      "[[85 37 41 17 76]\n",
      " [17 70 64 19 74]\n",
      " [61 81 76 96 97]\n",
      " [15 21 78 93 66]\n",
      " [ 8 87 23 16 89]]\n",
      "[[101  37  41  17 101]\n",
      " [ 17 101 101  19 101]\n",
      " [101 101 101 101 101]\n",
      " [ 15  21 101 101 101]\n",
      " [  8 101  23  16 101]]\n"
     ]
    }
   ],
   "source": [
    "print(arr)\n",
    "arr[arr>50]=101\n",
    "print(arr)"
   ]
  },
  {
   "cell_type": "markdown",
   "id": "0849e4fa",
   "metadata": {},
   "source": [
    "### np.dtype([...]): Defines a custom data type where each entry has fields (like columns in a table).\n",
    "\n",
    "Fields:\n",
    "\n",
    "'name': Unicode string up to 10 characters (U10).\n",
    "\n",
    "'age': 4-byte integer (i4).\n",
    "\n",
    "'weight': 4-byte float (f4).\n",
    "\n",
    "So this creates a data type like a record or table row.\n",
    "\n",
    "when defining the dtype?\n",
    "\n",
    "This creates a structured data type in NumPy. It tells NumPy:\n",
    "💬 “This array is not just numbers or strings – it’s like a table where each row has multiple named fields (columns), and every field has its own type.”\n",
    "\n",
    "### np.sort(..., order='age') tells NumPy:\n",
    "\n",
    "“Sort all rows using the age field as the key.”\n"
   ]
  },
  {
   "cell_type": "code",
   "execution_count": null,
   "id": "213f3941",
   "metadata": {},
   "outputs": [
    {
     "name": "stdout",
     "output_type": "stream",
     "text": [
      "[('Alice', 25, 55.5) ('Bob', 30, 70.2) ('Charlie', 22, 68. )]\n",
      "[('Charlie', 22, 68. ) ('Alice', 25, 55.5) ('Bob', 30, 70.2)]\n"
     ]
    }
   ],
   "source": [
    "#### custome data type\n",
    "dt=np.dtype([('name','U10'),(\"age\",\"i4\"),(\"weight\",\"f4\")])\n",
    "\n",
    "data=np.array([\n",
    "        ('Alice', 25, 55.5),\n",
    "        ('Bob', 30, 70.2),\n",
    "        ('Charlie', 22, 68.0)\n",
    "],dtype=dt)\n",
    "\n",
    "print(data)\n",
    "\n",
    "sort_age_data=np.sort(data,order=\"age\")\n",
    "print(sort_age_data)\n"
   ]
  }
 ],
 "metadata": {
  "kernelspec": {
   "display_name": "Python 3",
   "language": "python",
   "name": "python3"
  },
  "language_info": {
   "codemirror_mode": {
    "name": "ipython",
    "version": 3
   },
   "file_extension": ".py",
   "mimetype": "text/x-python",
   "name": "python",
   "nbconvert_exporter": "python",
   "pygments_lexer": "ipython3",
   "version": "3.12.11"
  }
 },
 "nbformat": 4,
 "nbformat_minor": 5
}

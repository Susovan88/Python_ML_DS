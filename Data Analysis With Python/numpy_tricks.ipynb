{
 "cells": [
  {
   "cell_type": "code",
   "execution_count": 6,
   "id": "f6a2fc60",
   "metadata": {},
   "outputs": [
    {
     "name": "stdout",
     "output_type": "stream",
     "text": [
      "[31  3 66 73 31 45 49 24 93 36 40 40 48 36 92 47 81 51 23 72 23 39  2 62]\n"
     ]
    },
    {
     "data": {
      "text/plain": [
       "array([[69, 70, 79, 36],\n",
       "       [16, 21, 81, 84],\n",
       "       [79, 52, 90, 45],\n",
       "       [58, 64, 69, 82],\n",
       "       [16, 58, 99, 73],\n",
       "       [95,  1, 12, 94]], dtype=int32)"
      ]
     },
     "execution_count": 6,
     "metadata": {},
     "output_type": "execute_result"
    }
   ],
   "source": [
    "import numpy as np\n",
    "a=np.random.randint(1,100,24)\n",
    "b=np.random.randint(1,100,24).reshape(6,4)\n",
    "print(a)\n",
    "b"
   ]
  },
  {
   "cell_type": "code",
   "execution_count": 7,
   "id": "af7a7ce9",
   "metadata": {},
   "outputs": [
    {
     "data": {
      "text/plain": [
       "array([ 2,  3, 23, 23, 24, 31, 31, 36, 36, 39, 40, 40, 45, 47, 48, 49, 51,\n",
       "       62, 66, 72, 73, 81, 92, 93], dtype=int32)"
      ]
     },
     "execution_count": 7,
     "metadata": {},
     "output_type": "execute_result"
    }
   ],
   "source": [
    "np.sort(a)"
   ]
  },
  {
   "cell_type": "code",
   "execution_count": 9,
   "id": "48aa13a7",
   "metadata": {},
   "outputs": [
    {
     "data": {
      "text/plain": [
       "array([93, 92, 81, 73, 72, 66, 62, 51, 49, 48, 47, 45, 40, 40, 39, 36, 36,\n",
       "       31, 31, 24, 23, 23,  3,  2], dtype=int32)"
      ]
     },
     "execution_count": 9,
     "metadata": {},
     "output_type": "execute_result"
    }
   ],
   "source": [
    "np.sort(a)[::-1]  ## reverse sort"
   ]
  },
  {
   "cell_type": "code",
   "execution_count": null,
   "id": "ffd8c3d4",
   "metadata": {},
   "outputs": [
    {
     "data": {
      "text/plain": [
       "array([[16,  1, 12, 36],\n",
       "       [16, 21, 69, 45],\n",
       "       [58, 52, 79, 73],\n",
       "       [69, 58, 81, 82],\n",
       "       [79, 64, 90, 84],\n",
       "       [95, 70, 99, 94]], dtype=int32)"
      ]
     },
     "execution_count": 13,
     "metadata": {},
     "output_type": "execute_result"
    }
   ],
   "source": [
    "np.sort(b,axis=0) ## axis=0 sort column wise"
   ]
  },
  {
   "cell_type": "code",
   "execution_count": 10,
   "id": "8435aee4",
   "metadata": {},
   "outputs": [
    {
     "data": {
      "text/plain": [
       "array([[36, 69, 70, 79],\n",
       "       [16, 21, 81, 84],\n",
       "       [45, 52, 79, 90],\n",
       "       [58, 64, 69, 82],\n",
       "       [16, 58, 73, 99],\n",
       "       [ 1, 12, 94, 95]], dtype=int32)"
      ]
     },
     "execution_count": 10,
     "metadata": {},
     "output_type": "execute_result"
    }
   ],
   "source": [
    "np.sort(b,axis=1)"
   ]
  },
  {
   "cell_type": "code",
   "execution_count": 15,
   "id": "39ce5f3d",
   "metadata": {},
   "outputs": [
    {
     "data": {
      "text/plain": [
       "array([ 31,   3,  66,  73,  31,  45,  49,  24,  93,  36,  40,  40,  48,\n",
       "        36,  92,  47,  81,  51,  23,  72,  23,  39,   2,  62, 123])"
      ]
     },
     "execution_count": 15,
     "metadata": {},
     "output_type": "execute_result"
    }
   ],
   "source": [
    "np.append(a,123)"
   ]
  },
  {
   "cell_type": "code",
   "execution_count": null,
   "id": "ca1030df",
   "metadata": {},
   "outputs": [
    {
     "data": {
      "text/plain": [
       "array([[69., 70., 79., 36.,  1.],\n",
       "       [16., 21., 81., 84.,  1.],\n",
       "       [79., 52., 90., 45.,  1.],\n",
       "       [58., 64., 69., 82.,  1.],\n",
       "       [16., 58., 99., 73.,  1.],\n",
       "       [95.,  1., 12., 94.,  1.]])"
      ]
     },
     "execution_count": 17,
     "metadata": {},
     "output_type": "execute_result"
    }
   ],
   "source": [
    "np.append(b,np.ones((b.shape[0],1)),axis=1)\n",
    "### np.shape -> (rows,cols)\n",
    "## np.shape[0] -> rows"
   ]
  },
  {
   "cell_type": "code",
   "execution_count": 24,
   "id": "455f246d",
   "metadata": {},
   "outputs": [
    {
     "data": {
      "text/plain": [
       "array([[69., 70., 79., 36.],\n",
       "       [16., 21., 81., 84.],\n",
       "       [79., 52., 90., 45.],\n",
       "       [58., 64., 69., 82.],\n",
       "       [16., 58., 99., 73.],\n",
       "       [95.,  1., 12., 94.],\n",
       "       [ 0.,  0.,  0.,  0.]])"
      ]
     },
     "execution_count": 24,
     "metadata": {},
     "output_type": "execute_result"
    }
   ],
   "source": [
    "np.append(b,np.zeros((1,b.shape[1])),axis=0)"
   ]
  },
  {
   "cell_type": "code",
   "execution_count": 25,
   "id": "c3a32bf0",
   "metadata": {},
   "outputs": [
    {
     "name": "stdout",
     "output_type": "stream",
     "text": [
      "[[95 64 55]\n",
      " [76 11 11]\n",
      " [83 69 87]\n",
      " [19 41 44]]\n"
     ]
    },
    {
     "data": {
      "text/plain": [
       "array([[47, 20, 13],\n",
       "       [54, 18,  9],\n",
       "       [51, 59, 48],\n",
       "       [77, 45, 42]], dtype=int32)"
      ]
     },
     "execution_count": 25,
     "metadata": {},
     "output_type": "execute_result"
    }
   ],
   "source": [
    "## concatinate\n",
    "c=np.random.randint(1,100,12).reshape(4,3)\n",
    "d=np.random.randint(1,100,12).reshape(4,3)\n",
    "print(c)\n",
    "d"
   ]
  },
  {
   "cell_type": "code",
   "execution_count": 26,
   "id": "36b33740",
   "metadata": {},
   "outputs": [
    {
     "data": {
      "text/plain": [
       "array([[95, 64, 55, 47, 20, 13],\n",
       "       [76, 11, 11, 54, 18,  9],\n",
       "       [83, 69, 87, 51, 59, 48],\n",
       "       [19, 41, 44, 77, 45, 42]], dtype=int32)"
      ]
     },
     "execution_count": 26,
     "metadata": {},
     "output_type": "execute_result"
    }
   ],
   "source": [
    "np.concatenate((c,d),axis=1)"
   ]
  },
  {
   "cell_type": "code",
   "execution_count": 28,
   "id": "6708942d",
   "metadata": {},
   "outputs": [
    {
     "data": {
      "text/plain": [
       "array([[95, 64, 55],\n",
       "       [76, 11, 11],\n",
       "       [83, 69, 87],\n",
       "       [19, 41, 44],\n",
       "       [47, 20, 13],\n",
       "       [54, 18,  9],\n",
       "       [51, 59, 48],\n",
       "       [77, 45, 42]], dtype=int32)"
      ]
     },
     "execution_count": 28,
     "metadata": {},
     "output_type": "execute_result"
    }
   ],
   "source": [
    "np.concatenate((c,d),axis=0)"
   ]
  },
  {
   "cell_type": "code",
   "execution_count": 32,
   "id": "a3b50087",
   "metadata": {},
   "outputs": [
    {
     "data": {
      "text/plain": [
       "array([  1,   2,   3,   4,   5,   6,  12,  21,  45,  65,  67, 123])"
      ]
     },
     "execution_count": 32,
     "metadata": {},
     "output_type": "execute_result"
    }
   ],
   "source": [
    "## unique\n",
    "z=np.array([1,1,2,1,21,3,4,3,1,3,2,1,3,4,5,6,45,67,65,65,12,21,3,4,5,123])\n",
    "np.unique(z)"
   ]
  },
  {
   "cell_type": "markdown",
   "id": "797f948e",
   "metadata": {},
   "source": [
    "## ✅ np.expand_dims() — What does it do?\n",
    "It adds a new axis (dimension) to a NumPy array at a specified position.\n",
    "\n",
    "🤔 Why use it?\n",
    "To change the shape of an array without changing its data.\n",
    "This is useful for:\n",
    "\n",
    "Broadcasting,\n",
    "\n",
    "Feeding data into models,\n",
    "\n",
    "Manipulating array shapes safely"
   ]
  },
  {
   "cell_type": "code",
   "execution_count": null,
   "id": "925acfa1",
   "metadata": {},
   "outputs": [
    {
     "name": "stdout",
     "output_type": "stream",
     "text": [
      "(24,)\n"
     ]
    },
    {
     "data": {
      "text/plain": [
       "array([[31,  3, 66, 73, 31, 45, 49, 24, 93, 36, 40, 40, 48, 36, 92, 47,\n",
       "        81, 51, 23, 72, 23, 39,  2, 62]], dtype=int32)"
      ]
     },
     "execution_count": 34,
     "metadata": {},
     "output_type": "execute_result"
    }
   ],
   "source": [
    "print(a.shape)\n",
    "np.expand_dims(a,axis=0) ## ->(1,24)shape"
   ]
  },
  {
   "cell_type": "code",
   "execution_count": null,
   "id": "0f87fca4",
   "metadata": {},
   "outputs": [
    {
     "data": {
      "text/plain": [
       "array([[31],\n",
       "       [ 3],\n",
       "       [66],\n",
       "       [73],\n",
       "       [31],\n",
       "       [45],\n",
       "       [49],\n",
       "       [24],\n",
       "       [93],\n",
       "       [36],\n",
       "       [40],\n",
       "       [40],\n",
       "       [48],\n",
       "       [36],\n",
       "       [92],\n",
       "       [47],\n",
       "       [81],\n",
       "       [51],\n",
       "       [23],\n",
       "       [72],\n",
       "       [23],\n",
       "       [39],\n",
       "       [ 2],\n",
       "       [62]], dtype=int32)"
      ]
     },
     "execution_count": 35,
     "metadata": {},
     "output_type": "execute_result"
    }
   ],
   "source": [
    "np.expand_dims(a,axis=1) ## shape -> (24,1)"
   ]
  },
  {
   "cell_type": "markdown",
   "id": "ac5500a3",
   "metadata": {},
   "source": [
    "## ✅ np.where() — What is it?\n",
    "It returns the indices or values where a condition is True.\n",
    "\n",
    "## np.where(condition, value_if_true, value_if_false)\n",
    "This returns a new array where:\n",
    "\n",
    "If condition is true → take value_if_true\n",
    "\n",
    "If false → take value_if_false"
   ]
  },
  {
   "cell_type": "code",
   "execution_count": null,
   "id": "81149b84",
   "metadata": {},
   "outputs": [
    {
     "data": {
      "text/plain": [
       "(array([ 2,  3,  8, 14, 16, 17, 19, 23]),)"
      ]
     },
     "execution_count": 36,
     "metadata": {},
     "output_type": "execute_result"
    }
   ],
   "source": [
    "## np.where()\n",
    "np.where(a>50) ## return all index"
   ]
  },
  {
   "cell_type": "code",
   "execution_count": 39,
   "id": "6bb39c3f",
   "metadata": {},
   "outputs": [
    {
     "data": {
      "text/plain": [
       "array([31,  3,  0,  0, 31, 45, 49, 24,  0, 36, 40, 40, 48, 36,  0, 47,  0,\n",
       "        0, 23,  0, 23, 39,  2,  0], dtype=int32)"
      ]
     },
     "execution_count": 39,
     "metadata": {},
     "output_type": "execute_result"
    }
   ],
   "source": [
    "np.where(a>50,0,a)"
   ]
  },
  {
   "cell_type": "code",
   "execution_count": 41,
   "id": "4dfe796c",
   "metadata": {},
   "outputs": [
    {
     "data": {
      "text/plain": [
       "array([1, 1, 2, 1, 1, 1, 1, 2, 1, 2, 2, 2, 2, 2, 2, 1, 1, 1, 1, 2, 1, 1,\n",
       "       2, 2])"
      ]
     },
     "execution_count": 41,
     "metadata": {},
     "output_type": "execute_result"
    }
   ],
   "source": [
    "np.where(a%2==0,2,1)"
   ]
  },
  {
   "cell_type": "markdown",
   "id": "9d616ff0",
   "metadata": {},
   "source": [
    "## ✅ np.argmax() — What is it?\n",
    "np.argmax() returns the index of the maximum value in a NumPy array."
   ]
  },
  {
   "cell_type": "code",
   "execution_count": 45,
   "id": "503c44e0",
   "metadata": {},
   "outputs": [
    {
     "name": "stdout",
     "output_type": "stream",
     "text": [
      "8 22\n"
     ]
    }
   ],
   "source": [
    "### np.argmax()\n",
    "print(np.argmax(a),np.argmin(a))"
   ]
  },
  {
   "cell_type": "code",
   "execution_count": 46,
   "id": "cf3b6f75",
   "metadata": {},
   "outputs": [
    {
     "name": "stdout",
     "output_type": "stream",
     "text": [
      "[2 3 2 3 2 0] [5 0 4 5]\n"
     ]
    }
   ],
   "source": [
    "print(np.argmax(b,axis=1),np.argmax(b,axis=0))"
   ]
  },
  {
   "cell_type": "markdown",
   "id": "a22d088f",
   "metadata": {},
   "source": [
    "### ✅ np.cumsum() — What is it?\n",
    "It returns the cumulative sum of elements in an array.\n",
    "\n",
    "Each element in the output is the sum of all elements before it (including itself)."
   ]
  },
  {
   "cell_type": "code",
   "execution_count": 47,
   "id": "0f7ddac4",
   "metadata": {},
   "outputs": [
    {
     "name": "stdout",
     "output_type": "stream",
     "text": [
      "[31  3 66 73 31 45 49 24 93 36 40 40 48 36 92 47 81 51 23 72 23 39  2 62]\n"
     ]
    },
    {
     "data": {
      "text/plain": [
       "array([  31,   34,  100,  173,  204,  249,  298,  322,  415,  451,  491,\n",
       "        531,  579,  615,  707,  754,  835,  886,  909,  981, 1004, 1043,\n",
       "       1045, 1107])"
      ]
     },
     "execution_count": 47,
     "metadata": {},
     "output_type": "execute_result"
    }
   ],
   "source": [
    "print(a)\n",
    "np.cumsum(a)\n"
   ]
  },
  {
   "cell_type": "code",
   "execution_count": 48,
   "id": "98ad72d2",
   "metadata": {},
   "outputs": [
    {
     "name": "stdout",
     "output_type": "stream",
     "text": [
      "[[69 70 79 36]\n",
      " [16 21 81 84]\n",
      " [79 52 90 45]\n",
      " [58 64 69 82]\n",
      " [16 58 99 73]\n",
      " [95  1 12 94]]\n"
     ]
    },
    {
     "data": {
      "text/plain": [
       "array([[ 69,  70,  79,  36],\n",
       "       [ 85,  91, 160, 120],\n",
       "       [164, 143, 250, 165],\n",
       "       [222, 207, 319, 247],\n",
       "       [238, 265, 418, 320],\n",
       "       [333, 266, 430, 414]])"
      ]
     },
     "execution_count": 48,
     "metadata": {},
     "output_type": "execute_result"
    }
   ],
   "source": [
    "print(b)\n",
    "np.cumsum(b,axis=0)"
   ]
  },
  {
   "cell_type": "code",
   "execution_count": 50,
   "id": "64e235fe",
   "metadata": {},
   "outputs": [
    {
     "data": {
      "text/plain": [
       "array([[ 69, 139, 218, 254],\n",
       "       [ 16,  37, 118, 202],\n",
       "       [ 79, 131, 221, 266],\n",
       "       [ 58, 122, 191, 273],\n",
       "       [ 16,  74, 173, 246],\n",
       "       [ 95,  96, 108, 202]])"
      ]
     },
     "execution_count": 50,
     "metadata": {},
     "output_type": "execute_result"
    }
   ],
   "source": [
    "np.cumsum(b,axis=1)"
   ]
  },
  {
   "cell_type": "code",
   "execution_count": 49,
   "id": "e0067203",
   "metadata": {},
   "outputs": [
    {
     "data": {
      "text/plain": [
       "array([  69,  139,  218,  254,  270,  291,  372,  456,  535,  587,  677,\n",
       "        722,  780,  844,  913,  995, 1011, 1069, 1168, 1241, 1336, 1337,\n",
       "       1349, 1443])"
      ]
     },
     "execution_count": 49,
     "metadata": {},
     "output_type": "execute_result"
    }
   ],
   "source": [
    "np.cumsum(b)"
   ]
  },
  {
   "cell_type": "code",
   "execution_count": 51,
   "id": "6e133e37",
   "metadata": {},
   "outputs": [
    {
     "data": {
      "text/plain": [
       "array([                  31,                   93,                 6138,\n",
       "                     448074,             13890294,            625063230,\n",
       "                30628098270,         735074358480,       68361915338640,\n",
       "           2461028952191040,    98441158087641600,  3937646323505664000,\n",
       "        4539582791176355840, -2595716181037154304,  1001784302805975040,\n",
       "       -8256369989247827968, -4683182475530207232,   965366706183602176,\n",
       "        3756690168513298432, -6219468972685787136,  4526166217903308800,\n",
       "       -7946958238866472960,  2552827595976605696, -7745385712836411392])"
      ]
     },
     "execution_count": 51,
     "metadata": {},
     "output_type": "execute_result"
    }
   ],
   "source": [
    "np.cumprod(a)"
   ]
  },
  {
   "cell_type": "markdown",
   "id": "e85937a9",
   "metadata": {},
   "source": [
    "## ✅ np.percentile() — What is it?\n",
    "It returns the value below which a given percentage of data falls."
   ]
  },
  {
   "cell_type": "code",
   "execution_count": 53,
   "id": "0d60f4ad",
   "metadata": {},
   "outputs": [
    {
     "name": "stdout",
     "output_type": "stream",
     "text": [
      "[31  3 66 73 31 45 49 24 93 36 40 40 48 36 92 47 81 51 23 72 23 39  2 62]\n"
     ]
    },
    {
     "data": {
      "text/plain": [
       "np.float64(52.09999999999998)"
      ]
     },
     "execution_count": 53,
     "metadata": {},
     "output_type": "execute_result"
    }
   ],
   "source": [
    "print(a)\n",
    "np.percentile(a,70)"
   ]
  },
  {
   "cell_type": "code",
   "execution_count": 54,
   "id": "084218cc",
   "metadata": {},
   "outputs": [
    {
     "data": {
      "text/plain": [
       "(array([2, 0, 3, 5, 6, 1, 2, 2, 1, 2]),\n",
       " array([  0,  10,  20,  30,  40,  50,  60,  70,  80,  90, 100]))"
      ]
     },
     "execution_count": 54,
     "metadata": {},
     "output_type": "execute_result"
    }
   ],
   "source": [
    "### np.histogram\n",
    "np.histogram(a,bins=[0,10,20,30,40,50,60,70,80,90,100])"
   ]
  },
  {
   "cell_type": "markdown",
   "id": "ee6d86dc",
   "metadata": {},
   "source": [
    "## ✅ np.corrcoef() — What is it?\n",
    "It calculates the correlation coefficient matrix — typically the Pearson correlation between variables.\n",
    "\n",
    "# 📌 Pearson Correlation Coefficient (r):\n",
    "Measures linear relationship between two variables.\n",
    "\n",
    "Ranges from -1 to 1:\n",
    "\n",
    "1 = perfect positive correlation\n",
    "\n",
    "0 = no correlation\n",
    "\n",
    "-1 = perfect negative correlation"
   ]
  },
  {
   "cell_type": "code",
   "execution_count": 55,
   "id": "eb069c03",
   "metadata": {},
   "outputs": [
    {
     "data": {
      "text/plain": [
       "array([[ 1.        , -0.14285714],\n",
       "       [-0.14285714,  1.        ]])"
      ]
     },
     "execution_count": 55,
     "metadata": {},
     "output_type": "execute_result"
    }
   ],
   "source": [
    "salary=np.array([2000,3000,4000,2500,3500,1500])\n",
    "experience=np.array([1,2,3,4,5,6])\n",
    "\n",
    "np.corrcoef(salary,experience)\n"
   ]
  },
  {
   "cell_type": "markdown",
   "id": "dcaab196",
   "metadata": {},
   "source": [
    "### ✅ np.isin() — What is it?\n",
    "np.isin() checks which elements in an array are present in another list/array.\n",
    "\n",
    "## ✅ np.flip() — What is it?\n",
    "np.flip() reverses the order of elements in an array along a specified axis."
   ]
  },
  {
   "cell_type": "code",
   "execution_count": 60,
   "id": "83cf6941",
   "metadata": {},
   "outputs": [
    {
     "name": "stdout",
     "output_type": "stream",
     "text": [
      "[19 17  7  9  6  2 12  1  3 15]\n"
     ]
    },
    {
     "data": {
      "text/plain": [
       "array([19,  7, 12, 15], dtype=int32)"
      ]
     },
     "execution_count": 60,
     "metadata": {},
     "output_type": "execute_result"
    }
   ],
   "source": [
    "arr=np.random.randint(1,20,10)\n",
    "items=[10,8,15,7,19,12]\n",
    "print(arr)\n",
    "arr[np.isin(arr,items)]"
   ]
  },
  {
   "cell_type": "code",
   "execution_count": 61,
   "id": "ba938234",
   "metadata": {},
   "outputs": [
    {
     "name": "stdout",
     "output_type": "stream",
     "text": [
      "[31  3 66 73 31 45 49 24 93 36 40 40 48 36 92 47 81 51 23 72 23 39  2 62]\n"
     ]
    },
    {
     "data": {
      "text/plain": [
       "array([62,  2, 39, 23, 72, 23, 51, 81, 47, 92, 36, 48, 40, 40, 36, 93, 24,\n",
       "       49, 45, 31, 73, 66,  3, 31], dtype=int32)"
      ]
     },
     "execution_count": 61,
     "metadata": {},
     "output_type": "execute_result"
    }
   ],
   "source": [
    "print(a)\n",
    "np.flip(a)"
   ]
  },
  {
   "cell_type": "code",
   "execution_count": 62,
   "id": "76d50723",
   "metadata": {},
   "outputs": [
    {
     "name": "stdout",
     "output_type": "stream",
     "text": [
      "[[69 70 79 36]\n",
      " [16 21 81 84]\n",
      " [79 52 90 45]\n",
      " [58 64 69 82]\n",
      " [16 58 99 73]\n",
      " [95  1 12 94]]\n"
     ]
    },
    {
     "data": {
      "text/plain": [
       "array([[94, 12,  1, 95],\n",
       "       [73, 99, 58, 16],\n",
       "       [82, 69, 64, 58],\n",
       "       [45, 90, 52, 79],\n",
       "       [84, 81, 21, 16],\n",
       "       [36, 79, 70, 69]], dtype=int32)"
      ]
     },
     "execution_count": 62,
     "metadata": {},
     "output_type": "execute_result"
    }
   ],
   "source": [
    "print(b)\n",
    "np.flip(b)"
   ]
  },
  {
   "cell_type": "code",
   "execution_count": 67,
   "id": "d3987335",
   "metadata": {},
   "outputs": [
    {
     "name": "stdout",
     "output_type": "stream",
     "text": [
      "[[36 79 70 69]\n",
      " [84 81 21 16]\n",
      " [45 90 52 79]\n",
      " [82 69 64 58]\n",
      " [73 99 58 16]\n",
      " [94 12  1 95]] \n",
      "\n",
      " [[95  1 12 94]\n",
      " [16 58 99 73]\n",
      " [58 64 69 82]\n",
      " [79 52 90 45]\n",
      " [16 21 81 84]\n",
      " [69 70 79 36]]\n"
     ]
    }
   ],
   "source": [
    "print(np.flip(b,axis=1),\"\\n\\n\",np.flip(b,axis=0))"
   ]
  },
  {
   "cell_type": "markdown",
   "id": "d522c958",
   "metadata": {},
   "source": [
    "## ✅ np.put() — Replace elements at specific indices\n",
    "🔹 Syntax:    np.put(array, indices, values)\n",
    "\n",
    "array: original array\n",
    "\n",
    "indices: positions where you want to put values\n",
    "\n",
    "values: values to insert (can be a single value or list)"
   ]
  },
  {
   "cell_type": "code",
   "execution_count": 68,
   "id": "15a68fe7",
   "metadata": {},
   "outputs": [
    {
     "name": "stdout",
     "output_type": "stream",
     "text": [
      "[31  3 66 73 31 45 49 24 93 36 40 40 48 36 92 47 81 51 23 72 23 39  2 62]\n",
      "[2000 1000 3000   73   31   45   49   24   93   36   40   40   48   36\n",
      "   92   47   81   51   23   72   23   39    2   62]\n"
     ]
    }
   ],
   "source": [
    "print(a)\n",
    "np.put(a,[1,0,2],[1000,2000,3000])\n",
    "print(a)\n"
   ]
  },
  {
   "cell_type": "markdown",
   "id": "99d0a477",
   "metadata": {},
   "source": [
    "### ✅ np.delete() — Remove elements\n",
    "🔹 Syntax: np.delete(array, obj, axis=None)\n",
    "\n",
    "array: input array\n",
    "\n",
    "obj: indices to delete\n",
    "\n",
    "axis:\n",
    "\n",
    "None → flatten and delete\n",
    "\n",
    "0 → delete rows\n",
    "\n",
    "1 → delete columns"
   ]
  },
  {
   "cell_type": "code",
   "execution_count": 73,
   "id": "99b2972e",
   "metadata": {},
   "outputs": [
    {
     "name": "stdout",
     "output_type": "stream",
     "text": [
      "[2000 1000 3000   73   31   45   49   24   93   36   40   40   48   36\n",
      "   92   47   81   51   23   72   23   39    2   62]\n"
     ]
    },
    {
     "data": {
      "text/plain": [
       "array([1000, 3000,   49,   24,   93,   36,   40,   40,   48,   36,   92,\n",
       "         47,   81,   51,   23,   72,   23,   39,    2,   62], dtype=int32)"
      ]
     },
     "execution_count": 73,
     "metadata": {},
     "output_type": "execute_result"
    }
   ],
   "source": [
    "print(a)\n",
    "np.delete(a,[0,3,4,5])"
   ]
  },
  {
   "cell_type": "code",
   "execution_count": null,
   "id": "fab4c9fa",
   "metadata": {},
   "outputs": [
    {
     "name": "stdout",
     "output_type": "stream",
     "text": [
      "[1 2 3 4 5 6 7]\n",
      "[3 4 5]\n",
      "[6 7]\n",
      "[1 2 6 7]\n",
      "[False False  True False False]\n"
     ]
    },
    {
     "name": "stderr",
     "output_type": "stream",
     "text": [
      "C:\\Users\\susov\\AppData\\Local\\Temp\\ipykernel_17996\\3113788305.py:10: DeprecationWarning: `in1d` is deprecated. Use `np.isin` instead.\n",
      "  print(np.in1d(m,3))\n"
     ]
    }
   ],
   "source": [
    "## set functions\n",
    "import numpy as np\n",
    "m=np.array([1,2,3,4,5])\n",
    "n=np.array([3,4,5,6,7])\n",
    "\n",
    "print(np.union1d(m,n))\n",
    "print(np.intersect1d(n,m))\n",
    "print(np.setdiff1d(n,m))\n",
    "print(np.setxor1d(m,n))\n"
   ]
  },
  {
   "cell_type": "markdown",
   "id": "b7019bce",
   "metadata": {},
   "source": [
    "## np.clip() is a NumPy function that limits (clips) the values in an array to a specified range.\n",
    "\n",
    "📌 Syntax: np.clip(array, min_value, max_value)\n",
    "\n",
    "✅ Meaning:\n",
    "\n",
    "Any value less than min_value becomes min_value.\n",
    "\n",
    "Any value greater than max_value becomes max_value.\n",
    "\n",
    "Values in between remain unchanged."
   ]
  },
  {
   "cell_type": "code",
   "execution_count": 8,
   "metadata": {},
   "outputs": [
    {
     "name": "stdout",
     "output_type": "stream",
     "text": [
      "[50  3 57 27 54 58  8  2 29 28 96 59 18 79 35 27 15 50 76 43]\n"
     ]
    },
    {
     "data": {
      "text/plain": [
       "array([50, 25, 57, 27, 54, 58, 25, 25, 29, 28, 75, 59, 25, 75, 35, 27, 25,\n",
       "       50, 75, 43], dtype=int32)"
      ]
     },
     "execution_count": 8,
     "metadata": {},
     "output_type": "execute_result"
    }
   ],
   "source": [
    "### np.clip()\n",
    "a=np.random.randint(1,100,20)\n",
    "print(a)\n",
    "np.clip(a,a_max=75,a_min=25)"
   ]
  }
 ],
 "metadata": {
  "kernelspec": {
   "display_name": "venv",
   "language": "python",
   "name": "python3"
  },
  "language_info": {
   "codemirror_mode": {
    "name": "ipython",
    "version": 3
   },
   "file_extension": ".py",
   "mimetype": "text/x-python",
   "name": "python",
   "nbconvert_exporter": "python",
   "pygments_lexer": "ipython3",
   "version": "3.12.11"
  }
 },
 "nbformat": 4,
 "nbformat_minor": 5
}

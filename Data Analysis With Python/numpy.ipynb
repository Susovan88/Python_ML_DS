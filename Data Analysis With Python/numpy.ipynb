{
 "cells": [
  {
   "cell_type": "markdown",
   "id": "b3ce9bd8",
   "metadata": {},
   "source": [
    "### Numpy \n",
    "NumPy (Numerical Python) is a powerful library in Python for:\n",
    "Handling large arrays and matrices.\n",
    "Performing mathematical operations on arrays efficiently.\n",
    "It’s much faster than using Python lists for numerical tasks because it is implemented in C under the hood.\n",
    "\n",
    "You’ll use it for:\n",
    "✅ Data analysis\n",
    "✅ Machine learning\n",
    "✅ Scientific computing\n",
    "✅ Image processing"
   ]
  },
  {
   "cell_type": "code",
   "execution_count": null,
   "id": "ca9319fe",
   "metadata": {},
   "outputs": [
    {
     "name": "stdout",
     "output_type": "stream",
     "text": [
      "<class 'numpy.ndarray'> (6,)\n",
      "1\n"
     ]
    }
   ],
   "source": [
    "import numpy as np\n",
    "\n",
    "arr1=np.array([1,2,3,4,56,5])  ## 1D array\n",
    "print(type(arr1),arr1.shape)\n",
    "print(arr1.ndim)  #1D\n"
   ]
  },
  {
   "cell_type": "code",
   "execution_count": 3,
   "id": "2f058de2",
   "metadata": {},
   "outputs": [
    {
     "name": "stdout",
     "output_type": "stream",
     "text": [
      "(2, 3)\n"
     ]
    },
    {
     "data": {
      "text/plain": [
       "array([[ 1,  2,  3],\n",
       "       [ 4, 56,  5]])"
      ]
     },
     "execution_count": 3,
     "metadata": {},
     "output_type": "execute_result"
    }
   ],
   "source": [
    "\n",
    "arr2=arr1.reshape(2,3)  ## 1 row 6 cols\n",
    "print(arr2.shape)\n",
    "arr2"
   ]
  },
  {
   "cell_type": "code",
   "execution_count": null,
   "id": "2336a7bb",
   "metadata": {},
   "outputs": [
    {
     "name": "stdout",
     "output_type": "stream",
     "text": [
      "(3, 4)\n",
      "[[ 1  3  5  7]\n",
      " [ 2  4  6  8]\n",
      " [12 45 78 29]]\n",
      "size -  12\n",
      "no. of dimensions - 2\n",
      "data type : int64\n",
      "Item size -  8\n"
     ]
    }
   ],
   "source": [
    "## atributes\n",
    "arr2=np.array([[1,3,5,7],[2,4,6,8],[12,45,78,29]])  ## 2D array\n",
    "print(arr2.shape)\n",
    "print(arr2)\n",
    "print(f\"size - \",arr2.size)\n",
    "print(f\"no. of dimensions - {arr2.ndim}\")\n",
    "print(F\"data type : {arr2.dtype}\")\n",
    "print(\"Item size - \",arr2.itemsize)  "
   ]
  },
  {
   "cell_type": "code",
   "execution_count": 11,
   "id": "01f199b9",
   "metadata": {},
   "outputs": [
    {
     "data": {
      "text/plain": [
       "array([[ 1,  3,  5,  7,  9],\n",
       "       [11, 13, 15, 17, 19]])"
      ]
     },
     "execution_count": 11,
     "metadata": {},
     "output_type": "execute_result"
    }
   ],
   "source": [
    "np.arange(1,20,2).reshape(2,5)"
   ]
  },
  {
   "cell_type": "code",
   "execution_count": null,
   "id": "0bc11120",
   "metadata": {},
   "outputs": [
    {
     "data": {
      "text/plain": [
       "array([[1., 1., 1., 1., 1.],\n",
       "       [1., 1., 1., 1., 1.],\n",
       "       [1., 1., 1., 1., 1.]])"
      ]
     },
     "execution_count": 15,
     "metadata": {},
     "output_type": "execute_result"
    }
   ],
   "source": [
    "np.ones((3,5))   ## create matrix of 3 rows and 5 cols and all the elements are 1"
   ]
  },
  {
   "cell_type": "code",
   "execution_count": 12,
   "id": "cf977556",
   "metadata": {},
   "outputs": [
    {
     "data": {
      "text/plain": [
       "array([[0., 0., 0.],\n",
       "       [0., 0., 0.],\n",
       "       [0., 0., 0.],\n",
       "       [0., 0., 0.]])"
      ]
     },
     "execution_count": 12,
     "metadata": {},
     "output_type": "execute_result"
    }
   ],
   "source": [
    "np.zeros((4,3))"
   ]
  },
  {
   "cell_type": "code",
   "execution_count": 16,
   "id": "9808978e",
   "metadata": {},
   "outputs": [
    {
     "data": {
      "text/plain": [
       "array([[1., 0., 0., 0.],\n",
       "       [0., 1., 0., 0.],\n",
       "       [0., 0., 1., 0.],\n",
       "       [0., 0., 0., 1.]])"
      ]
     },
     "execution_count": 16,
     "metadata": {},
     "output_type": "execute_result"
    }
   ],
   "source": [
    "np.eye(4) ## create identity matrix"
   ]
  },
  {
   "cell_type": "code",
   "execution_count": null,
   "id": "c46f2b92",
   "metadata": {},
   "outputs": [
    {
     "name": "stdout",
     "output_type": "stream",
     "text": [
      "add -  [1, 3, 5, 7, 9, 2, 4, 6, 8, 10]\n"
     ]
    }
   ],
   "source": [
    "### list in python\n",
    "list1=[1,3,5,7,9]\n",
    "list2=[2,4,6,8,10]\n",
    "\n",
    "print(\"add - \",list1+list2)"
   ]
  },
  {
   "cell_type": "code",
   "execution_count": null,
   "id": "1895bfdd",
   "metadata": {},
   "outputs": [
    {
     "name": "stdout",
     "output_type": "stream",
     "text": [
      "add -  [ 3  7 11 15 19]\n",
      "sub -  [-1 -1 -1 -1 -1]\n",
      "mul -  [ 2 12 30 56 90]\n",
      " div -  [0.5        0.75       0.83333333 0.875      0.9       ]\n"
     ]
    }
   ],
   "source": [
    "### numpy vectorized Operations \n",
    "arr1=np.array([1,3,5,7,9])\n",
    "arr2=np.array([2,4,6,8,10])\n",
    "\n",
    "## element wise add , sub ,mul, div  and return type also a array\n",
    "print(\"add - \",arr1+arr2)\n",
    "print(\"sub - \",arr1-arr2)\n",
    "print(\"mul - \",arr1*arr2)\n",
    "print(\" div - \",arr1/arr2)"
   ]
  },
  {
   "cell_type": "code",
   "execution_count": 7,
   "id": "ab8b28b5",
   "metadata": {},
   "outputs": [
    {
     "name": "stdout",
     "output_type": "stream",
     "text": [
      "[1.         1.41421356 2.         2.23606798 2.44948974]\n",
      "[  2.71828183   7.3890561   54.59815003 148.4131591  403.42879349]\n",
      "[ 0.84147098  0.90929743 -0.7568025  -0.95892427 -0.2794155 ]\n",
      "[0.         0.69314718 1.38629436 1.60943791 1.79175947]\n"
     ]
    }
   ],
   "source": [
    "## universal function\n",
    "arr=np.array([1,2,4,5,6])\n",
    "\n",
    "print(np.sqrt(arr))\n",
    "print(np.exp(arr))\n",
    "print(np.sin(arr))\n",
    "print(np.log(arr))"
   ]
  },
  {
   "cell_type": "code",
   "execution_count": 15,
   "id": "71865657",
   "metadata": {},
   "outputs": [
    {
     "name": "stdout",
     "output_type": "stream",
     "text": [
      "[[ 1  2  3  4]\n",
      " [ 5  6  7  8]\n",
      " [ 9 10 11 12]] 3\n"
     ]
    }
   ],
   "source": [
    "arr=np.array([[1,2,3,4],[5,6,7,8],[9,10,11,12]])\n",
    "print(arr,arr[0][2])"
   ]
  },
  {
   "cell_type": "code",
   "execution_count": null,
   "id": "de5e36b4",
   "metadata": {},
   "outputs": [
    {
     "name": "stdout",
     "output_type": "stream",
     "text": [
      "[[ 7  8]\n",
      " [11 12]]\n",
      "[]\n"
     ]
    }
   ],
   "source": [
    "\"\"\" \n",
    "[[7, 8]\n",
    "[11,12]]\n",
    "\"\"\"\n",
    "print(arr[1:,2:])\n",
    "print(arr[:2,2:])"
   ]
  },
  {
   "cell_type": "code",
   "execution_count": 17,
   "id": "ab4e9a50",
   "metadata": {},
   "outputs": [
    {
     "name": "stdout",
     "output_type": "stream",
     "text": [
      "[[100   2   3   4]\n",
      " [  5   6   7   8]\n",
      " [  9  10  99  12]]\n",
      "[[100   2   3   4]\n",
      " [  1   1   1   1]\n",
      " [  1   1   1   1]]\n",
      "[[100   2   0   0]\n",
      " [  1   1   0   0]\n",
      " [  1   1   1   1]]\n"
     ]
    }
   ],
   "source": [
    "## modifly elemts \n",
    "arr[0,0]=100\n",
    "arr[2][2]=99\n",
    "print(arr)\n",
    "\n",
    "arr[1:]=1\n",
    "print(arr)\n",
    "\n",
    "arr[:2,2:]=0\n",
    "print(arr)"
   ]
  },
  {
   "cell_type": "markdown",
   "id": "757bfbda",
   "metadata": {},
   "source": [
    "### Mean of data\n",
    "The mean is the average of all numbers.\n",
    "\n",
    "### std Standard Deviation\n",
    "It measures how spread out the numbers are from the mean.\n",
    "\n",
    "### Normalization?\n",
    "Normalization is a way to scale your data so that it fits within a specific range.\n",
    "This is very important in machine learning because:\n",
    "✅ It makes models converge faster.\n",
    "✅ It avoids features with big values dominating features with small values.\n",
    "Result: Mean = 0, Std Dev = 1.\n",
    "\n",
    "### median\n",
    "The median is the middle value when data is sorted.\n",
    "If there are an odd number of data points → it’s the middle one.\n",
    "If there are an even number of data points → it’s the average of the two middle values.\n",
    "\n",
    "### varient \n",
    "Variance measures how far the numbers are spread out from the mean (μ).\n"
   ]
  },
  {
   "cell_type": "code",
   "execution_count": 24,
   "id": "57be4fa1",
   "metadata": {},
   "outputs": [
    {
     "name": "stdout",
     "output_type": "stream",
     "text": [
      "[-1.41421356 -0.70710678  0.          0.70710678  1.41421356]\n",
      "after normalization mean is = 0.0, std is = 0.9999999999999999\n",
      "mean : 5.0, std : 2.8284271247461903\n",
      "median :  5.0\n",
      "Varient :  8.0\n"
     ]
    }
   ],
   "source": [
    "data=np.array([1,3,5,7,9])\n",
    "\n",
    "mean=np.mean(data)   ## avg\n",
    "std=np.std(data) # standard deviation\n",
    "\n",
    "normalized_data=(data-mean)/std  ## mean=0 , std=1\n",
    "\n",
    "print(normalized_data)\n",
    "print(f\"after normalization mean is = {np.mean(normalized_data)}, std is = {np.std(normalized_data)}\")\n",
    "\n",
    "print(f\"mean : {mean}, std : {std}\")\n",
    "print(\"median : \",np.median(data))\n",
    "print(\"Varient : \",np.var(data))"
   ]
  },
  {
   "cell_type": "code",
   "execution_count": 38,
   "id": "0d6228ac",
   "metadata": {},
   "outputs": [
    {
     "name": "stdout",
     "output_type": "stream",
     "text": [
      "[ 1  2  3  4  5  6  7  8  9 10]\n",
      "[ True  True  True  True False False False False False False]\n",
      "[1 2 3 4 5]\n"
     ]
    }
   ],
   "source": [
    "data=np.arange(1,11)\n",
    "print(data)\n",
    "print(data<5) ## return  bool array\n",
    "print(data[data<=5])"
   ]
  }
 ],
 "metadata": {
  "kernelspec": {
   "display_name": "Python 3",
   "language": "python",
   "name": "python3"
  },
  "language_info": {
   "codemirror_mode": {
    "name": "ipython",
    "version": 3
   },
   "file_extension": ".py",
   "mimetype": "text/x-python",
   "name": "python",
   "nbconvert_exporter": "python",
   "pygments_lexer": "ipython3",
   "version": "3.12.11"
  }
 },
 "nbformat": 4,
 "nbformat_minor": 5
}

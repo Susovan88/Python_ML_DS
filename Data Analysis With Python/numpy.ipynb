{
 "cells": [
  {
   "cell_type": "markdown",
   "id": "b3ce9bd8",
   "metadata": {},
   "source": [
    "### Numpy \n",
    "NumPy (Numerical Python) is a powerful library in Python for:\n",
    "Handling large arrays and matrices.\n",
    "Performing mathematical operations on arrays efficiently.\n",
    "It’s much faster than using Python lists for numerical tasks because it is implemented in C under the hood.\n",
    "\n",
    "You’ll use it for:\n",
    "✅ Data analysis\n",
    "✅ Machine learning\n",
    "✅ Scientific computing\n",
    "✅ Image processing"
   ]
  },
  {
   "cell_type": "markdown",
   "id": "f3c35bdf",
   "metadata": {},
   "source": [
    "| **Method**                           | **What It Does**                                            |\n",
    "| ------------------------------------ | ----------------------------------------------------------- |\n",
    "| `np.array()`                         | Create a NumPy array from a list, tuple, or other sequence. |\n",
    "| `np.arange(start, stop)`             | Create a range of numbers as a NumPy array.                 |\n",
    "| `np.reshape(shape)`                  | Change the shape of an array without changing its data.     |\n",
    "| `np.random.randint(low, high, size)` | Generate random integers in a specified range.              |\n",
    "| `np.diag()`                          | Extract or create diagonal elements of a matrix.            |\n",
    "| `np.fill_diagonal(arr, value)`       | Replace diagonal elements with a specified value.           |\n",
    "| `arr[:, col]`                        | Select all rows for a specific column (column slicing).     |\n",
    "| `arr[row, :]`                        | Select all columns for a specific row (row slicing).        |\n",
    "| `arr[rows, cols]`                    | Fancy indexing to select specific rows and columns.         |\n",
    "| `arr.flatten()`                      | Flatten a multi-dimensional array into a 1D array.          |\n",
    "| `arr.sum(axis=0)`                    | Sum values along columns.                                   |\n",
    "| `arr.sum(axis=1)`                    | Sum values along rows.                                      |\n",
    "| `arr.mean()`                         | Compute mean of all elements.                               |\n",
    "| `arr.std()`                          | Compute standard deviation.                                 |\n",
    "| `arr.var()`                          | Compute variance.                                           |\n",
    "| `np.linalg.det()`                    | Compute determinant of a matrix.                            |\n",
    "| `np.linalg.inv()`                    | Compute inverse of a matrix.                                |\n",
    "| `np.linalg.eig()`                    | Compute eigenvalues and eigenvectors of a matrix.           |\n",
    "| `arr + scalar`                       | Broadcasting: add scalar to all elements of the array.      |\n",
    "| `arr - scalar`                       | Broadcasting: subtract scalar from all elements.            |\n",
    "| `np.where(condition, x, y)`          | Return elements based on a condition.                       |\n",
    "| `arr[arr > value] = new_value`       | Boolean indexing: Replace all values satisfying condition.  |\n",
    "| `np.concatenate([arr1, arr2], axis)` | Join arrays along a given axis.                             |\n",
    "| `np.hstack([arr1, arr2])`            | Horizontally stack arrays.                                  |\n",
    "| `np.vstack([arr1, arr2])`            | Vertically stack arrays.                                    |\n",
    "| `np.dtype()`                         | Define custom data types for structured arrays.             |\n",
    "| `np.sort(arr, order='field')`        | Sort a structured array by a specific field.                |\n",
    "| `np.sqrt(arr)`                       | Compute square root of array elements.                      |\n",
    "| `np.eye(N)`                          | Create an identity matrix of size N x N.                    |\n",
    "| `np.ma.masked_array()`               | Create a masked array where some data is hidden.            |\n",
    "| `np.ma.masked_where()`               | Mask array elements where a condition is true.              |\n",
    "| `np.ma.filled()`                     | Replace masked elements with a specified fill value.        |\n"
   ]
  },
  {
   "cell_type": "code",
   "execution_count": 1,
   "id": "ca9319fe",
   "metadata": {},
   "outputs": [
    {
     "name": "stdout",
     "output_type": "stream",
     "text": [
      "<class 'numpy.ndarray'> (6,)\n",
      "1\n"
     ]
    }
   ],
   "source": [
    "import numpy as np\n",
    "\n",
    "arr1=np.array([1,2,3,4,56,5])  ## 1D array\n",
    "print(type(arr1),arr1.shape)\n",
    "print(arr1.ndim)  #1D\n"
   ]
  },
  {
   "cell_type": "code",
   "execution_count": 3,
   "id": "2f058de2",
   "metadata": {},
   "outputs": [
    {
     "name": "stdout",
     "output_type": "stream",
     "text": [
      "(2, 3)\n"
     ]
    },
    {
     "data": {
      "text/plain": [
       "array([[ 1,  2,  3],\n",
       "       [ 4, 56,  5]])"
      ]
     },
     "execution_count": 3,
     "metadata": {},
     "output_type": "execute_result"
    }
   ],
   "source": [
    "\n",
    "arr2=arr1.reshape(2,3)  ## 1 row 6 cols\n",
    "print(arr2.shape)\n",
    "arr2"
   ]
  },
  {
   "cell_type": "code",
   "execution_count": null,
   "id": "2336a7bb",
   "metadata": {},
   "outputs": [
    {
     "name": "stdout",
     "output_type": "stream",
     "text": [
      "(3, 4)\n",
      "[[ 1  3  5  7]\n",
      " [ 2  4  6  8]\n",
      " [12 45 78 29]]\n",
      "size -  12\n",
      "no. of dimensions - 2\n",
      "data type : int64\n",
      "Item size -  8\n"
     ]
    }
   ],
   "source": [
    "## atributes\n",
    "arr2=np.array([[1,3,5,7],[2,4,6,8],[12,45,78,29]])  ## 2D array\n",
    "print(arr2.shape)\n",
    "print(arr2)\n",
    "print(f\"size - \",arr2.size)\n",
    "print(f\"no. of dimensions - {arr2.ndim}\")\n",
    "print(F\"data type : {arr2.dtype}\")\n",
    "print(\"Item size - \",arr2.itemsize)  "
   ]
  },
  {
   "cell_type": "code",
   "execution_count": 11,
   "id": "01f199b9",
   "metadata": {},
   "outputs": [
    {
     "data": {
      "text/plain": [
       "array([[ 1,  3,  5,  7,  9],\n",
       "       [11, 13, 15, 17, 19]])"
      ]
     },
     "execution_count": 11,
     "metadata": {},
     "output_type": "execute_result"
    }
   ],
   "source": [
    "np.arange(1,20,2).reshape(2,5)"
   ]
  },
  {
   "cell_type": "code",
   "execution_count": null,
   "id": "0bc11120",
   "metadata": {},
   "outputs": [
    {
     "data": {
      "text/plain": [
       "array([[1., 1., 1., 1., 1.],\n",
       "       [1., 1., 1., 1., 1.],\n",
       "       [1., 1., 1., 1., 1.]])"
      ]
     },
     "execution_count": 15,
     "metadata": {},
     "output_type": "execute_result"
    }
   ],
   "source": [
    "np.ones((3,5))   ## create matrix of 3 rows and 5 cols and all the elements are 1"
   ]
  },
  {
   "cell_type": "code",
   "execution_count": 12,
   "id": "cf977556",
   "metadata": {},
   "outputs": [
    {
     "data": {
      "text/plain": [
       "array([[0., 0., 0.],\n",
       "       [0., 0., 0.],\n",
       "       [0., 0., 0.],\n",
       "       [0., 0., 0.]])"
      ]
     },
     "execution_count": 12,
     "metadata": {},
     "output_type": "execute_result"
    }
   ],
   "source": [
    "np.zeros((4,3))"
   ]
  },
  {
   "cell_type": "code",
   "execution_count": 16,
   "id": "9808978e",
   "metadata": {},
   "outputs": [
    {
     "data": {
      "text/plain": [
       "array([[1., 0., 0., 0.],\n",
       "       [0., 1., 0., 0.],\n",
       "       [0., 0., 1., 0.],\n",
       "       [0., 0., 0., 1.]])"
      ]
     },
     "execution_count": 16,
     "metadata": {},
     "output_type": "execute_result"
    }
   ],
   "source": [
    "np.eye(4) ## create identity matrix"
   ]
  },
  {
   "cell_type": "code",
   "execution_count": null,
   "id": "c46f2b92",
   "metadata": {},
   "outputs": [
    {
     "name": "stdout",
     "output_type": "stream",
     "text": [
      "add -  [1, 3, 5, 7, 9, 2, 4, 6, 8, 10]\n"
     ]
    }
   ],
   "source": [
    "### list in python\n",
    "list1=[1,3,5,7,9]\n",
    "list2=[2,4,6,8,10]\n",
    "\n",
    "print(\"add - \",list1+list2)"
   ]
  },
  {
   "cell_type": "code",
   "execution_count": null,
   "id": "1895bfdd",
   "metadata": {},
   "outputs": [
    {
     "name": "stdout",
     "output_type": "stream",
     "text": [
      "add -  [ 3  7 11 15 19]\n",
      "sub -  [-1 -1 -1 -1 -1]\n",
      "mul -  [ 2 12 30 56 90]\n",
      " div -  [0.5        0.75       0.83333333 0.875      0.9       ]\n"
     ]
    }
   ],
   "source": [
    "### numpy vectorized Operations \n",
    "arr1=np.array([1,3,5,7,9])\n",
    "arr2=np.array([2,4,6,8,10])\n",
    "\n",
    "## element wise add , sub ,mul, div  and return type also a array\n",
    "print(\"add - \",arr1+arr2)\n",
    "print(\"sub - \",arr1-arr2)\n",
    "print(\"mul - \",arr1*arr2)\n",
    "print(\" div - \",arr1/arr2)"
   ]
  },
  {
   "cell_type": "code",
   "execution_count": 7,
   "id": "ab8b28b5",
   "metadata": {},
   "outputs": [
    {
     "name": "stdout",
     "output_type": "stream",
     "text": [
      "[1.         1.41421356 2.         2.23606798 2.44948974]\n",
      "[  2.71828183   7.3890561   54.59815003 148.4131591  403.42879349]\n",
      "[ 0.84147098  0.90929743 -0.7568025  -0.95892427 -0.2794155 ]\n",
      "[0.         0.69314718 1.38629436 1.60943791 1.79175947]\n"
     ]
    }
   ],
   "source": [
    "## universal function\n",
    "arr=np.array([1,2,4,5,6])\n",
    "\n",
    "print(np.sqrt(arr))\n",
    "print(np.exp(arr))\n",
    "print(np.sin(arr))\n",
    "print(np.log(arr))"
   ]
  },
  {
   "cell_type": "code",
   "execution_count": 15,
   "id": "71865657",
   "metadata": {},
   "outputs": [
    {
     "name": "stdout",
     "output_type": "stream",
     "text": [
      "[[ 1  2  3  4]\n",
      " [ 5  6  7  8]\n",
      " [ 9 10 11 12]] 3\n"
     ]
    }
   ],
   "source": [
    "arr=np.array([[1,2,3,4],[5,6,7,8],[9,10,11,12]])\n",
    "print(arr,arr[0][2])"
   ]
  },
  {
   "cell_type": "code",
   "execution_count": null,
   "id": "de5e36b4",
   "metadata": {},
   "outputs": [
    {
     "name": "stdout",
     "output_type": "stream",
     "text": [
      "[[ 7  8]\n",
      " [11 12]]\n",
      "[]\n"
     ]
    }
   ],
   "source": [
    "\"\"\" \n",
    "[[7, 8]\n",
    "[11,12]]\n",
    "\"\"\"\n",
    "print(arr[1:,2:])\n",
    "print(arr[:2,2:])"
   ]
  },
  {
   "cell_type": "code",
   "execution_count": 17,
   "id": "ab4e9a50",
   "metadata": {},
   "outputs": [
    {
     "name": "stdout",
     "output_type": "stream",
     "text": [
      "[[100   2   3   4]\n",
      " [  5   6   7   8]\n",
      " [  9  10  99  12]]\n",
      "[[100   2   3   4]\n",
      " [  1   1   1   1]\n",
      " [  1   1   1   1]]\n",
      "[[100   2   0   0]\n",
      " [  1   1   0   0]\n",
      " [  1   1   1   1]]\n"
     ]
    }
   ],
   "source": [
    "## modifly elemts \n",
    "arr[0,0]=100\n",
    "arr[2][2]=99\n",
    "print(arr)\n",
    "\n",
    "arr[1:]=1\n",
    "print(arr)\n",
    "\n",
    "arr[:2,2:]=0\n",
    "print(arr)"
   ]
  },
  {
   "cell_type": "markdown",
   "id": "757bfbda",
   "metadata": {},
   "source": [
    "### Mean of data\n",
    "The mean is the average of all numbers.\n",
    "\n",
    "### std Standard Deviation\n",
    "It measures how spread out the numbers are from the mean.\n",
    "\n",
    "### Normalization?\n",
    "Normalization is a way to scale your data so that it fits within a specific range.\n",
    "This is very important in machine learning because:\n",
    "✅ It makes models converge faster.\n",
    "✅ It avoids features with big values dominating features with small values.\n",
    "Result: Mean = 0, Std Dev = 1.\n",
    "\n",
    "### median\n",
    "The median is the middle value when data is sorted.\n",
    "If there are an odd number of data points → it’s the middle one.\n",
    "If there are an even number of data points → it’s the average of the two middle values.\n",
    "\n",
    "### varient \n",
    "Variance measures how far the numbers are spread out from the mean (μ).\n"
   ]
  },
  {
   "cell_type": "code",
   "execution_count": 24,
   "id": "57be4fa1",
   "metadata": {},
   "outputs": [
    {
     "name": "stdout",
     "output_type": "stream",
     "text": [
      "[-1.41421356 -0.70710678  0.          0.70710678  1.41421356]\n",
      "after normalization mean is = 0.0, std is = 0.9999999999999999\n",
      "mean : 5.0, std : 2.8284271247461903\n",
      "median :  5.0\n",
      "Varient :  8.0\n"
     ]
    }
   ],
   "source": [
    "data=np.array([1,3,5,7,9])\n",
    "\n",
    "mean=np.mean(data)   ## avg\n",
    "std=np.std(data) # standard deviation\n",
    "\n",
    "normalized_data=(data-mean)/std  ## mean=0 , std=1\n",
    "\n",
    "print(normalized_data)\n",
    "print(f\"after normalization mean is = {np.mean(normalized_data)}, std is = {np.std(normalized_data)}\")\n",
    "\n",
    "print(f\"mean : {mean}, std : {std}\")\n",
    "print(\"median : \",np.median(data))\n",
    "print(\"Varient : \",np.var(data))"
   ]
  },
  {
   "cell_type": "code",
   "execution_count": 38,
   "id": "0d6228ac",
   "metadata": {},
   "outputs": [
    {
     "name": "stdout",
     "output_type": "stream",
     "text": [
      "[ 1  2  3  4  5  6  7  8  9 10]\n",
      "[ True  True  True  True False False False False False False]\n",
      "[1 2 3 4 5]\n"
     ]
    }
   ],
   "source": [
    "data=np.arange(1,11)\n",
    "print(data)\n",
    "print(data<5) ## return  bool array\n",
    "print(data[data<=5])"
   ]
  },
  {
   "cell_type": "code",
   "execution_count": 7,
   "id": "a815513b",
   "metadata": {},
   "outputs": [
    {
     "name": "stdout",
     "output_type": "stream",
     "text": [
      "int64\n"
     ]
    },
    {
     "data": {
      "text/plain": [
       "dtype('int32')"
      ]
     },
     "execution_count": 7,
     "metadata": {},
     "output_type": "execute_result"
    }
   ],
   "source": [
    "ages=np.array([12,34,67,32,7,19,22,23,21,22]) ## max age 100\n",
    "print(ages.dtype) ## int 64\n",
    "ages=ages.astype(np.int32) ## new array return\n",
    "ages.dtype"
   ]
  },
  {
   "cell_type": "code",
   "execution_count": 13,
   "id": "2394cfd3",
   "metadata": {},
   "outputs": [
    {
     "data": {
      "text/plain": [
       "array([[1156, 4489, 1024, 4900,  361,  484,  529,  441],\n",
       "       [4489, 1024,   49,  361,  484,  529, 8100, 7921]])"
      ]
     },
     "execution_count": 13,
     "metadata": {},
     "output_type": "execute_result"
    }
   ],
   "source": [
    "arr=np.array([[34,67,32,70,19,22,23,21],[67,32,7,19,22,23,90,89]])\n",
    "arr**2"
   ]
  },
  {
   "cell_type": "code",
   "execution_count": 11,
   "id": "5f19ad96",
   "metadata": {},
   "outputs": [
    {
     "data": {
      "text/plain": [
       "array([[False,  True, False,  True, False, False, False, False],\n",
       "       [ True, False, False, False, False, False,  True,  True]])"
      ]
     },
     "execution_count": 11,
     "metadata": {},
     "output_type": "execute_result"
    }
   ],
   "source": [
    "arr>50"
   ]
  },
  {
   "cell_type": "code",
   "execution_count": 14,
   "id": "d58d23ee",
   "metadata": {},
   "outputs": [
    {
     "data": {
      "text/plain": [
       "array([[136, 402,  96, 490, 171,  44,  23,  42],\n",
       "       [469,  64,  49, 171,  44,  69,   0, 712]])"
      ]
     },
     "execution_count": 14,
     "metadata": {},
     "output_type": "execute_result"
    }
   ],
   "source": [
    "arr1=np.array([[4,6,3,7,9,2,1,2],[7,2,7,9,2,3,0,8]])\n",
    "\n",
    "arr1 * arr"
   ]
  },
  {
   "cell_type": "code",
   "execution_count": 20,
   "id": "ce211a15",
   "metadata": {},
   "outputs": [
    {
     "data": {
      "text/plain": [
       "array([67, 67, 32, 70, 22, 23, 90, 89])"
      ]
     },
     "execution_count": 20,
     "metadata": {},
     "output_type": "execute_result"
    }
   ],
   "source": [
    "np.max(arr,axis=0) ## 0 -> col "
   ]
  },
  {
   "cell_type": "code",
   "execution_count": 21,
   "id": "86b0536c",
   "metadata": {},
   "outputs": [
    {
     "name": "stdout",
     "output_type": "stream",
     "text": [
      "6244971992884346880\n"
     ]
    },
    {
     "data": {
      "text/plain": [
       "array([1030208551680, 1155738165120])"
      ]
     },
     "execution_count": 21,
     "metadata": {},
     "output_type": "execute_result"
    }
   ],
   "source": [
    "print(np.prod(arr))\n",
    "np.prod(arr,axis=1)  ## 1 - row"
   ]
  },
  {
   "cell_type": "code",
   "execution_count": 102,
   "id": "649647e1",
   "metadata": {},
   "outputs": [
    {
     "name": "stdout",
     "output_type": "stream",
     "text": [
      "[[ 0  1  2  3]\n",
      " [ 4  5  6  7]\n",
      " [ 8  9 10 11]] \n",
      " [[12 13 14]\n",
      " [15 16 17]\n",
      " [18 19 20]\n",
      " [21 22 23]]\n"
     ]
    }
   ],
   "source": [
    "a1=np.arange(0,12).reshape(3,4)\n",
    "a2=np.arange(12,24).reshape(4,3)\n",
    "print(a1,\"\\n\",a2)"
   ]
  },
  {
   "cell_type": "code",
   "execution_count": 103,
   "id": "ceae0670",
   "metadata": {},
   "outputs": [
    {
     "name": "stdout",
     "output_type": "stream",
     "text": [
      "[[ 0  4  8]\n",
      " [ 1  5  9]\n",
      " [ 2  6 10]\n",
      " [ 3  7 11]]\n"
     ]
    }
   ],
   "source": [
    "print(np.transpose(a1))"
   ]
  },
  {
   "cell_type": "code",
   "execution_count": 106,
   "id": "c95ea28f",
   "metadata": {},
   "outputs": [
    {
     "data": {
      "text/plain": [
       "array([[12, 15, 18, 21],\n",
       "       [13, 16, 19, 22],\n",
       "       [14, 17, 20, 23]])"
      ]
     },
     "execution_count": 106,
     "metadata": {},
     "output_type": "execute_result"
    }
   ],
   "source": [
    "a2.T"
   ]
  },
  {
   "cell_type": "code",
   "execution_count": 107,
   "id": "26baaee9",
   "metadata": {},
   "outputs": [
    {
     "data": {
      "text/plain": [
       "array([12, 13, 14, 15, 16, 17, 18, 19, 20, 21, 22, 23])"
      ]
     },
     "execution_count": 107,
     "metadata": {},
     "output_type": "execute_result"
    }
   ],
   "source": [
    "## ravel -> convert into 1D array\n",
    "a2.ravel()"
   ]
  },
  {
   "cell_type": "code",
   "execution_count": 29,
   "id": "a3818f68",
   "metadata": {},
   "outputs": [
    {
     "data": {
      "text/plain": [
       "array([[114, 120, 126],\n",
       "       [378, 400, 422],\n",
       "       [642, 680, 718]])"
      ]
     },
     "execution_count": 29,
     "metadata": {},
     "output_type": "execute_result"
    }
   ],
   "source": [
    "np.dot(a1,a2) ## matrix dot product"
   ]
  },
  {
   "cell_type": "code",
   "execution_count": 31,
   "id": "ce512003",
   "metadata": {},
   "outputs": [
    {
     "name": "stderr",
     "output_type": "stream",
     "text": [
      "C:\\Users\\susov\\AppData\\Local\\Temp\\ipykernel_13344\\2387409814.py:1: RuntimeWarning: divide by zero encountered in log\n",
      "  np.log(a1)\n"
     ]
    },
    {
     "data": {
      "text/plain": [
       "array([[      -inf, 0.        , 0.69314718, 1.09861229],\n",
       "       [1.38629436, 1.60943791, 1.79175947, 1.94591015],\n",
       "       [2.07944154, 2.19722458, 2.30258509, 2.39789527]])"
      ]
     },
     "execution_count": 31,
     "metadata": {},
     "output_type": "execute_result"
    }
   ],
   "source": [
    "np.log(a1)"
   ]
  },
  {
   "cell_type": "code",
   "execution_count": 43,
   "id": "72bd4fbb",
   "metadata": {},
   "outputs": [
    {
     "data": {
      "text/plain": [
       "array([[54., 12., 36.],\n",
       "       [76., 97., 89.]])"
      ]
     },
     "execution_count": 43,
     "metadata": {},
     "output_type": "execute_result"
    }
   ],
   "source": [
    "np.round(np.random.random((2,3))*100)"
   ]
  },
  {
   "cell_type": "code",
   "execution_count": 45,
   "id": "cbcd5742",
   "metadata": {},
   "outputs": [
    {
     "data": {
      "text/plain": [
       "array([[55., 46., 86.],\n",
       "       [27., 82., 36.]])"
      ]
     },
     "execution_count": 45,
     "metadata": {},
     "output_type": "execute_result"
    }
   ],
   "source": [
    "np.ceil(np.random.random((2,3))*100)"
   ]
  },
  {
   "cell_type": "code",
   "execution_count": null,
   "id": "4ba5cc67",
   "metadata": {},
   "outputs": [
    {
     "name": "stdout",
     "output_type": "stream",
     "text": [
      "[67 32  7 19 22 23 90 89] 7\n"
     ]
    }
   ],
   "source": [
    "arr=np.array([[34,67,32,70,19,22,23,21],[67,32,7,19,22,23,90,89],[67,32,7,19,22,23,90,89]])\n",
    "print(arr[1],arr[1,2])\n"
   ]
  },
  {
   "cell_type": "code",
   "execution_count": 90,
   "id": "79dd5cf3",
   "metadata": {},
   "outputs": [
    {
     "data": {
      "text/plain": [
       "array([[[ 0,  1,  2],\n",
       "        [ 3,  4,  5],\n",
       "        [ 6,  7,  8]],\n",
       "\n",
       "       [[ 9, 10, 11],\n",
       "        [12, 13, 14],\n",
       "        [15, 16, 17]],\n",
       "\n",
       "       [[18, 19, 20],\n",
       "        [21, 22, 23],\n",
       "        [24, 25, 26]]])"
      ]
     },
     "execution_count": 90,
     "metadata": {},
     "output_type": "execute_result"
    }
   ],
   "source": [
    "arr3=np.arange(27).reshape(3,3,3)\n",
    "arr3"
   ]
  },
  {
   "cell_type": "code",
   "execution_count": 95,
   "id": "a3acc91f",
   "metadata": {},
   "outputs": [
    {
     "name": "stdout",
     "output_type": "stream",
     "text": [
      "0\n",
      "1\n",
      "2\n",
      "3\n",
      "4\n",
      "5\n",
      "6\n",
      "7\n",
      "8\n",
      "9\n",
      "10\n",
      "11\n",
      "12\n",
      "13\n",
      "14\n",
      "15\n",
      "16\n",
      "17\n",
      "18\n",
      "19\n",
      "20\n",
      "21\n",
      "22\n",
      "23\n",
      "24\n",
      "25\n",
      "26\n"
     ]
    }
   ],
   "source": [
    "# np.nditer(arr3) -> convert into 1D array\n",
    "for i in np.nditer(arr3):\n",
    "    print(i)"
   ]
  },
  {
   "cell_type": "code",
   "execution_count": 93,
   "id": "3bfe1b53",
   "metadata": {},
   "outputs": [
    {
     "name": "stdout",
     "output_type": "stream",
     "text": [
      "[[[ 0  1  2]\n",
      "  [ 3  4  5]\n",
      "  [ 6  7  8]]\n",
      "\n",
      " [[ 9 10 11]\n",
      "  [12 13 14]\n",
      "  [15 16 17]]\n",
      "\n",
      " [[18 19 20]\n",
      "  [21 22 23]\n",
      "  [24 25 26]]]\n",
      "[[[ 0  1  2]\n",
      "  [ 3  4  5]\n",
      "  [ 6  7  8]]\n",
      "\n",
      " [[ 9 10 11]\n",
      "  [12 13 14]\n",
      "  [15 16 17]]\n",
      "\n",
      " [[18 19 20]\n",
      "  [21 22 23]\n",
      "  [24 25 26]]]\n",
      "[[[ 0  1  2]\n",
      "  [ 3  4  5]\n",
      "  [ 6  7  8]]\n",
      "\n",
      " [[ 9 10 11]\n",
      "  [12 13 14]\n",
      "  [15 16 17]]\n",
      "\n",
      " [[18 19 20]\n",
      "  [21 22 23]\n",
      "  [24 25 26]]]\n"
     ]
    }
   ],
   "source": [
    "arr3=np.arange(27).reshape(3,3,3)\n",
    "for i in arr3:\n",
    "    print(arr3)"
   ]
  },
  {
   "cell_type": "code",
   "execution_count": 87,
   "id": "16f0261d",
   "metadata": {},
   "outputs": [
    {
     "data": {
      "text/plain": [
       "array([[ 0,  2],\n",
       "       [18, 20]])"
      ]
     },
     "execution_count": 87,
     "metadata": {},
     "output_type": "execute_result"
    }
   ],
   "source": [
    "arr3[::2,0,::2]"
   ]
  },
  {
   "cell_type": "code",
   "execution_count": 82,
   "id": "aceece59",
   "metadata": {},
   "outputs": [
    {
     "data": {
      "text/plain": [
       "array([[[ 0,  1,  2],\n",
       "        [ 3,  4,  5],\n",
       "        [ 6,  7,  8]],\n",
       "\n",
       "       [[18, 19, 20],\n",
       "        [21, 22, 23],\n",
       "        [24, 25, 26]]])"
      ]
     },
     "execution_count": 82,
     "metadata": {},
     "output_type": "execute_result"
    }
   ],
   "source": [
    "arr3[::2]"
   ]
  },
  {
   "cell_type": "code",
   "execution_count": 83,
   "id": "062f55b0",
   "metadata": {},
   "outputs": [
    {
     "data": {
      "text/plain": [
       "array([14])"
      ]
     },
     "execution_count": 83,
     "metadata": {},
     "output_type": "execute_result"
    }
   ],
   "source": [
    "arr3[1,1,2::2]"
   ]
  },
  {
   "cell_type": "code",
   "execution_count": 85,
   "id": "95f73ed6",
   "metadata": {},
   "outputs": [
    {
     "data": {
      "text/plain": [
       "array([[22, 23],\n",
       "       [25, 26]])"
      ]
     },
     "execution_count": 85,
     "metadata": {},
     "output_type": "execute_result"
    }
   ],
   "source": [
    "arr3[2,1:,1:]"
   ]
  },
  {
   "cell_type": "code",
   "execution_count": 57,
   "id": "535ff842",
   "metadata": {},
   "outputs": [
    {
     "name": "stdout",
     "output_type": "stream",
     "text": [
      "[[34 67 32 70 19 22 23 21]\n",
      " [67 32  7 19 22 23 90 89]\n",
      " [67 32  7 19 22 23 90 89]]\n"
     ]
    }
   ],
   "source": [
    "arr=np.array([[34,67,32,70,19,22,23,21],[67,32,7,19,22,23,90,89],[67,32,7,19,22,23,90,89]])\n",
    "print(arr)\n"
   ]
  },
  {
   "cell_type": "code",
   "execution_count": 66,
   "id": "689867ec",
   "metadata": {},
   "outputs": [
    {
     "name": "stdout",
     "output_type": "stream",
     "text": [
      "[[34 21]\n",
      " [67 89]] [[34 32 19 23]\n",
      " [67  7 22 90]]\n"
     ]
    }
   ],
   "source": [
    "print(arr[::2,::7],arr[0:2,::2])"
   ]
  },
  {
   "cell_type": "code",
   "execution_count": 62,
   "id": "81e70596",
   "metadata": {},
   "outputs": [
    {
     "data": {
      "text/plain": [
       "array([[70, 23],\n",
       "       [19, 90]])"
      ]
     },
     "execution_count": 62,
     "metadata": {},
     "output_type": "execute_result"
    }
   ],
   "source": [
    "arr[::2,3::3]"
   ]
  },
  {
   "cell_type": "code",
   "execution_count": 58,
   "metadata": {},
   "outputs": [
    {
     "data": {
      "text/plain": [
       "array([[19, 22, 23, 90],\n",
       "       [19, 22, 23, 90]])"
      ]
     },
     "execution_count": 58,
     "metadata": {},
     "output_type": "execute_result"
    }
   ],
   "source": [
    "arr[1:,3:7]"
   ]
  },
  {
   "cell_type": "code",
   "execution_count": 54,
   "id": "739dfcdb",
   "metadata": {},
   "outputs": [
    {
     "data": {
      "text/plain": [
       "array([ 7, 19, 22, 23, 90])"
      ]
     },
     "execution_count": 54,
     "metadata": {},
     "output_type": "execute_result"
    }
   ],
   "source": [
    "arr[1,2:7]"
   ]
  },
  {
   "cell_type": "code",
   "execution_count": 55,
   "id": "d4fbee83",
   "metadata": {},
   "outputs": [
    {
     "data": {
      "text/plain": [
       "array([[32, 70, 19],\n",
       "       [ 7, 19, 22]])"
      ]
     },
     "execution_count": 55,
     "metadata": {},
     "output_type": "execute_result"
    }
   ],
   "source": [
    "arr[:,2:5]"
   ]
  },
  {
   "cell_type": "code",
   "execution_count": null,
   "id": "472f9586",
   "metadata": {},
   "outputs": [
    {
     "data": {
      "text/plain": [
       "array([[12, 13, 14, 15,  0,  1,  2,  3],\n",
       "       [16, 17, 18, 19,  4,  5,  6,  7],\n",
       "       [20, 21, 22, 23,  8,  9, 10, 11]])"
      ]
     },
     "execution_count": 112,
     "metadata": {},
     "output_type": "execute_result"
    }
   ],
   "source": [
    "a3=np.arange(12).reshape(3,4)\n",
    "a1=np.arange(12,24).reshape(3,4)\n",
    "np.hstack((a1,a3)) ## horinzontaily "
   ]
  },
  {
   "cell_type": "code",
   "execution_count": null,
   "id": "a45389f3",
   "metadata": {},
   "outputs": [
    {
     "data": {
      "text/plain": [
       "array([[ 0,  1,  2,  3],\n",
       "       [ 4,  5,  6,  7],\n",
       "       [ 8,  9, 10, 11],\n",
       "       [12, 13, 14, 15],\n",
       "       [16, 17, 18, 19],\n",
       "       [20, 21, 22, 23]])"
      ]
     },
     "execution_count": 113,
     "metadata": {},
     "output_type": "execute_result"
    }
   ],
   "source": [
    "np.vstack((a3,a1)) ### verticaly"
   ]
  },
  {
   "cell_type": "code",
   "execution_count": 115,
   "id": "1a2e08ef",
   "metadata": {},
   "outputs": [
    {
     "data": {
      "text/plain": [
       "[array([[12, 13],\n",
       "        [16, 17],\n",
       "        [20, 21]]),\n",
       " array([[14, 15],\n",
       "        [18, 19],\n",
       "        [22, 23]])]"
      ]
     },
     "execution_count": 115,
     "metadata": {},
     "output_type": "execute_result"
    }
   ],
   "source": [
    "## splition\n",
    "\n",
    "np.hsplit(a1,2)"
   ]
  },
  {
   "cell_type": "code",
   "execution_count": 116,
   "id": "f90dc5f3",
   "metadata": {},
   "outputs": [
    {
     "data": {
      "text/plain": [
       "[array([[0, 1, 2, 3]]), array([[4, 5, 6, 7]]), array([[ 8,  9, 10, 11]])]"
      ]
     },
     "execution_count": 116,
     "metadata": {},
     "output_type": "execute_result"
    }
   ],
   "source": [
    "np.vsplit(a3,3)"
   ]
  },
  {
   "cell_type": "markdown",
   "id": "6c312f15",
   "metadata": {},
   "source": [
    "✅ 1. np.eye()\n",
    "Creates a 2D array with 1s on the diagonal and 0s elsewhere (identity matrix).\n",
    "\n",
    "np.eye(3) → 3x3 identity matrix.\n",
    "\n",
    "✅ 2. np.fill_diagonal()\n",
    "Directly fills the diagonal elements of an array with a given value.\n",
    "\n",
    "Useful for modifying the diagonal quickly.\n",
    "\n",
    "✅ 3. np.concatenate()\n",
    "Combines multiple arrays along a specified axis.\n",
    "\n",
    "axis=0: Stack rows, axis=1: Stack columns.\n",
    "\n",
    "✅ 3. np.random.randint()\n",
    "Generates random integers between a given range.\n",
    "\n",
    "Example: np.random.randint(1, 20, size=(5, 5)).\n",
    "\n",
    "✅ 4. Broadcasting\n",
    "Lets you perform operations between arrays of different shapes without explicit looping.\n",
    "\n",
    "Example: Adding a 1D array to each row/column of a 2D array.\n",
    "\n",
    "✅ 5. np.linalg.det()\n",
    "Computes the determinant of a matrix.\n",
    "\n",
    "✅ 6. np.linalg.inv()\n",
    "Computes the inverse of a matrix (if invertible).\n",
    "\n",
    "✅ 7. np.linalg.eig()\n",
    "Computes the eigenvalues and eigenvectors of a square matrix.\n",
    "\n",
    "✅ 5. Fancy Indexing\n",
    "Allows you to pick multiple specific elements at once using index arrays.\n",
    "\n",
    "Example: arr[[0, 0, -1, -1], [0, -1, 0, -1]] → corners.\n",
    "\n",
    "✅ 8. np.reshape()\n",
    "Changes the shape of an array without changing its data.\n",
    "\n",
    "✅ 9. flatten()\n",
    "Converts a multi-dimensional array into a 1D array.\n",
    "\n",
    "✅ 10. Fancy indexing\n",
    "Access multiple specific elements using arrays of indices.\n",
    "\n",
    "Example: arr[[0, 2], [1, 3]].\n",
    "\n",
    "✅ 11. Boolean indexing\n",
    "Select or modify elements of an array based on a condition.\n",
    "\n",
    "Example: arr[arr > 10].\n",
    "\n",
    "✅ 12. Structured Arrays\n",
    "Arrays with named fields (like name, age, etc.) for mixed data types.\n",
    "\n",
    "ex : dt = np.dtype([('name', 'U10'), ('age', 'i4'), ('weight', 'f4')])\n",
    "\n",
    "Use np.dtype() to define structure.\n",
    "\n",
    "✅ 13. np.sort(..., order='field')\n",
    "Sorts a structured array by a specified field.\n",
    "\n",
    "✅ 14. np.sqrt()\n",
    "Computes the square root element-wise.\n",
    "\n",
    "✅ 15. numpy.ma.masked_array()\n",
    "Creates a masked array where certain elements are hidden/masked based on a condition or mask array.\n",
    "\n",
    "✅ 16. np.random.randint()\n",
    "Generates random integers within a range.\n",
    "\n",
    "✅ 17. np.random.rand()\n",
    "Generates random floats in the range [0, 1).\n",
    "\n",
    "✅ 18. Masking with np.eye(..., dtype=bool)\n",
    "Creates a boolean mask for diagonals (True on diagonal, False elsewhere).\n",
    "\n",
    "✅ 19. mean(axis=...), sum(axis=...)\n",
    "Aggregates values across rows or columns.\n",
    "\n",
    "✅ 20. np.arange()\n",
    "Creates a sequence of numbers with a specified start, stop, and step.\n",
    "\n",
    "✅ 21. np.shape\n",
    "Returns the shape (dimensions) of an array.\n",
    "\n"
   ]
  }
 ],
 "metadata": {
  "kernelspec": {
   "display_name": "venv",
   "language": "python",
   "name": "python3"
  },
  "language_info": {
   "codemirror_mode": {
    "name": "ipython",
    "version": 3
   },
   "file_extension": ".py",
   "mimetype": "text/x-python",
   "name": "python",
   "nbconvert_exporter": "python",
   "pygments_lexer": "ipython3",
   "version": "3.12.11"
  }
 },
 "nbformat": 4,
 "nbformat_minor": 5
}

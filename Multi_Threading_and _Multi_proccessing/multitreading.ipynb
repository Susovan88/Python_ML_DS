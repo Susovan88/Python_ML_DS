{
 "cells": [
  {
   "cell_type": "markdown",
   "id": "9ef0c266",
   "metadata": {},
   "source": [
    "### program\n",
    "✅ A program is just a set of instructions written in a programming language that tells the computer what to do.\n",
    "\n",
    "📦 Think of a program as a recipe in a cookbook.\n",
    "But until someone opens the recipe and starts cooking, it’s just instructions sitting in a book.\n",
    "\n",
    "📄 Example:\n",
    "\n",
    "A file like calculator.exe or my_app.py on your computer is a program.\n",
    "\n",
    "It isn’t running yet—it’s just stored on disk.\n",
    "\n",
    "##  Process\n",
    "✅ A process is a program that’s been loaded into memory and is running.\n",
    "It’s like following the recipe and actually cooking.\n",
    "\n",
    "📦 When you double-click a program (like opening Chrome), your computer:\n",
    "\n",
    "Loads it into RAM.\n",
    "\n",
    "Gives it resources (CPU time, memory, etc.).\n",
    "\n",
    "Starts running it.\n",
    "\n",
    "📝 Example:\n",
    "\n",
    "You double-click Google Chrome → Now Chrome is a process running on your system.\n",
    "\n",
    "If you open Chrome 3 times → You have 3 processes of Chrome running.\n",
    "\n",
    "## Thread\n",
    "✅ A thread is the smallest unit of execution within a process.\n",
    "\n",
    "A process can have one thread (default) or many threads working together.\n",
    "\n",
    "Threads in the same process share memory and resources.\n",
    "\n",
    "📦 Analogy:\n",
    "Imagine the process is a restaurant 🍽️:\n",
    "\n",
    "One thread = 1 waiter serving food.\n",
    "\n",
    "Multiple threads = multiple waiters serving tables at the same time.\n",
    "They all work in the same restaurant (process) and share the same kitchen (memory)."
   ]
  },
  {
   "cell_type": "markdown",
   "id": "db60c54b",
   "metadata": {},
   "source": [
    "### Multithreading \n",
    "Multithreading is a concept where a program can perform multiple tasks at the same time (concurrently) by using multiple “threads” of execution.\n",
    "\n",
    "Think of a thread as a lightweight process—a small unit of a program that can run independently.\n",
    "\n",
    "🔗 Analogy:\n",
    "Imagine you’re in a kitchen:\n",
    "\n",
    "👨‍🍳 You’re boiling water.\n",
    "\n",
    "🥒 At the same time, you’re chopping vegetables.\n",
    "\n",
    "🔥 Meanwhile, your oven is preheating.\n",
    "\n",
    "Each of these tasks is happening in parallel. That’s multithreading in action—each task runs on its own thread."
   ]
  },
  {
   "cell_type": "markdown",
   "id": "1e49e1f2",
   "metadata": {},
   "source": [
    "### 🎯 Why use Multithreading?\n",
    "✅ To do multiple tasks simultaneously (parallel execution) without waiting for one to finish before starting another.\n",
    "\n",
    "✅ To improve performance (especially for I/O operations like reading files, downloading data, etc.).\n",
    "\n",
    "✅ To keep applications responsive (like in GUI apps)."
   ]
  },
  {
   "cell_type": "code",
   "execution_count": 6,
   "id": "28a67ba0",
   "metadata": {},
   "outputs": [
    {
     "name": "stdout",
     "output_type": "stream",
     "text": [
      "Number: 1\n",
      "Number: 2\n",
      "Number: 3\n",
      "Number: 4\n",
      "Number: 5\n",
      "Letter: A\n",
      "Letter: B\n",
      "Letter: C\n",
      "Letter: D\n",
      "Letter: E\n",
      "finised time -  10.009215593338013\n",
      "Main program finished!\n"
     ]
    }
   ],
   "source": [
    "import time\n",
    "\n",
    "def print_numbers():\n",
    "    for i in range(1, 6):\n",
    "        print(f\"Number: {i}\")\n",
    "        time.sleep(1)\n",
    "\n",
    "def print_letters():\n",
    "    for letter in ['A', 'B', 'C', 'D', 'E']:\n",
    "        print(f\"Letter: {letter}\")\n",
    "        time.sleep(1)\n",
    "\n",
    "## without multithrading\n",
    "# Run tasks one after another\n",
    "now=time.time()\n",
    "print_numbers()\n",
    "print_letters()\n",
    "finish_time=time.time()-now\n",
    "print(\"finised time - \",finish_time)\n",
    "\n",
    "print(\"Main program finished!\")\n",
    "\n",
    "## ✅ Both tasks run at the same time!\n",
    "### ✅ The main program only finishes when both threads are done.\n"
   ]
  },
  {
   "cell_type": "code",
   "execution_count": 1,
   "id": "f9b6077a",
   "metadata": {},
   "outputs": [
    {
     "name": "stdout",
     "output_type": "stream",
     "text": [
      "Number: 1\n",
      "Letter: A\n",
      "Number: 2\n",
      "Letter: B\n",
      "Number: 3Letter: C\n",
      "\n",
      "Number: 4\n",
      "Letter: D\n",
      "Letter: E\n",
      "Number: 5\n",
      "finised time -  5.008475303649902\n"
     ]
    }
   ],
   "source": [
    "### using multitrading\n",
    "import time\n",
    "import threading\n",
    "\n",
    "def print_numbers():\n",
    "    for i in range(1, 6):\n",
    "        print(f\"Number: {i}\")\n",
    "        time.sleep(1)\n",
    "\n",
    "def print_letters():\n",
    "    for letter in ['A', 'B', 'C', 'D', 'E']:\n",
    "        print(f\"Letter: {letter}\")\n",
    "        time.sleep(1)\n",
    "\n",
    "# Create two threads\n",
    "t1=threading.Thread(target=print_numbers)\n",
    "t2=threading.Thread(target=print_letters)\n",
    "\n",
    "st=time.time()\n",
    "\n",
    "# Start both threads\n",
    "t1.start()\n",
    "t2.start()\n",
    "\n",
    "## Wait for both threads to finish\n",
    "t1.join()\n",
    "t2.join()\n",
    "\n",
    "finish_time=time.time()-st\n",
    "print(\"finised time - \",finish_time)\n",
    "\n"
   ]
  },
  {
   "cell_type": "markdown",
   "id": "c28f9771",
   "metadata": {},
   "source": [
    "#### ✅ What is ThreadPoolExecutor?\n",
    "It's part of Python’s concurrent.futures module.\n",
    "\n",
    "It helps you run multiple functions (tasks) in parallel using threads.\n",
    "\n",
    "You don’t need to manually create and manage threads. It manages a pool of worker threads for you.\n",
    "\n",
    "max_workers=2 means 2 threads will run tasks in parallel.\n",
    "\n",
    " submit() schedules a function to run with its arguments.\n",
    "\n",
    " ✅ executor.map() applies square() to each item in numbers in parallel and returns the results in the same order"
   ]
  },
  {
   "cell_type": "markdown",
   "id": "5a8c95da",
   "metadata": {},
   "source": [
    "### ⚡ Why use ThreadPoolExecutor?\n",
    "✅ When you have multiple tasks that don’t depend on each other, and you want to run them simultaneously instead of one-by-one.\n",
    "✅ Great for I/O-bound operations like:\n",
    "\n",
    "Waiting for API responses.\n",
    "\n",
    "Reading/writing files.\n",
    "\n",
    "Database queries.\n",
    "\n",
    "Downloading files.\n",
    "\n",
    "✅ It saves time because while one thread is waiting (e.g., for an API), another thread can continue working.\n"
   ]
  },
  {
   "cell_type": "code",
   "execution_count": null,
   "metadata": {},
   "outputs": [],
   "source": []
  }
 ],
 "metadata": {
  "kernelspec": {
   "display_name": "Python 3",
   "language": "python",
   "name": "python3"
  },
  "language_info": {
   "codemirror_mode": {
    "name": "ipython",
    "version": 3
   },
   "file_extension": ".py",
   "mimetype": "text/x-python",
   "name": "python",
   "nbconvert_exporter": "python",
   "pygments_lexer": "ipython3",
   "version": "3.12.11"
  }
 },
 "nbformat": 4,
 "nbformat_minor": 5
}

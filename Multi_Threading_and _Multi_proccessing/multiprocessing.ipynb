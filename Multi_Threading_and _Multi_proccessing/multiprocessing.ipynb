{
 "cells": [
  {
   "cell_type": "markdown",
   "id": "b553d62a",
   "metadata": {},
   "source": [
    "### 🖥️ What is Multiprocessing?\n",
    "✅ Multiprocessing means running a program using multiple processes at the same time.\n",
    "Each process runs independently and has its own memory space, unlike threads that share memory.\n",
    "\n",
    "📦 Analogy:\n",
    "Imagine a restaurant 🍽️:\n",
    "\n",
    "🏪 Process = a separate kitchen.\n",
    "\n",
    "👨‍🍳 Each kitchen works independently and cooks food without interfering with other kitchens.\n",
    "\n",
    "✅ They don’t share anything, so there’s no confusion."
   ]
  },
  {
   "cell_type": "markdown",
   "id": "1ea915b9",
   "metadata": {},
   "source": [
    "### 🚨 When Should You Use Multiprocessing?\n",
    "✅ Use Multiprocessing when:\n",
    "\n",
    "Your program needs heavy CPU usage (e.g., math calculations, data analysis).\n",
    "\n",
    "You want to use all CPU cores for faster performance.\n",
    "\n",
    "Threads don’t improve speed due to Python’s GIL.\n",
    "\n",
    "❌ Don’t use Multiprocessing for small or simple tasks because:\n",
    "\n",
    "It has more overhead (each process needs its own memory).\n",
    "\n",
    "Processes can’t easily share data."
   ]
  },
  {
   "cell_type": "markdown",
   "id": "0e44903d",
   "metadata": {},
   "source": [
    "### 🧠 What is if __name__ == \"__main__\":?\n",
    "✅ In Python, every file is either:\n",
    "\n",
    "A script you run directly\n",
    "\n",
    "Or a module imported into another script\n",
    "\n",
    "Python gives a special built-in variable called __name__ to every file when it runs.\n",
    "\n",
    "🏃‍♂️ If the file is being run directly, __name__ is set to \"__main__\".\n",
    "\n",
    "📦 If the file is being imported as a module, __name__ is set to the module’s name."
   ]
  },
  {
   "cell_type": "markdown",
   "id": "524cdd0b",
   "metadata": {},
   "source": [
    "## 🧠 What is ProcessPoolExecutor?\n",
    "ProcessPoolExecutor is part of Python’s concurrent.futures module.\n",
    "\n",
    "It lets you run multiple tasks in parallel, but each task runs in a separate process.\n",
    "\n",
    "It uses the multiprocessing module internally.\n",
    "\n",
    "Think of it like this:\n",
    "📦 You have a pool of workers (processes).\n",
    "⚡ Each worker runs on a different CPU core, so tasks can execute truly in parallel.\n",
    "\n",
    "tasks - CPU-bound tasks (heavy calculations, data processing)"
   ]
  },
  {
   "cell_type": "markdown",
   "id": "ef1e27bd",
   "metadata": {},
   "source": [
    "## ⚡ Why use ProcessPoolExecutor?\n",
    "✅ It allows you to use multiple CPU cores to speed up CPU-intensive tasks.\n",
    "\n",
    "Examples:\n",
    "✔ Complex math (factorials, matrix multiplications).\n",
    "✔ Data processing on large datasets.\n",
    "✔ Image or video processing.\n",
    "\n",
    "## 🕑 When to use ProcessPoolExecutor?\n",
    "Use it if:\n",
    "✅ Your program spends most time doing calculations.\n",
    "✅ You want real parallelism (not just concurrency).\n",
    "✅ Your task is CPU-bound, not waiting for input/output.\n",
    "\n",
    "Don’t use it for I/O-bound tasks—it’s overkill.\n",
    "\n"
   ]
  }
 ],
 "metadata": {
  "kernelspec": {
   "display_name": "Python 3",
   "language": "python",
   "name": "python3"
  },
  "language_info": {
   "codemirror_mode": {
    "name": "ipython",
    "version": 3
   },
   "file_extension": ".py",
   "mimetype": "text/x-python",
   "name": "python",
   "nbconvert_exporter": "python",
   "pygments_lexer": "ipython3",
   "version": "3.12.11"
  }
 },
 "nbformat": 4,
 "nbformat_minor": 5
}

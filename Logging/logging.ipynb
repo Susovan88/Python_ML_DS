{
 "cells": [
  {
   "cell_type": "markdown",
   "id": "f0e7fa5d",
   "metadata": {},
   "source": [
    "### 📝 What is Logging in Python?\n",
    "In Python, logging is a way to track events that happen while a program runs. Instead of using print() statements for debugging or monitoring, Python provides a built-in logging module to record messages with different importance levels (like information, warnings, and errors).\n",
    "\n",
    "The logging module lets you:\n",
    "✅ Display messages on the console.\n",
    "✅ Save logs to a file for later analysis.\n",
    "✅ Control how much detail is shown (debug, info, error, etc.).\n",
    "\n",
    "It is commonly used in real-world applications to monitor programs, debug issues, and keep an audit trail of important events.\n",
    "\n",
    "### ⭐ Why use Logging instead of print()?\n",
    "✅ Better Control – You can set levels (DEBUG, INFO, WARNING, ERROR, CRITICAL) and control which messages are shown.\n",
    "\n",
    "✅ Save Logs – Logging can write messages to files, databases, or even send them as emails.\n",
    "\n",
    "✅ Easier Debugging – Helps track when and where errors occur, especially in large applications.\n",
    "\n",
    "✅ Turn On/Off Easily – You can enable or disable logging in production without changing the code.\n",
    "\n",
    "✅ Professional Practice – Used in all production-grade applications to monitor and troubleshoot systems."
   ]
  },
  {
   "cell_type": "code",
   "execution_count": 1,
   "id": "0a913319",
   "metadata": {},
   "outputs": [
    {
     "name": "stderr",
     "output_type": "stream",
     "text": [
      "DEBUG:root:this is debug message\n",
      "INFO:root:this is a info message\n",
      "WARNING:root:this is warning message\n",
      "ERROR:root:this a error message \n",
      "CRITICAL:root: this is a cricital message\n"
     ]
    }
   ],
   "source": [
    "import logging\n",
    "\n",
    "logging.basicConfig(level=logging.DEBUG)\n",
    "\n",
    "logging.debug(\"this is debug message\")\n",
    "logging.info(\"this is a info message\")\n",
    "logging.warning(\"this is warning message\")\n",
    "logging.error(\"this a error message \")\n",
    "logging.critical(\" this is a cricital message\")"
   ]
  },
  {
   "cell_type": "markdown",
   "id": "f3aa87cd",
   "metadata": {},
   "source": [
    "### log levels \n",
    "\n",
    "DEBUG ->\tDetailed information for debugging (lowest level).\n",
    "\n",
    "INFO ->\tGeneral information about program execution (e.g., “Process started”).\n",
    "\n",
    "WARNING\t->  Something unexpected happened, but the program can continue.\n",
    "\n",
    "ERROR  -> \tA serious problem occurred (e.g., file not found, database error).\n",
    "\n",
    "CRITICAL   ->\tA very severe error; the program may not be able to continue."
   ]
  },
  {
   "cell_type": "code",
   "execution_count": 1,
   "id": "f2440110",
   "metadata": {},
   "outputs": [],
   "source": [
    "### configuring logging\n",
    " \n",
    "import logging\n",
    "\n",
    "logging.basicConfig(\n",
    "    filename=\"app.log\",  \n",
    "    filemode=\"w\",\n",
    "    level=logging.DEBUG,\n",
    "    format='%(asctime)s-%(name)s-%(levelname)s-%(message)s',\n",
    "    datefmt='%Y-%m_%d %H:%M:%S'\n",
    ")\n",
    "\n",
    "## log message in different levels\n",
    "logging.debug(\"this is debug message\")\n",
    "logging.info(\"this is a info message\")\n",
    "logging.warning(\"this is warning message\")\n",
    "logging.error(\"this a error message \")\n",
    "logging.critical(\" this is a cricital message\")"
   ]
  },
  {
   "cell_type": "markdown",
   "id": "889bba34",
   "metadata": {},
   "source": [
    "### 🔥 What this program does\n",
    "Configures Logging\n",
    "\n",
    "filename=\"app.log\" → Logs are saved to a file called app.log.\n",
    "\n",
    "filemode=\"w\" → The log file is overwritten each time you run the program (use \"a\" to append instead).\n",
    "\n",
    "level=logging.DEBUG → Captures all messages from DEBUG and above.\n",
    "\n",
    "format → Defines how each log message looks:\n",
    "\n",
    "timestamp - logger_name - level - message\n",
    "\n",
    "datefmt → Specifies date and time format in logs."
   ]
  },
  {
   "cell_type": "code",
   "execution_count": 2,
   "metadata": {},
   "outputs": [
    {
     "name": "stdout",
     "output_type": "stream",
     "text": [
      "17\n",
      "72\n"
     ]
    }
   ],
   "source": [
    "def add(a,b):\n",
    "    logging.debug(\"the add operation take plase\")\n",
    "    return a+b\n",
    "\n",
    "def mul(a,b):\n",
    "    logging.debug\n",
    "    return a*b\n",
    "\n",
    "logging.debug(\"add function call\")\n",
    "print(add(8,9))\n",
    "logging.debug(\"mul function call\")\n",
    "print(mul(8,9))"
   ]
  },
  {
   "cell_type": "code",
   "execution_count": null,
   "id": "7cfd8a6b",
   "metadata": {},
   "outputs": [],
   "source": []
  }
 ],
 "metadata": {
  "kernelspec": {
   "display_name": "Python 3",
   "language": "python",
   "name": "python3"
  },
  "language_info": {
   "codemirror_mode": {
    "name": "ipython",
    "version": 3
   },
   "file_extension": ".py",
   "mimetype": "text/x-python",
   "name": "python",
   "nbconvert_exporter": "python",
   "pygments_lexer": "ipython3",
   "version": "3.12.11"
  }
 },
 "nbformat": 4,
 "nbformat_minor": 5
}

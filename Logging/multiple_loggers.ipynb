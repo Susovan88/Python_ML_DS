{
 "cells": [
  {
   "cell_type": "markdown",
   "id": "604fe730",
   "metadata": {},
   "source": [
    "### level=logging.DEBUG\n",
    " This sets the minimum level of messages that will be captured.\n",
    "\n",
    "DEBUG is the lowest level (most detailed logs).\n",
    "\n",
    "Any log at level DEBUG or higher (INFO, WARNING, ERROR, CRITICAL) will now be handled."
   ]
  },
  {
   "cell_type": "code",
   "execution_count": null,
   "id": "4d1706b3",
   "metadata": {},
   "outputs": [],
   "source": [
    "import logging\n",
    "\n",
    "## logger module1\n",
    "logger1=logging.getLogger(\"module1\")  ## You are creating or getting a logger instance called \"Model1\"\n",
    "logger1.setLevel(logging.DEBUG)\n",
    "\n",
    "## logger for module2\n",
    "logger2=logging.getLogger(\"module2\")\n",
    "logger2.setLevel(logging.WARNING)\n",
    "\n",
    "logging.basicConfig(\n",
    "    filename=\"app.log\",  \n",
    "    filemode=\"w\",\n",
    "    level=logging.DEBUG,\n",
    "    format='%(asctime)s-%(name)s-%(levelname)s-%(message)s',\n",
    "    datefmt='%Y-%m_%d %H:%M:%S'\n",
    ")"
   ]
  },
  {
   "cell_type": "code",
   "execution_count": 9,
   "id": "d6e00ccf",
   "metadata": {},
   "outputs": [],
   "source": [
    "logger1.debug(\"this is debug message for module1\")\n",
    "logger2.error(\"this a error message for module \")\n",
    "logger2.warning(\"this a warning message for module\")\n",
    "logger1.error(\"this a error message foe module\")"
   ]
  }
 ],
 "metadata": {
  "kernelspec": {
   "display_name": "Python 3",
   "language": "python",
   "name": "python3"
  },
  "language_info": {
   "codemirror_mode": {
    "name": "ipython",
    "version": 3
   },
   "file_extension": ".py",
   "mimetype": "text/x-python",
   "name": "python",
   "nbconvert_exporter": "python",
   "pygments_lexer": "ipython3",
   "version": "3.12.11"
  }
 },
 "nbformat": 4,
 "nbformat_minor": 5
}

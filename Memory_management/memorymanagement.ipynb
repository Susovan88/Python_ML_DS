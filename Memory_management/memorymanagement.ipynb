{
 "cells": [
  {
   "cell_type": "markdown",
   "id": "a5d20d6f",
   "metadata": {},
   "source": [
    "### Python Memory Management\n",
    "Memory management in Python involves a combination of automatic garbage collection, reference counting, and various internal optimizations to efficiently manage memory allocation and deallocation. Understanding these mechanisms can help developers write more efficient and robust applications.\n",
    "\n",
    "Key Concepts in Python Memory Management\n",
    "\n",
    "Memory Allocation and Deallocation \n",
    "\n",
    "Reference \n",
    "\n",
    "Garbage Collection\n",
    "\n",
    "The gc Module\n",
    "\n",
    "Memory Management Best Practices\n",
    "\n",
    "Reference Counting\n",
    "\n",
    "Reference counting is the primary method Python uses to manage memory. Each object in Python maintains a count of references pointing to it. When the reference count drops to zero, the memory occupied by the object is deallocated."
   ]
  },
  {
   "cell_type": "markdown",
   "id": "14f9a439",
   "metadata": {},
   "source": [
    "### 1. What is memory management in Python?\n",
    "When you create variables, lists, or objects in Python, they are stored in RAM (memory).\n",
    "\n",
    "Python automatically decides when and how to allocate memory for new objects and when to free it when they’re no longer needed.\n",
    "\n",
    "You don’t have to manually allocate and free memory (unlike in C/C++).\n",
    "\n",
    "This is handled by:\n",
    "\n",
    "Reference counting\n",
    "\n",
    "Garbage collection"
   ]
  },
  {
   "cell_type": "markdown",
   "metadata": {},
   "source": [
    "### ✅ 2. What is a reference?\n",
    "A reference is like a pointer to an object in memory.\n",
    "\n",
    "📦 Example:\n",
    "\n",
    "python\n",
    "Copy\n",
    "Edit\n",
    "\n",
    "a = [1, 2, 3]  # The list [1, 2, 3] is stored in \n",
    "\n",
    "b = a          # b is now another reference to the same list\n",
    "\n",
    "Here:\n",
    "\n",
    "Both a and b point to the same memory location.\n",
    "\n",
    "The list stays in memory as long as at least one reference exists.\n",
    "\n",
    "📌 Reference Count\n",
    "Python keeps track of how many references there are to each object.\n",
    "\n"
   ]
  },
  {
   "cell_type": "markdown",
   "id": "04666381",
   "metadata": {},
   "source": [
    "##  3. What is garbage collection?\n",
    "When an object is no longer referenced (no variable is pointing to it), Python’s garbage collector automatically frees up its memory.\n",
    "\n",
    "When reference count becomes 0, the object is garbage collected.\n",
    "\n",
    "✅ Python does this automatically for you."
   ]
  },
  {
   "cell_type": "markdown",
   "id": "d4d0b490",
   "metadata": {},
   "source": [
    "## ✅ 4. What is a circular reference?\n",
    "This happens when two or more objects reference each other, creating a loop, so their reference count never drops to zero.\n",
    "\n",
    "Python's basic reference counter cannot detect this loop.\n",
    "\n",
    "✅ Solution:\n",
    "\n",
    "Python’s Garbage Collector uses an algorithm called \"Generational Garbage Collection\" to detect these loops and free memory.\n"
   ]
  },
  {
   "cell_type": "code",
   "execution_count": null,
   "id": "10b31345",
   "metadata": {},
   "outputs": [
    {
     "name": "stdout",
     "output_type": "stream",
     "text": [
      "2\n"
     ]
    }
   ],
   "source": [
    "### references counting\n",
    "\n",
    "import sys\n",
    "\n",
    "a=[] ## one ree=ference fro 'a' and one from getrefcount()\n",
    "print(sys.getrefcount(a))\n"
   ]
  },
  {
   "cell_type": "code",
   "execution_count": null,
   "id": "e472d31b",
   "metadata": {},
   "outputs": [
    {
     "name": "stdout",
     "output_type": "stream",
     "text": [
      "3\n"
     ]
    }
   ],
   "source": [
    "b=a\n",
    "print(sys.getrefcount(b)) ## ## one ree=ference fro 'a',one ree=ference fro 'b' and one from getrefcount()"
   ]
  },
  {
   "cell_type": "code",
   "execution_count": 14,
   "id": "b5c07f2b",
   "metadata": {},
   "outputs": [
    {
     "ename": "NameError",
     "evalue": "name 'b' is not defined",
     "output_type": "error",
     "traceback": [
      "\u001b[31m---------------------------------------------------------------------------\u001b[39m",
      "\u001b[31mNameError\u001b[39m                                 Traceback (most recent call last)",
      "\u001b[36mCell\u001b[39m\u001b[36m \u001b[39m\u001b[32mIn[14]\u001b[39m\u001b[32m, line 1\u001b[39m\n\u001b[32m----> \u001b[39m\u001b[32m1\u001b[39m \u001b[38;5;28;01mdel\u001b[39;00m \u001b[43mb\u001b[49m\n\u001b[32m      2\u001b[39m \u001b[38;5;28mprint\u001b[39m(sys.getrefcount(b)) \u001b[38;5;66;03m## deallocated \u001b[39;00m\n",
      "\u001b[31mNameError\u001b[39m: name 'b' is not defined"
     ]
    }
   ],
   "source": [
    "del b\n",
    "print(sys.getrefcount(b)) ## deallocated "
   ]
  },
  {
   "cell_type": "code",
   "execution_count": 5,
   "id": "cf0f9638",
   "metadata": {},
   "outputs": [
    {
     "name": "stdout",
     "output_type": "stream",
     "text": [
      "2\n"
     ]
    }
   ],
   "source": [
    "print(sys.getrefcount(a))"
   ]
  },
  {
   "cell_type": "code",
   "execution_count": 12,
   "id": "d46bc2b0",
   "metadata": {},
   "outputs": [],
   "source": [
    "### garbage collection\n",
    "import gc\n",
    "gc.enable()\n"
   ]
  },
  {
   "cell_type": "code",
   "execution_count": 7,
   "id": "591a864f",
   "metadata": {},
   "outputs": [],
   "source": [
    "gc.disable()"
   ]
  },
  {
   "cell_type": "code",
   "execution_count": 15,
   "id": "234831ed",
   "metadata": {},
   "outputs": [
    {
     "data": {
      "text/plain": [
       "1119"
      ]
     },
     "execution_count": 15,
     "metadata": {},
     "output_type": "execute_result"
    }
   ],
   "source": [
    "gc.collect()"
   ]
  },
  {
   "cell_type": "code",
   "execution_count": 16,
   "metadata": {},
   "outputs": [
    {
     "name": "stdout",
     "output_type": "stream",
     "text": [
      "[{'collections': 194, 'collected': 1936, 'uncollectable': 0}, {'collections': 17, 'collected': 309, 'uncollectable': 0}, {'collections': 7, 'collected': 2192, 'uncollectable': 0}]\n"
     ]
    }
   ],
   "source": [
    "## get garbage collection stats\n",
    "print(gc.get_stats())  ## return a list of dictionaries containing per-generation statistics."
   ]
  },
  {
   "cell_type": "code",
   "execution_count": 18,
   "id": "d9582e83",
   "metadata": {},
   "outputs": [
    {
     "name": "stdout",
     "output_type": "stream",
     "text": [
      "[]\n"
     ]
    }
   ],
   "source": [
    "### get ureatchable object\n",
    "print(gc.garbage)"
   ]
  },
  {
   "cell_type": "markdown",
   "id": "7f77f735",
   "metadata": {},
   "source": [
    "### Memory Management Best Practices\n",
    "Use Local Variables: Local variables have a shorter lifespan and are freed sooner than global variables.\n",
    "\n",
    "Avoid Circular References: Circular references can lead to memory leaks if not properly managed.\n",
    "\n",
    "Use Generators: Generators produce items one at a time and only keep one item in memory at a time, making them memory efficient.\n",
    "\n",
    "Explicitly Delete Objects: Use the del statement to delete variables and objects explicitly.\n",
    "\n",
    "Profile Memory Usage: Use memory profiling tools like tracemalloc and memory_profiler to identify memory leaks and optimize memory usage."
   ]
  },
  {
   "cell_type": "code",
   "execution_count": null,
   "id": "e8ca58b6",
   "metadata": {},
   "outputs": [
    {
     "name": "stdout",
     "output_type": "stream",
     "text": [
      "myClass object created -> obj1\n",
      "myClass object created -> obj2\n"
     ]
    }
   ],
   "source": [
    "import gc\n",
    "\n",
    "class MyClass:\n",
    "    def __init__(self,name):\n",
    "        self.name=name\n",
    "        print(f\"myClass object created -> {self.name}\")\n",
    "    def __del__(self):\n",
    "        print(f\" myclass object deleted -> {self.name}\")\n",
    "\n",
    "obj1=MyClass(\"obj1\")\n",
    "obj2=MyClass(\"obj2\")\n",
    "\n",
    "## circular references \n",
    "obj1.ref=obj2\n",
    "obj2.ref=obj1\n",
    "\n",
    "## This happens when two or more objects reference each other, creating a loop, so their reference count never drops to zero.\n",
    "del obj1\n",
    "del obj2\n",
    "## not delete parmentely by autpmatecally  garbage collection\n"
   ]
  },
  {
   "cell_type": "code",
   "execution_count": null,
   "id": "6085f000",
   "metadata": {},
   "outputs": [
    {
     "name": "stdout",
     "output_type": "stream",
     "text": [
      "myClass object created -> obj1\n",
      "myClass object created -> obj2\n",
      " myclass object deleted -> obj1\n",
      " myclass object deleted -> obj2\n",
      " myclass object deleted -> obj1\n",
      " myclass object deleted -> obj2\n"
     ]
    },
    {
     "data": {
      "text/plain": [
       "1189"
      ]
     },
     "execution_count": 20,
     "metadata": {},
     "output_type": "execute_result"
    }
   ],
   "source": [
    "## handeling circular references\n",
    "import gc\n",
    "\n",
    "class MyClass:\n",
    "    def __init__(self,name):\n",
    "        self.name=name\n",
    "        print(f\"myClass object created -> {self.name}\")\n",
    "    def __del__(self):\n",
    "        print(f\" myclass object deleted -> {self.name}\")\n",
    "\n",
    "obj1=MyClass(\"obj1\")\n",
    "obj2=MyClass(\"obj2\")\n",
    "\n",
    "## circular references \n",
    "obj1.ref=obj2\n",
    "obj2.ref=obj1\n",
    "\n",
    "del obj1\n",
    "del obj2\n",
    "\n",
    "## manually trigger the garbge collection\n",
    "gc.collect()"
   ]
  },
  {
   "cell_type": "code",
   "execution_count": 21,
   "id": "c8ff8a0e",
   "metadata": {},
   "outputs": [
    {
     "name": "stdout",
     "output_type": "stream",
     "text": [
      "0\n",
      "1\n",
      "2\n",
      "3\n",
      "4\n",
      "5\n",
      "6\n",
      "7\n",
      "8\n",
      "9\n",
      "10\n",
      "11\n"
     ]
    }
   ],
   "source": [
    "### generater for memory effiency\n",
    "\n",
    "def get_nums(n):\n",
    "    for i in range(n):\n",
    "        yield i\n",
    "\n",
    "for i in get_nums(1000):\n",
    "    print(i)\n",
    "    if i>10:\n",
    "        break"
   ]
  },
  {
   "cell_type": "code",
   "execution_count": 26,
   "id": "42febd02",
   "metadata": {},
   "outputs": [],
   "source": [
    "### profiling memory usage with tracemalloc\n",
    "\n",
    "import tracemalloc\n",
    "\n",
    "def create_list():\n",
    "    return [i for i in range(10000)]\n",
    "\n",
    "def main():\n",
    "    tracemalloc.start()\n",
    "\n",
    "    create_list()\n",
    "    snapshot=tracemalloc.take_snapshot()\n",
    "    top_stats=snapshot.statistics(\"lineno\")\n",
    "\n",
    "    print('[ Top 10 ]')\n",
    "    for start in top_stats[::]:\n",
    "        print(start)\n",
    "\n"
   ]
  },
  {
   "cell_type": "code",
   "execution_count": 27,
   "id": "90d82e1c",
   "metadata": {},
   "outputs": [
    {
     "name": "stdout",
     "output_type": "stream",
     "text": [
      "[ Top 10 ]\n",
      "c:\\Users\\susov\\OneDrive\\Desktop\\Python_ML_DS\\venv\\Lib\\selectors.py:314: size=144 KiB, count=3, average=48.0 KiB\n",
      "c:\\Users\\susov\\OneDrive\\Desktop\\Python_ML_DS\\venv\\Lib\\site-packages\\IPython\\core\\builtin_trap.py:77: size=6512 B, count=1, average=6512 B\n",
      "c:\\Users\\susov\\OneDrive\\Desktop\\Python_ML_DS\\venv\\Lib\\tracemalloc.py:193: size=6048 B, count=126, average=48 B\n",
      "c:\\Users\\susov\\OneDrive\\Desktop\\Python_ML_DS\\venv\\Lib\\site-packages\\IPython\\core\\compilerop.py:174: size=4223 B, count=50, average=84 B\n",
      "c:\\Users\\susov\\OneDrive\\Desktop\\Python_ML_DS\\venv\\Lib\\site-packages\\traitlets\\traitlets.py:731: size=3681 B, count=59, average=62 B\n",
      "c:\\Users\\susov\\OneDrive\\Desktop\\Python_ML_DS\\venv\\Lib\\site-packages\\zmq\\sugar\\attrsettr.py:45: size=3055 B, count=65, average=47 B\n",
      "c:\\Users\\susov\\OneDrive\\Desktop\\Python_ML_DS\\venv\\Lib\\codeop.py:126: size=3020 B, count=38, average=79 B\n",
      "c:\\Users\\susov\\OneDrive\\Desktop\\Python_ML_DS\\venv\\Lib\\json\\decoder.py:354: size=2608 B, count=35, average=75 B\n",
      "c:\\Users\\susov\\OneDrive\\Desktop\\Python_ML_DS\\venv\\Lib\\site-packages\\traitlets\\traitlets.py:1543: size=2423 B, count=40, average=61 B\n",
      "c:\\Users\\susov\\OneDrive\\Desktop\\Python_ML_DS\\venv\\Lib\\tokenize.py:584: size=2408 B, count=43, average=56 B\n",
      "c:\\Users\\susov\\OneDrive\\Desktop\\Python_ML_DS\\venv\\Lib\\site-packages\\jupyter_client\\jsonutil.py:111: size=1950 B, count=39, average=50 B\n",
      "c:\\Users\\susov\\OneDrive\\Desktop\\Python_ML_DS\\venv\\Lib\\site-packages\\IPython\\core\\compilerop.py:86: size=1771 B, count=26, average=68 B\n",
      "c:\\Users\\susov\\OneDrive\\Desktop\\Python_ML_DS\\venv\\Lib\\site-packages\\traitlets\\traitlets.py:1514: size=1560 B, count=13, average=120 B\n",
      "c:\\Users\\susov\\OneDrive\\Desktop\\Python_ML_DS\\venv\\Lib\\contextlib.py:105: size=1496 B, count=14, average=107 B\n",
      "c:\\Users\\susov\\OneDrive\\Desktop\\Python_ML_DS\\venv\\Lib\\site-packages\\IPython\\core\\interactiveshell.py:3070: size=1289 B, count=2, average=644 B\n",
      "c:\\Users\\susov\\OneDrive\\Desktop\\Python_ML_DS\\venv\\Lib\\site-packages\\jupyter_client\\session.py:100: size=1243 B, count=8, average=155 B\n",
      "c:\\Users\\susov\\OneDrive\\Desktop\\Python_ML_DS\\venv\\Lib\\site-packages\\IPython\\core\\history.py:958: size=1235 B, count=5, average=247 B\n",
      "c:\\Users\\susov\\OneDrive\\Desktop\\Python_ML_DS\\venv\\Lib\\site-packages\\jupyter_client\\session.py:1057: size=1198 B, count=10, average=120 B\n",
      "c:\\Users\\susov\\OneDrive\\Desktop\\Python_ML_DS\\venv\\Lib\\site-packages\\IPython\\core\\history.py:959: size=1141 B, count=3, average=380 B\n",
      "c:\\Users\\susov\\OneDrive\\Desktop\\Python_ML_DS\\venv\\Lib\\site-packages\\ipykernel\\iostream.py:346: size=1072 B, count=14, average=77 B\n",
      "c:\\Users\\susov\\OneDrive\\Desktop\\Python_ML_DS\\venv\\Lib\\site-packages\\zmq\\sugar\\socket.py:802: size=1056 B, count=6, average=176 B\n",
      "c:\\Users\\susov\\OneDrive\\Desktop\\Python_ML_DS\\venv\\Lib\\site-packages\\IPython\\core\\history.py:1011: size=856 B, count=9, average=95 B\n",
      "c:\\Users\\susov\\OneDrive\\Desktop\\Python_ML_DS\\venv\\Lib\\threading.py:293: size=760 B, count=2, average=380 B\n",
      "c:\\Users\\susov\\OneDrive\\Desktop\\Python_ML_DS\\venv\\Lib\\asyncio\\events.py:88: size=648 B, count=6, average=108 B\n",
      "c:\\Users\\susov\\OneDrive\\Desktop\\Python_ML_DS\\venv\\Lib\\site-packages\\ipykernel\\compiler.py:91: size=620 B, count=6, average=103 B\n",
      "c:\\Users\\susov\\OneDrive\\Desktop\\Python_ML_DS\\venv\\Lib\\site-packages\\ipykernel\\iostream.py:287: size=616 B, count=7, average=88 B\n",
      "c:\\Users\\susov\\OneDrive\\Desktop\\Python_ML_DS\\venv\\Lib\\site-packages\\ipykernel\\iostream.py:276: size=576 B, count=6, average=96 B\n",
      "c:\\Users\\susov\\OneDrive\\Desktop\\Python_ML_DS\\venv\\Lib\\site-packages\\IPython\\core\\interactiveshell.py:3145: size=528 B, count=4, average=132 B\n",
      "c:\\Users\\susov\\OneDrive\\Desktop\\Python_ML_DS\\venv\\Lib\\tracemalloc.py:558: size=432 B, count=9, average=48 B\n",
      "c:\\Users\\susov\\OneDrive\\Desktop\\Python_ML_DS\\venv\\Lib\\site-packages\\ipykernel\\kernelbase.py:775: size=424 B, count=2, average=212 B\n",
      "c:\\Users\\susov\\OneDrive\\Desktop\\Python_ML_DS\\venv\\Lib\\site-packages\\jupyter_client\\jsonutil.py:75: size=416 B, count=2, average=208 B\n",
      "c:\\Users\\susov\\OneDrive\\Desktop\\Python_ML_DS\\venv\\Lib\\site-packages\\IPython\\core\\interactiveshell.py:3502: size=382 B, count=1, average=382 B\n",
      "c:\\Users\\susov\\OneDrive\\Desktop\\Python_ML_DS\\venv\\Lib\\site-packages\\IPython\\core\\interactiveshell.py:3394: size=376 B, count=1, average=376 B\n",
      "c:\\Users\\susov\\OneDrive\\Desktop\\Python_ML_DS\\venv\\Lib\\site-packages\\ipykernel\\ipkernel.py:362: size=360 B, count=1, average=360 B\n",
      "c:\\Users\\susov\\OneDrive\\Desktop\\Python_ML_DS\\venv\\Lib\\site-packages\\IPython\\core\\completer.py:2268: size=338 B, count=7, average=48 B\n",
      "c:\\Users\\susov\\OneDrive\\Desktop\\Python_ML_DS\\venv\\Lib\\site-packages\\IPython\\core\\interactiveshell.py:3065: size=328 B, count=4, average=82 B\n",
      "c:\\Users\\susov\\OneDrive\\Desktop\\Python_ML_DS\\venv\\Lib\\site-packages\\IPython\\core\\interactiveshell.py:3043: size=320 B, count=2, average=160 B\n",
      "c:\\Users\\susov\\OneDrive\\Desktop\\Python_ML_DS\\venv\\Lib\\contextlib.py:301: size=312 B, count=6, average=52 B\n",
      "c:\\Users\\susov\\OneDrive\\Desktop\\Python_ML_DS\\venv\\Lib\\asyncio\\base_events.py:819: size=312 B, count=3, average=104 B\n",
      "c:\\Users\\susov\\OneDrive\\Desktop\\Python_ML_DS\\venv\\Lib\\site-packages\\IPython\\core\\interactiveshell.py:3639: size=296 B, count=1, average=296 B\n",
      "c:\\Users\\susov\\OneDrive\\Desktop\\Python_ML_DS\\venv\\Lib\\site-packages\\ipykernel\\zmqshell.py:549: size=288 B, count=4, average=72 B\n",
      "c:\\Users\\susov\\OneDrive\\Desktop\\Python_ML_DS\\venv\\Lib\\site-packages\\tornado\\queues.py:248: size=288 B, count=2, average=144 B\n",
      "c:\\Users\\susov\\OneDrive\\Desktop\\Python_ML_DS\\venv\\Lib\\asyncio\\base_events.py:448: size=288 B, count=2, average=144 B\n",
      "c:\\Users\\susov\\OneDrive\\Desktop\\Python_ML_DS\\venv\\Lib\\threading.py:290: size=280 B, count=2, average=140 B\n",
      "c:\\Users\\susov\\OneDrive\\Desktop\\Python_ML_DS\\venv\\Lib\\site-packages\\ipykernel\\iostream.py:527: size=272 B, count=4, average=68 B\n",
      "c:\\Users\\susov\\OneDrive\\Desktop\\Python_ML_DS\\venv\\Lib\\site-packages\\ipykernel\\kernelbase.py:534: size=264 B, count=1, average=264 B\n",
      "c:\\Users\\susov\\OneDrive\\Desktop\\Python_ML_DS\\venv\\Lib\\site-packages\\IPython\\core\\history.py:966: size=256 B, count=1, average=256 B\n",
      "c:\\Users\\susov\\OneDrive\\Desktop\\Python_ML_DS\\venv\\Lib\\site-packages\\IPython\\core\\history.py:965: size=256 B, count=1, average=256 B\n",
      "c:\\Users\\susov\\OneDrive\\Desktop\\Python_ML_DS\\venv\\Lib\\site-packages\\ipykernel\\kernelbase.py:435: size=248 B, count=1, average=248 B\n",
      "c:\\Users\\susov\\OneDrive\\Desktop\\Python_ML_DS\\venv\\Lib\\site-packages\\ipykernel\\iostream.py:121: size=248 B, count=1, average=248 B\n",
      "c:\\Users\\susov\\OneDrive\\Desktop\\Python_ML_DS\\venv\\Lib\\site-packages\\IPython\\core\\interactiveshell.py:3271: size=240 B, count=4, average=60 B\n",
      "c:\\Users\\susov\\OneDrive\\Desktop\\Python_ML_DS\\venv\\Lib\\site-packages\\zmq\\sugar\\socket.py:799: size=240 B, count=3, average=80 B\n",
      "c:\\Users\\susov\\OneDrive\\Desktop\\Python_ML_DS\\venv\\Lib\\inspect.py:266: size=240 B, count=2, average=120 B\n",
      "c:\\Users\\susov\\OneDrive\\Desktop\\Python_ML_DS\\venv\\Lib\\logging\\__init__.py:1622: size=240 B, count=1, average=240 B\n",
      "c:\\Users\\susov\\OneDrive\\Desktop\\Python_ML_DS\\venv\\Lib\\asyncio\\futures.py:396: size=232 B, count=2, average=116 B\n",
      "c:\\Users\\susov\\OneDrive\\Desktop\\Python_ML_DS\\venv\\Lib\\site-packages\\ipykernel\\kernelbase.py:545: size=232 B, count=1, average=232 B\n",
      "c:\\Users\\susov\\OneDrive\\Desktop\\Python_ML_DS\\venv\\Lib\\site-packages\\IPython\\core\\history.py:982: size=225 B, count=5, average=45 B\n",
      "c:\\Users\\susov\\OneDrive\\Desktop\\Python_ML_DS\\venv\\Lib\\site-packages\\jupyter_client\\session.py:1085: size=208 B, count=1, average=208 B\n",
      "c:\\Users\\susov\\OneDrive\\Desktop\\Python_ML_DS\\venv\\Lib\\site-packages\\ipykernel\\kernelbase.py:770: size=208 B, count=1, average=208 B\n",
      "c:\\Users\\susov\\OneDrive\\Desktop\\Python_ML_DS\\venv\\Lib\\asyncio\\futures.py:420: size=200 B, count=5, average=40 B\n",
      "c:\\Users\\susov\\OneDrive\\Desktop\\Python_ML_DS\\venv\\Lib\\site-packages\\jupyter_client\\session.py:688: size=194 B, count=2, average=97 B\n",
      "c:\\Users\\susov\\OneDrive\\Desktop\\Python_ML_DS\\venv\\Lib\\site-packages\\tornado\\platform\\asyncio.py:241: size=192 B, count=3, average=64 B\n",
      "c:\\Users\\susov\\OneDrive\\Desktop\\Python_ML_DS\\venv\\Lib\\site-packages\\jupyter_client\\session.py:750: size=192 B, count=2, average=96 B\n",
      "c:\\Users\\susov\\OneDrive\\Desktop\\Python_ML_DS\\venv\\Lib\\site-packages\\IPython\\core\\interactiveshell.py:3068: size=176 B, count=4, average=44 B\n",
      "c:\\Users\\susov\\OneDrive\\Desktop\\Python_ML_DS\\venv\\Lib\\site-packages\\ipykernel\\kernelbase.py:1182: size=173 B, count=2, average=86 B\n",
      "c:\\Users\\susov\\OneDrive\\Desktop\\Python_ML_DS\\venv\\Lib\\site-packages\\IPython\\core\\interactiveshell.py:3279: size=160 B, count=4, average=40 B\n",
      "c:\\Users\\susov\\OneDrive\\Desktop\\Python_ML_DS\\venv\\Lib\\site-packages\\ipykernel\\kernelbase.py:570: size=160 B, count=1, average=160 B\n",
      "c:\\Users\\susov\\OneDrive\\Desktop\\Python_ML_DS\\venv\\Lib\\site-packages\\IPython\\core\\interactiveshell.py:3699: size=160 B, count=1, average=160 B\n",
      "c:\\Users\\susov\\OneDrive\\Desktop\\Python_ML_DS\\venv\\Lib\\site-packages\\IPython\\core\\interactiveshell.py:3615: size=160 B, count=1, average=160 B\n",
      "c:\\Users\\susov\\OneDrive\\Desktop\\Python_ML_DS\\venv\\Lib\\site-packages\\IPython\\core\\interactiveshell.py:3292: size=160 B, count=1, average=160 B\n",
      "c:\\Users\\susov\\OneDrive\\Desktop\\Python_ML_DS\\venv\\Lib\\asyncio\\futures.py:389: size=160 B, count=1, average=160 B\n",
      "c:\\Users\\susov\\OneDrive\\Desktop\\Python_ML_DS\\venv\\Lib\\asyncio\\futures.py:383: size=160 B, count=1, average=160 B\n",
      "C:\\Users\\susov\\AppData\\Local\\Temp\\ipykernel_15320\\2353293910.py:8: size=160 B, count=1, average=160 B\n",
      "C:\\Users\\susov\\AppData\\Local\\Temp\\ipykernel_15320\\2353293910.py:5: size=160 B, count=1, average=160 B\n",
      "c:\\Users\\susov\\OneDrive\\Desktop\\Python_ML_DS\\venv\\Lib\\site-packages\\ipykernel\\iostream.py:722: size=144 B, count=2, average=72 B\n",
      "c:\\Users\\susov\\OneDrive\\Desktop\\Python_ML_DS\\venv\\Lib\\site-packages\\IPython\\core\\compilerop.py:171: size=144 B, count=2, average=72 B\n",
      "c:\\Users\\susov\\OneDrive\\Desktop\\Python_ML_DS\\venv\\Lib\\site-packages\\IPython\\core\\interactiveshell.py:3114: size=128 B, count=2, average=64 B\n",
      "c:\\Users\\susov\\OneDrive\\Desktop\\Python_ML_DS\\venv\\Lib\\site-packages\\IPython\\core\\completer.py:3388: size=128 B, count=1, average=128 B\n",
      "c:\\Users\\susov\\OneDrive\\Desktop\\Python_ML_DS\\venv\\Lib\\threading.py:135: size=120 B, count=2, average=60 B\n",
      "c:\\Users\\susov\\OneDrive\\Desktop\\Python_ML_DS\\venv\\Lib\\site-packages\\ipykernel\\kernelbase.py:318: size=120 B, count=2, average=60 B\n",
      "c:\\Users\\susov\\OneDrive\\Desktop\\Python_ML_DS\\venv\\Lib\\asyncio\\base_events.py:782: size=120 B, count=1, average=120 B\n",
      "c:\\Users\\susov\\OneDrive\\Desktop\\Python_ML_DS\\venv\\Lib\\site-packages\\zmq\\eventloop\\zmqstream.py:629: size=112 B, count=2, average=56 B\n",
      "c:\\Users\\susov\\OneDrive\\Desktop\\Python_ML_DS\\venv\\Lib\\site-packages\\jupyter_client\\session.py:989: size=111 B, count=2, average=56 B\n",
      "c:\\Users\\susov\\OneDrive\\Desktop\\Python_ML_DS\\venv\\Lib\\site-packages\\zmq\\sugar\\socket.py:748: size=96 B, count=2, average=48 B\n",
      "c:\\Users\\susov\\OneDrive\\Desktop\\Python_ML_DS\\venv\\Lib\\site-packages\\tornado\\concurrent.py:196: size=96 B, count=2, average=48 B\n",
      "c:\\Users\\susov\\OneDrive\\Desktop\\Python_ML_DS\\venv\\Lib\\site-packages\\dateutil\\parser\\isoparser.py:146: size=96 B, count=2, average=48 B\n",
      "c:\\Users\\susov\\OneDrive\\Desktop\\Python_ML_DS\\venv\\Lib\\site-packages\\IPython\\core\\interactiveshell.py:3497: size=96 B, count=2, average=48 B\n",
      "c:\\Users\\susov\\OneDrive\\Desktop\\Python_ML_DS\\venv\\Lib\\warnings.py:192: size=96 B, count=1, average=96 B\n",
      "c:\\Users\\susov\\OneDrive\\Desktop\\Python_ML_DS\\venv\\Lib\\inspect.py:2138: size=96 B, count=1, average=96 B\n",
      "c:\\Users\\susov\\OneDrive\\Desktop\\Python_ML_DS\\venv\\Lib\\site-packages\\IPython\\core\\compilerop.py:172: size=84 B, count=3, average=28 B\n",
      "c:\\Users\\susov\\OneDrive\\Desktop\\Python_ML_DS\\venv\\Lib\\warnings.py:166: size=80 B, count=1, average=80 B\n",
      "c:\\Users\\susov\\OneDrive\\Desktop\\Python_ML_DS\\venv\\Lib\\threading.py:292: size=72 B, count=1, average=72 B\n",
      "c:\\Users\\susov\\OneDrive\\Desktop\\Python_ML_DS\\venv\\Lib\\threading.py:288: size=72 B, count=1, average=72 B\n",
      "c:\\Users\\susov\\OneDrive\\Desktop\\Python_ML_DS\\venv\\Lib\\threading.py:283: size=72 B, count=1, average=72 B\n",
      "c:\\Users\\susov\\OneDrive\\Desktop\\Python_ML_DS\\venv\\Lib\\threading.py:282: size=72 B, count=1, average=72 B\n",
      "c:\\Users\\susov\\OneDrive\\Desktop\\Python_ML_DS\\venv\\Lib\\site-packages\\IPython\\core\\history.py:1030: size=72 B, count=1, average=72 B\n",
      "c:\\Users\\susov\\OneDrive\\Desktop\\Python_ML_DS\\venv\\Lib\\site-packages\\IPython\\core\\history.py:1009: size=72 B, count=1, average=72 B\n",
      "c:\\Users\\susov\\OneDrive\\Desktop\\Python_ML_DS\\venv\\Lib\\site-packages\\tornado\\queues.py:318: size=64 B, count=2, average=32 B\n",
      "c:\\Users\\susov\\OneDrive\\Desktop\\Python_ML_DS\\venv\\Lib\\site-packages\\IPython\\core\\interactiveshell.py:3631: size=64 B, count=2, average=32 B\n",
      "c:\\Users\\susov\\OneDrive\\Desktop\\Python_ML_DS\\venv\\Lib\\asyncio\\base_events.py:1983: size=64 B, count=2, average=32 B\n",
      "c:\\Users\\susov\\OneDrive\\Desktop\\Python_ML_DS\\venv\\Lib\\site-packages\\zmq\\sugar\\socket.py:803: size=64 B, count=1, average=64 B\n",
      "c:\\Users\\susov\\OneDrive\\Desktop\\Python_ML_DS\\venv\\Lib\\site-packages\\traitlets\\traitlets.py:1540: size=64 B, count=1, average=64 B\n",
      "c:\\Users\\susov\\OneDrive\\Desktop\\Python_ML_DS\\venv\\Lib\\site-packages\\jupyter_client\\session.py:1053: size=64 B, count=1, average=64 B\n",
      "c:\\Users\\susov\\OneDrive\\Desktop\\Python_ML_DS\\venv\\Lib\\site-packages\\jupyter_client\\jsonutil.py:73: size=64 B, count=1, average=64 B\n",
      "c:\\Users\\susov\\OneDrive\\Desktop\\Python_ML_DS\\venv\\Lib\\site-packages\\ipykernel\\kernelbase.py:761: size=64 B, count=1, average=64 B\n",
      "c:\\Users\\susov\\OneDrive\\Desktop\\Python_ML_DS\\venv\\Lib\\site-packages\\ipykernel\\ipkernel.py:384: size=64 B, count=1, average=64 B\n",
      "c:\\Users\\susov\\OneDrive\\Desktop\\Python_ML_DS\\venv\\Lib\\site-packages\\ipykernel\\ipkernel.py:383: size=64 B, count=1, average=64 B\n",
      "c:\\Users\\susov\\OneDrive\\Desktop\\Python_ML_DS\\venv\\Lib\\site-packages\\ipykernel\\ipkernel.py:294: size=64 B, count=1, average=64 B\n",
      "c:\\Users\\susov\\OneDrive\\Desktop\\Python_ML_DS\\venv\\Lib\\site-packages\\ipykernel\\ipkernel.py:291: size=64 B, count=1, average=64 B\n",
      "c:\\Users\\susov\\OneDrive\\Desktop\\Python_ML_DS\\venv\\Lib\\site-packages\\decorator.py:235: size=64 B, count=1, average=64 B\n",
      "c:\\Users\\susov\\OneDrive\\Desktop\\Python_ML_DS\\venv\\Lib\\site-packages\\IPython\\core\\interactiveshell.py:3688: size=64 B, count=1, average=64 B\n",
      "c:\\Users\\susov\\OneDrive\\Desktop\\Python_ML_DS\\venv\\Lib\\site-packages\\IPython\\core\\interactiveshell.py:3637: size=64 B, count=1, average=64 B\n",
      "c:\\Users\\susov\\OneDrive\\Desktop\\Python_ML_DS\\venv\\Lib\\site-packages\\IPython\\core\\interactiveshell.py:3363: size=64 B, count=1, average=64 B\n",
      "c:\\Users\\susov\\OneDrive\\Desktop\\Python_ML_DS\\venv\\Lib\\site-packages\\IPython\\core\\interactiveshell.py:3360: size=64 B, count=1, average=64 B\n",
      "c:\\Users\\susov\\OneDrive\\Desktop\\Python_ML_DS\\venv\\Lib\\site-packages\\IPython\\core\\history.py:1111: size=64 B, count=1, average=64 B\n",
      "c:\\Users\\susov\\OneDrive\\Desktop\\Python_ML_DS\\venv\\Lib\\glob.py:161: size=63 B, count=1, average=63 B\n",
      "c:\\Users\\susov\\OneDrive\\Desktop\\Python_ML_DS\\venv\\Lib\\site-packages\\traitlets\\traitlets.py:1534: size=56 B, count=1, average=56 B\n",
      "c:\\Users\\susov\\OneDrive\\Desktop\\Python_ML_DS\\venv\\Lib\\site-packages\\IPython\\core\\completer.py:1139: size=56 B, count=1, average=56 B\n",
      "c:\\Users\\susov\\OneDrive\\Desktop\\Python_ML_DS\\venv\\Lib\\site-packages\\IPython\\core\\completer.py:2266: size=51 B, count=1, average=51 B\n",
      "c:\\Users\\susov\\OneDrive\\Desktop\\Python_ML_DS\\venv\\Lib\\site-packages\\ipykernel\\iostream.py:684: size=50 B, count=1, average=50 B\n",
      "c:\\Users\\susov\\OneDrive\\Desktop\\Python_ML_DS\\venv\\Lib\\site-packages\\jupyter_client\\session.py:200: size=48 B, count=1, average=48 B\n",
      "c:\\Users\\susov\\OneDrive\\Desktop\\Python_ML_DS\\venv\\Lib\\site-packages\\IPython\\core\\interactiveshell.py:3627: size=48 B, count=1, average=48 B\n",
      "c:\\Users\\susov\\OneDrive\\Desktop\\Python_ML_DS\\venv\\Lib\\site-packages\\IPython\\core\\history.py:1010: size=48 B, count=1, average=48 B\n",
      "c:\\Users\\susov\\OneDrive\\Desktop\\Python_ML_DS\\venv\\Lib\\concurrent\\futures\\_base.py:330: size=48 B, count=1, average=48 B\n",
      "c:\\Users\\susov\\OneDrive\\Desktop\\Python_ML_DS\\venv\\Lib\\asyncio\\selector_events.py:152: size=48 B, count=1, average=48 B\n",
      "c:\\Users\\susov\\OneDrive\\Desktop\\Python_ML_DS\\venv\\Lib\\site-packages\\IPython\\core\\prefilter.py:317: size=47 B, count=1, average=47 B\n",
      "c:\\Users\\susov\\OneDrive\\Desktop\\Python_ML_DS\\venv\\Lib\\site-packages\\jupyter_client\\session.py:996: size=32 B, count=1, average=32 B\n",
      "c:\\Users\\susov\\OneDrive\\Desktop\\Python_ML_DS\\venv\\Lib\\site-packages\\jupyter_client\\session.py:603: size=32 B, count=1, average=32 B\n",
      "c:\\Users\\susov\\OneDrive\\Desktop\\Python_ML_DS\\venv\\Lib\\site-packages\\ipykernel\\iostream.py:637: size=32 B, count=1, average=32 B\n",
      "c:\\Users\\susov\\OneDrive\\Desktop\\Python_ML_DS\\venv\\Lib\\site-packages\\ipykernel\\iostream.py:168: size=32 B, count=1, average=32 B\n",
      "c:\\Users\\susov\\OneDrive\\Desktop\\Python_ML_DS\\venv\\Lib\\site-packages\\IPython\\core\\interactiveshell.py:3625: size=32 B, count=1, average=32 B\n",
      "c:\\Users\\susov\\OneDrive\\Desktop\\Python_ML_DS\\venv\\Lib\\site-packages\\IPython\\core\\history.py:969: size=32 B, count=1, average=32 B\n",
      "c:\\Users\\susov\\OneDrive\\Desktop\\Python_ML_DS\\venv\\Lib\\site-packages\\IPython\\core\\completer.py:3136: size=32 B, count=1, average=32 B\n",
      "c:\\Users\\susov\\OneDrive\\Desktop\\Python_ML_DS\\venv\\Lib\\site-packages\\IPython\\core\\completer.py:869: size=32 B, count=1, average=32 B\n",
      "c:\\Users\\susov\\OneDrive\\Desktop\\Python_ML_DS\\venv\\Lib\\site-packages\\IPython\\core\\compilerop.py:192: size=32 B, count=1, average=32 B\n",
      "c:\\Users\\susov\\OneDrive\\Desktop\\Python_ML_DS\\venv\\Lib\\queue.py:151: size=32 B, count=1, average=32 B\n",
      "c:\\Users\\susov\\OneDrive\\Desktop\\Python_ML_DS\\venv\\Lib\\concurrent\\futures\\_base.py:421: size=32 B, count=1, average=32 B\n",
      "c:\\Users\\susov\\OneDrive\\Desktop\\Python_ML_DS\\venv\\Lib\\asyncio\\base_events.py:785: size=32 B, count=1, average=32 B\n",
      "c:\\Users\\susov\\OneDrive\\Desktop\\Python_ML_DS\\venv\\Lib\\site-packages\\ipykernel\\kernelbase.py:560: size=28 B, count=1, average=28 B\n",
      "c:\\Users\\susov\\OneDrive\\Desktop\\Python_ML_DS\\venv\\Lib\\site-packages\\IPython\\core\\interactiveshell.py:3607: size=8 B, count=1, average=8 B\n"
     ]
    }
   ],
   "source": [
    "main()"
   ]
  }
 ],
 "metadata": {
  "kernelspec": {
   "display_name": "venv",
   "language": "python",
   "name": "python3"
  },
  "language_info": {
   "codemirror_mode": {
    "name": "ipython",
    "version": 3
   },
   "file_extension": ".py",
   "mimetype": "text/x-python",
   "name": "python",
   "nbconvert_exporter": "python",
   "pygments_lexer": "ipython3",
   "version": "3.12.11"
  }
 },
 "nbformat": 4,
 "nbformat_minor": 5
}

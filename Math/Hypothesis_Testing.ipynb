{
 "cells": [
  {
   "cell_type": "markdown",
   "id": "e744603f",
   "metadata": {},
   "source": [
    "### T test\n",
    "\n",
    "sigle sample test"
   ]
  },
  {
   "cell_type": "code",
   "execution_count": 66,
   "id": "2d91f875",
   "metadata": {},
   "outputs": [],
   "source": [
    "import numpy as np\n",
    "import pandas as pd\n",
    "import matplotlib.pyplot as plt\n",
    "\n",
    "train_df = pd.read_csv('train.csv')\n",
    "test_df = pd.read_csv('test.csv')\n",
    "\n",
    "df=pd.concat([train_df[\"Age\"],test_df[\"Age\"]]).sample(1309).dropna()"
   ]
  },
  {
   "cell_type": "code",
   "execution_count": 68,
   "id": "72ada150",
   "metadata": {},
   "outputs": [
    {
     "data": {
      "text/plain": [
       "array([18.  , 36.  , 40.  , 29.  , 31.  , 24.  , 40.  , 18.  , 22.  ,\n",
       "       27.  , 39.  , 50.  , 41.  , 50.  , 22.  , 16.  , 50.  , 43.  ,\n",
       "        2.  , 19.  , 61.  , 14.  , 42.  , 25.  ,  5.  , 24.  , 22.  ,\n",
       "       22.  , 27.  , 18.  , 29.  ,  2.  , 50.  , 39.  , 39.  , 17.  ,\n",
       "       30.  , 60.  , 26.  , 29.  ,  0.42, 30.  , 14.  , 22.  , 80.  ,\n",
       "       28.  , 45.  , 30.  , 24.  , 18.  ])"
      ]
     },
     "execution_count": 68,
     "metadata": {},
     "output_type": "execute_result"
    }
   ],
   "source": [
    "sample_ages=df.sample(50).values\n",
    "sample_ages"
   ]
  },
  {
   "cell_type": "code",
   "execution_count": 69,
   "id": "6378661e",
   "metadata": {},
   "outputs": [
    {
     "name": "stdout",
     "output_type": "stream",
     "text": [
      "ShapiroResult(statistic=np.float64(0.9597168002689299), pvalue=np.float64(0.08649667696450271))\n"
     ]
    }
   ],
   "source": [
    "from scipy.stats import shapiro\n",
    "\n",
    "shapiro_test=shapiro(sample_ages)\n",
    "\n",
    "print(shapiro_test)## normal dis..."
   ]
  },
  {
   "cell_type": "code",
   "execution_count": 70,
   "id": "87b51932",
   "metadata": {},
   "outputs": [],
   "source": [
    "## h0 -> the pop mean is 35\n",
    "## h1 -> pop mean less than 35\n",
    "# sample size=50 , pop std unknown  -> use T test\n",
    "pop_mean=35 ## asumed"
   ]
  },
  {
   "cell_type": "code",
   "execution_count": 71,
   "id": "fb0f8365",
   "metadata": {},
   "outputs": [
    {
     "name": "stdout",
     "output_type": "stream",
     "text": [
      "-2.332246960472399 0.01192022449201213\n"
     ]
    },
    {
     "name": "stderr",
     "output_type": "stream",
     "text": [
      "C:\\Users\\susov\\AppData\\Local\\Temp\\ipykernel_11736\\4066055712.py:3: DeprecationWarning: Please import `ttest_1samp` from the `scipy.stats` namespace; the `scipy.stats.stats` namespace is deprecated and will be removed in SciPy 2.0.0.\n",
      "  t_stats,p_val=stats.ttest_1samp(sample_ages,pop_mean)\n"
     ]
    }
   ],
   "source": [
    "from scipy.stats import stats\n",
    "\n",
    "t_stats,p_val=stats.ttest_1samp(sample_ages,pop_mean)\n",
    "p_val=p_val/2 ## one tail \n",
    "print(t_stats,p_val)"
   ]
  },
  {
   "cell_type": "code",
   "execution_count": 72,
   "id": "214232bd",
   "metadata": {},
   "outputs": [
    {
     "name": "stdout",
     "output_type": "stream",
     "text": [
      "reject H0\n"
     ]
    }
   ],
   "source": [
    "if p_val<=0.05 :\n",
    "    print(\"reject H0\")\n",
    "else:\n",
    "    print(\"accept H0\")"
   ]
  },
  {
   "cell_type": "markdown",
   "id": "43a1ac7a",
   "metadata": {},
   "source": [
    "## example 2  -> indepened two sample test"
   ]
  },
  {
   "cell_type": "markdown",
   "id": "50322fdd",
   "metadata": {},
   "source": [
    "The Shapiro-Wilk test returns two values: the test statistic (W) and the p-value. \n",
    " If the p-value is greater than your chosen significance level (α = 0.05), \n",
    " you can assume the data comes from a normally distributed population. \n",
    " If the p-value is less than or equal to the significance level, the normality assumption is not met, \n",
    "and you should consider applying a data transformation or using a non-parametric test like the Mann-Whitney U test.\n"
   ]
  },
  {
   "cell_type": "code",
   "execution_count": null,
   "id": "3d70dd83",
   "metadata": {},
   "outputs": [
    {
     "name": "stdout",
     "output_type": "stream",
     "text": [
      "ShapiroResult(statistic=np.float64(0.9783115512411942), pvalue=np.float64(0.7791003299808725)) ShapiroResult(statistic=np.float64(0.9714355768676655), pvalue=np.float64(0.5791606602037616))\n"
     ]
    }
   ],
   "source": [
    "from scipy.stats import shapiro\n",
    "\n",
    "desktop_users = [12, 15, 18, 16, 20, 17, 14, 22, 19, 21, 23, 18, 25, 17, 16, 24, 20, 19, 22, 18, 15, 14, 23, 16, 12, 21, 19, 17, 20, 14]\n",
    "mobile_users = [10, 12, 14, 13, 16, 15, 11, 17, 14, 16, 18, 14, 20, 15, 14, 19, 16, 15, 17, 14, 12, 11, 18, 15, 10, 16, 15, 13, 16, 11]\n",
    "\n",
    "shapiro_desktop=shapiro(desktop_users)\n",
    "shapiro_mobile=shapiro(mobile_users)\n",
    "\n",
    "print(shapiro_desktop, shapiro_mobile) ## both sample are normal dist..."
   ]
  },
  {
   "cell_type": "markdown",
   "id": "7084cde4",
   "metadata": {},
   "source": [
    " If the p-value from Levene's test is greater than your chosen significance level (α = 0.05), you can assume equal variances\n",
    "  If the p-value is less than or equal to the significance level, the assumption of equal variances is not met, \n",
    "and you should consider using Welch's t-test instead of the regular independent two-sample t-test.\n"
   ]
  },
  {
   "cell_type": "code",
   "execution_count": null,
   "id": "96425e1a",
   "metadata": {},
   "outputs": [
    {
     "name": "stdout",
     "output_type": "stream",
     "text": [
      "LeveneResult(statistic=np.float64(2.94395488191752), pvalue=np.float64(0.09153720526741756))\n"
     ]
    }
   ],
   "source": [
    "from scipy.stats import levene\n",
    "\n",
    "\n",
    "# Input the data as lists\n",
    "desktop_users = [12, 15, 18, 16, 20, 17, 14, 22, 19, 21, 23, 18, 25, 17, 16, 24, 20, 19, 22, 18, 15, 14, 23, 16, 12, 21, 19, 17, 20, 14]\n",
    "mobile_users = [10, 12, 14, 13, 16, 15, 11, 17, 14, 16, 18, 14, 20, 15, 14, 19, 16, 15, 17, 14, 12, 11, 18, 15, 10, 16, 15, 13, 16, 11]\n",
    "\n",
    "levene_test=levene(desktop_users,mobile_users)\n",
    "\n",
    "print(levene_test) \n"
   ]
  },
  {
   "cell_type": "markdown",
   "id": "c7dfc8bf",
   "metadata": {},
   "source": [
    "## example 3\n"
   ]
  },
  {
   "cell_type": "code",
   "execution_count": 74,
   "id": "3cd4496d",
   "metadata": {},
   "outputs": [],
   "source": [
    "import numpy as np\n",
    "import pandas as pd\n",
    "import matplotlib.pyplot as plt\n",
    "\n",
    "train_df = pd.read_csv('train.csv')\n",
    "test_df = pd.read_csv('test.csv')\n",
    "\n",
    "df=pd.concat([train_df,test_df]).sample(1309).dropna()\n",
    "\n",
    "pop_male_ages=df[df[\"Sex\"]=='male'][\"Age\"].dropna()\n",
    "pop_women_ages=df[df[\"Sex\"]=='female'][\"Age\"].dropna()\n"
   ]
  },
  {
   "cell_type": "code",
   "execution_count": 75,
   "id": "dd36f9e0",
   "metadata": {},
   "outputs": [
    {
     "data": {
      "text/plain": [
       "627    21.0\n",
       "394    24.0\n",
       "329    16.0\n",
       "52     49.0\n",
       "393    23.0\n",
       "       ... \n",
       "556    48.0\n",
       "327    36.0\n",
       "325    36.0\n",
       "473    23.0\n",
       "781    17.0\n",
       "Name: Age, Length: 88, dtype: float64"
      ]
     },
     "execution_count": 75,
     "metadata": {},
     "output_type": "execute_result"
    }
   ],
   "source": [
    "pop_women_ages"
   ]
  },
  {
   "cell_type": "code",
   "execution_count": 76,
   "id": "2b41f960",
   "metadata": {},
   "outputs": [],
   "source": [
    "sample_age_male=pop_male_ages.sample(30)\n",
    "sample_age_women=pop_women_ages.sample(30)\n",
    "\n",
    "alpha=0.05\n"
   ]
  },
  {
   "cell_type": "code",
   "execution_count": 77,
   "id": "80bf6d08",
   "metadata": {},
   "outputs": [],
   "source": [
    "## H0 -> avg age of male == avg age of female\n",
    "# H1 -> avg age of male higher than avg age of female"
   ]
  },
  {
   "cell_type": "code",
   "execution_count": 78,
   "id": "77a4e200",
   "metadata": {},
   "outputs": [
    {
     "name": "stdout",
     "output_type": "stream",
     "text": [
      "ShapiroResult(statistic=np.float64(0.9783269917679595), pvalue=np.float64(0.7795371247275702)) ShapiroResult(statistic=np.float64(0.964100094469607), pvalue=np.float64(0.3924742018857228))\n"
     ]
    }
   ],
   "source": [
    "shapiro_male=shapiro(sample_age_male)\n",
    "shapiro_female=shapiro(sample_age_women)\n",
    "print(shapiro_male,shapiro_female)"
   ]
  },
  {
   "cell_type": "code",
   "execution_count": 79,
   "id": "376a3c37",
   "metadata": {},
   "outputs": [
    {
     "name": "stdout",
     "output_type": "stream",
     "text": [
      "LeveneResult(statistic=np.float64(0.0836011138079428), pvalue=np.float64(0.7735063313820958))\n"
     ]
    }
   ],
   "source": [
    "levene_test=levene(sample_age_male,sample_age_women)\n",
    "print(levene_test)"
   ]
  },
  {
   "cell_type": "code",
   "execution_count": 80,
   "id": "0adbfd5e",
   "metadata": {},
   "outputs": [
    {
     "name": "stdout",
     "output_type": "stream",
     "text": [
      "0.0026707591432208466\n",
      "reject H0\n"
     ]
    },
    {
     "name": "stderr",
     "output_type": "stream",
     "text": [
      "C:\\Users\\susov\\AppData\\Local\\Temp\\ipykernel_11736\\1144447737.py:1: DeprecationWarning: Please import `ttest_ind` from the `scipy.stats` namespace; the `scipy.stats.stats` namespace is deprecated and will be removed in SciPy 2.0.0.\n",
      "  t_stats,p_val=stats.ttest_ind(sample_age_male,sample_age_women)\n"
     ]
    }
   ],
   "source": [
    "t_stats,p_val=stats.ttest_ind(sample_age_male,sample_age_women)\n",
    "p_val=p_val/2 ## one tail \n",
    "print(p_val)\n",
    "\n",
    "if p_val<=0.05 :\n",
    "    print(\"reject H0\")\n",
    "else:\n",
    "    print(\"accept H0\")\n"
   ]
  },
  {
   "cell_type": "code",
   "execution_count": 81,
   "id": "b9cf13c8",
   "metadata": {},
   "outputs": [
    {
     "name": "stdout",
     "output_type": "stream",
     "text": [
      "38.45178947368421 32.67613636363637\n"
     ]
    }
   ],
   "source": [
    "pop_male_mean=pop_male_ages.mean()\n",
    "pop_female_mean=pop_women_ages.mean()\n",
    "print(pop_male_mean,pop_female_mean)"
   ]
  },
  {
   "cell_type": "markdown",
   "id": "0215e12f",
   "metadata": {},
   "source": [
    "## Example 3 -> dependent two T test"
   ]
  }
 ],
 "metadata": {
  "kernelspec": {
   "display_name": "venv",
   "language": "python",
   "name": "python3"
  },
  "language_info": {
   "codemirror_mode": {
    "name": "ipython",
    "version": 3
   },
   "file_extension": ".py",
   "mimetype": "text/x-python",
   "name": "python",
   "nbconvert_exporter": "python",
   "pygments_lexer": "ipython3",
   "version": "3.10.0"
  }
 },
 "nbformat": 4,
 "nbformat_minor": 5
}

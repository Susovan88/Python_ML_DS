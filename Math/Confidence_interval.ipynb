{
 "cells": [
  {
   "cell_type": "markdown",
   "id": "bdbc4269",
   "metadata": {},
   "source": [
    "### T Procedure\n",
    " -> Student's T Distribution \n",
    "\n",
    " -> T Table"
   ]
  },
  {
   "cell_type": "code",
   "execution_count": null,
   "id": "3d1103f1",
   "metadata": {},
   "outputs": [],
   "source": [
    "import numpy as np\n",
    "import pandas as pd\n",
    "import matplotlib.pyplot as plt\n",
    "\n",
    "train_df = pd.read_csv('train.csv')\n",
    "test_df = pd.read_csv('test.csv')\n",
    "\n",
    "\n",
    "\n",
    "### assume that propulation mean , std are unknown"
   ]
  },
  {
   "cell_type": "code",
   "execution_count": 4,
   "id": "bc5066fb",
   "metadata": {},
   "outputs": [
    {
     "data": {
      "text/plain": [
       "<Axes: ylabel='Density'>"
      ]
     },
     "execution_count": 4,
     "metadata": {},
     "output_type": "execute_result"
    },
    {
     "data": {
      "image/png": "[encoded data removed]",
      "text/plain": [
       "<Figure size 640x480 with 1 Axes>"
      ]
     },
     "metadata": {},
     "output_type": "display_data"
    }
   ],
   "source": [
    "df= pd.concat([train_df.drop(columns=[\"Survived\"]),test_df]).sample(1309)\n",
    "df[\"Fare\"].plot(kind=\"kde\")"
   ]
  },
  {
   "cell_type": "code",
   "execution_count": 8,
   "id": "db54200e",
   "metadata": {},
   "outputs": [
    {
     "data": {
      "text/plain": [
       "[15.0458,\n",
       " 41.5792,\n",
       " 20.2125,\n",
       " 77.9583,\n",
       " 10.7083,\n",
       " 24.15,\n",
       " 69.55,\n",
       " 26.2875,\n",
       " 47.1,\n",
       " 7.775]"
      ]
     },
     "execution_count": 8,
     "metadata": {},
     "output_type": "execute_result"
    }
   ],
   "source": [
    "df[\"Fare\"].dropna().sample(10).values.tolist()"
   ]
  },
  {
   "cell_type": "code",
   "execution_count": 9,
   "id": "a4e71f51",
   "metadata": {},
   "outputs": [],
   "source": [
    "stds=[]\n",
    "samples=[]\n",
    "sample_size=30\n",
    "\n",
    "for i in range(10):\n",
    "    x=df[\"Fare\"].dropna().sample(30).values\n",
    "    stds.append(x.std())\n",
    "    samples.append(x.tolist())"
   ]
  },
  {
   "cell_type": "code",
   "execution_count": 10,
   "id": "f63c903b",
   "metadata": {},
   "outputs": [],
   "source": [
    "samples=np.array(samples)\n",
    "smapling_means=samples.mean(axis=1)\n",
    "sample_std=np.mean(stds)"
   ]
  },
  {
   "cell_type": "code",
   "execution_count": 13,
   "id": "e3dfd39c",
   "metadata": {},
   "outputs": [
    {
     "name": "stdout",
     "output_type": "stream",
     "text": [
      " lower limit - 18.095308466886372  upper limit - 47.37532553311363\n"
     ]
    }
   ],
   "source": [
    "### for student t distribution =>> for 95% confidence level -> t value is 2.04 (using T table)\n",
    "low_limit=smapling_means.mean() -(2.04 *sample_std /np.sqrt(sample_size))\n",
    "upper_limit=smapling_means.mean() +(2.04 *sample_std /np.sqrt(sample_size))\n",
    "\n",
    "print( f\" lower limit - {low_limit}  upper limit - {upper_limit}\")  ## That gives an approximate 95% confidence interval for the mean."
   ]
  },
  {
   "cell_type": "code",
   "execution_count": 14,
   "id": "e708ce26",
   "metadata": {},
   "outputs": [
    {
     "name": "stdout",
     "output_type": "stream",
     "text": [
      " propulation mean ->  33.29547928134557\n"
     ]
    }
   ],
   "source": [
    "propulation_mean=df[\"Fare\"].dropna().mean()\n",
    "print(\" propulation mean -> \",propulation_mean)"
   ]
  }
 ],
 "metadata": {
  "kernelspec": {
   "display_name": "venv",
   "language": "python",
   "name": "python3"
  },
  "language_info": {
   "codemirror_mode": {
    "name": "ipython",
    "version": 3
   },
   "file_extension": ".py",
   "mimetype": "text/x-python",
   "name": "python",
   "nbconvert_exporter": "python",
   "pygments_lexer": "ipython3",
   "version": "3.10.0"
  }
 },
 "nbformat": 4,
 "nbformat_minor": 5
}
